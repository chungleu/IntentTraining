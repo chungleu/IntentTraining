{
 "cells": [
  {
   "cell_type": "markdown",
   "metadata": {},
   "source": [
    "# Explaining the Intent Classifier\n",
    "This notebook demonstrates an approach to explaining why the intent classifier has classified a specific utterance in the way that it has, for the top 3 intents. It does this using a method called [LIME](https://github.com/marcotcr/lime), which runs lots of small perturbations of your utterance through the intent classifier, to create locally-faithful models which it can then explain.\n",
    "\n",
    "You might want to use this to diagnose misclassifications, work out whether you can trust your classifier based on the words that it thinks are important, or as an educational tool.\n",
    "\n",
    "Feedback appreciated to kalyan.dutia@ibm.com"
   ]
  },
  {
   "cell_type": "code",
   "execution_count": null,
   "metadata": {},
   "outputs": [],
   "source": [
    "# for development\n",
    "%load_ext autoreload\n",
    "%autoreload 2a"
   ]
  },
  {
   "cell_type": "code",
   "execution_count": null,
   "metadata": {
    "jupyter": {
     "outputs_hidden": true
    }
   },
   "outputs": [],
   "source": [
    "import sys\n",
    "!{sys.executable} -m pip install lime==0.1.1.37\n",
    "!{sys.executable} -m pip install ibm_watson==3.4.2"
   ]
  },
  {
   "cell_type": "code",
   "execution_count": null,
   "metadata": {},
   "outputs": [],
   "source": [
    "import logging\n",
    "logging.getLogger(\"matplotlib\").setLevel(logging.WARNING)\n",
    "logging.getLogger(\"urllib3.connectionpool\").setLevel(logging.WARNING)\n",
    "\n",
    "import Credentials\n",
    "import config\n",
    "from for_csv import explainers, logger\n",
    "\n",
    "from ibm_watson import AssistantV1\n",
    "\n",
    "logger = logging.getLogger(\"explainability\")"
   ]
  },
  {
   "cell_type": "markdown",
   "metadata": {},
   "source": [
    "## 1. Set Topic and Authenticate Watson"
   ]
  },
  {
   "cell_type": "code",
   "execution_count": null,
   "metadata": {},
   "outputs": [],
   "source": [
    "topic = 'puppy'"
   ]
  },
  {
   "cell_type": "code",
   "execution_count": null,
   "metadata": {},
   "outputs": [],
   "source": [
    "# set credentials\n",
    "active_adoption = Credentials.active_adoption\n",
    "instance_creds = Credentials.ctx[active_adoption]\n",
    "\n",
    "apikey = instance_creds['apikey']\n",
    "#username = Credentials.ctx[active_adoption]['username']\n",
    "#password = Credentials.ctx[active_adoption]['password']\n",
    "url = instance_creds['url']\n",
    "conversation_version = Credentials.conversation_version\n",
    "\n",
    "print(Credentials.workspace_id[active_adoption])\n",
    "workspace_id = Credentials.workspace_id[active_adoption][topic]\n"
   ]
  },
  {
   "cell_type": "code",
   "execution_count": null,
   "metadata": {},
   "outputs": [],
   "source": [
    "# create Assistant instance\n",
    "if 'apikey' in instance_creds:\n",
    "    logger.debug(\"Authenticating (apikey)\")\n",
    "    assistant = AssistantV1(\n",
    "                iam_apikey=apikey,\n",
    "                version=conversation_version, \n",
    "                url=url)\n",
    "    \n",
    "elif 'password' in instance_creds:\n",
    "    logger.debug(\"Authenticating (username/password)\")\n",
    "    assistant = AssistantV1(\n",
    "                username=username,\n",
    "                password=password,\n",
    "                version=conversation_version,\n",
    "                url=url)\n",
    "    \n",
    "logger.debug(\"Done\")"
   ]
  },
  {
   "cell_type": "markdown",
   "metadata": {},
   "source": [
    "## 2. Run Explainability\n",
    "Fill `query_to_explain` with the utterance you want explained."
   ]
  },
  {
   "cell_type": "code",
   "execution_count": null,
   "metadata": {},
   "outputs": [],
   "source": [
    "# run explainability\n",
    "query_to_explain = \"I think my puppy is ill, how do I get my others vaccinated?\"\n",
    "\n",
    "# lime = explainers.lime_explainer(assistant, workspace_id)\n",
    "lime = explainers.lime_explainer(assistant, 'Dog Advisor')\n",
    "exp = lime.run(query_to_explain, print_results=False)\n",
    "\n",
    "exp.show_in_notebook(text=True)"
   ]
  },
  {
   "cell_type": "code",
   "execution_count": null,
   "metadata": {},
   "outputs": [],
   "source": []
  }
 ],
 "metadata": {
  "kernelspec": {
   "display_name": "Python 3",
   "language": "python",
   "name": "python3"
  },
  "language_info": {
   "codemirror_mode": {
    "name": "ipython",
    "version": 3
   },
   "file_extension": ".py",
   "mimetype": "text/x-python",
   "name": "python",
   "nbconvert_exporter": "python",
   "pygments_lexer": "ipython3",
   "version": "3.7.8"
  }
 },
 "nbformat": 4,
 "nbformat_minor": 4
}