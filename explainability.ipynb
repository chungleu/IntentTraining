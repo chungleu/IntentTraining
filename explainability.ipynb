{
 "cells": [
  {
   "cell_type": "markdown",
   "metadata": {},
   "source": [
    "# Explaining the Intent Classifier\n",
    "This notebook demonstrates an approach to explaining why the intent classifier has classified a specific utterance in the way that it has, for the top 3 intents. It does this using a method called [LIME](https://github.com/marcotcr/lime), which runs lots of small perturbations of your utterance through the intent classifier, to create locally-faithful models which it can then explain.\n",
    "\n",
    "You might want to use this to diagnose misclassifications, work out whether you can trust your classifier based on the words that it thinks are important, or as an educational tool.\n",
    "\n",
    "Feedback appreciated to kalyan.dutia@ibm.com"
   ]
  },
  {
   "cell_type": "code",
   "execution_count": 45,
   "metadata": {},
   "outputs": [
    {
     "name": "stdout",
     "output_type": "stream",
     "text": [
      "The autoreload extension is already loaded. To reload it, use:\n",
      "  %reload_ext autoreload\n"
     ]
    }
   ],
   "source": [
    "# for development\n",
    "%load_ext autoreload\n",
    "%autoreload 2a"
   ]
  },
  {
   "cell_type": "code",
   "execution_count": null,
   "metadata": {
    "jupyter": {
     "outputs_hidden": true
    }
   },
   "outputs": [],
   "source": [
    "import sys\n",
    "!{sys.executable} -m pip install lime==0.1.1.37\n",
    "!{sys.executable} -m pip install ibm_watson==3.4.2"
   ]
  },
  {
   "cell_type": "code",
   "execution_count": 1,
   "metadata": {},
   "outputs": [],
   "source": [
    "import logging\n",
    "logging.getLogger(\"matplotlib\").setLevel(logging.WARNING)\n",
    "logging.getLogger(\"urllib3.connectionpool\").setLevel(logging.WARNING)\n",
    "\n",
    "import Credentials\n",
    "import config\n",
    "from for_csv import explainers, logger\n",
    "\n",
    "from ibm_watson import AssistantV1\n",
    "\n",
    "logger = logging.getLogger(\"explainability\")"
   ]
  },
  {
   "cell_type": "markdown",
   "metadata": {},
   "source": [
    "## 1. Set Topic and Authenticate Watson"
   ]
  },
  {
   "cell_type": "code",
   "execution_count": 2,
   "metadata": {},
   "outputs": [],
   "source": [
    "topic = 'puppy'"
   ]
  },
  {
   "cell_type": "code",
   "execution_count": 6,
   "metadata": {},
   "outputs": [
    {
     "name": "stdout",
     "output_type": "stream",
     "text": [
      "{'workspace-name': 'a4b7589d-9f17-4875-9272-d6e34f2768a2', 'workspace2': ''}\n"
     ]
    },
    {
     "ename": "KeyError",
     "evalue": "'puppy'",
     "output_type": "error",
     "traceback": [
      "\u001b[0;31m---------------------------------------------------------------------------\u001b[0m",
      "\u001b[0;31mKeyError\u001b[0m                                  Traceback (most recent call last)",
      "\u001b[0;32m<ipython-input-6-cf02df469234>\u001b[0m in \u001b[0;36m<module>\u001b[0;34m\u001b[0m\n\u001b[1;32m     10\u001b[0m \u001b[0;34m\u001b[0m\u001b[0m\n\u001b[1;32m     11\u001b[0m \u001b[0mprint\u001b[0m\u001b[0;34m(\u001b[0m\u001b[0mCredentials\u001b[0m\u001b[0;34m.\u001b[0m\u001b[0mworkspace_id\u001b[0m\u001b[0;34m[\u001b[0m\u001b[0mactive_adoption\u001b[0m\u001b[0;34m]\u001b[0m\u001b[0;34m)\u001b[0m\u001b[0;34m\u001b[0m\u001b[0;34m\u001b[0m\u001b[0m\n\u001b[0;32m---> 12\u001b[0;31m \u001b[0mworkspace_id\u001b[0m \u001b[0;34m=\u001b[0m \u001b[0mCredentials\u001b[0m\u001b[0;34m.\u001b[0m\u001b[0mworkspace_id\u001b[0m\u001b[0;34m[\u001b[0m\u001b[0mactive_adoption\u001b[0m\u001b[0;34m]\u001b[0m\u001b[0;34m[\u001b[0m\u001b[0mtopic\u001b[0m\u001b[0;34m]\u001b[0m\u001b[0;34m\u001b[0m\u001b[0;34m\u001b[0m\u001b[0m\n\u001b[0m",
      "\u001b[0;31mKeyError\u001b[0m: 'puppy'"
     ]
    }
   ],
   "source": [
    "# set credentials\n",
    "active_adoption = Credentials.active_adoption\n",
    "instance_creds = Credentials.ctx[active_adoption]\n",
    "\n",
    "apikey = instance_creds['apikey']\n",
    "#username = Credentials.ctx[active_adoption]['username']\n",
    "#password = Credentials.ctx[active_adoption]['password']\n",
    "url = instance_creds['url']\n",
    "conversation_version = Credentials.conversation_version\n",
    "\n",
    "print(Credentials.workspace_id[active_adoption])\n",
    "workspace_id = Credentials.workspace_id[active_adoption][topic]\n"
   ]
  },
  {
   "cell_type": "code",
   "execution_count": 7,
   "metadata": {},
   "outputs": [
    {
     "name": "stderr",
     "output_type": "stream",
     "text": [
      "\u001b[38;2;128;128;128m[2020-11-11 16:53:22,644]\u001b[0m \u001b[36mDEBUG\u001b[0m \u001b[38;2;128;128;128m(explainability): \u001b[0mAuthenticating (apikey)\n",
      "\u001b[38;2;128;128;128m[2020-11-11 16:53:22,645]\u001b[0m \u001b[36mDEBUG\u001b[0m \u001b[38;2;128;128;128m(explainability): \u001b[0mDone\n"
     ]
    }
   ],
   "source": [
    "# create Assistant instance\n",
    "if 'apikey' in instance_creds:\n",
    "    logger.debug(\"Authenticating (apikey)\")\n",
    "    assistant = AssistantV1(\n",
    "                iam_apikey=apikey,\n",
    "                version=conversation_version, \n",
    "                url=url)\n",
    "    \n",
    "elif 'password' in instance_creds:\n",
    "    logger.debug(\"Authenticating (username/password)\")\n",
    "    assistant = AssistantV1(\n",
    "                username=username,\n",
    "                password=password,\n",
    "                version=conversation_version,\n",
    "                url=url)\n",
    "    \n",
    "logger.debug(\"Done\")"
   ]
  },
  {
   "cell_type": "markdown",
   "metadata": {},
   "source": [
    "## 2. Run Explainability\n",
    "Fill `query_to_explain` with the utterance you want explained."
   ]
  },
  {
   "cell_type": "code",
   "execution_count": 9,
   "metadata": {},
   "outputs": [
    {
     "ename": "ApiException",
     "evalue": "Error: Forbidden, Code: 403",
     "output_type": "error",
     "traceback": [
      "\u001b[0;31m---------------------------------------------------------------------------\u001b[0m",
      "\u001b[0;31mApiException\u001b[0m                              Traceback (most recent call last)",
      "\u001b[0;32m<ipython-input-9-e96bff76afd1>\u001b[0m in \u001b[0;36m<module>\u001b[0;34m\u001b[0m\n\u001b[1;32m      4\u001b[0m \u001b[0;31m# lime = explainers.lime_explainer(assistant, workspace_id)\u001b[0m\u001b[0;34m\u001b[0m\u001b[0;34m\u001b[0m\u001b[0;34m\u001b[0m\u001b[0m\n\u001b[1;32m      5\u001b[0m \u001b[0mlime\u001b[0m \u001b[0;34m=\u001b[0m \u001b[0mexplainers\u001b[0m\u001b[0;34m.\u001b[0m\u001b[0mlime_explainer\u001b[0m\u001b[0;34m(\u001b[0m\u001b[0massistant\u001b[0m\u001b[0;34m,\u001b[0m \u001b[0;34m'Dog Advisor'\u001b[0m\u001b[0;34m)\u001b[0m\u001b[0;34m\u001b[0m\u001b[0;34m\u001b[0m\u001b[0m\n\u001b[0;32m----> 6\u001b[0;31m \u001b[0mexp\u001b[0m \u001b[0;34m=\u001b[0m \u001b[0mlime\u001b[0m\u001b[0;34m.\u001b[0m\u001b[0mrun\u001b[0m\u001b[0;34m(\u001b[0m\u001b[0mquery_to_explain\u001b[0m\u001b[0;34m,\u001b[0m \u001b[0mprint_results\u001b[0m\u001b[0;34m=\u001b[0m\u001b[0;32mFalse\u001b[0m\u001b[0;34m)\u001b[0m\u001b[0;34m\u001b[0m\u001b[0;34m\u001b[0m\u001b[0m\n\u001b[0m\u001b[1;32m      7\u001b[0m \u001b[0;34m\u001b[0m\u001b[0m\n\u001b[1;32m      8\u001b[0m \u001b[0mexp\u001b[0m\u001b[0;34m.\u001b[0m\u001b[0mshow_in_notebook\u001b[0m\u001b[0;34m(\u001b[0m\u001b[0mtext\u001b[0m\u001b[0;34m=\u001b[0m\u001b[0;32mTrue\u001b[0m\u001b[0;34m)\u001b[0m\u001b[0;34m\u001b[0m\u001b[0;34m\u001b[0m\u001b[0m\n",
      "\u001b[0;32m~/Documents/Projects/Paysafe/intent_training_tools/for_csv/explainers.py\u001b[0m in \u001b[0;36mrun\u001b[0;34m(self, input_text, print_results)\u001b[0m\n\u001b[1;32m     77\u001b[0m \u001b[0;34m\u001b[0m\u001b[0m\n\u001b[1;32m     78\u001b[0m     \u001b[0;32mdef\u001b[0m \u001b[0mrun\u001b[0m\u001b[0;34m(\u001b[0m\u001b[0mself\u001b[0m\u001b[0;34m,\u001b[0m \u001b[0minput_text\u001b[0m\u001b[0;34m,\u001b[0m \u001b[0mprint_results\u001b[0m\u001b[0;34m=\u001b[0m\u001b[0;32mTrue\u001b[0m\u001b[0;34m)\u001b[0m\u001b[0;34m:\u001b[0m\u001b[0;34m\u001b[0m\u001b[0;34m\u001b[0m\u001b[0m\n\u001b[0;32m---> 79\u001b[0;31m         \u001b[0moutput\u001b[0m \u001b[0;34m=\u001b[0m \u001b[0mself\u001b[0m\u001b[0;34m.\u001b[0m\u001b[0mclassify_text\u001b[0m\u001b[0;34m(\u001b[0m\u001b[0minput_text\u001b[0m\u001b[0;34m,\u001b[0m \u001b[0;32mTrue\u001b[0m\u001b[0;34m)\u001b[0m\u001b[0;34m\u001b[0m\u001b[0;34m\u001b[0m\u001b[0m\n\u001b[0m\u001b[1;32m     80\u001b[0m         \u001b[0moutputlen\u001b[0m \u001b[0;34m=\u001b[0m \u001b[0mlen\u001b[0m\u001b[0;34m(\u001b[0m\u001b[0moutput\u001b[0m\u001b[0;34m)\u001b[0m\u001b[0;34m\u001b[0m\u001b[0;34m\u001b[0m\u001b[0m\n\u001b[1;32m     81\u001b[0m \u001b[0;34m\u001b[0m\u001b[0m\n",
      "\u001b[0;32m~/Documents/Projects/Paysafe/intent_training_tools/for_csv/explainers.py\u001b[0m in \u001b[0;36mclassify_text\u001b[0;34m(self, input_text, return_classes)\u001b[0m\n\u001b[1;32m     24\u001b[0m                     \u001b[0;34m'text'\u001b[0m\u001b[0;34m:\u001b[0m \u001b[0minput_text\u001b[0m\u001b[0;34m\u001b[0m\u001b[0;34m\u001b[0m\u001b[0m\n\u001b[1;32m     25\u001b[0m                 },\n\u001b[0;32m---> 26\u001b[0;31m                 \u001b[0malternate_intents\u001b[0m\u001b[0;34m=\u001b[0m\u001b[0;32mTrue\u001b[0m\u001b[0;34m\u001b[0m\u001b[0;34m\u001b[0m\u001b[0m\n\u001b[0m\u001b[1;32m     27\u001b[0m             ).get_result()\n\u001b[1;32m     28\u001b[0m \u001b[0;34m\u001b[0m\u001b[0m\n",
      "\u001b[0;32m~/opt/anaconda3/lib/python3.7/site-packages/ibm_watson/assistant_v1.py\u001b[0m in \u001b[0;36mmessage\u001b[0;34m(self, workspace_id, input, intents, entities, alternate_intents, context, output, nodes_visited_details, **kwargs)\u001b[0m\n\u001b[1;32m    215\u001b[0m             \u001b[0mparams\u001b[0m\u001b[0;34m=\u001b[0m\u001b[0mparams\u001b[0m\u001b[0;34m,\u001b[0m\u001b[0;34m\u001b[0m\u001b[0;34m\u001b[0m\u001b[0m\n\u001b[1;32m    216\u001b[0m             \u001b[0mjson\u001b[0m\u001b[0;34m=\u001b[0m\u001b[0mdata\u001b[0m\u001b[0;34m,\u001b[0m\u001b[0;34m\u001b[0m\u001b[0;34m\u001b[0m\u001b[0m\n\u001b[0;32m--> 217\u001b[0;31m             accept_json=True)\n\u001b[0m\u001b[1;32m    218\u001b[0m         \u001b[0;32mreturn\u001b[0m \u001b[0mresponse\u001b[0m\u001b[0;34m\u001b[0m\u001b[0;34m\u001b[0m\u001b[0m\n\u001b[1;32m    219\u001b[0m \u001b[0;34m\u001b[0m\u001b[0m\n",
      "\u001b[0;32m~/opt/anaconda3/lib/python3.7/site-packages/ibm_cloud_sdk_core/base_service.py\u001b[0m in \u001b[0;36mrequest\u001b[0;34m(self, method, url, accept_json, headers, params, json, data, files, **kwargs)\u001b[0m\n\u001b[1;32m    413\u001b[0m                 \u001b[0merror_message\u001b[0m \u001b[0;34m=\u001b[0m \u001b[0;34m'Unauthorized: Access is denied due to '\u001b[0m\u001b[0;31m \u001b[0m\u001b[0;31m\\\u001b[0m\u001b[0;34m\u001b[0m\u001b[0;34m\u001b[0m\u001b[0m\n\u001b[1;32m    414\u001b[0m                                 \u001b[0;34m'invalid credentials'\u001b[0m\u001b[0;34m\u001b[0m\u001b[0;34m\u001b[0m\u001b[0m\n\u001b[0;32m--> 415\u001b[0;31m             \u001b[0;32mraise\u001b[0m \u001b[0mApiException\u001b[0m\u001b[0;34m(\u001b[0m\u001b[0mresponse\u001b[0m\u001b[0;34m.\u001b[0m\u001b[0mstatus_code\u001b[0m\u001b[0;34m,\u001b[0m \u001b[0merror_message\u001b[0m\u001b[0;34m,\u001b[0m \u001b[0mhttp_response\u001b[0m\u001b[0;34m=\u001b[0m\u001b[0mresponse\u001b[0m\u001b[0;34m)\u001b[0m\u001b[0;34m\u001b[0m\u001b[0;34m\u001b[0m\u001b[0m\n\u001b[0m\u001b[1;32m    416\u001b[0m \u001b[0;34m\u001b[0m\u001b[0m\n\u001b[1;32m    417\u001b[0m     \u001b[0;34m@\u001b[0m\u001b[0mstaticmethod\u001b[0m\u001b[0;34m\u001b[0m\u001b[0;34m\u001b[0m\u001b[0m\n",
      "\u001b[0;31mApiException\u001b[0m: Error: Forbidden, Code: 403"
     ]
    }
   ],
   "source": [
    "# run explainability\n",
    "query_to_explain = \"I think my puppy is ill, how do I get my others vaccinated?\"\n",
    "\n",
    "# lime = explainers.lime_explainer(assistant, workspace_id)\n",
    "lime = explainers.lime_explainer(assistant, 'Dog Advisor')\n",
    "exp = lime.run(query_to_explain, print_results=False)\n",
    "\n",
    "exp.show_in_notebook(text=True)"
   ]
  },
  {
   "cell_type": "code",
   "execution_count": null,
   "metadata": {},
   "outputs": [],
   "source": []
  }
 ],
 "metadata": {
  "kernelspec": {
   "display_name": "Python 3",
   "language": "python",
   "name": "python3"
  },
  "language_info": {
   "codemirror_mode": {
    "name": "ipython",
    "version": 3
   },
   "file_extension": ".py",
   "mimetype": "text/x-python",
   "name": "python",
   "nbconvert_exporter": "python",
   "pygments_lexer": "ipython3",
   "version": "3.7.8"
  }
 },
 "nbformat": 4,
 "nbformat_minor": 4
}
