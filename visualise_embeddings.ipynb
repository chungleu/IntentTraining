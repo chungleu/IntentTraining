{
 "cells": [
  {
   "cell_type": "code",
   "execution_count": 3,
   "metadata": {
    "scrolled": true
   },
   "outputs": [
    {
     "name": "stdout",
     "output_type": "stream",
     "text": [
      "Collecting plotly==4.5.0\n",
      "  Using cached https://files.pythonhosted.org/packages/06/e1/88762ade699460dc3229c890f9845d16484a40955a590b65052f0958613c/plotly-4.5.0-py2.py3-none-any.whl\n",
      "Requirement already satisfied: six in /Users/kalyan/.pyenv/versions/3.7.0/envs/trainatscale/lib/python3.7/site-packages (from plotly==4.5.0) (1.14.0)\n",
      "Collecting retrying>=1.3.3 (from plotly==4.5.0)\n",
      "  Using cached https://files.pythonhosted.org/packages/44/ef/beae4b4ef80902f22e3af073397f079c96969c69b2c7d52a57ea9ae61c9d/retrying-1.3.3.tar.gz\n",
      "Installing collected packages: retrying, plotly\n",
      "  Running setup.py install for retrying ... \u001b[?25ldone\n",
      "\u001b[?25hSuccessfully installed plotly-4.5.0 retrying-1.3.3\n",
      "\u001b[33mYou are using pip version 10.0.1, however version 20.0.2 is available.\n",
      "You should consider upgrading via the 'pip install --upgrade pip' command.\u001b[0m\n",
      "Collecting tensorflow==1.15.0\n",
      "  Using cached https://files.pythonhosted.org/packages/dc/65/a94519cd8b4fd61a7b002cb752bfc0c0e5faa25d1f43ec4f0a4705020126/tensorflow-1.15.0-cp37-cp37m-macosx_10_11_x86_64.whl\n",
      "Requirement already satisfied: numpy<2.0,>=1.16.0 in /Users/kalyan/.pyenv/versions/3.7.0/envs/trainatscale/lib/python3.7/site-packages (from tensorflow==1.15.0) (1.18.2)\n",
      "Collecting tensorboard<1.16.0,>=1.15.0 (from tensorflow==1.15.0)\n",
      "  Using cached https://files.pythonhosted.org/packages/1e/e9/d3d747a97f7188f48aa5eda486907f3b345cd409f0a0850468ba867db246/tensorboard-1.15.0-py3-none-any.whl\n",
      "Collecting protobuf>=3.6.1 (from tensorflow==1.15.0)\n",
      "  Using cached https://files.pythonhosted.org/packages/4c/25/c057a298635d08d087a20f51ff4287d821814208ebb045d84ea65535b3e3/protobuf-3.11.3-cp37-cp37m-macosx_10_9_x86_64.whl\n",
      "Collecting termcolor>=1.1.0 (from tensorflow==1.15.0)\n",
      "  Using cached https://files.pythonhosted.org/packages/8a/48/a76be51647d0eb9f10e2a4511bf3ffb8cc1e6b14e9e4fab46173aa79f981/termcolor-1.1.0.tar.gz\n",
      "Collecting grpcio>=1.8.6 (from tensorflow==1.15.0)\n",
      "  Using cached https://files.pythonhosted.org/packages/78/05/c7450cec52bb1e3d7c56efd384c0ee647cd2b44946004035b3abe3493407/grpcio-1.28.1-cp37-cp37m-macosx_10_9_x86_64.whl\n",
      "Requirement already satisfied: six>=1.10.0 in /Users/kalyan/.pyenv/versions/3.7.0/envs/trainatscale/lib/python3.7/site-packages (from tensorflow==1.15.0) (1.14.0)\n",
      "Collecting tensorflow-estimator==1.15.1 (from tensorflow==1.15.0)\n",
      "  Using cached https://files.pythonhosted.org/packages/de/62/2ee9cd74c9fa2fa450877847ba560b260f5d0fb70ee0595203082dafcc9d/tensorflow_estimator-1.15.1-py2.py3-none-any.whl\n",
      "Collecting keras-preprocessing>=1.0.5 (from tensorflow==1.15.0)\n",
      "  Using cached https://files.pythonhosted.org/packages/28/6a/8c1f62c37212d9fc441a7e26736df51ce6f0e38455816445471f10da4f0a/Keras_Preprocessing-1.1.0-py2.py3-none-any.whl\n",
      "Collecting wheel>=0.26 (from tensorflow==1.15.0)\n",
      "  Using cached https://files.pythonhosted.org/packages/8c/23/848298cccf8e40f5bbb59009b32848a4c38f4e7f3364297ab3c3e2e2cd14/wheel-0.34.2-py2.py3-none-any.whl\n",
      "Collecting keras-applications>=1.0.8 (from tensorflow==1.15.0)\n",
      "  Using cached https://files.pythonhosted.org/packages/71/e3/19762fdfc62877ae9102edf6342d71b28fbfd9dea3d2f96a882ce099b03f/Keras_Applications-1.0.8-py3-none-any.whl\n",
      "Collecting opt-einsum>=2.3.2 (from tensorflow==1.15.0)\n",
      "\u001b[?25l  Downloading https://files.pythonhosted.org/packages/63/a5/e6c07b08b934831ccb8c98ee335e66b7761c5754ee3cabfe4c11d0b1af28/opt_einsum-3.2.1-py3-none-any.whl (63kB)\n",
      "\u001b[K    100% |████████████████████████████████| 71kB 4.8MB/s ta 0:00:011\n",
      "\u001b[?25hCollecting astor>=0.6.0 (from tensorflow==1.15.0)\n",
      "  Using cached https://files.pythonhosted.org/packages/c3/88/97eef84f48fa04fbd6750e62dcceafba6c63c81b7ac1420856c8dcc0a3f9/astor-0.8.1-py2.py3-none-any.whl\n",
      "Collecting google-pasta>=0.1.6 (from tensorflow==1.15.0)\n",
      "  Using cached https://files.pythonhosted.org/packages/a3/de/c648ef6835192e6e2cc03f40b19eeda4382c49b5bafb43d88b931c4c74ac/google_pasta-0.2.0-py3-none-any.whl\n",
      "Collecting gast==0.2.2 (from tensorflow==1.15.0)\n",
      "  Using cached https://files.pythonhosted.org/packages/4e/35/11749bf99b2d4e3cceb4d55ca22590b0d7c2c62b9de38ac4a4a7f4687421/gast-0.2.2.tar.gz\n",
      "Collecting wrapt>=1.11.1 (from tensorflow==1.15.0)\n",
      "  Using cached https://files.pythonhosted.org/packages/82/f7/e43cefbe88c5fd371f4cf0cf5eb3feccd07515af9fd6cf7dbf1d1793a797/wrapt-1.12.1.tar.gz\n",
      "Collecting absl-py>=0.7.0 (from tensorflow==1.15.0)\n",
      "  Using cached https://files.pythonhosted.org/packages/1a/53/9243c600e047bd4c3df9e69cfabc1e8004a82cac2e0c484580a78a94ba2a/absl-py-0.9.0.tar.gz\n",
      "Collecting markdown>=2.6.8 (from tensorboard<1.16.0,>=1.15.0->tensorflow==1.15.0)\n",
      "  Using cached https://files.pythonhosted.org/packages/ab/c4/ba46d44855e6eb1770a12edace5a165a0c6de13349f592b9036257f3c3d3/Markdown-3.2.1-py2.py3-none-any.whl\n",
      "Collecting setuptools>=41.0.0 (from tensorboard<1.16.0,>=1.15.0->tensorflow==1.15.0)\n",
      "  Using cached https://files.pythonhosted.org/packages/a0/df/635cdb901ee4a8a42ec68e480c49f85f4c59e8816effbf57d9e6ee8b3588/setuptools-46.1.3-py3-none-any.whl\n",
      "Collecting werkzeug>=0.11.15 (from tensorboard<1.16.0,>=1.15.0->tensorflow==1.15.0)\n",
      "  Using cached https://files.pythonhosted.org/packages/cc/94/5f7079a0e00bd6863ef8f1da638721e9da21e5bacee597595b318f71d62e/Werkzeug-1.0.1-py2.py3-none-any.whl\n",
      "Collecting h5py (from keras-applications>=1.0.8->tensorflow==1.15.0)\n",
      "  Using cached https://files.pythonhosted.org/packages/1a/8b/4d01ae9a9d50a0bcc7b0b9aae41785d8d9de6fa9bba04dc20b1582181d2d/h5py-2.10.0-cp37-cp37m-macosx_10_6_intel.whl\n",
      "Installing collected packages: wheel, setuptools, protobuf, absl-py, markdown, grpcio, werkzeug, tensorboard, termcolor, tensorflow-estimator, keras-preprocessing, h5py, keras-applications, opt-einsum, astor, google-pasta, gast, wrapt, tensorflow\n",
      "  Found existing installation: setuptools 39.0.1\n",
      "    Uninstalling setuptools-39.0.1:\n",
      "      Successfully uninstalled setuptools-39.0.1\n",
      "  Running setup.py install for absl-py ... \u001b[?25ldone\n",
      "\u001b[?25h  Running setup.py install for termcolor ... \u001b[?25ldone\n",
      "\u001b[?25h  Running setup.py install for gast ... \u001b[?25ldone\n",
      "\u001b[?25h  Running setup.py install for wrapt ... \u001b[?25ldone\n",
      "\u001b[?25hSuccessfully installed absl-py-0.9.0 astor-0.8.1 gast-0.2.2 google-pasta-0.2.0 grpcio-1.28.1 h5py-2.10.0 keras-applications-1.0.8 keras-preprocessing-1.1.0 markdown-3.2.1 opt-einsum-3.2.1 protobuf-3.11.3 setuptools-46.1.3 tensorboard-1.15.0 tensorflow-1.15.0 tensorflow-estimator-1.15.1 termcolor-1.1.0 werkzeug-1.0.1 wheel-0.34.2 wrapt-1.12.1\n",
      "\u001b[33mYou are using pip version 10.0.1, however version 20.0.2 is available.\n",
      "You should consider upgrading via the 'pip install --upgrade pip' command.\u001b[0m\n",
      "Collecting tensorflow-hub==0.1.1\n",
      "  Using cached https://files.pythonhosted.org/packages/5f/22/64f246ef80e64b1a13b2f463cefa44f397a51c49a303294f5f3d04ac39ac/tensorflow_hub-0.1.1-py2.py3-none-any.whl\n",
      "Requirement already satisfied: six>=1.10.0 in /Users/kalyan/.pyenv/versions/3.7.0/envs/trainatscale/lib/python3.7/site-packages (from tensorflow-hub==0.1.1) (1.14.0)\n",
      "Requirement already satisfied: protobuf>=3.4.0 in /Users/kalyan/.pyenv/versions/3.7.0/envs/trainatscale/lib/python3.7/site-packages (from tensorflow-hub==0.1.1) (3.11.3)\n",
      "Requirement already satisfied: numpy>=1.12.0 in /Users/kalyan/.pyenv/versions/3.7.0/envs/trainatscale/lib/python3.7/site-packages (from tensorflow-hub==0.1.1) (1.18.2)\n",
      "Requirement already satisfied: setuptools in /Users/kalyan/.pyenv/versions/3.7.0/envs/trainatscale/lib/python3.7/site-packages (from protobuf>=3.4.0->tensorflow-hub==0.1.1) (46.1.3)\n",
      "Installing collected packages: tensorflow-hub\n",
      "Successfully installed tensorflow-hub-0.1.1\n",
      "\u001b[33mYou are using pip version 10.0.1, however version 20.0.2 is available.\n",
      "You should consider upgrading via the 'pip install --upgrade pip' command.\u001b[0m\n",
      "Collecting scikit-learn==0.22.1\n",
      "  Using cached https://files.pythonhosted.org/packages/82/d9/69769d4f79f3b719cc1255f9bd2b6928c72f43e6f74084e3c67db86c4d2b/scikit_learn-0.22.1-cp37-cp37m-macosx_10_6_intel.whl\n",
      "Requirement already satisfied: joblib>=0.11 in /Users/kalyan/.pyenv/versions/3.7.0/envs/trainatscale/lib/python3.7/site-packages (from scikit-learn==0.22.1) (0.14.1)\n",
      "Requirement already satisfied: scipy>=0.17.0 in /Users/kalyan/.pyenv/versions/3.7.0/envs/trainatscale/lib/python3.7/site-packages (from scikit-learn==0.22.1) (1.4.1)\n",
      "Requirement already satisfied: numpy>=1.11.0 in /Users/kalyan/.pyenv/versions/3.7.0/envs/trainatscale/lib/python3.7/site-packages (from scikit-learn==0.22.1) (1.18.2)\n"
     ]
    },
    {
     "name": "stdout",
     "output_type": "stream",
     "text": [
      "Installing collected packages: scikit-learn\n",
      "  Found existing installation: scikit-learn 0.22.2.post1\n",
      "    Uninstalling scikit-learn-0.22.2.post1:\n",
      "      Successfully uninstalled scikit-learn-0.22.2.post1\n",
      "Successfully installed scikit-learn-0.22.1\n",
      "\u001b[33mYou are using pip version 10.0.1, however version 20.0.2 is available.\n",
      "You should consider upgrading via the 'pip install --upgrade pip' command.\u001b[0m\n"
     ]
    }
   ],
   "source": [
    "# RUN THE FIRST TIME YOU RUN THIS NOTEBOOK\n",
    "!pip install plotly==4.5.0\n",
    "!pip install tensorflow==1.15.0\n",
    "!pip install tensorflow-hub==0.1.1\n",
    "!pip install scikit-learn==0.22.1"
   ]
  },
  {
   "cell_type": "markdown",
   "metadata": {},
   "source": [
    "# Visualise Embeddings\n",
    "A tool to let you visualise sentence embeddings of all utterances in your training set. \n",
    "\n",
    "These will give you **visual clues as to how an intent classifier understands and separates utterances**."
   ]
  },
  {
   "cell_type": "code",
   "execution_count": 1,
   "metadata": {},
   "outputs": [],
   "source": [
    "# ADD FILENAME HERE (relative to data folder)\n",
    "# the file should be a CSV with columns utterance, intent; no header row\n",
    "filename = \"workspace_training/puppy_questions.csv\""
   ]
  },
  {
   "cell_type": "code",
   "execution_count": 7,
   "metadata": {},
   "outputs": [],
   "source": [
    "# external\n",
    "import pandas as pd\n",
    "import matplotlib.pyplot as plt\n",
    "from sklearn.manifold import TSNE\n",
    "import plotly.express as px\n",
    "\n",
    "import sys\n",
    "import os\n",
    "\n",
    "sys.path.append('..')\n",
    "\n",
    "# internal\n",
    "from for_csv.encoder import USEEncoder\n",
    "import config\n",
    "\n",
    "pd.set_option('max_colwidth', -1)"
   ]
  },
  {
   "cell_type": "code",
   "execution_count": 8,
   "metadata": {},
   "outputs": [
    {
     "data": {
      "text/html": [
       "<div>\n",
       "<style scoped>\n",
       "    .dataframe tbody tr th:only-of-type {\n",
       "        vertical-align: middle;\n",
       "    }\n",
       "\n",
       "    .dataframe tbody tr th {\n",
       "        vertical-align: top;\n",
       "    }\n",
       "\n",
       "    .dataframe thead th {\n",
       "        text-align: right;\n",
       "    }\n",
       "</style>\n",
       "<table border=\"1\" class=\"dataframe\">\n",
       "  <thead>\n",
       "    <tr style=\"text-align: right;\">\n",
       "      <th></th>\n",
       "      <th>utterance</th>\n",
       "      <th>intent</th>\n",
       "    </tr>\n",
       "  </thead>\n",
       "  <tbody>\n",
       "    <tr>\n",
       "      <th>0</th>\n",
       "      <td>I want to buy a minature schnauzer</td>\n",
       "      <td>PURCHASE_DOG</td>\n",
       "    </tr>\n",
       "    <tr>\n",
       "      <th>1</th>\n",
       "      <td>I've looked at the pictures and I'm ready to buy a puppy.</td>\n",
       "      <td>PURCHASE_DOG</td>\n",
       "    </tr>\n",
       "    <tr>\n",
       "      <th>2</th>\n",
       "      <td>I would like to buy a chinook</td>\n",
       "      <td>PURCHASE_DOG</td>\n",
       "    </tr>\n",
       "    <tr>\n",
       "      <th>3</th>\n",
       "      <td>hello, what should I do to buy a puppy?</td>\n",
       "      <td>PURCHASE_DOG</td>\n",
       "    </tr>\n",
       "    <tr>\n",
       "      <th>4</th>\n",
       "      <td>Can I buy a kaiken</td>\n",
       "      <td>PURCHASE_DOG</td>\n",
       "    </tr>\n",
       "  </tbody>\n",
       "</table>\n",
       "</div>"
      ],
      "text/plain": [
       "                                                   utterance        intent\n",
       "0  I want to buy a minature schnauzer                         PURCHASE_DOG\n",
       "1  I've looked at the pictures and I'm ready to buy a puppy.  PURCHASE_DOG\n",
       "2  I would like to buy a chinook                              PURCHASE_DOG\n",
       "3  hello, what should I do to buy a puppy?                    PURCHASE_DOG\n",
       "4  Can I buy a kaiken                                         PURCHASE_DOG"
      ]
     },
     "execution_count": 8,
     "metadata": {},
     "output_type": "execute_result"
    }
   ],
   "source": [
    "df = pd.read_csv(os.path.join(config.data_dir, filename), header=None, names=['utterance', 'intent'])\n",
    "\n",
    "df.head()"
   ]
  },
  {
   "cell_type": "code",
   "execution_count": 9,
   "metadata": {
    "scrolled": true
   },
   "outputs": [
    {
     "name": "stderr",
     "output_type": "stream",
     "text": [
      "\u001b[38;2;128;128;128m[2020-04-16 15:04:30,397]\u001b[0m \u001b[33mWARN\u001b[0m \u001b[38;2;128;128;128m(tensorflow): \u001b[0mFrom /Users/kalyan/.pyenv/versions/3.7.0/envs/trainatscale/lib/python3.7/site-packages/tensorflow_hub/module.py:104: The name tf.get_default_graph is deprecated. Please use tf.compat.v1.get_default_graph instead.\n",
      "\n"
     ]
    },
    {
     "name": "stdout",
     "output_type": "stream",
     "text": [
      "WARNING:tensorflow:From /Users/kalyan/.pyenv/versions/3.7.0/envs/trainatscale/lib/python3.7/site-packages/tensorflow_hub/module.py:104: The name tf.get_default_graph is deprecated. Please use tf.compat.v1.get_default_graph instead.\n",
      "\n"
     ]
    },
    {
     "name": "stderr",
     "output_type": "stream",
     "text": [
      "\u001b[38;2;128;128;128m[2020-04-16 15:04:30,399]\u001b[0m \u001b[33mWARN\u001b[0m \u001b[38;2;128;128;128m(tensorflow): \u001b[0mFrom /Users/kalyan/.pyenv/versions/3.7.0/envs/trainatscale/lib/python3.7/site-packages/tensorflow_hub/resolver.py:73: The name tf.logging.log_first_n is deprecated. Please use tf.compat.v1.logging.log_first_n instead.\n",
      "\n"
     ]
    },
    {
     "name": "stdout",
     "output_type": "stream",
     "text": [
      "WARNING:tensorflow:From /Users/kalyan/.pyenv/versions/3.7.0/envs/trainatscale/lib/python3.7/site-packages/tensorflow_hub/resolver.py:73: The name tf.logging.log_first_n is deprecated. Please use tf.compat.v1.logging.log_first_n instead.\n",
      "\n"
     ]
    },
    {
     "name": "stderr",
     "output_type": "stream",
     "text": [
      "\u001b[38;2;128;128;128m[2020-04-16 15:04:30,400]\u001b[0m \u001b[33mWARN\u001b[0m \u001b[38;2;128;128;128m(tensorflow): \u001b[0mFrom /Users/kalyan/.pyenv/versions/3.7.0/envs/trainatscale/lib/python3.7/site-packages/tensorflow_hub/resolver.py:73: The name tf.logging.INFO is deprecated. Please use tf.compat.v1.logging.INFO instead.\n",
      "\n"
     ]
    },
    {
     "name": "stdout",
     "output_type": "stream",
     "text": [
      "WARNING:tensorflow:From /Users/kalyan/.pyenv/versions/3.7.0/envs/trainatscale/lib/python3.7/site-packages/tensorflow_hub/resolver.py:73: The name tf.logging.INFO is deprecated. Please use tf.compat.v1.logging.INFO instead.\n",
      "\n"
     ]
    },
    {
     "name": "stderr",
     "output_type": "stream",
     "text": [
      "\u001b[38;2;128;128;128m[2020-04-16 15:04:30,401]\u001b[0m \u001b[33mWARN\u001b[0m \u001b[38;2;128;128;128m(tensorflow): \u001b[0mFrom /Users/kalyan/.pyenv/versions/3.7.0/envs/trainatscale/lib/python3.7/site-packages/tensorflow_hub/resolver.py:80: The name tf.gfile.MakeDirs is deprecated. Please use tf.io.gfile.makedirs instead.\n",
      "\n"
     ]
    },
    {
     "name": "stdout",
     "output_type": "stream",
     "text": [
      "WARNING:tensorflow:From /Users/kalyan/.pyenv/versions/3.7.0/envs/trainatscale/lib/python3.7/site-packages/tensorflow_hub/resolver.py:80: The name tf.gfile.MakeDirs is deprecated. Please use tf.io.gfile.makedirs instead.\n",
      "\n"
     ]
    },
    {
     "name": "stderr",
     "output_type": "stream",
     "text": [
      "\u001b[38;2;128;128;128m[2020-04-16 15:04:30,403]\u001b[0m \u001b[33mWARN\u001b[0m \u001b[38;2;128;128;128m(tensorflow): \u001b[0mFrom /Users/kalyan/.pyenv/versions/3.7.0/envs/trainatscale/lib/python3.7/site-packages/tensorflow_hub/tf_utils.py:55: The name tf.gfile.GFile is deprecated. Please use tf.io.gfile.GFile instead.\n",
      "\n"
     ]
    },
    {
     "name": "stdout",
     "output_type": "stream",
     "text": [
      "WARNING:tensorflow:From /Users/kalyan/.pyenv/versions/3.7.0/envs/trainatscale/lib/python3.7/site-packages/tensorflow_hub/tf_utils.py:55: The name tf.gfile.GFile is deprecated. Please use tf.io.gfile.GFile instead.\n",
      "\n"
     ]
    },
    {
     "name": "stderr",
     "output_type": "stream",
     "text": [
      "\u001b[38;2;128;128;128m[2020-04-16 15:04:30,404]\u001b[0m \u001b[33mWARN\u001b[0m \u001b[38;2;128;128;128m(tensorflow): \u001b[0mFrom /Users/kalyan/.pyenv/versions/3.7.0/envs/trainatscale/lib/python3.7/site-packages/tensorflow_hub/tf_utils.py:58: The name tf.gfile.Rename is deprecated. Please use tf.io.gfile.rename instead.\n",
      "\n"
     ]
    },
    {
     "name": "stdout",
     "output_type": "stream",
     "text": [
      "WARNING:tensorflow:From /Users/kalyan/.pyenv/versions/3.7.0/envs/trainatscale/lib/python3.7/site-packages/tensorflow_hub/tf_utils.py:58: The name tf.gfile.Rename is deprecated. Please use tf.io.gfile.rename instead.\n",
      "\n"
     ]
    },
    {
     "name": "stderr",
     "output_type": "stream",
     "text": [
      "\u001b[38;2;128;128;128m[2020-04-16 15:04:30,406]\u001b[0m \u001b[33mWARN\u001b[0m \u001b[38;2;128;128;128m(tensorflow): \u001b[0mFrom /Users/kalyan/.pyenv/versions/3.7.0/envs/trainatscale/lib/python3.7/site-packages/tensorflow_hub/resolver.py:296: The name tf.gfile.Exists is deprecated. Please use tf.io.gfile.exists instead.\n",
      "\n"
     ]
    },
    {
     "name": "stdout",
     "output_type": "stream",
     "text": [
      "WARNING:tensorflow:From /Users/kalyan/.pyenv/versions/3.7.0/envs/trainatscale/lib/python3.7/site-packages/tensorflow_hub/resolver.py:296: The name tf.gfile.Exists is deprecated. Please use tf.io.gfile.exists instead.\n",
      "\n"
     ]
    },
    {
     "name": "stderr",
     "output_type": "stream",
     "text": [
      "\u001b[38;2;128;128;128m[2020-04-16 15:04:30,407]\u001b[0m \u001b[33mWARN\u001b[0m \u001b[38;2;128;128;128m(tensorflow): \u001b[0mFrom /Users/kalyan/.pyenv/versions/3.7.0/envs/trainatscale/lib/python3.7/site-packages/tensorflow_hub/resolver.py:311: The name tf.logging.info is deprecated. Please use tf.compat.v1.logging.info instead.\n",
      "\n"
     ]
    },
    {
     "name": "stdout",
     "output_type": "stream",
     "text": [
      "WARNING:tensorflow:From /Users/kalyan/.pyenv/versions/3.7.0/envs/trainatscale/lib/python3.7/site-packages/tensorflow_hub/resolver.py:311: The name tf.logging.info is deprecated. Please use tf.compat.v1.logging.info instead.\n",
      "\n"
     ]
    },
    {
     "name": "stderr",
     "output_type": "stream",
     "text": [
      "\u001b[38;2;128;128;128m[2020-04-16 15:14:55,765]\u001b[0m \u001b[33mWARN\u001b[0m \u001b[38;2;128;128;128m(tensorflow): \u001b[0mFrom /Users/kalyan/.pyenv/versions/3.7.0/envs/trainatscale/lib/python3.7/site-packages/tensorflow_hub/resolver.py:333: The name tf.gfile.DeleteRecursively is deprecated. Please use tf.io.gfile.rmtree instead.\n",
      "\n"
     ]
    },
    {
     "name": "stdout",
     "output_type": "stream",
     "text": [
      "WARNING:tensorflow:From /Users/kalyan/.pyenv/versions/3.7.0/envs/trainatscale/lib/python3.7/site-packages/tensorflow_hub/resolver.py:333: The name tf.gfile.DeleteRecursively is deprecated. Please use tf.io.gfile.rmtree instead.\n",
      "\n"
     ]
    },
    {
     "name": "stderr",
     "output_type": "stream",
     "text": [
      "\u001b[38;2;128;128;128m[2020-04-16 15:14:55,768]\u001b[0m \u001b[33mWARN\u001b[0m \u001b[38;2;128;128;128m(tensorflow): \u001b[0mFrom /Users/kalyan/.pyenv/versions/3.7.0/envs/trainatscale/lib/python3.7/site-packages/tensorflow_hub/resolver.py:343: The name tf.gfile.Remove is deprecated. Please use tf.io.gfile.remove instead.\n",
      "\n"
     ]
    },
    {
     "name": "stdout",
     "output_type": "stream",
     "text": [
      "WARNING:tensorflow:From /Users/kalyan/.pyenv/versions/3.7.0/envs/trainatscale/lib/python3.7/site-packages/tensorflow_hub/resolver.py:343: The name tf.gfile.Remove is deprecated. Please use tf.io.gfile.remove instead.\n",
      "\n"
     ]
    },
    {
     "name": "stderr",
     "output_type": "stream",
     "text": [
      "\u001b[38;2;128;128;128m[2020-04-16 15:14:55,769]\u001b[0m \u001b[33mWARN\u001b[0m \u001b[38;2;128;128;128m(tensorflow): \u001b[0mFrom /Users/kalyan/.pyenv/versions/3.7.0/envs/trainatscale/lib/python3.7/site-packages/tensorflow_hub/native_module.py:102: The name tf.gfile.Open is deprecated. Please use tf.io.gfile.GFile instead.\n",
      "\n"
     ]
    },
    {
     "name": "stdout",
     "output_type": "stream",
     "text": [
      "WARNING:tensorflow:From /Users/kalyan/.pyenv/versions/3.7.0/envs/trainatscale/lib/python3.7/site-packages/tensorflow_hub/native_module.py:102: The name tf.gfile.Open is deprecated. Please use tf.io.gfile.GFile instead.\n",
      "\n"
     ]
    },
    {
     "name": "stderr",
     "output_type": "stream",
     "text": [
      "\u001b[38;2;128;128;128m[2020-04-16 15:14:55,770]\u001b[0m \u001b[33mWARN\u001b[0m \u001b[38;2;128;128;128m(tensorflow): \u001b[0mFrom /Users/kalyan/.pyenv/versions/3.7.0/envs/trainatscale/lib/python3.7/site-packages/tensorflow_hub/saved_model_lib.py:70: The name tf.saved_model.constants.SAVED_MODEL_FILENAME_PB is deprecated. Please use tf.saved_model.SAVED_MODEL_FILENAME_PB instead.\n",
      "\n"
     ]
    },
    {
     "name": "stdout",
     "output_type": "stream",
     "text": [
      "WARNING:tensorflow:From /Users/kalyan/.pyenv/versions/3.7.0/envs/trainatscale/lib/python3.7/site-packages/tensorflow_hub/saved_model_lib.py:70: The name tf.saved_model.constants.SAVED_MODEL_FILENAME_PB is deprecated. Please use tf.saved_model.SAVED_MODEL_FILENAME_PB instead.\n",
      "\n"
     ]
    },
    {
     "name": "stderr",
     "output_type": "stream",
     "text": [
      "\u001b[38;2;128;128;128m[2020-04-16 15:14:55,864]\u001b[0m \u001b[33mWARN\u001b[0m \u001b[38;2;128;128;128m(tensorflow): \u001b[0mFrom /Users/kalyan/.pyenv/versions/3.7.0/envs/trainatscale/lib/python3.7/site-packages/tensorflow_hub/saved_model_lib.py:160: The name tf.saved_model.constants.ASSETS_KEY is deprecated. Please use tf.saved_model.ASSETS_KEY instead.\n",
      "\n"
     ]
    },
    {
     "name": "stdout",
     "output_type": "stream",
     "text": [
      "WARNING:tensorflow:From /Users/kalyan/.pyenv/versions/3.7.0/envs/trainatscale/lib/python3.7/site-packages/tensorflow_hub/saved_model_lib.py:160: The name tf.saved_model.constants.ASSETS_KEY is deprecated. Please use tf.saved_model.ASSETS_KEY instead.\n",
      "\n"
     ]
    },
    {
     "name": "stderr",
     "output_type": "stream",
     "text": [
      "\u001b[38;2;128;128;128m[2020-04-16 15:14:55,868]\u001b[0m \u001b[33mWARN\u001b[0m \u001b[38;2;128;128;128m(tensorflow): \u001b[0mFrom /Users/kalyan/.pyenv/versions/3.7.0/envs/trainatscale/lib/python3.7/site-packages/tensorflow_hub/saved_model_lib.py:45: The name tf.saved_model.constants.VARIABLES_DIRECTORY is deprecated. Please use tf.saved_model.VARIABLES_DIRECTORY instead.\n",
      "\n"
     ]
    },
    {
     "name": "stdout",
     "output_type": "stream",
     "text": [
      "WARNING:tensorflow:From /Users/kalyan/.pyenv/versions/3.7.0/envs/trainatscale/lib/python3.7/site-packages/tensorflow_hub/saved_model_lib.py:45: The name tf.saved_model.constants.VARIABLES_DIRECTORY is deprecated. Please use tf.saved_model.VARIABLES_DIRECTORY instead.\n",
      "\n"
     ]
    },
    {
     "name": "stderr",
     "output_type": "stream",
     "text": [
      "\u001b[38;2;128;128;128m[2020-04-16 15:14:55,869]\u001b[0m \u001b[33mWARN\u001b[0m \u001b[38;2;128;128;128m(tensorflow): \u001b[0mFrom /Users/kalyan/.pyenv/versions/3.7.0/envs/trainatscale/lib/python3.7/site-packages/tensorflow_hub/saved_model_lib.py:46: The name tf.saved_model.constants.VARIABLES_FILENAME is deprecated. Please use tf.saved_model.VARIABLES_FILENAME instead.\n",
      "\n"
     ]
    },
    {
     "name": "stdout",
     "output_type": "stream",
     "text": [
      "WARNING:tensorflow:From /Users/kalyan/.pyenv/versions/3.7.0/envs/trainatscale/lib/python3.7/site-packages/tensorflow_hub/saved_model_lib.py:46: The name tf.saved_model.constants.VARIABLES_FILENAME is deprecated. Please use tf.saved_model.VARIABLES_FILENAME instead.\n",
      "\n"
     ]
    },
    {
     "name": "stderr",
     "output_type": "stream",
     "text": [
      "\u001b[38;2;128;128;128m[2020-04-16 15:14:55,870]\u001b[0m \u001b[33mWARN\u001b[0m \u001b[38;2;128;128;128m(tensorflow): \u001b[0mFrom /Users/kalyan/.pyenv/versions/3.7.0/envs/trainatscale/lib/python3.7/site-packages/tensorflow_hub/module.py:307: The name tf.get_variable_scope is deprecated. Please use tf.compat.v1.get_variable_scope instead.\n",
      "\n"
     ]
    },
    {
     "name": "stdout",
     "output_type": "stream",
     "text": [
      "WARNING:tensorflow:From /Users/kalyan/.pyenv/versions/3.7.0/envs/trainatscale/lib/python3.7/site-packages/tensorflow_hub/module.py:307: The name tf.get_variable_scope is deprecated. Please use tf.compat.v1.get_variable_scope instead.\n",
      "\n"
     ]
    },
    {
     "name": "stderr",
     "output_type": "stream",
     "text": [
      "\u001b[38;2;128;128;128m[2020-04-16 15:14:55,871]\u001b[0m \u001b[33mWARN\u001b[0m \u001b[38;2;128;128;128m(tensorflow): \u001b[0mFrom /Users/kalyan/.pyenv/versions/3.7.0/envs/trainatscale/lib/python3.7/site-packages/tensorflow_hub/module.py:312: The name tf.variable_scope is deprecated. Please use tf.compat.v1.variable_scope instead.\n",
      "\n"
     ]
    },
    {
     "name": "stdout",
     "output_type": "stream",
     "text": [
      "WARNING:tensorflow:From /Users/kalyan/.pyenv/versions/3.7.0/envs/trainatscale/lib/python3.7/site-packages/tensorflow_hub/module.py:312: The name tf.variable_scope is deprecated. Please use tf.compat.v1.variable_scope instead.\n",
      "\n"
     ]
    },
    {
     "name": "stderr",
     "output_type": "stream",
     "text": [
      "\u001b[38;2;128;128;128m[2020-04-16 15:14:55,873]\u001b[0m \u001b[33mWARN\u001b[0m \u001b[38;2;128;128;128m(tensorflow): \u001b[0mFrom /Users/kalyan/.pyenv/versions/3.7.0/envs/trainatscale/lib/python3.7/site-packages/tensorflow_hub/native_module.py:380: The name tf.train.import_meta_graph is deprecated. Please use tf.compat.v1.train.import_meta_graph instead.\n",
      "\n"
     ]
    },
    {
     "name": "stdout",
     "output_type": "stream",
     "text": [
      "WARNING:tensorflow:From /Users/kalyan/.pyenv/versions/3.7.0/envs/trainatscale/lib/python3.7/site-packages/tensorflow_hub/native_module.py:380: The name tf.train.import_meta_graph is deprecated. Please use tf.compat.v1.train.import_meta_graph instead.\n",
      "\n"
     ]
    },
    {
     "name": "stderr",
     "output_type": "stream",
     "text": [
      "\u001b[38;2;128;128;128m[2020-04-16 15:14:56,799]\u001b[0m \u001b[33mWARN\u001b[0m \u001b[38;2;128;128;128m(tensorflow): \u001b[0mFrom /Users/kalyan/.pyenv/versions/3.7.0/envs/trainatscale/lib/python3.7/site-packages/tensorflow_hub/native_module.py:388: The name tf.global_variables is deprecated. Please use tf.compat.v1.global_variables instead.\n",
      "\n"
     ]
    },
    {
     "name": "stdout",
     "output_type": "stream",
     "text": [
      "WARNING:tensorflow:From /Users/kalyan/.pyenv/versions/3.7.0/envs/trainatscale/lib/python3.7/site-packages/tensorflow_hub/native_module.py:388: The name tf.global_variables is deprecated. Please use tf.compat.v1.global_variables instead.\n",
      "\n"
     ]
    },
    {
     "name": "stderr",
     "output_type": "stream",
     "text": [
      "\u001b[38;2;128;128;128m[2020-04-16 15:14:56,807]\u001b[0m \u001b[33mWARN\u001b[0m \u001b[38;2;128;128;128m(tensorflow): \u001b[0mFrom /Users/kalyan/.pyenv/versions/3.7.0/envs/trainatscale/lib/python3.7/site-packages/tensorflow_hub/native_module.py:338: The name tf.train.init_from_checkpoint is deprecated. Please use tf.compat.v1.train.init_from_checkpoint instead.\n",
      "\n"
     ]
    },
    {
     "name": "stdout",
     "output_type": "stream",
     "text": [
      "WARNING:tensorflow:From /Users/kalyan/.pyenv/versions/3.7.0/envs/trainatscale/lib/python3.7/site-packages/tensorflow_hub/native_module.py:338: The name tf.train.init_from_checkpoint is deprecated. Please use tf.compat.v1.train.init_from_checkpoint instead.\n",
      "\n"
     ]
    },
    {
     "name": "stderr",
     "output_type": "stream",
     "text": [
      "\u001b[38;2;128;128;128m[2020-04-16 15:14:56,887]\u001b[0m \u001b[33mWARN\u001b[0m \u001b[38;2;128;128;128m(tensorflow): \u001b[0mFrom /Users/kalyan/.pyenv/versions/3.7.0/envs/trainatscale/lib/python3.7/site-packages/tensorflow_hub/native_module.py:342: The name tf.train.Saver is deprecated. Please use tf.compat.v1.train.Saver instead.\n",
      "\n"
     ]
    },
    {
     "name": "stdout",
     "output_type": "stream",
     "text": [
      "WARNING:tensorflow:From /Users/kalyan/.pyenv/versions/3.7.0/envs/trainatscale/lib/python3.7/site-packages/tensorflow_hub/native_module.py:342: The name tf.train.Saver is deprecated. Please use tf.compat.v1.train.Saver instead.\n",
      "\n"
     ]
    },
    {
     "name": "stderr",
     "output_type": "stream",
     "text": [
      "\u001b[38;2;128;128;128m[2020-04-16 15:14:56,888]\u001b[0m \u001b[33mWARN\u001b[0m \u001b[38;2;128;128;128m(tensorflow): \u001b[0mFrom /Users/kalyan/.pyenv/versions/3.7.0/envs/trainatscale/lib/python3.7/site-packages/tensorflow_hub/native_module.py:345: The name tf.train.SaverDef is deprecated. Please use tf.compat.v1.train.SaverDef instead.\n",
      "\n"
     ]
    },
    {
     "name": "stdout",
     "output_type": "stream",
     "text": [
      "WARNING:tensorflow:From /Users/kalyan/.pyenv/versions/3.7.0/envs/trainatscale/lib/python3.7/site-packages/tensorflow_hub/native_module.py:345: The name tf.train.SaverDef is deprecated. Please use tf.compat.v1.train.SaverDef instead.\n",
      "\n"
     ]
    },
    {
     "name": "stderr",
     "output_type": "stream",
     "text": [
      "\u001b[38;2;128;128;128m[2020-04-16 15:14:56,922]\u001b[0m \u001b[33mWARN\u001b[0m \u001b[38;2;128;128;128m(tensorflow): \u001b[0mFrom /Users/kalyan/Documents/practice-cog/intent_training_tools/for_csv/encoder.py:21: The name tf.placeholder is deprecated. Please use tf.compat.v1.placeholder instead.\n",
      "\n"
     ]
    },
    {
     "name": "stdout",
     "output_type": "stream",
     "text": [
      "WARNING:tensorflow:From /Users/kalyan/Documents/practice-cog/intent_training_tools/for_csv/encoder.py:21: The name tf.placeholder is deprecated. Please use tf.compat.v1.placeholder instead.\n",
      "\n"
     ]
    },
    {
     "name": "stderr",
     "output_type": "stream",
     "text": [
      "\u001b[38;2;128;128;128m[2020-04-16 15:14:56,924]\u001b[0m \u001b[33mWARN\u001b[0m \u001b[38;2;128;128;128m(tensorflow): \u001b[0mFrom /Users/kalyan/.pyenv/versions/3.7.0/envs/trainatscale/lib/python3.7/site-packages/tensorflow_hub/tensor_info.py:117: The name tf.convert_to_tensor_or_indexed_slices is deprecated. Please use tf.compat.v1.convert_to_tensor_or_indexed_slices instead.\n",
      "\n"
     ]
    },
    {
     "name": "stdout",
     "output_type": "stream",
     "text": [
      "WARNING:tensorflow:From /Users/kalyan/.pyenv/versions/3.7.0/envs/trainatscale/lib/python3.7/site-packages/tensorflow_hub/tensor_info.py:117: The name tf.convert_to_tensor_or_indexed_slices is deprecated. Please use tf.compat.v1.convert_to_tensor_or_indexed_slices instead.\n",
      "\n"
     ]
    },
    {
     "name": "stderr",
     "output_type": "stream",
     "text": [
      "\u001b[38;2;128;128;128m[2020-04-16 15:14:56,925]\u001b[0m \u001b[33mWARN\u001b[0m \u001b[38;2;128;128;128m(tensorflow): \u001b[0mFrom /Users/kalyan/.pyenv/versions/3.7.0/envs/trainatscale/lib/python3.7/site-packages/tensorflow_hub/tensor_info.py:98: The name tf.SparseTensorValue is deprecated. Please use tf.compat.v1.SparseTensorValue instead.\n",
      "\n"
     ]
    },
    {
     "name": "stdout",
     "output_type": "stream",
     "text": [
      "WARNING:tensorflow:From /Users/kalyan/.pyenv/versions/3.7.0/envs/trainatscale/lib/python3.7/site-packages/tensorflow_hub/tensor_info.py:98: The name tf.SparseTensorValue is deprecated. Please use tf.compat.v1.SparseTensorValue instead.\n",
      "\n"
     ]
    },
    {
     "name": "stderr",
     "output_type": "stream",
     "text": [
      "\u001b[38;2;128;128;128m[2020-04-16 15:14:57,922]\u001b[0m \u001b[33mWARN\u001b[0m \u001b[38;2;128;128;128m(tensorflow): \u001b[0mFrom /Users/kalyan/.pyenv/versions/3.7.0/envs/trainatscale/lib/python3.7/site-packages/tensorflow_hub/native_module.py:805: The name tf.AttrValue is deprecated. Please use tf.compat.v1.AttrValue instead.\n",
      "\n"
     ]
    },
    {
     "name": "stdout",
     "output_type": "stream",
     "text": [
      "WARNING:tensorflow:From /Users/kalyan/.pyenv/versions/3.7.0/envs/trainatscale/lib/python3.7/site-packages/tensorflow_hub/native_module.py:805: The name tf.AttrValue is deprecated. Please use tf.compat.v1.AttrValue instead.\n",
      "\n"
     ]
    },
    {
     "name": "stderr",
     "output_type": "stream",
     "text": [
      "\u001b[38;2;128;128;128m[2020-04-16 15:14:57,999]\u001b[0m \u001b[33mWARN\u001b[0m \u001b[38;2;128;128;128m(tensorflow): \u001b[0mFrom /Users/kalyan/Documents/practice-cog/intent_training_tools/for_csv/encoder.py:23: The name tf.Session is deprecated. Please use tf.compat.v1.Session instead.\n",
      "\n"
     ]
    },
    {
     "name": "stdout",
     "output_type": "stream",
     "text": [
      "WARNING:tensorflow:From /Users/kalyan/Documents/practice-cog/intent_training_tools/for_csv/encoder.py:23: The name tf.Session is deprecated. Please use tf.compat.v1.Session instead.\n",
      "\n"
     ]
    },
    {
     "name": "stderr",
     "output_type": "stream",
     "text": [
      "\u001b[38;2;128;128;128m[2020-04-16 15:14:58,028]\u001b[0m \u001b[33mWARN\u001b[0m \u001b[38;2;128;128;128m(tensorflow): \u001b[0mFrom /Users/kalyan/Documents/practice-cog/intent_training_tools/for_csv/encoder.py:24: The name tf.global_variables_initializer is deprecated. Please use tf.compat.v1.global_variables_initializer instead.\n",
      "\n"
     ]
    },
    {
     "name": "stdout",
     "output_type": "stream",
     "text": [
      "WARNING:tensorflow:From /Users/kalyan/Documents/practice-cog/intent_training_tools/for_csv/encoder.py:24: The name tf.global_variables_initializer is deprecated. Please use tf.compat.v1.global_variables_initializer instead.\n",
      "\n"
     ]
    },
    {
     "name": "stderr",
     "output_type": "stream",
     "text": [
      "\u001b[38;2;128;128;128m[2020-04-16 15:14:58,030]\u001b[0m \u001b[33mWARN\u001b[0m \u001b[38;2;128;128;128m(tensorflow): \u001b[0mFrom /Users/kalyan/Documents/practice-cog/intent_training_tools/for_csv/encoder.py:24: The name tf.tables_initializer is deprecated. Please use tf.compat.v1.tables_initializer instead.\n",
      "\n"
     ]
    },
    {
     "name": "stdout",
     "output_type": "stream",
     "text": [
      "WARNING:tensorflow:From /Users/kalyan/Documents/practice-cog/intent_training_tools/for_csv/encoder.py:24: The name tf.tables_initializer is deprecated. Please use tf.compat.v1.tables_initializer instead.\n",
      "\n"
     ]
    },
    {
     "name": "stderr",
     "output_type": "stream",
     "text": [
      "\u001b[38;2;128;128;128m[2020-04-16 15:15:08,452]\u001b[0m \u001b[32mINFO\u001b[0m \u001b[38;2;128;128;128m(for_csv.encoder): \u001b[0mUSE Encoder: https://tfhub.dev/google/universal-sentence-encoder/1 Ready! dim:512\n"
     ]
    }
   ],
   "source": [
    "# get embeddings\n",
    "use = USEEncoder()\n",
    "embeddings = use.encode(df['utterance'].tolist())\n",
    "df['embedding'] = [item for item in embeddings]\n",
    "\n",
    "# project to 2D using T-SNE\n",
    "# notes on using T-SNE effectively: https://distill.pub/2016/misread-tsne/\n",
    "embeddings_2d = TSNE(n_components=2).fit_transform(df['embedding'].tolist())\n",
    "df['X0'] = embeddings_2d[:,0]\n",
    "df['X1'] = embeddings_2d[:,1]"
   ]
  },
  {
   "cell_type": "code",
   "execution_count": 24,
   "metadata": {},
   "outputs": [
    {
     "data": {
      "application/vnd.plotly.v1+json": {
       "config": {
        "plotlyServerURL": "https://plot.ly"
       },
       "data": [
        {
         "customdata": [
          [
           "I want to buy a minature schnauzer"
          ],
          [
           "I've looked at the pictures and I'm ready to buy a puppy."
          ],
          [
           "I would like to buy a chinook"
          ],
          [
           "hello, what should I do to buy a puppy?"
          ],
          [
           "Can I buy a kaiken"
          ],
          [
           "I want a dog"
          ],
          [
           "I'm looking to buy a dog"
          ],
          [
           "I'd like to buy a wolfhound"
          ],
          [
           "i want to get a puppy"
          ],
          [
           "Hi I'd like to buy a dog"
          ],
          [
           "No I wanted a puppy."
          ],
          [
           "I want to buy a chinook"
          ],
          [
           "What dog can I purchase?"
          ],
          [
           "Where can I buy a dog"
          ],
          [
           "Can I get a puppy?"
          ],
          [
           "I need a pup"
          ],
          [
           "How can I buy puppies on the internet"
          ],
          [
           "Do you sell doggies"
          ],
          [
           "where are the best deals on pups"
          ],
          [
           "can I order a doggo online"
          ],
          [
           "is it always bad to buy a dog from a farm"
          ],
          [
           "Can I buy my dog on finance"
          ],
          [
           "what is the right price for a pedigree lab"
          ],
          [
           "is £2000 too much for a FTCH collie"
          ],
          [
           "where is the puppy pricing"
          ],
          [
           "Will different pups cost different prices"
          ],
          [
           "i want to add a dog to the family. How much would it cost"
          ],
          [
           "where should I look to find a breeder for a dog"
          ]
         ],
         "hoverlabel": {
          "namelength": 0
         },
         "hovertemplate": "intent=PURCHASE_DOG<br>X0=%{x}<br>X1=%{y}<br>utterance=%{customdata[0]}",
         "legendgroup": "PURCHASE_DOG",
         "marker": {
          "color": "#2E91E5",
          "symbol": "circle"
         },
         "mode": "markers",
         "name": "PURCHASE_DOG",
         "showlegend": true,
         "type": "scatter",
         "x": [
          -4.462492942810059,
          -2.2732155323028564,
          -9.126518249511719,
          -3.3855655193328857,
          -7.523773193359375,
          -3.5442309379577637,
          -4.407597064971924,
          -5.371770858764648,
          -2.827409505844116,
          -4.339919090270996,
          -1.6081093549728394,
          -9.139042854309082,
          -4.796249866485596,
          -5.117913246154785,
          -2.370370388031006,
          -2.9864416122436523,
          -4.902613162994385,
          -6.482707500457764,
          -4.491170883178711,
          -6.213706970214844,
          -4.829508304595947,
          -6.033730983734131,
          -2.520745277404785,
          -4.279256820678711,
          -3.936184883117676,
          -3.3915114402770996,
          -3.1390304565429688,
          -5.985830307006836
         ],
         "xaxis": "x",
         "y": [
          -1.838951826095581,
          -3.514660358428955,
          -3.0969414710998535,
          -3.4223084449768066,
          -4.597745895385742,
          -2.4816999435424805,
          -2.844054937362671,
          -1.7515987157821655,
          -2.7898311614990234,
          -3.2078380584716797,
          -2.751344919204712,
          -3.1021668910980225,
          -2.8218424320220947,
          -3.3956851959228516,
          -2.6135997772216797,
          -1.8733575344085693,
          -4.61072301864624,
          1.818730354309082,
          -5.326899528503418,
          -5.047781944274902,
          0.6946200132369995,
          -3.8632423877716064,
          -5.557265758514404,
          -0.43115031719207764,
          -5.627951622009277,
          -6.015731334686279,
          -4.7205376625061035,
          -2.686706781387329
         ],
         "yaxis": "y"
        },
        {
         "customdata": [
          [
           "how can I check if my rescue staffy is up to date with it's injections"
          ],
          [
           "I wanna get my terrier an annual set of jabs"
          ],
          [
           "my hound is not overdue its last AC jab"
          ],
          [
           "at what age do I not need to get my pooch jabs"
          ],
          [
           "does a pedigree need different immunisations to a mutt"
          ],
          [
           "I need to get some injections for my drakehead lab"
          ],
          [
           "do you need to have allthe vaccinations recommended"
          ],
          [
           "can I combine my dogs next check up with some vaccinations"
          ],
          [
           "is it illegal to not get your dog jabs"
          ],
          [
           "is there such thing as antivax for dogs"
          ],
          [
           "my little dog is not coping with vaccinations"
          ],
          [
           "can I book some shots for my dog"
          ],
          [
           "are there any vaccinations I should give my pupper next year"
          ],
          [
           "my poodle had it's first set of vaccs last week and I want to get the next set, when should I do this"
          ],
          [
           "Can you vaccinate the dog so it doesn't get sick"
          ],
          [
           "I want my puppy to be protected against disease"
          ],
          [
           "Can you immunise the dog before I get it"
          ],
          [
           "Has the pupperino had its shots"
          ],
          [
           "Has my puppy had all its injections"
          ],
          [
           "Is the dog fully vaccinated"
          ],
          [
           "How many jabs has the puppy had"
          ],
          [
           "When is the next dose due of the vaccination?"
          ],
          [
           "What about vaccinations?"
          ],
          [
           "Do I have to pay for the vaccinations?"
          ],
          [
           "what are they vaccinated against"
          ],
          [
           "do you give shots to your dogs"
          ],
          [
           "Are puppies already vaccinated?"
          ],
          [
           "Do you vaccinate your dogs?"
          ]
         ],
         "hoverlabel": {
          "namelength": 0
         },
         "hovertemplate": "intent=DOG_VACCINATIONS<br>X0=%{x}<br>X1=%{y}<br>utterance=%{customdata[0]}",
         "legendgroup": "DOG_VACCINATIONS",
         "marker": {
          "color": "#E15F99",
          "symbol": "circle"
         },
         "mode": "markers",
         "name": "DOG_VACCINATIONS",
         "showlegend": true,
         "type": "scatter",
         "x": [
          -6.561270236968994,
          -2.2932467460632324,
          1.336124300956726,
          0.11524072289466858,
          0.7123467922210693,
          8.62447452545166,
          9.358777046203613,
          6.517537593841553,
          4.6474223136901855,
          6.9861063957214355,
          5.233841419219971,
          6.152842044830322,
          6.1287360191345215,
          -1.3645342588424683,
          6.764179229736328,
          4.333254337310791,
          4.6072540283203125,
          7.88938045501709,
          3.4107654094696045,
          7.1592488288879395,
          1.4686535596847534,
          10.373515129089355,
          9.993300437927246,
          9.444748878479004,
          10.38830852508545,
          7.24218225479126,
          7.789547920227051,
          7.312722682952881
         ],
         "xaxis": "x",
         "y": [
          -0.560871958732605,
          -0.7462493181228638,
          5.776170253753662,
          -0.7881130576133728,
          -5.56193733215332,
          4.325966835021973,
          2.376459836959839,
          1.7626934051513672,
          0.3360700011253357,
          2.8460261821746826,
          2.3318252563476562,
          -0.5602431297302246,
          1.2448813915252686,
          -0.33960601687431335,
          2.2879810333251953,
          1.0317128896713257,
          5.760108947753906,
          -0.9826114773750305,
          2.1795055866241455,
          2.0095055103302,
          0.8752241134643555,
          1.1458051204681396,
          1.9714306592941284,
          2.710547685623169,
          1.7506383657455444,
          -0.2282189130783081,
          1.6789205074310303,
          1.225501298904419
         ],
         "yaxis": "y"
        },
        {
         "customdata": [
          [
           "my pups not very happy"
          ],
          [
           "kennel cough advice"
          ],
          [
           "I want to get my dog a check up urgently. He don't seem the same"
          ],
          [
           "I think my dog has rabies"
          ],
          [
           "my puppy has been shivering all night"
          ],
          [
           "do dogs get depression"
          ],
          [
           "my puppy is not like the other puppies"
          ],
          [
           "I gave my pug coffee and now it looks sick"
          ],
          [
           "my G.S has been diagnosed with cancer and I don't know what to do"
          ],
          [
           "my pup don't look so great. What does it need"
          ],
          [
           "my chow chow is not so well well"
          ],
          [
           "how can i prevent my dog getting sick again"
          ],
          [
           "is there any common illnesses in a dog"
          ],
          [
           "my puppy is showing signs of illnes"
          ],
          [
           "my dog vomitted last night"
          ],
          [
           "Can the dog see properly"
          ],
          [
           "Has the puppy shown any signs of sickness"
          ],
          [
           "Can you tell me about the pups wellbeing"
          ],
          [
           "I'm concerned about the health of the animals"
          ],
          [
           "what is the health status of your puppies?"
          ],
          [
           "Does the animal have fleas"
          ],
          [
           "Can you tell me if the puppy is diseased"
          ],
          [
           "Has the dog been ill before"
          ],
          [
           "Is the puppy well?"
          ],
          [
           "Does the puppy look healthy?"
          ],
          [
           "Can I return the puppy if it has health issues?"
          ],
          [
           "Will you tell me if the puppy has been sick?"
          ],
          [
           "Was the litter sick for the puppy I want to get?"
          ],
          [
           "does the puppies siblings get sick?"
          ]
         ],
         "hoverlabel": {
          "namelength": 0
         },
         "hovertemplate": "intent=DOG_HEALTH<br>X0=%{x}<br>X1=%{y}<br>utterance=%{customdata[0]}",
         "legendgroup": "DOG_HEALTH",
         "marker": {
          "color": "#1CA71C",
          "symbol": "circle"
         },
         "mode": "markers",
         "name": "DOG_HEALTH",
         "showlegend": true,
         "type": "scatter",
         "x": [
          -0.28130632638931274,
          4.393706321716309,
          3.008085250854492,
          3.06475567817688,
          2.590972661972046,
          6.612124919891357,
          0.6181357502937317,
          0.3945891261100769,
          9.637497901916504,
          -0.8964172601699829,
          -1.4737577438354492,
          4.230849742889404,
          6.496769905090332,
          1.7477504014968872,
          2.2171342372894287,
          5.473934173583984,
          2.6325225830078125,
          3.029778242111206,
          -0.8744650483131409,
          3.1355061531066895,
          9.70748519897461,
          3.001255512237549,
          4.165524482727051,
          0.5165273547172546,
          0.24513138830661774,
          3.389439344406128,
          2.9124343395233154,
          2.3771495819091797,
          3.2994096279144287
         ],
         "xaxis": "x",
         "y": [
          2.456871509552002,
          3.3586208820343018,
          2.8525702953338623,
          4.232660293579102,
          3.7655527591705322,
          4.616068363189697,
          2.0772762298583984,
          4.115227699279785,
          4.885340690612793,
          2.513672113418579,
          4.738431453704834,
          3.6600921154022217,
          3.9604625701904297,
          3.1021311283111572,
          4.303910255432129,
          5.127954959869385,
          1.8526161909103394,
          -2.85921049118042,
          -9.276019096374512,
          -2.593989610671997,
          -0.7525159120559692,
          1.107909083366394,
          5.542994499206543,
          0.7799974083900452,
          0.9671012759208679,
          0.3205716907978058,
          1.4102916717529297,
          -0.07941961288452148,
          -1.2483408451080322
         ],
         "yaxis": "y"
        },
        {
         "customdata": [
          [
           "I need to check the validity of my puppies mum's KCC register"
          ],
          [
           "Can I come in and look at the puppies with the mother?"
          ],
          [
           "Can I interview the parents?"
          ],
          [
           "how old is the mother?"
          ],
          [
           "Can look at the parents beforehand?"
          ],
          [
           "Does the mother get on well with children"
          ],
          [
           "Is the puppy's mum still weaning it"
          ],
          [
           "Has the bitch been vaccinated"
          ],
          [
           "Is this the mother's first litter"
          ],
          [
           "Who's the puppy's father"
          ],
          [
           "Is the father pedigree"
          ],
          [
           "are the labradoodles F1 or F2"
          ],
          [
           "I want to know more about their parenting"
          ],
          [
           "are they bred from a puppy farm or is the mother a family pet"
          ],
          [
           "where can I research my dogs ancestry"
          ],
          [
           "If both parents are pedigree, does my doggo become pedigree"
          ],
          [
           "is it a warning sign if I can't meet the parents"
          ],
          [
           "Is the dad a FTCH"
          ],
          [
           "How do I know if the mum has any EC titles"
          ],
          [
           "how long does the mum wean her pups"
          ],
          [
           "can I meet the father"
          ],
          [
           "is the dad a wirecoat or softcoat fox terrier"
          ],
          [
           "whre can I check if my dogs parentals have bred before"
          ],
          [
           "what are signs the mater is not good"
          ]
         ],
         "hoverlabel": {
          "namelength": 0
         },
         "hovertemplate": "intent=DOG_PARENTS_INFORMATION<br>X0=%{x}<br>X1=%{y}<br>utterance=%{customdata[0]}",
         "legendgroup": "DOG_PARENTS_INFORMATION",
         "marker": {
          "color": "#FB0D0D",
          "symbol": "circle"
         },
         "mode": "markers",
         "name": "DOG_PARENTS_INFORMATION",
         "showlegend": true,
         "type": "scatter",
         "x": [
          1.871373176574707,
          1.0121526718139648,
          7.598577976226807,
          3.5789034366607666,
          7.724117755889893,
          6.370378017425537,
          0.9934797883033752,
          8.847246170043945,
          3.0824835300445557,
          2.5685675144195557,
          3.854006052017212,
          0.9587897062301636,
          7.003781795501709,
          1.9727259874343872,
          -6.768150329589844,
          1.3469245433807373,
          8.12479305267334,
          4.419137001037598,
          6.072783946990967,
          0.8452668190002441,
          4.9438629150390625,
          2.3072710037231445,
          1.4195586442947388,
          9.070982933044434
         ],
         "xaxis": "x",
         "y": [
          -2.326201915740967,
          -3.38936185836792,
          -6.368773937225342,
          -8.131956100463867,
          -6.0886549949646,
          -6.414219856262207,
          -1.149678111076355,
          1.2781381607055664,
          -4.574959754943848,
          -6.692706108093262,
          -6.728456974029541,
          -7.082388877868652,
          -6.191596508026123,
          -5.497672080993652,
          -2.393040657043457,
          -5.8343305587768555,
          -5.7148027420043945,
          -6.908055305480957,
          -4.5583271980285645,
          -1.2099932432174683,
          -6.995114326477051,
          -6.7390360832214355,
          -2.8806118965148926,
          -4.855223655700684
         ],
         "yaxis": "y"
        },
        {
         "customdata": [
          [
           "can my puppy eat human food"
          ],
          [
           "can my puppy eat adult food"
          ],
          [
           "do you sell dog food"
          ],
          [
           "I have just got a litter of puppies and don't know if I can feed them anything but milk"
          ],
          [
           "do dogs eat chicken"
          ],
          [
           "Do I always need to buy my dog the same food"
          ],
          [
           "What is a good serving to give a dog"
          ],
          [
           "is any dog food bad for a dogs teeth?"
          ],
          [
           "can I put gravy on my dogs food"
          ],
          [
           "is dry food bad for dogs"
          ],
          [
           "can my dog have wet food"
          ],
          [
           "can I mix my dogs food"
          ],
          [
           "how often should I feed my dog"
          ],
          [
           "what dog food do you sell"
          ],
          [
           "do dogs taste food like humans taste food"
          ],
          [
           "Can dogs eat people food"
          ],
          [
           "Is meat okay for dogs three times a day"
          ],
          [
           "Can dogs have canned food for lunch"
          ],
          [
           "Can pups eat normal meat"
          ],
          [
           "Is tinned dog food okay for puppies"
          ],
          [
           "What do puppies like to eat"
          ],
          [
           "I don't know what dogs eat"
          ],
          [
           "That's good to know. Does the food taste nice?"
          ],
          [
           "What food do you sell"
          ],
          [
           "What food do you have?"
          ],
          [
           "What sort of food do I need to get to keep the puppy happy?"
          ],
          [
           "is it bad to feed my mutt leftovers"
          ]
         ],
         "hoverlabel": {
          "namelength": 0
         },
         "hovertemplate": "intent=DOG_FOOD<br>X0=%{x}<br>X1=%{y}<br>utterance=%{customdata[0]}",
         "legendgroup": "DOG_FOOD",
         "marker": {
          "color": "#DA16FF",
          "symbol": "circle"
         },
         "mode": "markers",
         "name": "DOG_FOOD",
         "showlegend": true,
         "type": "scatter",
         "x": [
          -3.2700717449188232,
          -2.9727747440338135,
          -6.247041702270508,
          0.2855938971042633,
          -4.461638927459717,
          -4.8911614418029785,
          -3.339468240737915,
          -2.9964077472686768,
          -4.662087917327881,
          -3.2905678749084473,
          -3.610874652862549,
          -4.016083717346191,
          -1.3500783443450928,
          -6.460752964019775,
          -5.299837589263916,
          -4.529331207275391,
          -2.125966787338257,
          -4.614143371582031,
          -3.6429572105407715,
          -2.9576914310455322,
          -3.17937970161438,
          -3.006101131439209,
          -6.282658100128174,
          -7.694587707519531,
          -7.745304107666016,
          -3.2166147232055664,
          -1.9795068502426147
         ],
         "xaxis": "x",
         "y": [
          6.303381443023682,
          6.194218635559082,
          2.98673152923584,
          -3.5486483573913574,
          8.083036422729492,
          4.084360122680664,
          2.946561336517334,
          7.849603176116943,
          5.850125312805176,
          7.216184139251709,
          6.546558380126953,
          5.894410133361816,
          7.702881336212158,
          3.3144590854644775,
          7.955334663391113,
          7.364038467407227,
          7.654122829437256,
          6.81038236618042,
          8.736005783081055,
          7.301392555236816,
          4.261430263519287,
          4.593170642852783,
          8.164743423461914,
          4.466306686401367,
          4.632198810577393,
          3.4270269870758057,
          6.720762252807617
         ],
         "yaxis": "y"
        }
       ],
       "layout": {
        "legend": {
         "title": {
          "text": "intent"
         },
         "tracegroupgap": 0
        },
        "margin": {
         "t": 60
        },
        "template": {
         "data": {
          "bar": [
           {
            "error_x": {
             "color": "#2a3f5f"
            },
            "error_y": {
             "color": "#2a3f5f"
            },
            "marker": {
             "line": {
              "color": "#E5ECF6",
              "width": 0.5
             }
            },
            "type": "bar"
           }
          ],
          "barpolar": [
           {
            "marker": {
             "line": {
              "color": "#E5ECF6",
              "width": 0.5
             }
            },
            "type": "barpolar"
           }
          ],
          "carpet": [
           {
            "aaxis": {
             "endlinecolor": "#2a3f5f",
             "gridcolor": "white",
             "linecolor": "white",
             "minorgridcolor": "white",
             "startlinecolor": "#2a3f5f"
            },
            "baxis": {
             "endlinecolor": "#2a3f5f",
             "gridcolor": "white",
             "linecolor": "white",
             "minorgridcolor": "white",
             "startlinecolor": "#2a3f5f"
            },
            "type": "carpet"
           }
          ],
          "choropleth": [
           {
            "colorbar": {
             "outlinewidth": 0,
             "ticks": ""
            },
            "type": "choropleth"
           }
          ],
          "contour": [
           {
            "colorbar": {
             "outlinewidth": 0,
             "ticks": ""
            },
            "colorscale": [
             [
              0,
              "#0d0887"
             ],
             [
              0.1111111111111111,
              "#46039f"
             ],
             [
              0.2222222222222222,
              "#7201a8"
             ],
             [
              0.3333333333333333,
              "#9c179e"
             ],
             [
              0.4444444444444444,
              "#bd3786"
             ],
             [
              0.5555555555555556,
              "#d8576b"
             ],
             [
              0.6666666666666666,
              "#ed7953"
             ],
             [
              0.7777777777777778,
              "#fb9f3a"
             ],
             [
              0.8888888888888888,
              "#fdca26"
             ],
             [
              1,
              "#f0f921"
             ]
            ],
            "type": "contour"
           }
          ],
          "contourcarpet": [
           {
            "colorbar": {
             "outlinewidth": 0,
             "ticks": ""
            },
            "type": "contourcarpet"
           }
          ],
          "heatmap": [
           {
            "colorbar": {
             "outlinewidth": 0,
             "ticks": ""
            },
            "colorscale": [
             [
              0,
              "#0d0887"
             ],
             [
              0.1111111111111111,
              "#46039f"
             ],
             [
              0.2222222222222222,
              "#7201a8"
             ],
             [
              0.3333333333333333,
              "#9c179e"
             ],
             [
              0.4444444444444444,
              "#bd3786"
             ],
             [
              0.5555555555555556,
              "#d8576b"
             ],
             [
              0.6666666666666666,
              "#ed7953"
             ],
             [
              0.7777777777777778,
              "#fb9f3a"
             ],
             [
              0.8888888888888888,
              "#fdca26"
             ],
             [
              1,
              "#f0f921"
             ]
            ],
            "type": "heatmap"
           }
          ],
          "heatmapgl": [
           {
            "colorbar": {
             "outlinewidth": 0,
             "ticks": ""
            },
            "colorscale": [
             [
              0,
              "#0d0887"
             ],
             [
              0.1111111111111111,
              "#46039f"
             ],
             [
              0.2222222222222222,
              "#7201a8"
             ],
             [
              0.3333333333333333,
              "#9c179e"
             ],
             [
              0.4444444444444444,
              "#bd3786"
             ],
             [
              0.5555555555555556,
              "#d8576b"
             ],
             [
              0.6666666666666666,
              "#ed7953"
             ],
             [
              0.7777777777777778,
              "#fb9f3a"
             ],
             [
              0.8888888888888888,
              "#fdca26"
             ],
             [
              1,
              "#f0f921"
             ]
            ],
            "type": "heatmapgl"
           }
          ],
          "histogram": [
           {
            "marker": {
             "colorbar": {
              "outlinewidth": 0,
              "ticks": ""
             }
            },
            "type": "histogram"
           }
          ],
          "histogram2d": [
           {
            "colorbar": {
             "outlinewidth": 0,
             "ticks": ""
            },
            "colorscale": [
             [
              0,
              "#0d0887"
             ],
             [
              0.1111111111111111,
              "#46039f"
             ],
             [
              0.2222222222222222,
              "#7201a8"
             ],
             [
              0.3333333333333333,
              "#9c179e"
             ],
             [
              0.4444444444444444,
              "#bd3786"
             ],
             [
              0.5555555555555556,
              "#d8576b"
             ],
             [
              0.6666666666666666,
              "#ed7953"
             ],
             [
              0.7777777777777778,
              "#fb9f3a"
             ],
             [
              0.8888888888888888,
              "#fdca26"
             ],
             [
              1,
              "#f0f921"
             ]
            ],
            "type": "histogram2d"
           }
          ],
          "histogram2dcontour": [
           {
            "colorbar": {
             "outlinewidth": 0,
             "ticks": ""
            },
            "colorscale": [
             [
              0,
              "#0d0887"
             ],
             [
              0.1111111111111111,
              "#46039f"
             ],
             [
              0.2222222222222222,
              "#7201a8"
             ],
             [
              0.3333333333333333,
              "#9c179e"
             ],
             [
              0.4444444444444444,
              "#bd3786"
             ],
             [
              0.5555555555555556,
              "#d8576b"
             ],
             [
              0.6666666666666666,
              "#ed7953"
             ],
             [
              0.7777777777777778,
              "#fb9f3a"
             ],
             [
              0.8888888888888888,
              "#fdca26"
             ],
             [
              1,
              "#f0f921"
             ]
            ],
            "type": "histogram2dcontour"
           }
          ],
          "mesh3d": [
           {
            "colorbar": {
             "outlinewidth": 0,
             "ticks": ""
            },
            "type": "mesh3d"
           }
          ],
          "parcoords": [
           {
            "line": {
             "colorbar": {
              "outlinewidth": 0,
              "ticks": ""
             }
            },
            "type": "parcoords"
           }
          ],
          "pie": [
           {
            "automargin": true,
            "type": "pie"
           }
          ],
          "scatter": [
           {
            "marker": {
             "colorbar": {
              "outlinewidth": 0,
              "ticks": ""
             }
            },
            "type": "scatter"
           }
          ],
          "scatter3d": [
           {
            "line": {
             "colorbar": {
              "outlinewidth": 0,
              "ticks": ""
             }
            },
            "marker": {
             "colorbar": {
              "outlinewidth": 0,
              "ticks": ""
             }
            },
            "type": "scatter3d"
           }
          ],
          "scattercarpet": [
           {
            "marker": {
             "colorbar": {
              "outlinewidth": 0,
              "ticks": ""
             }
            },
            "type": "scattercarpet"
           }
          ],
          "scattergeo": [
           {
            "marker": {
             "colorbar": {
              "outlinewidth": 0,
              "ticks": ""
             }
            },
            "type": "scattergeo"
           }
          ],
          "scattergl": [
           {
            "marker": {
             "colorbar": {
              "outlinewidth": 0,
              "ticks": ""
             }
            },
            "type": "scattergl"
           }
          ],
          "scattermapbox": [
           {
            "marker": {
             "colorbar": {
              "outlinewidth": 0,
              "ticks": ""
             }
            },
            "type": "scattermapbox"
           }
          ],
          "scatterpolar": [
           {
            "marker": {
             "colorbar": {
              "outlinewidth": 0,
              "ticks": ""
             }
            },
            "type": "scatterpolar"
           }
          ],
          "scatterpolargl": [
           {
            "marker": {
             "colorbar": {
              "outlinewidth": 0,
              "ticks": ""
             }
            },
            "type": "scatterpolargl"
           }
          ],
          "scatterternary": [
           {
            "marker": {
             "colorbar": {
              "outlinewidth": 0,
              "ticks": ""
             }
            },
            "type": "scatterternary"
           }
          ],
          "surface": [
           {
            "colorbar": {
             "outlinewidth": 0,
             "ticks": ""
            },
            "colorscale": [
             [
              0,
              "#0d0887"
             ],
             [
              0.1111111111111111,
              "#46039f"
             ],
             [
              0.2222222222222222,
              "#7201a8"
             ],
             [
              0.3333333333333333,
              "#9c179e"
             ],
             [
              0.4444444444444444,
              "#bd3786"
             ],
             [
              0.5555555555555556,
              "#d8576b"
             ],
             [
              0.6666666666666666,
              "#ed7953"
             ],
             [
              0.7777777777777778,
              "#fb9f3a"
             ],
             [
              0.8888888888888888,
              "#fdca26"
             ],
             [
              1,
              "#f0f921"
             ]
            ],
            "type": "surface"
           }
          ],
          "table": [
           {
            "cells": {
             "fill": {
              "color": "#EBF0F8"
             },
             "line": {
              "color": "white"
             }
            },
            "header": {
             "fill": {
              "color": "#C8D4E3"
             },
             "line": {
              "color": "white"
             }
            },
            "type": "table"
           }
          ]
         },
         "layout": {
          "annotationdefaults": {
           "arrowcolor": "#2a3f5f",
           "arrowhead": 0,
           "arrowwidth": 1
          },
          "coloraxis": {
           "colorbar": {
            "outlinewidth": 0,
            "ticks": ""
           }
          },
          "colorscale": {
           "diverging": [
            [
             0,
             "#8e0152"
            ],
            [
             0.1,
             "#c51b7d"
            ],
            [
             0.2,
             "#de77ae"
            ],
            [
             0.3,
             "#f1b6da"
            ],
            [
             0.4,
             "#fde0ef"
            ],
            [
             0.5,
             "#f7f7f7"
            ],
            [
             0.6,
             "#e6f5d0"
            ],
            [
             0.7,
             "#b8e186"
            ],
            [
             0.8,
             "#7fbc41"
            ],
            [
             0.9,
             "#4d9221"
            ],
            [
             1,
             "#276419"
            ]
           ],
           "sequential": [
            [
             0,
             "#0d0887"
            ],
            [
             0.1111111111111111,
             "#46039f"
            ],
            [
             0.2222222222222222,
             "#7201a8"
            ],
            [
             0.3333333333333333,
             "#9c179e"
            ],
            [
             0.4444444444444444,
             "#bd3786"
            ],
            [
             0.5555555555555556,
             "#d8576b"
            ],
            [
             0.6666666666666666,
             "#ed7953"
            ],
            [
             0.7777777777777778,
             "#fb9f3a"
            ],
            [
             0.8888888888888888,
             "#fdca26"
            ],
            [
             1,
             "#f0f921"
            ]
           ],
           "sequentialminus": [
            [
             0,
             "#0d0887"
            ],
            [
             0.1111111111111111,
             "#46039f"
            ],
            [
             0.2222222222222222,
             "#7201a8"
            ],
            [
             0.3333333333333333,
             "#9c179e"
            ],
            [
             0.4444444444444444,
             "#bd3786"
            ],
            [
             0.5555555555555556,
             "#d8576b"
            ],
            [
             0.6666666666666666,
             "#ed7953"
            ],
            [
             0.7777777777777778,
             "#fb9f3a"
            ],
            [
             0.8888888888888888,
             "#fdca26"
            ],
            [
             1,
             "#f0f921"
            ]
           ]
          },
          "colorway": [
           "#636efa",
           "#EF553B",
           "#00cc96",
           "#ab63fa",
           "#FFA15A",
           "#19d3f3",
           "#FF6692",
           "#B6E880",
           "#FF97FF",
           "#FECB52"
          ],
          "font": {
           "color": "#2a3f5f"
          },
          "geo": {
           "bgcolor": "white",
           "lakecolor": "white",
           "landcolor": "#E5ECF6",
           "showlakes": true,
           "showland": true,
           "subunitcolor": "white"
          },
          "hoverlabel": {
           "align": "left"
          },
          "hovermode": "closest",
          "mapbox": {
           "style": "light"
          },
          "paper_bgcolor": "white",
          "plot_bgcolor": "#E5ECF6",
          "polar": {
           "angularaxis": {
            "gridcolor": "white",
            "linecolor": "white",
            "ticks": ""
           },
           "bgcolor": "#E5ECF6",
           "radialaxis": {
            "gridcolor": "white",
            "linecolor": "white",
            "ticks": ""
           }
          },
          "scene": {
           "xaxis": {
            "backgroundcolor": "#E5ECF6",
            "gridcolor": "white",
            "gridwidth": 2,
            "linecolor": "white",
            "showbackground": true,
            "ticks": "",
            "zerolinecolor": "white"
           },
           "yaxis": {
            "backgroundcolor": "#E5ECF6",
            "gridcolor": "white",
            "gridwidth": 2,
            "linecolor": "white",
            "showbackground": true,
            "ticks": "",
            "zerolinecolor": "white"
           },
           "zaxis": {
            "backgroundcolor": "#E5ECF6",
            "gridcolor": "white",
            "gridwidth": 2,
            "linecolor": "white",
            "showbackground": true,
            "ticks": "",
            "zerolinecolor": "white"
           }
          },
          "shapedefaults": {
           "line": {
            "color": "#2a3f5f"
           }
          },
          "ternary": {
           "aaxis": {
            "gridcolor": "white",
            "linecolor": "white",
            "ticks": ""
           },
           "baxis": {
            "gridcolor": "white",
            "linecolor": "white",
            "ticks": ""
           },
           "bgcolor": "#E5ECF6",
           "caxis": {
            "gridcolor": "white",
            "linecolor": "white",
            "ticks": ""
           }
          },
          "title": {
           "x": 0.05
          },
          "xaxis": {
           "automargin": true,
           "gridcolor": "white",
           "linecolor": "white",
           "ticks": "",
           "title": {
            "standoff": 15
           },
           "zerolinecolor": "white",
           "zerolinewidth": 2
          },
          "yaxis": {
           "automargin": true,
           "gridcolor": "white",
           "linecolor": "white",
           "ticks": "",
           "title": {
            "standoff": 15
           },
           "zerolinecolor": "white",
           "zerolinewidth": 2
          }
         }
        },
        "xaxis": {
         "anchor": "y",
         "domain": [
          0,
          1
         ],
         "showticklabels": false,
         "title": {
          "text": "X0"
         },
         "zeroline": false
        },
        "yaxis": {
         "anchor": "x",
         "domain": [
          0,
          1
         ],
         "showticklabels": false,
         "title": {
          "text": "X1"
         },
         "zeroline": false
        }
       }
      },
      "text/html": [
       "<div>\n",
       "        \n",
       "        \n",
       "            <div id=\"d062700d-6dab-4707-a501-069b147f3972\" class=\"plotly-graph-div\" style=\"height:525px; width:100%;\"></div>\n",
       "            <script type=\"text/javascript\">\n",
       "                require([\"plotly\"], function(Plotly) {\n",
       "                    window.PLOTLYENV=window.PLOTLYENV || {};\n",
       "                    \n",
       "                if (document.getElementById(\"d062700d-6dab-4707-a501-069b147f3972\")) {\n",
       "                    Plotly.newPlot(\n",
       "                        'd062700d-6dab-4707-a501-069b147f3972',\n",
       "                        [{\"customdata\": [[\"I want to buy a minature schnauzer\"], [\"I've looked at the pictures and I'm ready to buy a puppy.\"], [\"I would like to buy a chinook\"], [\"hello, what should I do to buy a puppy?\"], [\"Can I buy a kaiken\"], [\"I want a dog\"], [\"I'm looking to buy a dog\"], [\"I'd like to buy a wolfhound\"], [\"i want to get a puppy\"], [\"Hi I'd like to buy a dog\"], [\"No I wanted a puppy.\"], [\"I want to buy a chinook\"], [\"What dog can I purchase?\"], [\"Where can I buy a dog\"], [\"Can I get a puppy?\"], [\"I need a pup\"], [\"How can I buy puppies on the internet\"], [\"Do you sell doggies\"], [\"where are the best deals on pups\"], [\"can I order a doggo online\"], [\"is it always bad to buy a dog from a farm\"], [\"Can I buy my dog on finance\"], [\"what is the right price for a pedigree lab\"], [\"is \\u00a32000 too much for a FTCH collie\"], [\"where is the puppy pricing\"], [\"Will different pups cost different prices\"], [\"i want to add a dog to the family. How much would it cost\"], [\"where should I look to find a breeder for a dog\"]], \"hoverlabel\": {\"namelength\": 0}, \"hovertemplate\": \"intent=PURCHASE_DOG<br>X0=%{x}<br>X1=%{y}<br>utterance=%{customdata[0]}\", \"legendgroup\": \"PURCHASE_DOG\", \"marker\": {\"color\": \"#2E91E5\", \"symbol\": \"circle\"}, \"mode\": \"markers\", \"name\": \"PURCHASE_DOG\", \"showlegend\": true, \"type\": \"scatter\", \"x\": [-4.462492942810059, -2.2732155323028564, -9.126518249511719, -3.3855655193328857, -7.523773193359375, -3.5442309379577637, -4.407597064971924, -5.371770858764648, -2.827409505844116, -4.339919090270996, -1.6081093549728394, -9.139042854309082, -4.796249866485596, -5.117913246154785, -2.370370388031006, -2.9864416122436523, -4.902613162994385, -6.482707500457764, -4.491170883178711, -6.213706970214844, -4.829508304595947, -6.033730983734131, -2.520745277404785, -4.279256820678711, -3.936184883117676, -3.3915114402770996, -3.1390304565429688, -5.985830307006836], \"xaxis\": \"x\", \"y\": [-1.838951826095581, -3.514660358428955, -3.0969414710998535, -3.4223084449768066, -4.597745895385742, -2.4816999435424805, -2.844054937362671, -1.7515987157821655, -2.7898311614990234, -3.2078380584716797, -2.751344919204712, -3.1021668910980225, -2.8218424320220947, -3.3956851959228516, -2.6135997772216797, -1.8733575344085693, -4.61072301864624, 1.818730354309082, -5.326899528503418, -5.047781944274902, 0.6946200132369995, -3.8632423877716064, -5.557265758514404, -0.43115031719207764, -5.627951622009277, -6.015731334686279, -4.7205376625061035, -2.686706781387329], \"yaxis\": \"y\"}, {\"customdata\": [[\"how can I check if my rescue staffy is up to date with it's injections\"], [\"I wanna get my terrier an annual set of jabs\"], [\"my hound is not overdue its last AC jab\"], [\"at what age do I not need to get my pooch jabs\"], [\"does a pedigree need different immunisations to a mutt\"], [\"I need to get some injections for my drakehead lab\"], [\"do you need to have allthe vaccinations recommended\"], [\"can I combine my dogs next check up with some vaccinations\"], [\"is it illegal to not get your dog jabs\"], [\"is there such thing as antivax for dogs\"], [\"my little dog is not coping with vaccinations\"], [\"can I book some shots for my dog\"], [\"are there any vaccinations I should give my pupper next year\"], [\"my poodle had it's first set of vaccs last week and I want to get the next set, when should I do this\"], [\"Can you vaccinate the dog so it doesn't get sick\"], [\"I want my puppy to be protected against disease\"], [\"Can you immunise the dog before I get it\"], [\"Has the pupperino had its shots\"], [\"Has my puppy had all its injections\"], [\"Is the dog fully vaccinated\"], [\"How many jabs has the puppy had\"], [\"When is the next dose due of the vaccination?\"], [\"What about vaccinations?\"], [\"Do I have to pay for the vaccinations?\"], [\"what are they vaccinated against\"], [\"do you give shots to your dogs\"], [\"Are puppies already vaccinated?\"], [\"Do you vaccinate your dogs?\"]], \"hoverlabel\": {\"namelength\": 0}, \"hovertemplate\": \"intent=DOG_VACCINATIONS<br>X0=%{x}<br>X1=%{y}<br>utterance=%{customdata[0]}\", \"legendgroup\": \"DOG_VACCINATIONS\", \"marker\": {\"color\": \"#E15F99\", \"symbol\": \"circle\"}, \"mode\": \"markers\", \"name\": \"DOG_VACCINATIONS\", \"showlegend\": true, \"type\": \"scatter\", \"x\": [-6.561270236968994, -2.2932467460632324, 1.336124300956726, 0.11524072289466858, 0.7123467922210693, 8.62447452545166, 9.358777046203613, 6.517537593841553, 4.6474223136901855, 6.9861063957214355, 5.233841419219971, 6.152842044830322, 6.1287360191345215, -1.3645342588424683, 6.764179229736328, 4.333254337310791, 4.6072540283203125, 7.88938045501709, 3.4107654094696045, 7.1592488288879395, 1.4686535596847534, 10.373515129089355, 9.993300437927246, 9.444748878479004, 10.38830852508545, 7.24218225479126, 7.789547920227051, 7.312722682952881], \"xaxis\": \"x\", \"y\": [-0.560871958732605, -0.7462493181228638, 5.776170253753662, -0.7881130576133728, -5.56193733215332, 4.325966835021973, 2.376459836959839, 1.7626934051513672, 0.3360700011253357, 2.8460261821746826, 2.3318252563476562, -0.5602431297302246, 1.2448813915252686, -0.33960601687431335, 2.2879810333251953, 1.0317128896713257, 5.760108947753906, -0.9826114773750305, 2.1795055866241455, 2.0095055103302, 0.8752241134643555, 1.1458051204681396, 1.9714306592941284, 2.710547685623169, 1.7506383657455444, -0.2282189130783081, 1.6789205074310303, 1.225501298904419], \"yaxis\": \"y\"}, {\"customdata\": [[\"my pups not very happy\"], [\"kennel cough advice\"], [\"I want to get my dog a check up urgently. He don't seem the same\"], [\"I think my dog has rabies\"], [\"my puppy has been shivering all night\"], [\"do dogs get depression\"], [\"my puppy is not like the other puppies\"], [\"I gave my pug coffee and now it looks sick\"], [\"my G.S has been diagnosed with cancer and I don't know what to do\"], [\"my pup don't look so great. What does it need\"], [\"my chow chow is not so well well\"], [\"how can i prevent my dog getting sick again\"], [\"is there any common illnesses in a dog\"], [\"my puppy is showing signs of illnes\"], [\"my dog vomitted last night\"], [\"Can the dog see properly\"], [\"Has the puppy shown any signs of sickness\"], [\"Can you tell me about the pups wellbeing\"], [\"I'm concerned about the health of the animals\"], [\"what is the health status of your puppies?\"], [\"Does the animal have fleas\"], [\"Can you tell me if the puppy is diseased\"], [\"Has the dog been ill before\"], [\"Is the puppy well?\"], [\"Does the puppy look healthy?\"], [\"Can I return the puppy if it has health issues?\"], [\"Will you tell me if the puppy has been sick?\"], [\"Was the litter sick for the puppy I want to get?\"], [\"does the puppies siblings get sick?\"]], \"hoverlabel\": {\"namelength\": 0}, \"hovertemplate\": \"intent=DOG_HEALTH<br>X0=%{x}<br>X1=%{y}<br>utterance=%{customdata[0]}\", \"legendgroup\": \"DOG_HEALTH\", \"marker\": {\"color\": \"#1CA71C\", \"symbol\": \"circle\"}, \"mode\": \"markers\", \"name\": \"DOG_HEALTH\", \"showlegend\": true, \"type\": \"scatter\", \"x\": [-0.28130632638931274, 4.393706321716309, 3.008085250854492, 3.06475567817688, 2.590972661972046, 6.612124919891357, 0.6181357502937317, 0.3945891261100769, 9.637497901916504, -0.8964172601699829, -1.4737577438354492, 4.230849742889404, 6.496769905090332, 1.7477504014968872, 2.2171342372894287, 5.473934173583984, 2.6325225830078125, 3.029778242111206, -0.8744650483131409, 3.1355061531066895, 9.70748519897461, 3.001255512237549, 4.165524482727051, 0.5165273547172546, 0.24513138830661774, 3.389439344406128, 2.9124343395233154, 2.3771495819091797, 3.2994096279144287], \"xaxis\": \"x\", \"y\": [2.456871509552002, 3.3586208820343018, 2.8525702953338623, 4.232660293579102, 3.7655527591705322, 4.616068363189697, 2.0772762298583984, 4.115227699279785, 4.885340690612793, 2.513672113418579, 4.738431453704834, 3.6600921154022217, 3.9604625701904297, 3.1021311283111572, 4.303910255432129, 5.127954959869385, 1.8526161909103394, -2.85921049118042, -9.276019096374512, -2.593989610671997, -0.7525159120559692, 1.107909083366394, 5.542994499206543, 0.7799974083900452, 0.9671012759208679, 0.3205716907978058, 1.4102916717529297, -0.07941961288452148, -1.2483408451080322], \"yaxis\": \"y\"}, {\"customdata\": [[\"I need to check the validity of my puppies mum's KCC register\"], [\"Can I come in and look at the puppies with the mother?\"], [\"Can I interview the parents?\"], [\"how old is the mother?\"], [\"Can look at the parents beforehand?\"], [\"Does the mother get on well with children\"], [\"Is the puppy's mum still weaning it\"], [\"Has the bitch been vaccinated\"], [\"Is this the mother's first litter\"], [\"Who's the puppy's father\"], [\"Is the father pedigree\"], [\"are the labradoodles F1 or F2\"], [\"I want to know more about their parenting\"], [\"are they bred from a puppy farm or is the mother a family pet\"], [\"where can I research my dogs ancestry\"], [\"If both parents are pedigree, does my doggo become pedigree\"], [\"is it a warning sign if I can't meet the parents\"], [\"Is the dad a FTCH\"], [\"How do I know if the mum has any EC titles\"], [\"how long does the mum wean her pups\"], [\"can I meet the father\"], [\"is the dad a wirecoat or softcoat fox terrier\"], [\"whre can I check if my dogs parentals have bred before\"], [\"what are signs the mater is not good\"]], \"hoverlabel\": {\"namelength\": 0}, \"hovertemplate\": \"intent=DOG_PARENTS_INFORMATION<br>X0=%{x}<br>X1=%{y}<br>utterance=%{customdata[0]}\", \"legendgroup\": \"DOG_PARENTS_INFORMATION\", \"marker\": {\"color\": \"#FB0D0D\", \"symbol\": \"circle\"}, \"mode\": \"markers\", \"name\": \"DOG_PARENTS_INFORMATION\", \"showlegend\": true, \"type\": \"scatter\", \"x\": [1.871373176574707, 1.0121526718139648, 7.598577976226807, 3.5789034366607666, 7.724117755889893, 6.370378017425537, 0.9934797883033752, 8.847246170043945, 3.0824835300445557, 2.5685675144195557, 3.854006052017212, 0.9587897062301636, 7.003781795501709, 1.9727259874343872, -6.768150329589844, 1.3469245433807373, 8.12479305267334, 4.419137001037598, 6.072783946990967, 0.8452668190002441, 4.9438629150390625, 2.3072710037231445, 1.4195586442947388, 9.070982933044434], \"xaxis\": \"x\", \"y\": [-2.326201915740967, -3.38936185836792, -6.368773937225342, -8.131956100463867, -6.0886549949646, -6.414219856262207, -1.149678111076355, 1.2781381607055664, -4.574959754943848, -6.692706108093262, -6.728456974029541, -7.082388877868652, -6.191596508026123, -5.497672080993652, -2.393040657043457, -5.8343305587768555, -5.7148027420043945, -6.908055305480957, -4.5583271980285645, -1.2099932432174683, -6.995114326477051, -6.7390360832214355, -2.8806118965148926, -4.855223655700684], \"yaxis\": \"y\"}, {\"customdata\": [[\"can my puppy eat human food\"], [\"can my puppy eat adult food\"], [\"do you sell dog food\"], [\"I have just got a litter of puppies and don't know if I can feed them anything but milk\"], [\"do dogs eat chicken\"], [\"Do I always need to buy my dog the same food\"], [\"What is a good serving to give a dog\"], [\"is any dog food bad for a dogs teeth?\"], [\"can I put gravy on my dogs food\"], [\"is dry food bad for dogs\"], [\"can my dog have wet food\"], [\"can I mix my dogs food\"], [\"how often should I feed my dog\"], [\"what dog food do you sell\"], [\"do dogs taste food like humans taste food\"], [\"Can dogs eat people food\"], [\"Is meat okay for dogs three times a day\"], [\"Can dogs have canned food for lunch\"], [\"Can pups eat normal meat\"], [\"Is tinned dog food okay for puppies\"], [\"What do puppies like to eat\"], [\"I don't know what dogs eat\"], [\"That's good to know. Does the food taste nice?\"], [\"What food do you sell\"], [\"What food do you have?\"], [\"What sort of food do I need to get to keep the puppy happy?\"], [\"is it bad to feed my mutt leftovers\"]], \"hoverlabel\": {\"namelength\": 0}, \"hovertemplate\": \"intent=DOG_FOOD<br>X0=%{x}<br>X1=%{y}<br>utterance=%{customdata[0]}\", \"legendgroup\": \"DOG_FOOD\", \"marker\": {\"color\": \"#DA16FF\", \"symbol\": \"circle\"}, \"mode\": \"markers\", \"name\": \"DOG_FOOD\", \"showlegend\": true, \"type\": \"scatter\", \"x\": [-3.2700717449188232, -2.9727747440338135, -6.247041702270508, 0.2855938971042633, -4.461638927459717, -4.8911614418029785, -3.339468240737915, -2.9964077472686768, -4.662087917327881, -3.2905678749084473, -3.610874652862549, -4.016083717346191, -1.3500783443450928, -6.460752964019775, -5.299837589263916, -4.529331207275391, -2.125966787338257, -4.614143371582031, -3.6429572105407715, -2.9576914310455322, -3.17937970161438, -3.006101131439209, -6.282658100128174, -7.694587707519531, -7.745304107666016, -3.2166147232055664, -1.9795068502426147], \"xaxis\": \"x\", \"y\": [6.303381443023682, 6.194218635559082, 2.98673152923584, -3.5486483573913574, 8.083036422729492, 4.084360122680664, 2.946561336517334, 7.849603176116943, 5.850125312805176, 7.216184139251709, 6.546558380126953, 5.894410133361816, 7.702881336212158, 3.3144590854644775, 7.955334663391113, 7.364038467407227, 7.654122829437256, 6.81038236618042, 8.736005783081055, 7.301392555236816, 4.261430263519287, 4.593170642852783, 8.164743423461914, 4.466306686401367, 4.632198810577393, 3.4270269870758057, 6.720762252807617], \"yaxis\": \"y\"}],\n",
       "                        {\"legend\": {\"title\": {\"text\": \"intent\"}, \"tracegroupgap\": 0}, \"margin\": {\"t\": 60}, \"template\": {\"data\": {\"bar\": [{\"error_x\": {\"color\": \"#2a3f5f\"}, \"error_y\": {\"color\": \"#2a3f5f\"}, \"marker\": {\"line\": {\"color\": \"#E5ECF6\", \"width\": 0.5}}, \"type\": \"bar\"}], \"barpolar\": [{\"marker\": {\"line\": {\"color\": \"#E5ECF6\", \"width\": 0.5}}, \"type\": \"barpolar\"}], \"carpet\": [{\"aaxis\": {\"endlinecolor\": \"#2a3f5f\", \"gridcolor\": \"white\", \"linecolor\": \"white\", \"minorgridcolor\": \"white\", \"startlinecolor\": \"#2a3f5f\"}, \"baxis\": {\"endlinecolor\": \"#2a3f5f\", \"gridcolor\": \"white\", \"linecolor\": \"white\", \"minorgridcolor\": \"white\", \"startlinecolor\": \"#2a3f5f\"}, \"type\": \"carpet\"}], \"choropleth\": [{\"colorbar\": {\"outlinewidth\": 0, \"ticks\": \"\"}, \"type\": \"choropleth\"}], \"contour\": [{\"colorbar\": {\"outlinewidth\": 0, \"ticks\": \"\"}, \"colorscale\": [[0.0, \"#0d0887\"], [0.1111111111111111, \"#46039f\"], [0.2222222222222222, \"#7201a8\"], [0.3333333333333333, \"#9c179e\"], [0.4444444444444444, \"#bd3786\"], [0.5555555555555556, \"#d8576b\"], [0.6666666666666666, \"#ed7953\"], [0.7777777777777778, \"#fb9f3a\"], [0.8888888888888888, \"#fdca26\"], [1.0, \"#f0f921\"]], \"type\": \"contour\"}], \"contourcarpet\": [{\"colorbar\": {\"outlinewidth\": 0, \"ticks\": \"\"}, \"type\": \"contourcarpet\"}], \"heatmap\": [{\"colorbar\": {\"outlinewidth\": 0, \"ticks\": \"\"}, \"colorscale\": [[0.0, \"#0d0887\"], [0.1111111111111111, \"#46039f\"], [0.2222222222222222, \"#7201a8\"], [0.3333333333333333, \"#9c179e\"], [0.4444444444444444, \"#bd3786\"], [0.5555555555555556, \"#d8576b\"], [0.6666666666666666, \"#ed7953\"], [0.7777777777777778, \"#fb9f3a\"], [0.8888888888888888, \"#fdca26\"], [1.0, \"#f0f921\"]], \"type\": \"heatmap\"}], \"heatmapgl\": [{\"colorbar\": {\"outlinewidth\": 0, \"ticks\": \"\"}, \"colorscale\": [[0.0, \"#0d0887\"], [0.1111111111111111, \"#46039f\"], [0.2222222222222222, \"#7201a8\"], [0.3333333333333333, \"#9c179e\"], [0.4444444444444444, \"#bd3786\"], [0.5555555555555556, \"#d8576b\"], [0.6666666666666666, \"#ed7953\"], [0.7777777777777778, \"#fb9f3a\"], [0.8888888888888888, \"#fdca26\"], [1.0, \"#f0f921\"]], \"type\": \"heatmapgl\"}], \"histogram\": [{\"marker\": {\"colorbar\": {\"outlinewidth\": 0, \"ticks\": \"\"}}, \"type\": \"histogram\"}], \"histogram2d\": [{\"colorbar\": {\"outlinewidth\": 0, \"ticks\": \"\"}, \"colorscale\": [[0.0, \"#0d0887\"], [0.1111111111111111, \"#46039f\"], [0.2222222222222222, \"#7201a8\"], [0.3333333333333333, \"#9c179e\"], [0.4444444444444444, \"#bd3786\"], [0.5555555555555556, \"#d8576b\"], [0.6666666666666666, \"#ed7953\"], [0.7777777777777778, \"#fb9f3a\"], [0.8888888888888888, \"#fdca26\"], [1.0, \"#f0f921\"]], \"type\": \"histogram2d\"}], \"histogram2dcontour\": [{\"colorbar\": {\"outlinewidth\": 0, \"ticks\": \"\"}, \"colorscale\": [[0.0, \"#0d0887\"], [0.1111111111111111, \"#46039f\"], [0.2222222222222222, \"#7201a8\"], [0.3333333333333333, \"#9c179e\"], [0.4444444444444444, \"#bd3786\"], [0.5555555555555556, \"#d8576b\"], [0.6666666666666666, \"#ed7953\"], [0.7777777777777778, \"#fb9f3a\"], [0.8888888888888888, \"#fdca26\"], [1.0, \"#f0f921\"]], \"type\": \"histogram2dcontour\"}], \"mesh3d\": [{\"colorbar\": {\"outlinewidth\": 0, \"ticks\": \"\"}, \"type\": \"mesh3d\"}], \"parcoords\": [{\"line\": {\"colorbar\": {\"outlinewidth\": 0, \"ticks\": \"\"}}, \"type\": \"parcoords\"}], \"pie\": [{\"automargin\": true, \"type\": \"pie\"}], \"scatter\": [{\"marker\": {\"colorbar\": {\"outlinewidth\": 0, \"ticks\": \"\"}}, \"type\": \"scatter\"}], \"scatter3d\": [{\"line\": {\"colorbar\": {\"outlinewidth\": 0, \"ticks\": \"\"}}, \"marker\": {\"colorbar\": {\"outlinewidth\": 0, \"ticks\": \"\"}}, \"type\": \"scatter3d\"}], \"scattercarpet\": [{\"marker\": {\"colorbar\": {\"outlinewidth\": 0, \"ticks\": \"\"}}, \"type\": \"scattercarpet\"}], \"scattergeo\": [{\"marker\": {\"colorbar\": {\"outlinewidth\": 0, \"ticks\": \"\"}}, \"type\": \"scattergeo\"}], \"scattergl\": [{\"marker\": {\"colorbar\": {\"outlinewidth\": 0, \"ticks\": \"\"}}, \"type\": \"scattergl\"}], \"scattermapbox\": [{\"marker\": {\"colorbar\": {\"outlinewidth\": 0, \"ticks\": \"\"}}, \"type\": \"scattermapbox\"}], \"scatterpolar\": [{\"marker\": {\"colorbar\": {\"outlinewidth\": 0, \"ticks\": \"\"}}, \"type\": \"scatterpolar\"}], \"scatterpolargl\": [{\"marker\": {\"colorbar\": {\"outlinewidth\": 0, \"ticks\": \"\"}}, \"type\": \"scatterpolargl\"}], \"scatterternary\": [{\"marker\": {\"colorbar\": {\"outlinewidth\": 0, \"ticks\": \"\"}}, \"type\": \"scatterternary\"}], \"surface\": [{\"colorbar\": {\"outlinewidth\": 0, \"ticks\": \"\"}, \"colorscale\": [[0.0, \"#0d0887\"], [0.1111111111111111, \"#46039f\"], [0.2222222222222222, \"#7201a8\"], [0.3333333333333333, \"#9c179e\"], [0.4444444444444444, \"#bd3786\"], [0.5555555555555556, \"#d8576b\"], [0.6666666666666666, \"#ed7953\"], [0.7777777777777778, \"#fb9f3a\"], [0.8888888888888888, \"#fdca26\"], [1.0, \"#f0f921\"]], \"type\": \"surface\"}], \"table\": [{\"cells\": {\"fill\": {\"color\": \"#EBF0F8\"}, \"line\": {\"color\": \"white\"}}, \"header\": {\"fill\": {\"color\": \"#C8D4E3\"}, \"line\": {\"color\": \"white\"}}, \"type\": \"table\"}]}, \"layout\": {\"annotationdefaults\": {\"arrowcolor\": \"#2a3f5f\", \"arrowhead\": 0, \"arrowwidth\": 1}, \"coloraxis\": {\"colorbar\": {\"outlinewidth\": 0, \"ticks\": \"\"}}, \"colorscale\": {\"diverging\": [[0, \"#8e0152\"], [0.1, \"#c51b7d\"], [0.2, \"#de77ae\"], [0.3, \"#f1b6da\"], [0.4, \"#fde0ef\"], [0.5, \"#f7f7f7\"], [0.6, \"#e6f5d0\"], [0.7, \"#b8e186\"], [0.8, \"#7fbc41\"], [0.9, \"#4d9221\"], [1, \"#276419\"]], \"sequential\": [[0.0, \"#0d0887\"], [0.1111111111111111, \"#46039f\"], [0.2222222222222222, \"#7201a8\"], [0.3333333333333333, \"#9c179e\"], [0.4444444444444444, \"#bd3786\"], [0.5555555555555556, \"#d8576b\"], [0.6666666666666666, \"#ed7953\"], [0.7777777777777778, \"#fb9f3a\"], [0.8888888888888888, \"#fdca26\"], [1.0, \"#f0f921\"]], \"sequentialminus\": [[0.0, \"#0d0887\"], [0.1111111111111111, \"#46039f\"], [0.2222222222222222, \"#7201a8\"], [0.3333333333333333, \"#9c179e\"], [0.4444444444444444, \"#bd3786\"], [0.5555555555555556, \"#d8576b\"], [0.6666666666666666, \"#ed7953\"], [0.7777777777777778, \"#fb9f3a\"], [0.8888888888888888, \"#fdca26\"], [1.0, \"#f0f921\"]]}, \"colorway\": [\"#636efa\", \"#EF553B\", \"#00cc96\", \"#ab63fa\", \"#FFA15A\", \"#19d3f3\", \"#FF6692\", \"#B6E880\", \"#FF97FF\", \"#FECB52\"], \"font\": {\"color\": \"#2a3f5f\"}, \"geo\": {\"bgcolor\": \"white\", \"lakecolor\": \"white\", \"landcolor\": \"#E5ECF6\", \"showlakes\": true, \"showland\": true, \"subunitcolor\": \"white\"}, \"hoverlabel\": {\"align\": \"left\"}, \"hovermode\": \"closest\", \"mapbox\": {\"style\": \"light\"}, \"paper_bgcolor\": \"white\", \"plot_bgcolor\": \"#E5ECF6\", \"polar\": {\"angularaxis\": {\"gridcolor\": \"white\", \"linecolor\": \"white\", \"ticks\": \"\"}, \"bgcolor\": \"#E5ECF6\", \"radialaxis\": {\"gridcolor\": \"white\", \"linecolor\": \"white\", \"ticks\": \"\"}}, \"scene\": {\"xaxis\": {\"backgroundcolor\": \"#E5ECF6\", \"gridcolor\": \"white\", \"gridwidth\": 2, \"linecolor\": \"white\", \"showbackground\": true, \"ticks\": \"\", \"zerolinecolor\": \"white\"}, \"yaxis\": {\"backgroundcolor\": \"#E5ECF6\", \"gridcolor\": \"white\", \"gridwidth\": 2, \"linecolor\": \"white\", \"showbackground\": true, \"ticks\": \"\", \"zerolinecolor\": \"white\"}, \"zaxis\": {\"backgroundcolor\": \"#E5ECF6\", \"gridcolor\": \"white\", \"gridwidth\": 2, \"linecolor\": \"white\", \"showbackground\": true, \"ticks\": \"\", \"zerolinecolor\": \"white\"}}, \"shapedefaults\": {\"line\": {\"color\": \"#2a3f5f\"}}, \"ternary\": {\"aaxis\": {\"gridcolor\": \"white\", \"linecolor\": \"white\", \"ticks\": \"\"}, \"baxis\": {\"gridcolor\": \"white\", \"linecolor\": \"white\", \"ticks\": \"\"}, \"bgcolor\": \"#E5ECF6\", \"caxis\": {\"gridcolor\": \"white\", \"linecolor\": \"white\", \"ticks\": \"\"}}, \"title\": {\"x\": 0.05}, \"xaxis\": {\"automargin\": true, \"gridcolor\": \"white\", \"linecolor\": \"white\", \"ticks\": \"\", \"title\": {\"standoff\": 15}, \"zerolinecolor\": \"white\", \"zerolinewidth\": 2}, \"yaxis\": {\"automargin\": true, \"gridcolor\": \"white\", \"linecolor\": \"white\", \"ticks\": \"\", \"title\": {\"standoff\": 15}, \"zerolinecolor\": \"white\", \"zerolinewidth\": 2}}}, \"xaxis\": {\"anchor\": \"y\", \"domain\": [0.0, 1.0], \"showticklabels\": false, \"title\": {\"text\": \"X0\"}, \"zeroline\": false}, \"yaxis\": {\"anchor\": \"x\", \"domain\": [0.0, 1.0], \"showticklabels\": false, \"title\": {\"text\": \"X1\"}, \"zeroline\": false}},\n",
       "                        {\"responsive\": true}\n",
       "                    ).then(function(){\n",
       "                            \n",
       "var gd = document.getElementById('d062700d-6dab-4707-a501-069b147f3972');\n",
       "var x = new MutationObserver(function (mutations, observer) {{\n",
       "        var display = window.getComputedStyle(gd).display;\n",
       "        if (!display || display === 'none') {{\n",
       "            console.log([gd, 'removed!']);\n",
       "            Plotly.purge(gd);\n",
       "            observer.disconnect();\n",
       "        }}\n",
       "}});\n",
       "\n",
       "// Listen for the removal of the full notebook cells\n",
       "var notebookContainer = gd.closest('#notebook-container');\n",
       "if (notebookContainer) {{\n",
       "    x.observe(notebookContainer, {childList: true});\n",
       "}}\n",
       "\n",
       "// Listen for the clearing of the current output cell\n",
       "var outputEl = gd.closest('.output');\n",
       "if (outputEl) {{\n",
       "    x.observe(outputEl, {childList: true});\n",
       "}}\n",
       "\n",
       "                        })\n",
       "                };\n",
       "                });\n",
       "            </script>\n",
       "        </div>"
      ]
     },
     "metadata": {},
     "output_type": "display_data"
    }
   ],
   "source": [
    "def plot_embeddings_pex(df):\n",
    "    fig = px.scatter(df, x='X0', y='X1', color='intent', hover_data=['utterance'],\n",
    "                    color_discrete_sequence=px.colors.qualitative.Dark24,\n",
    "                    )\n",
    "    fig.update_xaxes(showticklabels=False, zeroline=False)\n",
    "    fig.update_yaxes(showticklabels=False, zeroline=False)\n",
    "    fig.show()\n",
    "    \n",
    "plot_embeddings_pex(df)"
   ]
  },
  {
   "cell_type": "code",
   "execution_count": null,
   "metadata": {},
   "outputs": [],
   "source": []
  }
 ],
 "metadata": {
  "hide_input": false,
  "kernelspec": {
   "display_name": "Python 3",
   "language": "python",
   "name": "python3"
  },
  "language_info": {
   "codemirror_mode": {
    "name": "ipython",
    "version": 3
   },
   "file_extension": ".py",
   "mimetype": "text/x-python",
   "name": "python",
   "nbconvert_exporter": "python",
   "pygments_lexer": "ipython3",
   "version": "3.7.0"
  },
  "toc": {
   "base_numbering": 1,
   "nav_menu": {},
   "number_sections": true,
   "sideBar": true,
   "skip_h1_title": false,
   "title_cell": "Table of Contents",
   "title_sidebar": "Contents",
   "toc_cell": false,
   "toc_position": {},
   "toc_section_display": true,
   "toc_window_display": false
  }
 },
 "nbformat": 4,
 "nbformat_minor": 4
}
