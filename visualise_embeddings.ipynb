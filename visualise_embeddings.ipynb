{
 "cells": [
  {
   "cell_type": "code",
   "execution_count": null,
   "metadata": {
    "scrolled": true
   },
   "outputs": [],
   "source": [
    "# RUN THE FIRST TIME YOU RUN THIS NOTEBOOK\n",
    "!pip install plotly==4.5.0\n",
    "!pip install scikit-learn==0.22.1\n",
    "!pip install git+https://github.ibm.com/Kalyan-Dutia/encoders"
   ]
  },
  {
   "cell_type": "markdown",
   "metadata": {},
   "source": [
    "# Visualise Embeddings\n",
    "A tool to let you visualise sentence embeddings of all utterances in your training set. \n",
    "\n",
    "These will give you **visual clues as to how an intent classifier understands and separates utterances**."
   ]
  },
  {
   "cell_type": "code",
   "execution_count": null,
   "metadata": {},
   "outputs": [],
   "source": [
    "# ADD FILENAME HERE (relative to data folder)\n",
    "# the file should be a CSV with columns utterance, intent; no header row\n",
    "filename = \"workspace_training/puppy_questions.csv\""
   ]
  },
  {
   "cell_type": "code",
   "execution_count": null,
   "metadata": {},
   "outputs": [],
   "source": [
    "# external\n",
    "import pandas as pd\n",
    "import matplotlib.pyplot as plt\n",
    "from sklearn.manifold import TSNE\n",
    "import plotly.express as px\n",
    "from encoders import encoders\n",
    "\n",
    "import sys\n",
    "import os\n",
    "\n",
    "sys.path.append('..')\n",
    "\n",
    "# internal\n",
    "import config\n",
    "\n",
    "pd.set_option('max_colwidth', -1)"
   ]
  },
  {
   "cell_type": "code",
   "execution_count": null,
   "metadata": {},
   "outputs": [],
   "source": [
    "df = pd.read_csv(os.path.join(config.data_dir, filename), header=None, names=['utterance', 'intent'])\n",
    "\n",
    "df.head()"
   ]
  },
  {
   "cell_type": "code",
   "execution_count": null,
   "metadata": {
    "scrolled": true
   },
   "outputs": [],
   "source": [
    "# get embeddings\n",
    "embeddings = encoders(df['utterance'].tolist())\n",
    "df['embedding'] = [item for item in embeddings]\n",
    "\n",
    "# project to 2D using T-SNE\n",
    "# notes on using T-SNE effectively: https://distill.pub/2016/misread-tsne/\n",
    "embeddings_2d = TSNE(n_components=2).fit_transform(df['embedding'].tolist())\n",
    "df['X0'] = embeddings_2d[:,0]\n",
    "df['X1'] = embeddings_2d[:,1]"
   ]
  },
  {
   "cell_type": "code",
   "execution_count": null,
   "metadata": {},
   "outputs": [],
   "source": [
    "def plot_embeddings_pex(df):\n",
    "    fig = px.scatter(df, x='X0', y='X1', color='intent', hover_data=['utterance'],\n",
    "                    color_discrete_sequence=px.colors.qualitative.Dark24,\n",
    "                    )\n",
    "    fig.update_xaxes(showticklabels=False, zeroline=False)\n",
    "    fig.update_yaxes(showticklabels=False, zeroline=False)\n",
    "    fig.show()\n",
    "    \n",
    "plot_embeddings_pex(df)"
   ]
  },
  {
   "cell_type": "code",
   "execution_count": null,
   "metadata": {},
   "outputs": [],
   "source": []
  }
 ],
 "metadata": {
  "hide_input": false,
  "kernelspec": {
   "display_name": "Python 3",
   "language": "python",
   "name": "python3"
  },
  "language_info": {
   "codemirror_mode": {
    "name": "ipython",
    "version": 3
   },
   "file_extension": ".py",
   "mimetype": "text/x-python",
   "name": "python",
   "nbconvert_exporter": "python",
   "pygments_lexer": "ipython3",
   "version": "3.7.0"
  },
  "toc": {
   "base_numbering": 1,
   "nav_menu": {},
   "number_sections": true,
   "sideBar": true,
   "skip_h1_title": false,
   "title_cell": "Table of Contents",
   "title_sidebar": "Contents",
   "toc_cell": false,
   "toc_position": {},
   "toc_section_display": true,
   "toc_window_display": false
  }
 },
 "nbformat": 4,
 "nbformat_minor": 4
}