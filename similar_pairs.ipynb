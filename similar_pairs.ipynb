{
 "cells": [
  {
   "cell_type": "code",
   "execution_count": null,
   "metadata": {},
   "outputs": [],
   "source": [
    "!pip install git+https://github.ibm.com/Kalyan-Dutia/encoders\n",
    "!pip install scikit-learn\n",
    "!pip install pandas\n",
    "!pip install numpy"
   ]
  },
  {
   "cell_type": "markdown",
   "metadata": {},
   "source": [
    "# Finding Similar Utterance Pairs / Identifying Mislabeled Utterances\n",
    "This notebook shows how you can use the sentence vectors produced by the *encoders* library to find similar pairs of utterances.\n",
    "\n",
    "At a high level this works in exactly the same way at the Watson Assistant feature. The main difference is likely to be a slightly different *encoder* used to transform utterances into vectors. "
   ]
  },
  {
   "cell_type": "code",
   "execution_count": null,
   "metadata": {},
   "outputs": [],
   "source": [
    "from encoders import encoders\n",
    "from sklearn.metrics.pairwise import cosine_similarity\n",
    "import numpy as np\n",
    "import pandas as pd\n",
    "import os\n",
    "\n",
    "import config"
   ]
  },
  {
   "cell_type": "code",
   "execution_count": null,
   "metadata": {},
   "outputs": [],
   "source": [
    "# ADD FILENAME HERE (relative to data folder)\n",
    "# the file should be a CSV with columns utterance, intent; no header row\n",
    "filename = \"workspace_training/puppy_questions.csv\""
   ]
  },
  {
   "cell_type": "markdown",
   "metadata": {},
   "source": [
    "(note that we can get a similarity matrix from utterances in two lines of code: everything after `similarity_mat` is just producing the output of utterances that are similar)"
   ]
  },
  {
   "cell_type": "code",
   "execution_count": null,
   "metadata": {},
   "outputs": [],
   "source": [
    "def find_similar_pairs(df, diff_intents=True, threshold=0.8):\n",
    "    \"\"\"\n",
    "    Given a dataframe with `utterance, intent` columns, returns a dataframe with all pairs of utterances with a similarity above the threshold.\n",
    "    With diff_intents=True this becomes a function for identifying potentially mislabelled utterances - those which are similar, but have different intent labels.\n",
    "\n",
    "    :param df: dataframe containing `utterance, intent` columns \n",
    "    :param diff_intents: whether to only return similar utterances which have different intent labels\n",
    "    :param threshold: the minimum similarity of utterance pairs to return\n",
    "    \"\"\"\n",
    "    print(\"Creating embedding matrix..\")\n",
    "    embedding_mat = encoders(df['utterance'].tolist())\n",
    "\n",
    "    print(\"Finding similar pairs...\")\n",
    "    similarity_mat = cosine_similarity(embedding_mat)\n",
    "\n",
    "    similar_pairs = np.where(similarity_mat > threshold)\n",
    "    utterances_from_idx_pair = lambda x: (df.loc[x[0], :], df.loc[x[1], :])\n",
    "    sim_but_not_same_pairs = [a for a in zip(similar_pairs[0], similar_pairs[1]) if a[0]!=a[1]]\n",
    "    # remove duplicates with convoluted list(set())\n",
    "    sim_but_not_same_pairs = list(set([tuple(sorted(i)) for i in sim_but_not_same_pairs]))\n",
    "\n",
    "    sim_df = pd.DataFrame(columns=['utterance 1', 'intent 1', 'utterance 2', 'intent 2', 'similarity'])\n",
    "    for p in sim_but_not_same_pairs:\n",
    "        series = {\n",
    "            'utterance 1': df.loc[p[0], 'utterance'],\n",
    "            'intent 1': df.loc[p[0], 'intent'],\n",
    "            'utterance 2': df.loc[p[1], 'utterance'],\n",
    "            'intent 2': df.loc[p[1], 'intent'],\n",
    "            'similarity': similarity_mat[p[0]][p[1]]\n",
    "        }\n",
    "\n",
    "        sim_df = sim_df.append(series, ignore_index=True)\n",
    "        \n",
    "    if diff_intents:\n",
    "        sim_df = sim_df[sim_df['intent 1'] != sim_df['intent 2']]\n",
    "    \n",
    "    return sim_df.sort_values('similarity', ascending=False)\n",
    "    "
   ]
  },
  {
   "cell_type": "code",
   "execution_count": null,
   "metadata": {},
   "outputs": [],
   "source": [
    "df = pd.read_csv(os.path.join(config.data_dir, filename), header=None, names=['utterance', 'intent'])\n",
    "sim_df = find_similar_pairs(df, diff_intents=False, threshold=0.8)"
   ]
  },
  {
   "cell_type": "code",
   "execution_count": null,
   "metadata": {},
   "outputs": [],
   "source": [
    "sim_df"
   ]
  },
  {
   "cell_type": "code",
   "execution_count": null,
   "metadata": {},
   "outputs": [],
   "source": []
  }
 ],
 "metadata": {
  "kernelspec": {
   "display_name": "Python 3",
   "language": "python",
   "name": "python3"
  },
  "language_info": {
   "codemirror_mode": {
    "name": "ipython",
    "version": 3
   },
   "file_extension": ".py",
   "mimetype": "text/x-python",
   "name": "python",
   "nbconvert_exporter": "python",
   "pygments_lexer": "ipython3",
   "version": "3.7.0"
  }
 },
 "nbformat": 4,
 "nbformat_minor": 4
}