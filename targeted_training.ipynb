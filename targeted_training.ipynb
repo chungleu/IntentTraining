{
 "cells": [
  {
   "cell_type": "markdown",
   "metadata": {},
   "source": [
    "# Targeted Training Notebook\n",
    "A practical guide to the targeted training process. \n",
    "\n",
    "**Author:** Kalyan Dutia (kalyan.dutia@ibm.com)"
   ]
  },
  {
   "cell_type": "markdown",
   "metadata": {},
   "source": [
    "Here we assume that you **already have your intents downloaded, in the `data/workspace_training` folder.** If you don't, you can manually download them or use the tool contained in the exploratory analysis notebook."
   ]
  },
  {
   "cell_type": "code",
   "execution_count": null,
   "metadata": {},
   "outputs": [],
   "source": [
    "# installs\n",
    "!pip install watson_developer_cloud==2.0.1\n",
    "!pip install itables"
   ]
  },
  {
   "cell_type": "code",
   "execution_count": 1,
   "metadata": {},
   "outputs": [
    {
     "data": {
      "application/javascript": [
       "require.config({\n",
       "    paths: {\n",
       "        datatables: 'https://cdn.datatables.net/1.10.19/js/jquery.dataTables.min',\n",
       "    }\n",
       "});\n",
       "\n",
       "$('head').append('<link rel=\"stylesheet\" type=\"text/css\"                 href = \"https://cdn.datatables.net/1.10.19/css/jquery.dataTables.min.css\" > ');\n",
       "\n",
       "$('head').append('<style> table td { text-overflow: ellipsis; overflow: hidden; } </style>');\n"
      ],
      "text/plain": [
       "<IPython.core.display.Javascript object>"
      ]
     },
     "metadata": {},
     "output_type": "display_data"
    }
   ],
   "source": [
    "# external imports\n",
    "import os\n",
    "from IPython.display import display, Markdown, clear_output\n",
    "import ipywidgets as widgets\n",
    "import pandas as pd\n",
    "import numpy as np\n",
    "import seaborn as sns\n",
    "from itables import show\n",
    "import logging\n",
    "import time\n",
    "import matplotlib.pyplot as plt\n",
    "\n",
    "# internal imports\n",
    "import config\n",
    "from cli_tools.get_intent_intersections import intent_intersections\n",
    "from conversation_test.kfoldtest import kfoldtest\n",
    "\n",
    "# config\n",
    "sns.set_style(\"whitegrid\")\n",
    "sns.set_context(\"notebook\")\n",
    "pd.set_option('display.max_colwidth', -1)\n",
    "\n",
    "logging.getLogger(\"requests\").setLevel(logging.WARNING)\n",
    "logging.getLogger(\"urllib3.connectionpool\").setLevel(logging.WARNING)\n"
   ]
  },
  {
   "cell_type": "markdown",
   "metadata": {},
   "source": [
    "## Load a skill\n",
    "If you can't see your skill here, check the `data/workspace_training` folder."
   ]
  },
  {
   "cell_type": "code",
   "execution_count": 28,
   "metadata": {},
   "outputs": [
    {
     "data": {
      "application/vnd.jupyter.widget-view+json": {
       "model_id": "31ac0178749b4a15a5ec41332b023990",
       "version_major": 2,
       "version_minor": 0
      },
      "text/plain": [
       "Dropdown(options=('puppy', 'Customer Care Sample Skill'), value='puppy')"
      ]
     },
     "metadata": {},
     "output_type": "display_data"
    },
    {
     "data": {
      "text/markdown": [
       "**<span style='color:blue'>puppy</span>** skill selected. Training data sample:"
      ],
      "text/plain": [
       "<IPython.core.display.Markdown object>"
      ]
     },
     "metadata": {},
     "output_type": "display_data"
    },
    {
     "data": {
      "text/html": [
       "<div>\n",
       "<style scoped>\n",
       "    .dataframe tbody tr th:only-of-type {\n",
       "        vertical-align: middle;\n",
       "    }\n",
       "\n",
       "    .dataframe tbody tr th {\n",
       "        vertical-align: top;\n",
       "    }\n",
       "\n",
       "    .dataframe thead th {\n",
       "        text-align: right;\n",
       "    }\n",
       "</style>\n",
       "<table border=\"1\" class=\"dataframe\">\n",
       "  <thead>\n",
       "    <tr style=\"text-align: right;\">\n",
       "      <th></th>\n",
       "      <th>utterance</th>\n",
       "      <th>intent</th>\n",
       "    </tr>\n",
       "  </thead>\n",
       "  <tbody>\n",
       "    <tr>\n",
       "      <th>31</th>\n",
       "      <td>at what age do I not need to get my pooch jabs</td>\n",
       "      <td>DOG_VACCINATIONS</td>\n",
       "    </tr>\n",
       "    <tr>\n",
       "      <th>120</th>\n",
       "      <td>can I mix my dogs food</td>\n",
       "      <td>DOG_FOOD</td>\n",
       "    </tr>\n",
       "    <tr>\n",
       "      <th>34</th>\n",
       "      <td>do you need to have allthe vaccinations recommended</td>\n",
       "      <td>DOG_VACCINATIONS</td>\n",
       "    </tr>\n",
       "    <tr>\n",
       "      <th>78</th>\n",
       "      <td>Has the dog been ill before</td>\n",
       "      <td>DOG_HEALTH</td>\n",
       "    </tr>\n",
       "    <tr>\n",
       "      <th>107</th>\n",
       "      <td>whre can I check if my dogs parentals have bred before</td>\n",
       "      <td>DOG_PARENTS_INFORMATION</td>\n",
       "    </tr>\n",
       "    <tr>\n",
       "      <th>77</th>\n",
       "      <td>Can you tell me if the puppy is diseased</td>\n",
       "      <td>DOG_HEALTH</td>\n",
       "    </tr>\n",
       "    <tr>\n",
       "      <th>61</th>\n",
       "      <td>do dogs get depression</td>\n",
       "      <td>DOG_HEALTH</td>\n",
       "    </tr>\n",
       "    <tr>\n",
       "      <th>3</th>\n",
       "      <td>hello, what should I do to buy a puppy?</td>\n",
       "      <td>PURCHASE_DOG</td>\n",
       "    </tr>\n",
       "    <tr>\n",
       "      <th>6</th>\n",
       "      <td>I'm looking to buy a dog</td>\n",
       "      <td>PURCHASE_DOG</td>\n",
       "    </tr>\n",
       "    <tr>\n",
       "      <th>14</th>\n",
       "      <td>Can I get a puppy?</td>\n",
       "      <td>PURCHASE_DOG</td>\n",
       "    </tr>\n",
       "  </tbody>\n",
       "</table>\n",
       "</div>"
      ],
      "text/plain": [
       "                                                  utterance  \\\n",
       "31   at what age do I not need to get my pooch jabs           \n",
       "120  can I mix my dogs food                                   \n",
       "34   do you need to have allthe vaccinations recommended      \n",
       "78   Has the dog been ill before                              \n",
       "107  whre can I check if my dogs parentals have bred before   \n",
       "77   Can you tell me if the puppy is diseased                 \n",
       "61   do dogs get depression                                   \n",
       "3    hello, what should I do to buy a puppy?                  \n",
       "6    I'm looking to buy a dog                                 \n",
       "14   Can I get a puppy?                                       \n",
       "\n",
       "                      intent  \n",
       "31   DOG_VACCINATIONS         \n",
       "120  DOG_FOOD                 \n",
       "34   DOG_VACCINATIONS         \n",
       "78   DOG_HEALTH               \n",
       "107  DOG_PARENTS_INFORMATION  \n",
       "77   DOG_HEALTH               \n",
       "61   DOG_HEALTH               \n",
       "3    PURCHASE_DOG             \n",
       "6    PURCHASE_DOG             \n",
       "14   PURCHASE_DOG             "
      ]
     },
     "metadata": {},
     "output_type": "display_data"
    }
   ],
   "source": [
    "def onchange(change):\n",
    "    if change['type'] == 'change' and change['name'] == 'value':\n",
    "        clear_output()\n",
    "        display(d)\n",
    "        display_sample(d, 10)\n",
    "\n",
    "def display_sample(d, samplesize):\n",
    "    if samplesize != None:\n",
    "        display(Markdown(\"**<span style='color:blue'>{}</span>** skill selected. Training data sample:\".format(d.value)))\n",
    "    training_file = training_files[d.index]\n",
    "\n",
    "    train_df = pd.read_csv(os.path.join(config.training_dir, training_file), names=['utterance', 'intent'])\n",
    "    if (len(train_df) > 0) & (samplesize != None):\n",
    "        display(train_df.sample(samplesize))\n",
    "    elif samplesize:\n",
    "        display(Markdown(\"<span style='color:red'>No intent training data exists for this workspace</span>\"))\n",
    "    \n",
    "    return train_df\n",
    "\n",
    "training_files = [file for file in os.listdir(config.training_dir) if file.endswith('.csv')]\n",
    "d = widgets.Dropdown(options=[item[0:len(item)-14] for item in training_files])\n",
    "d.observe(onchange)\n",
    "\n",
    "display(d)\n",
    "train_df = display_sample(d, 10)\n",
    "intents = train_df['intent'].unique()"
   ]
  },
  {
   "cell_type": "markdown",
   "metadata": {},
   "source": [
    "We also need the details of the workspace and instance in Watson:"
   ]
  },
  {
   "cell_type": "code",
   "execution_count": 3,
   "metadata": {},
   "outputs": [],
   "source": [
    "# first set workspace given selection above\n",
    "train_df = display_sample(d, None)\n",
    "\n",
    "# INSTANCE. Use one of apikey or username & password\n",
    "apikey = \"5XuD4BoYqV0Lx5PUltqzVnDue1MzCTgGcld8uCtPsNR_\"\n",
    "#username = \n",
    "#password = \n",
    "url = \"https://gateway.watsonplatform.net/assistant/api/\"\n",
    "\n",
    "# WORKSPACE \n",
    "workspace_id = \"e6b17f68-9a81-4ac6-ae18-231717a47d3a\"\n",
    "threshold = 0.4\n",
    "\n",
    "# TEST PARAMS\n",
    "nfolds = 3"
   ]
  },
  {
   "cell_type": "markdown",
   "metadata": {},
   "source": [
    "## Run K-Fold test\n",
    "In order to work out which intents to target, we first run a K-Fold test on our workspace.\n",
    "You can also directly run one using the module in the `conversation_test` folder.\n",
    "\n",
    "The kfold test returns:\n",
    "- `results_kfold`: the classification per utterances\n",
    "- `classification_report`: f1 score, accuracy, precision and recall per intent, as well as averages"
   ]
  },
  {
   "cell_type": "code",
   "execution_count": 4,
   "metadata": {
    "scrolled": true
   },
   "outputs": [
    {
     "name": "stderr",
     "output_type": "stream",
     "text": [
      "\u001b[38;2;128;128;128m[2019-07-30 13:14:52,023]\u001b[0m \u001b[32mINFO\u001b[0m \u001b[38;2;128;128;128m(kfoldtest): \u001b[0mYou have space to perform the k-fold test\n",
      "\u001b[38;2;128;128;128m[2019-07-30 13:14:52,028]\u001b[0m \u001b[36mDEBUG\u001b[0m \u001b[38;2;128;128;128m(kfoldtest): \u001b[0mfold num 1: train set: 89, test set: 47\n",
      "\u001b[38;2;128;128;128m[2019-07-30 13:14:52,029]\u001b[0m \u001b[36mDEBUG\u001b[0m \u001b[38;2;128;128;128m(kfoldtest): \u001b[0mfold num 2: train set: 91, test set: 45\n",
      "\u001b[38;2;128;128;128m[2019-07-30 13:14:52,030]\u001b[0m \u001b[36mDEBUG\u001b[0m \u001b[38;2;128;128;128m(kfoldtest): \u001b[0mfold num 3: train set: 92, test set: 44\n",
      "\u001b[38;2;128;128;128m[2019-07-30 13:14:52,033]\u001b[0m \u001b[32mINFO\u001b[0m \u001b[38;2;128;128;128m(kfoldtest): \u001b[0mCreating kfold workspaces..\n",
      "\u001b[38;2;128;128;128m[2019-07-30 13:14:55,961]\u001b[0m \u001b[32mINFO\u001b[0m \u001b[38;2;128;128;128m(kfoldtest): \u001b[0mChecking workspaces..\n",
      "\u001b[38;2;128;128;128m[2019-07-30 13:15:19,124]\u001b[0m \u001b[32mINFO\u001b[0m \u001b[38;2;128;128;128m(kfoldtest): \u001b[0mChecking workspaces..\n",
      "\u001b[38;2;128;128;128m[2019-07-30 13:15:20,195]\u001b[0m \u001b[36mDEBUG\u001b[0m \u001b[38;2;128;128;128m(kfoldtest): \u001b[0mWorkspace 1 available\n",
      "\u001b[38;2;128;128;128m[2019-07-30 13:15:22,142]\u001b[0m \u001b[36mDEBUG\u001b[0m \u001b[38;2;128;128;128m(kfoldtest): \u001b[0mWorkspace 3 available\n",
      "\u001b[38;2;128;128;128m[2019-07-30 13:15:42,148]\u001b[0m \u001b[32mINFO\u001b[0m \u001b[38;2;128;128;128m(kfoldtest): \u001b[0mChecking workspaces..\n",
      "\u001b[38;2;128;128;128m[2019-07-30 13:15:43,098]\u001b[0m \u001b[36mDEBUG\u001b[0m \u001b[38;2;128;128;128m(kfoldtest): \u001b[0mWorkspace 1 available\n",
      "\u001b[38;2;128;128;128m[2019-07-30 13:15:44,142]\u001b[0m \u001b[36mDEBUG\u001b[0m \u001b[38;2;128;128;128m(kfoldtest): \u001b[0mWorkspace 2 available\n",
      "\u001b[38;2;128;128;128m[2019-07-30 13:15:45,281]\u001b[0m \u001b[36mDEBUG\u001b[0m \u001b[38;2;128;128;128m(kfoldtest): \u001b[0mWorkspace 3 available\n",
      "\u001b[38;2;128;128;128m[2019-07-30 13:16:05,288]\u001b[0m \u001b[32mINFO\u001b[0m \u001b[38;2;128;128;128m(kfoldtest): \u001b[0mRunning test for fold 1\n",
      "100%|██████████| 47/47 [00:47<00:00,  1.03it/s]\n",
      "\u001b[38;2;128;128;128m[2019-07-30 13:16:52,674]\u001b[0m \u001b[32mINFO\u001b[0m \u001b[38;2;128;128;128m(kfoldtest): \u001b[0mRunning test for fold 2\n",
      "100%|██████████| 45/45 [00:43<00:00,  1.11it/s]\n",
      "\u001b[38;2;128;128;128m[2019-07-30 13:17:36,672]\u001b[0m \u001b[32mINFO\u001b[0m \u001b[38;2;128;128;128m(kfoldtest): \u001b[0mRunning test for fold 3\n",
      "100%|██████████| 44/44 [00:47<00:00,  1.08s/it]\n",
      "\u001b[38;2;128;128;128m[2019-07-30 13:18:24,361]\u001b[0m \u001b[32mINFO\u001b[0m \u001b[38;2;128;128;128m(kfoldtest): \u001b[0mDeleting temporary workspaces\n"
     ]
    }
   ],
   "source": [
    "import logging\n",
    "logger = logging.getLogger()\n",
    "logger.setLevel(logging.CRITICAL)\n",
    "\n",
    "kfold = kfoldtest(apikey=apikey, url=url, n_folds=nfolds, threshold=threshold)\n",
    "kfold.intent_df_from_df(train_df)\n",
    "results_kfold, classification_report = kfold.full_run_kfold_from_df(train_df)"
   ]
  },
  {
   "cell_type": "markdown",
   "metadata": {},
   "source": [
    "### View worst performing intents\n",
    "We'll first choose a metric, then create a CSV showing the worst performing intents which can be used for annotation throughout this process."
   ]
  },
  {
   "cell_type": "code",
   "execution_count": 29,
   "metadata": {},
   "outputs": [
    {
     "data": {
      "text/markdown": [
       "Now, we need to <span style='color:blue'>choose which metric to prioritise for this workspace.</span>\n",
       " \n",
       " If FPs and FNs are equally negative, then you may want to look at F1 score. More on this in **Section x** of the training at scale guide.\n",
       " \n",
       "**Preferred metric:**"
      ],
      "text/plain": [
       "<IPython.core.display.Markdown object>"
      ]
     },
     "metadata": {},
     "output_type": "display_data"
    },
    {
     "data": {
      "application/vnd.jupyter.widget-view+json": {
       "model_id": "6468003db0bc46eebce4c88d4b000b3e",
       "version_major": 2,
       "version_minor": 0
      },
      "text/plain": [
       "Dropdown(options=('precision', 'recall', 'accuracy', 'F1'), value='precision')"
      ]
     },
     "metadata": {},
     "output_type": "display_data"
    }
   ],
   "source": [
    "display(Markdown(\"Now, we need to <span style='color:blue'>choose which metric to prioritise for this workspace.</span>\" \n",
    "\n",
    "\"\\n \\n If FPs and FNs are equally negative, then you may want to look at F1 score. More on this in **Section x** of the training at scale guide.\"\n",
    "\n",
    "\"\\n \\n**Preferred metric:**\"))\n",
    "        \n",
    "d_m = widgets.Dropdown(options=['precision', 'recall', 'accuracy', 'F1'])\n",
    "display(d_m)"
   ]
  },
  {
   "cell_type": "code",
   "execution_count": 30,
   "metadata": {},
   "outputs": [
    {
     "data": {
      "text/markdown": [
       "We can then view K-fold results sorted by this metric, with a column added to show the size of the training set, and a couple more for annotation."
      ],
      "text/plain": [
       "<IPython.core.display.Markdown object>"
      ]
     },
     "metadata": {},
     "output_type": "display_data"
    },
    {
     "data": {
      "text/markdown": [
       "These results have been exported to <span style='color:blue'>/Users/kalyan/Documents/practice-cog/intent_training_tools/results/puppy_kfold_results_20190731-1010.csv</span> for annotation throughout the targeted training process."
      ],
      "text/plain": [
       "<IPython.core.display.Markdown object>"
      ]
     },
     "metadata": {},
     "output_type": "display_data"
    },
    {
     "data": {
      "text/html": [
       "<div>\n",
       "<style scoped>\n",
       "    .dataframe tbody tr th:only-of-type {\n",
       "        vertical-align: middle;\n",
       "    }\n",
       "\n",
       "    .dataframe tbody tr th {\n",
       "        vertical-align: top;\n",
       "    }\n",
       "\n",
       "    .dataframe thead th {\n",
       "        text-align: right;\n",
       "    }\n",
       "</style>\n",
       "<table border=\"1\" class=\"dataframe\">\n",
       "  <thead>\n",
       "    <tr style=\"text-align: right;\">\n",
       "      <th>confusion</th>\n",
       "      <th>threshold</th>\n",
       "      <th>accuracy</th>\n",
       "      <th>precision</th>\n",
       "      <th>recall</th>\n",
       "      <th>F1</th>\n",
       "      <th>train_size</th>\n",
       "      <th>comment</th>\n",
       "      <th>action</th>\n",
       "    </tr>\n",
       "  </thead>\n",
       "  <tbody>\n",
       "    <tr>\n",
       "      <th>DOG_HEALTH</th>\n",
       "      <td>0.4</td>\n",
       "      <td>0.718750</td>\n",
       "      <td>0.733333</td>\n",
       "      <td>0.956522</td>\n",
       "      <td>0.830189</td>\n",
       "      <td>29</td>\n",
       "      <td></td>\n",
       "      <td></td>\n",
       "    </tr>\n",
       "    <tr>\n",
       "      <th>PURCHASE_DOG</th>\n",
       "      <td>0.4</td>\n",
       "      <td>0.757576</td>\n",
       "      <td>0.827586</td>\n",
       "      <td>0.888889</td>\n",
       "      <td>0.857143</td>\n",
       "      <td>28</td>\n",
       "      <td></td>\n",
       "      <td></td>\n",
       "    </tr>\n",
       "    <tr>\n",
       "      <th>DOG_PARENTS_INFORMATION</th>\n",
       "      <td>0.4</td>\n",
       "      <td>0.869565</td>\n",
       "      <td>0.869565</td>\n",
       "      <td>1.000000</td>\n",
       "      <td>0.930233</td>\n",
       "      <td>24</td>\n",
       "      <td></td>\n",
       "      <td></td>\n",
       "    </tr>\n",
       "    <tr>\n",
       "      <th>DOG_VACCINATIONS</th>\n",
       "      <td>0.4</td>\n",
       "      <td>0.857143</td>\n",
       "      <td>0.900000</td>\n",
       "      <td>0.947368</td>\n",
       "      <td>0.923077</td>\n",
       "      <td>28</td>\n",
       "      <td></td>\n",
       "      <td></td>\n",
       "    </tr>\n",
       "    <tr>\n",
       "      <th>DOG_FOOD</th>\n",
       "      <td>0.4</td>\n",
       "      <td>0.925926</td>\n",
       "      <td>0.960000</td>\n",
       "      <td>0.960000</td>\n",
       "      <td>0.960000</td>\n",
       "      <td>27</td>\n",
       "      <td></td>\n",
       "      <td></td>\n",
       "    </tr>\n",
       "  </tbody>\n",
       "</table>\n",
       "</div>"
      ],
      "text/plain": [
       "confusion                threshold  accuracy  precision    recall        F1  \\\n",
       "DOG_HEALTH               0.4        0.718750  0.733333   0.956522  0.830189   \n",
       "PURCHASE_DOG             0.4        0.757576  0.827586   0.888889  0.857143   \n",
       "DOG_PARENTS_INFORMATION  0.4        0.869565  0.869565   1.000000  0.930233   \n",
       "DOG_VACCINATIONS         0.4        0.857143  0.900000   0.947368  0.923077   \n",
       "DOG_FOOD                 0.4        0.925926  0.960000   0.960000  0.960000   \n",
       "\n",
       "confusion                train_size comment action  \n",
       "DOG_HEALTH               29                         \n",
       "PURCHASE_DOG             28                         \n",
       "DOG_PARENTS_INFORMATION  24                         \n",
       "DOG_VACCINATIONS         28                         \n",
       "DOG_FOOD                 27                         "
      ]
     },
     "metadata": {},
     "output_type": "display_data"
    }
   ],
   "source": [
    "cl_rep_export = classification_report.loc[intents, :].sort_values(d_m.value, ascending=True)\n",
    "cl_rep_export = cl_rep_export.drop(columns='set size')\n",
    "\n",
    "intent_sizes = train_df.groupby('intent').count()\n",
    "cl_rep_export['train_size'] = intent_sizes\n",
    "\n",
    "cl_rep_export['comment'] = \"\"\n",
    "cl_rep_export['action'] = \"\"\n",
    "\n",
    "timestr = time.strftime(\"%Y%m%d-%H%M\")\n",
    "filename = d.value + '_kfold_results_' + timestr + '.csv'\n",
    "output_path = os.path.join(config.output_folder, filename)\n",
    "cl_rep_export.to_csv(output_path)\n",
    "\n",
    "display(Markdown(\"We can then view K-fold results sorted by this metric, with a column added to show the size of the training set, and a couple more for annotation.\"))\n",
    "display(Markdown(\"These results have been exported to <span style='color:blue'>{}</span> for annotation throughout the targeted training process.\".format(output_path)))\n",
    "display(cl_rep_export)\n",
    "\n"
   ]
  },
  {
   "cell_type": "code",
   "execution_count": 16,
   "metadata": {
    "scrolled": false
   },
   "outputs": [
    {
     "data": {
      "text/markdown": [
       "We can also view a plot of these."
      ],
      "text/plain": [
       "<IPython.core.display.Markdown object>"
      ]
     },
     "metadata": {},
     "output_type": "display_data"
    },
    {
     "data": {
      "image/png": "[encoded data removed]",
      "text/plain": [
       "<Figure size 720x720 with 4 Axes>"
      ]
     },
     "metadata": {
      "needs_background": "light"
     },
     "output_type": "display_data"
    }
   ],
   "source": [
    "display(Markdown(\"We can also view a plot of these.\"))\n",
    "melt_df = cl_rep_export.reset_index().melt(id_vars=['index'], value_vars=['F1', 'accuracy', 'precision', 'recall']).rename(columns={'confusion': 'metric'})\n",
    "ax = sns.catplot(data=melt_df, col_wrap=2, x='index', y='value', col='metric', kind='bar', hue=\"metric\")\n",
    "[plt.setp(ax.get_xticklabels(), rotation=80) for ax in ax.axes.flat];"
   ]
  },
  {
   "cell_type": "markdown",
   "metadata": {},
   "source": [
    "## Assess Root Cause\n",
    "The next stage is to write some comments and actions for the training that is needed. To do this we'll use the tools in this section."
   ]
  },
  {
   "cell_type": "markdown",
   "metadata": {},
   "source": [
    "### More training?\n",
    "A common sign that an intent needs more training is that it has **low recall**: it is commonly not matching intents with enough confidence to provide a response. To test for this we can plot recall against training set size for our intents. \n",
    "\n",
    "You should investigate any intents which fall on the bottom left hand size of this plot as candidates for getting more training."
   ]
  },
  {
   "cell_type": "code",
   "execution_count": 31,
   "metadata": {},
   "outputs": [
    {
     "data": {
      "image/png": "[encoded data removed]",
      "text/plain": [
       "<Figure size 360x360 with 1 Axes>"
      ]
     },
     "metadata": {
      "needs_background": "light"
     },
     "output_type": "display_data"
    }
   ],
   "source": [
    "ax = sns.lmplot(data=cl_rep_export, x='train_size', y='recall', fit_reg=False)\n",
    "ax.axes[0,0].set_title('Intent Size vs Recall')\n",
    "ax.axes[0,0].set_ylim(0,1);"
   ]
  },
  {
   "cell_type": "markdown",
   "metadata": {},
   "source": [
    "### Intent Overlaps\n",
    "Here we'll use tools to find overlapping phrases between intents that may be causing confusion between them. \n",
    "\n",
    "Change the parameters in the next cell to choose the length of the ngrams being searched for, and whether to remove stopwords."
   ]
  },
  {
   "cell_type": "code",
   "execution_count": 32,
   "metadata": {},
   "outputs": [],
   "source": [
    "ngram_list = [4,5] \n",
    "stopwords = 'none' # stopwords_in can be none, nltk, or config"
   ]
  },
  {
   "cell_type": "code",
   "execution_count": 33,
   "metadata": {},
   "outputs": [
    {
     "data": {
      "image/png": "[encoded data removed]",
      "text/plain": [
       "<Figure size 432x288 with 1 Axes>"
      ]
     },
     "metadata": {
      "needs_background": "light"
     },
     "output_type": "display_data"
    }
   ],
   "source": [
    "ii = intent_intersections(ngram_list, stopwords_in=stopwords, intent_col='intent')\n",
    "ii.import_training_df(train_df)\n",
    "intersection_df, intersection_size_df = ii.calculate_ngram_intersections()\n",
    "\n",
    "intersection_size_df = intersection_size_df.fillna(0)\n",
    "heatmap_colors = sns.cubehelix_palette(8, start=2, rot=0, dark=0.2, light=.95, reverse=False)\n",
    "ax = sns.heatmap(intersection_size_df, annot=True, cmap=heatmap_colors, cbar=False, square=True)\n",
    "ax.set_title('Intent Overlap Matrix');"
   ]
  },
  {
   "cell_type": "markdown",
   "metadata": {},
   "source": [
    "Next, we can look into specific overlaps:"
   ]
  },
  {
   "cell_type": "code",
   "execution_count": 34,
   "metadata": {},
   "outputs": [
    {
     "data": {
      "application/vnd.jupyter.widget-view+json": {
       "model_id": "87e5013b0e6f434e9160f5fb36a4faeb",
       "version_major": 2,
       "version_minor": 0
      },
      "text/plain": [
       "Dropdown(index=2, options=('purchase_dog', 'dog_vaccinations', 'dog_health', 'dog_parents_information', 'dog_f…"
      ]
     },
     "metadata": {},
     "output_type": "display_data"
    },
    {
     "data": {
      "application/vnd.jupyter.widget-view+json": {
       "model_id": "8ef708753ca043238e3d1e4d0f384c4a",
       "version_major": 2,
       "version_minor": 0
      },
      "text/plain": [
       "Dropdown(index=4, options=('purchase_dog', 'dog_vaccinations', 'dog_health', 'dog_parents_information', 'dog_f…"
      ]
     },
     "metadata": {},
     "output_type": "display_data"
    },
    {
     "data": {
      "text/html": [
       "<div>\n",
       "<style scoped>\n",
       "    .dataframe tbody tr th:only-of-type {\n",
       "        vertical-align: middle;\n",
       "    }\n",
       "\n",
       "    .dataframe tbody tr th {\n",
       "        vertical-align: top;\n",
       "    }\n",
       "\n",
       "    .dataframe thead th {\n",
       "        text-align: right;\n",
       "    }\n",
       "</style>\n",
       "<table border=\"1\" class=\"dataframe\">\n",
       "  <thead>\n",
       "    <tr style=\"text-align: right;\">\n",
       "      <th></th>\n",
       "      <th>dog_health</th>\n",
       "      <th>dog_food</th>\n",
       "    </tr>\n",
       "  </thead>\n",
       "  <tbody>\n",
       "    <tr>\n",
       "      <th>i don't know what</th>\n",
       "      <td>1.0</td>\n",
       "      <td>1.0</td>\n",
       "    </tr>\n",
       "  </tbody>\n",
       "</table>\n",
       "</div>"
      ],
      "text/plain": [
       "                   dog_health  dog_food\n",
       "i don't know what  1.0         1.0     "
      ]
     },
     "metadata": {},
     "output_type": "display_data"
    }
   ],
   "source": [
    "def onchange(change):\n",
    "    if change['type'] == 'change' and change['name'] == 'value':\n",
    "        clear_output()\n",
    "        display(d01)\n",
    "        display(d02)\n",
    "        display_intent_overlap(d01.value, d02.value)\n",
    "\n",
    "def display_intent_overlap(intent1, intent2):\n",
    "    if d01.value != d02.value:\n",
    "        ngrams_per_intent_df, ngram_freq_df = ii.get_ngrams_per_intent()\n",
    "        overlap_df = ii.get_intersection_freqs([intent1, intent2], ngram_freq_df)\n",
    "        overlap_df = overlap_df.sort_values([intent1, intent2], ascending=False)\n",
    "        display(overlap_df)\n",
    "    else:\n",
    "        display(Markdown(\"Intents chosen can't be the same\"))\n",
    "\n",
    "d01 = widgets.Dropdown(options=train_df['intent'].unique())\n",
    "d02 = widgets.Dropdown(options=train_df['intent'].unique())\n",
    "\n",
    "d01.observe(onchange)\n",
    "d02.observe(onchange)\n",
    "\n",
    "display(d01)\n",
    "display(d02)\n",
    "display_intent_overlap(d01.value, d02.value)"
   ]
  },
  {
   "cell_type": "code",
   "execution_count": 22,
   "metadata": {},
   "outputs": [
    {
     "data": {
      "text/markdown": [
       "You can use the table below to search through training utterances."
      ],
      "text/plain": [
       "<IPython.core.display.Markdown object>"
      ]
     },
     "metadata": {},
     "output_type": "display_data"
    },
    {
     "data": {
      "text/html": [
       "<div><table id=\"b5543b96-85ae-406b-99d4-b34fec19e32a\" class=\"display\"><thead>\n",
       "    <tr style=\"text-align: right;\">\n",
       "      \n",
       "      <th>utterance</th>\n",
       "      <th>intent</th>\n",
       "    </tr>\n",
       "  </thead></table>\n",
       "<script type=\"text/javascript\">\n",
       "require([\"datatables\"], function (datatables) {\n",
       "    $(document).ready(function () {\n",
       "        function eval_functions(map_or_text) {\n",
       "            if (typeof map_or_text === \"string\") {\n",
       "                if (map_or_text.startsWith(\"function\")) {\n",
       "                    try {\n",
       "                        // Note: parenthesis are required around the whole expression for eval to return a value!\n",
       "                        // See https://stackoverflow.com/a/7399078/911298.\n",
       "                        //\n",
       "                        // eval(\"local_fun = \" + map_or_text) would fail because local_fun is not declared\n",
       "                        // (using var, let or const would work, but it would only be declared in the local scope\n",
       "                        // and therefore the value could not be retrieved).\n",
       "                        const func = eval(`(${map_or_text})`);\n",
       "                        if (typeof func !== \"function\") {\n",
       "                            // Note: backquotes are super convenient! \n",
       "                            // https://developer.mozilla.org/en-US/docs/Web/JavaScript/Reference/Template_literals\n",
       "                            console.error(\n",
       "                                `Evaluated expression \"${map_or_text}\" is not a function (type is ${typeof func})`\n",
       "                            );\n",
       "                            return map_or_text;\n",
       "                        }\n",
       "                        // Return the function        \n",
       "                        return func;\n",
       "                    } catch (e) {\n",
       "                        // Make sure to print the error with a second argument to console.error().\n",
       "                        console.error(`itables was not able to parse \"${map_or_text}\"`, e);\n",
       "                    }\n",
       "                }\n",
       "            } else if (typeof map_or_text === \"object\") {\n",
       "                if (map_or_text instanceof Array) {\n",
       "                    // Note: \"var\" is now superseded by \"let\" and \"const\".\n",
       "                    // https://medium.com/javascript-scene/javascript-es6-var-let-or-const-ba58b8dcde75\n",
       "                    const result = [];\n",
       "                    // Note: \"for of\" is the best way to iterate through an iterable.\n",
       "                    // https://developer.mozilla.org/en-US/docs/Web/JavaScript/Reference/Statements/for...of\n",
       "                    for (const item of map_or_text) {\n",
       "                        result.push(eval_functions(item));\n",
       "                    }\n",
       "                    return result;\n",
       "\n",
       "                    // Alternatively, more functional approach in one line:\n",
       "                    // return map_or_text.map(eval_functions);\n",
       "                } else {\n",
       "                    const result = {};\n",
       "                    // Object.keys() is safer than \"for in\" because otherwise you might have keys\n",
       "                    // that aren't defined in the object itself.\n",
       "                    //\n",
       "                    // See https://stackoverflow.com/a/684692/911298.\n",
       "                    for (const item of Object.keys(map_or_text)) {\n",
       "                        result[item] = eval_functions(map_or_text[item]);\n",
       "                    }\n",
       "                    return result;\n",
       "                }\n",
       "            }\n",
       "\n",
       "            return map_or_text;\n",
       "        }\n",
       "        var dt_args = {\"data\": [[\"I want to buy a minature schnauzer\", \"purchase_dog\"], [\"I've looked at the pictures and I'm ready to buy a puppy.\", \"purchase_dog\"], [\"I would like to buy a chinook\", \"purchase_dog\"], [\"hello, what should I do to buy a puppy?\", \"purchase_dog\"], [\"Can I buy a kaiken\", \"purchase_dog\"], [\"I want a dog\", \"purchase_dog\"], [\"I'm looking to buy a dog\", \"purchase_dog\"], [\"I'd like to buy a wolfhound\", \"purchase_dog\"], [\"i want to get a puppy\", \"purchase_dog\"], [\"Hi I'd like to buy a dog\", \"purchase_dog\"], [\"No I wanted a puppy.\", \"purchase_dog\"], [\"I want to buy a chinook\", \"purchase_dog\"], [\"What dog can I purchase?\", \"purchase_dog\"], [\"Where can I buy a dog\", \"purchase_dog\"], [\"Can I get a puppy?\", \"purchase_dog\"], [\"I need a pup\", \"purchase_dog\"], [\"How can I buy puppies on the internet\", \"purchase_dog\"], [\"Do you sell doggies\", \"purchase_dog\"], [\"where are the best deals on pups\", \"purchase_dog\"], [\"can I order a doggo online\", \"purchase_dog\"], [\"is it always bad to buy a dog from a farm\", \"purchase_dog\"], [\"Can I buy my dog on finance\", \"purchase_dog\"], [\"what is the right price for a pedigree lab\", \"purchase_dog\"], [\"is \\u00a32000 too much for a FTCH collie\", \"purchase_dog\"], [\"where is the puppy pricing\", \"purchase_dog\"], [\"Will different pups cost different prices\", \"purchase_dog\"], [\"i want to add a dog to the family. How much would it cost\", \"purchase_dog\"], [\"where should I look to find a breeder for a dog\", \"purchase_dog\"], [\"how can I check if my rescue staffy is up to date with it's injections\", \"dog_vaccinations\"], [\"I wanna get my terrier an annual set of jabs\", \"dog_vaccinations\"], [\"my hound is not overdue its last AC jab\", \"dog_vaccinations\"], [\"at what age do I not need to get my pooch jabs\", \"dog_vaccinations\"], [\"does a pedigree need different immunisations to a mutt\", \"dog_vaccinations\"], [\"I need to get some injections for my drakehead lab\", \"dog_vaccinations\"], [\"do you need to have allthe vaccinations recommended\", \"dog_vaccinations\"], [\"can I combine my dogs next check up with some vaccinations\", \"dog_vaccinations\"], [\"is it illegal to not get your dog jabs\", \"dog_vaccinations\"], [\"is there such thing as antivax for dogs\", \"dog_vaccinations\"], [\"my little dog is not coping with vaccinations\", \"dog_vaccinations\"], [\"can I book some shots for my dog\", \"dog_vaccinations\"], [\"are there any vaccinations I should give my pupper next year\", \"dog_vaccinations\"], [\"my poodle had it's first set of vaccs last week and I want to get the next set, when should I do this\", \"dog_vaccinations\"], [\"Can you vaccinate the dog so it doesn't get sick\", \"dog_vaccinations\"], [\"I want my puppy to be protected against disease\", \"dog_vaccinations\"], [\"Can you immunise the dog before I get it\", \"dog_vaccinations\"], [\"Has the pupperino had its shots\", \"dog_vaccinations\"], [\"Has my puppy had all its injections\", \"dog_vaccinations\"], [\"Is the dog fully vaccinated\", \"dog_vaccinations\"], [\"How many jabs has the puppy had\", \"dog_vaccinations\"], [\"When is the next dose due of the vaccination?\", \"dog_vaccinations\"], [\"What about vaccinations?\", \"dog_vaccinations\"], [\"Do I have to pay for the vaccinations?\", \"dog_vaccinations\"], [\"what are they vaccinated against\", \"dog_vaccinations\"], [\"do you give shots to your dogs\", \"dog_vaccinations\"], [\"Are puppies already vaccinated?\", \"dog_vaccinations\"], [\"Do you vaccinate your dogs?\", \"dog_vaccinations\"], [\"my pups not very happy\", \"dog_health\"], [\"kennel cough advice\", \"dog_health\"], [\"I want to get my dog a check up urgently. He don't seem the same\", \"dog_health\"], [\"I think my dog has rabies\", \"dog_health\"], [\"my puppy has been shivering all night\", \"dog_health\"], [\"do dogs get depression\", \"dog_health\"], [\"my puppy is not like the other puppies\", \"dog_health\"], [\"I gave my pug coffee and now it looks sick\", \"dog_health\"], [\"my G.S has been diagnosed with cancer and I don't know what to do\", \"dog_health\"], [\"my pup don't look so great. What does it need\", \"dog_health\"], [\"my chow chow is not so well well\", \"dog_health\"], [\"how can i prevent my dog getting sick again\", \"dog_health\"], [\"is there any common illnesses in a dog\", \"dog_health\"], [\"my puppy is showing signs of illnes\", \"dog_health\"], [\"my dog vomitted last night\", \"dog_health\"], [\"Can the dog see properly\", \"dog_health\"], [\"Has the puppy shown any signs of sickness\", \"dog_health\"], [\"Can you tell me about the pups wellbeing\", \"dog_health\"], [\"I'm concerned about the health of the animals\", \"dog_health\"], [\"what is the health status of your puppies?\", \"dog_health\"], [\"Does the animal have fleas\", \"dog_health\"], [\"Can you tell me if the puppy is diseased\", \"dog_health\"], [\"Has the dog been ill before\", \"dog_health\"], [\"Is the puppy well?\", \"dog_health\"], [\"Does the puppy look healthy?\", \"dog_health\"], [\"Can I return the puppy if it has health issues?\", \"dog_health\"], [\"Will you tell me if the puppy has been sick?\", \"dog_health\"], [\"Was the litter sick for the puppy I want to get?\", \"dog_health\"], [\"does the puppies siblings get sick?\", \"dog_health\"], [\"I need to check the validity of my puppies mum's KCC register\", \"dog_parents_information\"], [\"Can I come in and look at the puppies with the mother?\", \"dog_parents_information\"], [\"Can I interview the parents?\", \"dog_parents_information\"], [\"how old is the mother?\", \"dog_parents_information\"], [\"Can look at the parents beforehand?\", \"dog_parents_information\"], [\"Does the mother get on well with children\", \"dog_parents_information\"], [\"Is the puppy's mum still weaning it\", \"dog_parents_information\"], [\"Has the bitch been vaccinated\", \"dog_parents_information\"], [\"Is this the mother's first litter\", \"dog_parents_information\"], [\"Who's the puppy's father\", \"dog_parents_information\"], [\"Is the father pedigree\", \"dog_parents_information\"], [\"are the labradoodles F1 or F2\", \"dog_parents_information\"], [\"I want to know more about their parenting\", \"dog_parents_information\"], [\"are they bred from a puppy farm or is the mother a family pet\", \"dog_parents_information\"], [\"where can I research my dogs ancestry\", \"dog_parents_information\"], [\"If both parents are pedigree, does my doggo become pedigree\", \"dog_parents_information\"], [\"is it a warning sign if I can't meet the parents\", \"dog_parents_information\"], [\"Is the dad a FTCH\", \"dog_parents_information\"], [\"How do I know if the mum has any EC titles\", \"dog_parents_information\"], [\"how long does the mum wean her pups\", \"dog_parents_information\"], [\"can I meet the father\", \"dog_parents_information\"], [\"is the dad a wirecoat or softcoat fox terrier\", \"dog_parents_information\"], [\"whre can I check if my dogs parentals have bred before\", \"dog_parents_information\"], [\"what are signs the mater is not good\", \"dog_parents_information\"], [\"can my puppy eat human food\", \"dog_food\"], [\"can my puppy eat adult food\", \"dog_food\"], [\"do you sell dog food\", \"dog_food\"], [\"I have just got a litter of puppies and don't know if I can feed them anything but milk\", \"dog_food\"], [\"do dogs eat chicken\", \"dog_food\"], [\"Do I always need to buy my dog the same food\", \"dog_food\"], [\"What is a good serving to give a dog\", \"dog_food\"], [\"is any dog food bad for a dogs teeth?\", \"dog_food\"], [\"can I put gravy on my dogs food\", \"dog_food\"], [\"is dry food bad for dogs\", \"dog_food\"], [\"can my dog have wet food\", \"dog_food\"], [\"can I mix my dogs food\", \"dog_food\"], [\"how often should I feed my dog\", \"dog_food\"], [\"what dog food do you sell\", \"dog_food\"], [\"do dogs taste food like humans taste food\", \"dog_food\"], [\"Can dogs eat people food\", \"dog_food\"], [\"Is meat okay for dogs three times a day\", \"dog_food\"], [\"Can dogs have canned food for lunch\", \"dog_food\"], [\"Can pups eat normal meat\", \"dog_food\"], [\"Is tinned dog food okay for puppies\", \"dog_food\"], [\"What do puppies like to eat\", \"dog_food\"], [\"I don't know what dogs eat\", \"dog_food\"], [\"That's good to know. Does the food taste nice?\", \"dog_food\"], [\"What food do you sell\", \"dog_food\"], [\"What food do you have?\", \"dog_food\"], [\"What sort of food do I need to get to keep the puppy happy?\", \"dog_food\"], [\"is it bad to feed my mutt leftovers\", \"dog_food\"]]};\n",
       "        dt_args = eval_functions(dt_args);\n",
       "        table = $('#b5543b96-85ae-406b-99d4-b34fec19e32a').DataTable(dt_args);\n",
       "    });\n",
       "})\n",
       "</script>\n",
       "</div>\n"
      ],
      "text/plain": [
       "<IPython.core.display.HTML object>"
      ]
     },
     "metadata": {},
     "output_type": "display_data"
    }
   ],
   "source": [
    "display(Markdown(\"You can use the table below to search through training utterances.\"))\n",
    "show(train_df[['utterance', 'intent']])"
   ]
  },
  {
   "cell_type": "markdown",
   "metadata": {},
   "source": [
    "## Training"
   ]
  },
  {
   "cell_type": "markdown",
   "metadata": {},
   "source": [
    "The process of 'training' will fall into one of three categories: resolving clashes, cleaning training data, or getting more training data. \n",
    "\n",
    "See the last section of the Training at Scale guide for tips on how to improve your training data."
   ]
  },
  {
   "cell_type": "code",
   "execution_count": null,
   "metadata": {},
   "outputs": [],
   "source": []
  }
 ],
 "metadata": {
  "hide_input": false,
  "kernelspec": {
   "display_name": "Python 3",
   "language": "python",
   "name": "python3"
  },
  "language_info": {
   "codemirror_mode": {
    "name": "ipython",
    "version": 3
   },
   "file_extension": ".py",
   "mimetype": "text/x-python",
   "name": "python",
   "nbconvert_exporter": "python",
   "pygments_lexer": "ipython3",
   "version": "3.6.0"
  },
  "toc": {
   "base_numbering": 1,
   "nav_menu": {},
   "number_sections": true,
   "sideBar": true,
   "skip_h1_title": true,
   "title_cell": "Table of Contents",
   "title_sidebar": "Contents",
   "toc_cell": false,
   "toc_position": {
    "height": "calc(100% - 180px)",
    "left": "10px",
    "top": "150px",
    "width": "336px"
   },
   "toc_section_display": true,
   "toc_window_display": true
  }
 },
 "nbformat": 4,
 "nbformat_minor": 2
}
