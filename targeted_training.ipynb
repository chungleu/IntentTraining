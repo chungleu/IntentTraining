{
 "cells": [
  {
   "cell_type": "markdown",
   "metadata": {},
   "source": [
    "# Targeted Training Notebook\n",
    "A practical guide to the targeted training process. \n",
    "\n",
    "**Author:** Kalyan Dutia (kalyan.dutia@ibm.com)"
   ]
  },
  {
   "cell_type": "markdown",
   "metadata": {},
   "source": [
    "Here we assume that you **already have your intents downloaded, in the `data/workspace_training` folder.** If you don't, you can manually download them or use the tool contained in the exploratory analysis notebook."
   ]
  },
  {
   "cell_type": "code",
   "execution_count": 7,
   "metadata": {},
   "outputs": [],
   "source": [
    "# external imports\n",
    "import os\n",
    "from IPython.display import display, Markdown, clear_output\n",
    "import ipywidgets as widgets\n",
    "import pandas as pd\n",
    "import numpy as np\n",
    "import seaborn as sns\n",
    "from itables import show\n",
    "import logging\n",
    "import time\n",
    "import matplotlib.pyplot as plt\n",
    "\n",
    "# internal imports\n",
    "import config\n",
    "from cli_tools.get_intent_intersections import intent_intersections\n",
    "from cli_tools.diagnose_confusion import diagnose_confusion\n",
    "from conversation_test.kfoldtest import kfoldtest\n",
    "\n",
    "# config\n",
    "sns.set_style(\"whitegrid\")\n",
    "sns.set_context(\"notebook\")\n",
    "pd.set_option('display.max_colwidth', -1)\n",
    "\n",
    "logging.getLogger(\"requests\").setLevel(logging.WARNING)\n",
    "logging.getLogger(\"urllib3.connectionpool\").setLevel(logging.WARNING)"
   ]
  },
  {
   "cell_type": "code",
   "execution_count": 8,
   "metadata": {},
   "outputs": [
    {
     "name": "stderr",
     "output_type": "stream",
     "text": [
      "[nltk_data] Downloading package stopwords to\n",
      "[nltk_data]     /Users/chungleu@uk.ibm.com/nltk_data...\n",
      "[nltk_data]   Package stopwords is already up-to-date!\n"
     ]
    },
    {
     "data": {
      "text/plain": [
       "True"
      ]
     },
     "execution_count": 8,
     "metadata": {},
     "output_type": "execute_result"
    }
   ],
   "source": [
    "import nltk\n",
    "nltk.download('stopwords')"
   ]
  },
  {
   "cell_type": "code",
   "execution_count": 9,
   "metadata": {},
   "outputs": [],
   "source": [
    "%matplotlib inline"
   ]
  },
  {
   "cell_type": "markdown",
   "metadata": {},
   "source": [
    "## Load a skill\n",
    "If you can't see your skill here, check the `data/workspace_training` folder."
   ]
  },
  {
   "cell_type": "code",
   "execution_count": 10,
   "metadata": {},
   "outputs": [
    {
     "data": {
      "application/vnd.jupyter.widget-view+json": {
       "model_id": "5e7c8cc9cc5945e49f4582b5cd7b72af",
       "version_major": 2,
       "version_minor": 0
      },
      "text/plain": [
       "Dropdown(index=1, options=('Puppy', 'Phone Advisor', 'Puppy_Tra'), value='Phone Advisor')"
      ]
     },
     "metadata": {},
     "output_type": "display_data"
    },
    {
     "data": {
      "text/markdown": [
       "**<span style='color:blue'>Phone Advisor</span>** skill selected. Training data sample:"
      ],
      "text/plain": [
       "<IPython.core.display.Markdown object>"
      ]
     },
     "metadata": {},
     "output_type": "display_data"
    },
    {
     "data": {
      "text/html": [
       "<div>\n",
       "<style scoped>\n",
       "    .dataframe tbody tr th:only-of-type {\n",
       "        vertical-align: middle;\n",
       "    }\n",
       "\n",
       "    .dataframe tbody tr th {\n",
       "        vertical-align: top;\n",
       "    }\n",
       "\n",
       "    .dataframe thead th {\n",
       "        text-align: right;\n",
       "    }\n",
       "</style>\n",
       "<table border=\"1\" class=\"dataframe\">\n",
       "  <thead>\n",
       "    <tr style=\"text-align: right;\">\n",
       "      <th></th>\n",
       "      <th>utterance</th>\n",
       "      <th>intent</th>\n",
       "    </tr>\n",
       "  </thead>\n",
       "  <tbody>\n",
       "    <tr>\n",
       "      <th>43</th>\n",
       "      <td>Can you pick a service provider for me</td>\n",
       "      <td>newcontract</td>\n",
       "    </tr>\n",
       "    <tr>\n",
       "      <th>32</th>\n",
       "      <td>What's the best new phone on the market</td>\n",
       "      <td>newphone</td>\n",
       "    </tr>\n",
       "    <tr>\n",
       "      <th>47</th>\n",
       "      <td>I don't like iphones</td>\n",
       "      <td>negative</td>\n",
       "    </tr>\n",
       "    <tr>\n",
       "      <th>52</th>\n",
       "      <td>hey</td>\n",
       "      <td>Greeting</td>\n",
       "    </tr>\n",
       "    <tr>\n",
       "      <th>3</th>\n",
       "      <td>I need to know more about a phone</td>\n",
       "      <td>phoneinfo</td>\n",
       "    </tr>\n",
       "    <tr>\n",
       "      <th>35</th>\n",
       "      <td>I'd like to part exchange my old phone</td>\n",
       "      <td>newphone</td>\n",
       "    </tr>\n",
       "    <tr>\n",
       "      <th>13</th>\n",
       "      <td>Here's a review of my phone</td>\n",
       "      <td>submitreview</td>\n",
       "    </tr>\n",
       "    <tr>\n",
       "      <th>1</th>\n",
       "      <td>Tell me about the google pixel 3</td>\n",
       "      <td>phoneinfo</td>\n",
       "    </tr>\n",
       "    <tr>\n",
       "      <th>23</th>\n",
       "      <td>I like to be called Christina</td>\n",
       "      <td>collectname</td>\n",
       "    </tr>\n",
       "    <tr>\n",
       "      <th>5</th>\n",
       "      <td>What's the nokia 3310 like?</td>\n",
       "      <td>phoneinfo</td>\n",
       "    </tr>\n",
       "  </tbody>\n",
       "</table>\n",
       "</div>"
      ],
      "text/plain": [
       "                                  utterance        intent\n",
       "43  Can you pick a service provider for me   newcontract \n",
       "32  What's the best new phone on the market  newphone    \n",
       "47  I don't like iphones                     negative    \n",
       "52  hey                                      Greeting    \n",
       "3   I need to know more about a phone        phoneinfo   \n",
       "35  I'd like to part exchange my old phone   newphone    \n",
       "13  Here's a review of my phone              submitreview\n",
       "1   Tell me about the google pixel 3         phoneinfo   \n",
       "23  I like to be called Christina            collectname \n",
       "5   What's the nokia 3310 like?              phoneinfo   "
      ]
     },
     "metadata": {},
     "output_type": "display_data"
    }
   ],
   "source": [
    "def onchange(change):\n",
    "    if change['type'] == 'change' and change['name'] == 'value':\n",
    "        clear_output()\n",
    "        display(d)\n",
    "        display_sample(d, 10)\n",
    "\n",
    "def get_training(d):\n",
    "    training_file = training_files[d.index]\n",
    "    return pd.read_csv(os.path.join(config.training_dir, training_file), names=['utterance', 'intent'])\n",
    "\n",
    "def display_sample(d, samplesize):\n",
    "    if samplesize != None:\n",
    "        display(Markdown(\"**<span style='color:blue'>{}</span>** skill selected. Training data sample:\".format(d.value)))\n",
    "    \n",
    "    train_df = get_training(d)\n",
    "    \n",
    "    if (len(train_df) > 0) & (samplesize != None):\n",
    "        display(train_df.sample(samplesize))\n",
    "    elif samplesize:\n",
    "        display(Markdown(\"<span style='color:red'>No intent training data exists for this workspace</span>\"))\n",
    "    \n",
    "    return train_df\n",
    "\n",
    "training_files = [file for file in os.listdir(config.training_dir) if file.endswith('.csv')]\n",
    "d = widgets.Dropdown(options=[item[0:len(item)-14] for item in training_files])\n",
    "d.observe(onchange)\n",
    "\n",
    "display(d)"
   ]
  },
  {
   "cell_type": "markdown",
   "metadata": {},
   "source": [
    "We also need the details of the workspace and instance in Watson:"
   ]
  },
  {
   "cell_type": "code",
   "execution_count": 11,
   "metadata": {},
   "outputs": [
    {
     "name": "stdout",
     "output_type": "stream",
     "text": [
      "['phoneinfo' 'submitreview' 'collectname' 'positive' 'newphone'\n",
      " 'newcontract' 'negative' 'Greeting']\n"
     ]
    }
   ],
   "source": [
    "train_df = get_training(d)\n",
    "intents = train_df['intent'].unique()\n",
    "print(intents)"
   ]
  },
  {
   "cell_type": "code",
   "execution_count": 22,
   "metadata": {},
   "outputs": [],
   "source": [
    "# first set workspace given selection above\n",
    "train_df = display_sample(d, None)\n",
    "\n",
    "# INSTANCE. Use one of apikey or username & password\n",
    "apikey = \"\"\n",
    "url = \"https://api.eu-gb.assistant.watson.cloud.ibm.com\"\n",
    "\n",
    "# WORKSPACE \n",
    "workspace_id = \"a4b7589d-9f17-4875-9272-d6e34f2768a2\"\n",
    "threshold = 0.4\n",
    "\n",
    "# TEST PARAMS\n",
    "nfolds = 3"
   ]
  },
  {
   "cell_type": "markdown",
   "metadata": {},
   "source": [
    "## Run K-Fold test\n",
    "In order to work out which intents to target, we first run a K-Fold test on our workspace.\n",
    "You can also directly run one using the module in the `conversation_test` folder.\n",
    "\n",
    "The kfold test returns:\n",
    "- `results_kfold`: the classification per utterances\n",
    "- `classification_report`: f1 score, accuracy, precision and recall per intent, as well as averages\n",
    "\n",
    "If you haven't already set the number of folds or the threshold, have a look at the bottom of the above cell."
   ]
  },
  {
   "cell_type": "code",
   "execution_count": 23,
   "metadata": {
    "scrolled": true
   },
   "outputs": [
    {
     "name": "stderr",
     "output_type": "stream",
     "text": [
      "\u001b[38;2;128;128;128m[2020-11-13 15:05:43,156]\u001b[0m \u001b[32mINFO\u001b[0m \u001b[38;2;128;128;128m(kfoldtest): \u001b[0mYou have space to perform the k-fold test\n",
      "INFO:kfoldtest:You have space to perform the k-fold test\n",
      "\u001b[38;2;128;128;128m[2020-11-13 15:05:43,161]\u001b[0m \u001b[36mDEBUG\u001b[0m \u001b[38;2;128;128;128m(kfoldtest): \u001b[0mfold num 1: train set: 90, test set: 46\n",
      "DEBUG:kfoldtest:fold num 1: train set: 90, test set: 46\n",
      "\u001b[38;2;128;128;128m[2020-11-13 15:05:43,162]\u001b[0m \u001b[36mDEBUG\u001b[0m \u001b[38;2;128;128;128m(kfoldtest): \u001b[0mfold num 2: train set: 91, test set: 45\n",
      "DEBUG:kfoldtest:fold num 2: train set: 91, test set: 45\n",
      "\u001b[38;2;128;128;128m[2020-11-13 15:05:43,163]\u001b[0m \u001b[36mDEBUG\u001b[0m \u001b[38;2;128;128;128m(kfoldtest): \u001b[0mfold num 3: train set: 91, test set: 45\n",
      "DEBUG:kfoldtest:fold num 3: train set: 91, test set: 45\n",
      "\u001b[38;2;128;128;128m[2020-11-13 15:05:43,165]\u001b[0m \u001b[32mINFO\u001b[0m \u001b[38;2;128;128;128m(kfoldtest): \u001b[0mCreating kfold workspaces..\n",
      "INFO:kfoldtest:Creating kfold workspaces..\n",
      "\u001b[38;2;128;128;128m[2020-11-13 15:05:44,056]\u001b[0m \u001b[32mINFO\u001b[0m \u001b[38;2;128;128;128m(kfoldtest): \u001b[0mChecking workspaces..\n",
      "INFO:kfoldtest:Checking workspaces..\n",
      "\u001b[38;2;128;128;128m[2020-11-13 15:06:04,532]\u001b[0m \u001b[32mINFO\u001b[0m \u001b[38;2;128;128;128m(kfoldtest): \u001b[0mChecking workspaces..\n",
      "INFO:kfoldtest:Checking workspaces..\n",
      "\u001b[38;2;128;128;128m[2020-11-13 15:06:04,707]\u001b[0m \u001b[36mDEBUG\u001b[0m \u001b[38;2;128;128;128m(kfoldtest): \u001b[0mWorkspace 1 available\n",
      "DEBUG:kfoldtest:Workspace 1 available\n",
      "\u001b[38;2;128;128;128m[2020-11-13 15:06:04,866]\u001b[0m \u001b[36mDEBUG\u001b[0m \u001b[38;2;128;128;128m(kfoldtest): \u001b[0mWorkspace 2 available\n",
      "DEBUG:kfoldtest:Workspace 2 available\n",
      "\u001b[38;2;128;128;128m[2020-11-13 15:06:05,060]\u001b[0m \u001b[36mDEBUG\u001b[0m \u001b[38;2;128;128;128m(kfoldtest): \u001b[0mWorkspace 3 available\n",
      "DEBUG:kfoldtest:Workspace 3 available\n",
      "\u001b[38;2;128;128;128m[2020-11-13 15:06:25,065]\u001b[0m \u001b[32mINFO\u001b[0m \u001b[38;2;128;128;128m(kfoldtest): \u001b[0mRunning test for fold 1\n",
      "INFO:kfoldtest:Running test for fold 1\n",
      "100%|██████████| 46/46 [00:09<00:00,  4.98it/s]\n",
      "\u001b[38;2;128;128;128m[2020-11-13 15:06:34,314]\u001b[0m \u001b[32mINFO\u001b[0m \u001b[38;2;128;128;128m(kfoldtest): \u001b[0mRunning test for fold 2\n",
      "INFO:kfoldtest:Running test for fold 2\n",
      "100%|██████████| 45/45 [00:09<00:00,  4.59it/s]\n",
      "\u001b[38;2;128;128;128m[2020-11-13 15:06:44,123]\u001b[0m \u001b[32mINFO\u001b[0m \u001b[38;2;128;128;128m(kfoldtest): \u001b[0mRunning test for fold 3\n",
      "INFO:kfoldtest:Running test for fold 3\n",
      "100%|██████████| 45/45 [00:09<00:00,  4.65it/s]\n",
      "/Users/chungleu@uk.ibm.com/Documents/Projects/Paysafe/intent_training_tools/conversation_test/metrics.py:128: SettingWithCopyWarning: \n",
      "A value is trying to be set on a copy of a slice from a DataFrame\n",
      "\n",
      "See the caveats in the documentation: http://pandas.pydata.org/pandas-docs/stable/indexing.html#indexing-view-versus-copy\n",
      "  performance_stats_intent_df.loc['workspace average (intents)', cols_for_average] = performance_stats_intent_df.loc[:, cols_for_average].mean(axis=0)\n",
      "\u001b[38;2;128;128;128m[2020-11-13 15:06:54,175]\u001b[0m \u001b[32mINFO\u001b[0m \u001b[38;2;128;128;128m(kfoldtest): \u001b[0mDeleting temporary workspaces\n",
      "INFO:kfoldtest:Deleting temporary workspaces\n"
     ]
    }
   ],
   "source": [
    "import logging\n",
    "logger = logging.getLogger()\n",
    "logger.setLevel(logging.CRITICAL)\n",
    "\n",
    "kfold = kfoldtest(apikey=apikey, url=url, n_folds=nfolds, threshold=threshold)\n",
    "kfold.intent_df_from_df(train_df)\n",
    "results_kfold, classification_report = kfold.full_run_kfold_from_df(train_df)"
   ]
  },
  {
   "cell_type": "markdown",
   "metadata": {},
   "source": [
    "### View worst performing intents\n",
    "We'll first choose a metric, then create a CSV showing the worst performing intents which can be used for annotation throughout this process."
   ]
  },
  {
   "cell_type": "code",
   "execution_count": 24,
   "metadata": {},
   "outputs": [
    {
     "data": {
      "text/markdown": [
       "Now, we need to <span style='color:blue'>choose which metric to prioritise for this workspace.</span>\n",
       " \n",
       " If FPs and FNs are equally negative, then you may want to look at F1 score. More on this in **Section x** of the training at scale guide.\n",
       " \n",
       "**Preferred metric:**"
      ],
      "text/plain": [
       "<IPython.core.display.Markdown object>"
      ]
     },
     "metadata": {},
     "output_type": "display_data"
    },
    {
     "data": {
      "application/vnd.jupyter.widget-view+json": {
       "model_id": "25efcaa993474adca12550d575851f45",
       "version_major": 2,
       "version_minor": 0
      },
      "text/plain": [
       "Dropdown(options=('precision', 'recall', 'accuracy', 'F1'), value='precision')"
      ]
     },
     "metadata": {},
     "output_type": "display_data"
    }
   ],
   "source": [
    "display(Markdown(\"Now, we need to <span style='color:blue'>choose which metric to prioritise for this workspace.</span>\" \n",
    "\n",
    "\"\\n \\n If FPs and FNs are equally negative, then you may want to look at F1 score. More on this in **Section x** of the training at scale guide.\"\n",
    "\n",
    "\"\\n \\n**Preferred metric:**\"))\n",
    "        \n",
    "d_m = widgets.Dropdown(options=['precision', 'recall', 'accuracy', 'F1'])\n",
    "display(d_m)"
   ]
  },
  {
   "cell_type": "code",
   "execution_count": 22,
   "metadata": {},
   "outputs": [
    {
     "ename": "NameError",
     "evalue": "name 'classification_report' is not defined",
     "output_type": "error",
     "traceback": [
      "\u001b[0;31m---------------------------------------------------------------------------\u001b[0m",
      "\u001b[0;31mNameError\u001b[0m                                 Traceback (most recent call last)",
      "\u001b[0;32m<ipython-input-22-466a564eaad9>\u001b[0m in \u001b[0;36m<module>\u001b[0;34m\u001b[0m\n\u001b[0;32m----> 1\u001b[0;31m \u001b[0mcl_rep_export\u001b[0m \u001b[0;34m=\u001b[0m \u001b[0mclassification_report\u001b[0m\u001b[0;34m.\u001b[0m\u001b[0mloc\u001b[0m\u001b[0;34m[\u001b[0m\u001b[0mintents\u001b[0m\u001b[0;34m,\u001b[0m \u001b[0;34m:\u001b[0m\u001b[0;34m]\u001b[0m\u001b[0;34m.\u001b[0m\u001b[0msort_values\u001b[0m\u001b[0;34m(\u001b[0m\u001b[0md_m\u001b[0m\u001b[0;34m.\u001b[0m\u001b[0mvalue\u001b[0m\u001b[0;34m,\u001b[0m \u001b[0mascending\u001b[0m\u001b[0;34m=\u001b[0m\u001b[0;32mTrue\u001b[0m\u001b[0;34m)\u001b[0m\u001b[0;34m\u001b[0m\u001b[0;34m\u001b[0m\u001b[0m\n\u001b[0m\u001b[1;32m      2\u001b[0m \u001b[0mcl_rep_export\u001b[0m \u001b[0;34m=\u001b[0m \u001b[0mcl_rep_export\u001b[0m\u001b[0;34m.\u001b[0m\u001b[0mdrop\u001b[0m\u001b[0;34m(\u001b[0m\u001b[0mcolumns\u001b[0m\u001b[0;34m=\u001b[0m\u001b[0;34m'set size'\u001b[0m\u001b[0;34m)\u001b[0m\u001b[0;34m\u001b[0m\u001b[0;34m\u001b[0m\u001b[0m\n\u001b[1;32m      3\u001b[0m \u001b[0;34m\u001b[0m\u001b[0m\n\u001b[1;32m      4\u001b[0m \u001b[0mintent_sizes\u001b[0m \u001b[0;34m=\u001b[0m \u001b[0mtrain_df\u001b[0m\u001b[0;34m.\u001b[0m\u001b[0mgroupby\u001b[0m\u001b[0;34m(\u001b[0m\u001b[0;34m'intent'\u001b[0m\u001b[0;34m)\u001b[0m\u001b[0;34m.\u001b[0m\u001b[0mcount\u001b[0m\u001b[0;34m(\u001b[0m\u001b[0;34m)\u001b[0m\u001b[0;34m\u001b[0m\u001b[0;34m\u001b[0m\u001b[0m\n\u001b[1;32m      5\u001b[0m \u001b[0mcl_rep_export\u001b[0m\u001b[0;34m[\u001b[0m\u001b[0;34m'train_size'\u001b[0m\u001b[0;34m]\u001b[0m \u001b[0;34m=\u001b[0m \u001b[0mintent_sizes\u001b[0m\u001b[0;34m\u001b[0m\u001b[0;34m\u001b[0m\u001b[0m\n",
      "\u001b[0;31mNameError\u001b[0m: name 'classification_report' is not defined"
     ]
    }
   ],
   "source": [
    "cl_rep_export = classification_report.loc[intents, :].sort_values(d_m.value, ascending=True)\n",
    "cl_rep_export = cl_rep_export.drop(columns='set size')\n",
    "\n",
    "intent_sizes = train_df.groupby('intent').count()\n",
    "cl_rep_export['train_size'] = intent_sizes\n",
    "\n",
    "cl_rep_export['comment'] = \"\"\n",
    "cl_rep_export['action'] = \"\"\n",
    "\n",
    "timestr = time.strftime(\"%Y%m%d-%H%M\")\n",
    "filename = d.value + '_kfold_results_' + timestr + '.csv'\n",
    "output_path = os.path.join(config.output_folder, filename)\n",
    "cl_rep_export.to_csv(output_path)\n",
    "\n",
    "display(Markdown(\"We can then view K-fold results sorted by this metric, with a column added to show the size of the training set, and a couple more for annotation.\"))\n",
    "display(Markdown(\"These results have been exported to <span style='color:blue'>{}</span> for annotation throughout the targeted training process.\".format(output_path)))\n",
    "display(cl_rep_export)"
   ]
  },
  {
   "cell_type": "code",
   "execution_count": 42,
   "metadata": {},
   "outputs": [
    {
     "data": {
      "text/markdown": [
       "We can also view a plot of these."
      ],
      "text/plain": [
       "<IPython.core.display.Markdown object>"
      ]
     },
     "metadata": {},
     "output_type": "display_data"
    },
    {
     "data": {
      "image/png": "[encoded data removed]",
      "text/plain": [
       "<Figure size 720x720 with 4 Axes>"
      ]
     },
     "metadata": {
      "needs_background": "light"
     },
     "output_type": "display_data"
    }
   ],
   "source": [
    "display(Markdown(\"We can also view a plot of these.\"))\n",
    "melt_df = cl_rep_export.reset_index().melt(id_vars=['index'], value_vars=['F1', 'accuracy', 'precision', 'recall']).rename(columns={'confusion': 'metric'})\n",
    "ax = sns.catplot(data=melt_df, col_wrap=2, x='index', y='value', col='metric', kind='bar', hue=\"metric\")\n",
    "[plt.setp(ax.get_xticklabels(), rotation=80) for ax in ax.axes.flat];"
   ]
  },
  {
   "cell_type": "markdown",
   "metadata": {},
   "source": [
    "## Assess Root Cause\n",
    "The next stage is to write some comments and actions for the training that is needed. To do this we'll use the tools in this section."
   ]
  },
  {
   "cell_type": "markdown",
   "metadata": {},
   "source": [
    "### More training?\n",
    "A common sign that an intent needs more training is that it has **low recall**: it is commonly not matching intents with enough confidence to provide a response. To test for this we can plot recall against training set size for our intents. \n",
    "\n",
    "You should investigate any intents which fall on the bottom left hand size of this plot as candidates for getting more training."
   ]
  },
  {
   "cell_type": "code",
   "execution_count": 28,
   "metadata": {},
   "outputs": [
    {
     "data": {
      "image/png": "[encoded data removed]",
      "text/plain": [
       "<Figure size 360x360 with 1 Axes>"
      ]
     },
     "metadata": {
      "needs_background": "light"
     },
     "output_type": "display_data"
    }
   ],
   "source": [
    "ax = sns.lmplot(data=cl_rep_export, x='train_size', y='recall', fit_reg=False)\n",
    "ax.axes[0,0].set_title('Intent Size vs Recall')\n",
    "ax.axes[0,0].set_ylim(0,1);"
   ]
  },
  {
   "cell_type": "markdown",
   "metadata": {},
   "source": [
    "### Intent Overlaps\n",
    "Here we'll use tools to find overlapping phrases between intents that may be causing confusion between them. \n",
    "\n",
    "Change the parameters in the next cell to choose the length of the ngrams being searched for, and whether to remove stopwords."
   ]
  },
  {
   "cell_type": "code",
   "execution_count": 29,
   "metadata": {},
   "outputs": [],
   "source": [
    "ngram_list = [4,5] \n",
    "stopwords = 'none' # stopwords_in can be none, nltk, or config"
   ]
  },
  {
   "cell_type": "code",
   "execution_count": 30,
   "metadata": {},
   "outputs": [
    {
     "name": "stderr",
     "output_type": "stream",
     "text": [
      "\u001b[38;2;128;128;128m[2020-11-13 15:08:02,791]\u001b[0m \u001b[32mINFO\u001b[0m \u001b[38;2;128;128;128m(numexpr.utils): \u001b[0mNote: NumExpr detected 12 cores but \"NUMEXPR_MAX_THREADS\" not set, so enforcing safe limit of 8.\n",
      "INFO:numexpr.utils:Note: NumExpr detected 12 cores but \"NUMEXPR_MAX_THREADS\" not set, so enforcing safe limit of 8.\n",
      "\u001b[38;2;128;128;128m[2020-11-13 15:08:02,792]\u001b[0m \u001b[32mINFO\u001b[0m \u001b[38;2;128;128;128m(numexpr.utils): \u001b[0mNumExpr defaulting to 8 threads.\n",
      "INFO:numexpr.utils:NumExpr defaulting to 8 threads.\n"
     ]
    },
    {
     "data": {
      "image/png": "[encoded data removed]",
      "text/plain": [
       "<Figure size 432x288 with 1 Axes>"
      ]
     },
     "metadata": {
      "needs_background": "light"
     },
     "output_type": "display_data"
    }
   ],
   "source": [
    "ii = intent_intersections(ngram_list, stopwords_in=stopwords, intent_col='intent')\n",
    "ii.import_training_df(train_df)\n",
    "intersection_df, intersection_size_df = ii.calculate_ngram_intersections()\n",
    "\n",
    "intersection_size_df = intersection_size_df.fillna(0)\n",
    "heatmap_colors = sns.cubehelix_palette(8, start=2, rot=0, dark=0.2, light=.95, reverse=False)\n",
    "ax = sns.heatmap(intersection_size_df, annot=True, cmap=heatmap_colors, cbar=False, square=True)\n",
    "ax.set_title('Intent Overlap Matrix');"
   ]
  },
  {
   "cell_type": "markdown",
   "metadata": {},
   "source": [
    "Next, we can look into specific overlaps:"
   ]
  },
  {
   "cell_type": "code",
   "execution_count": 33,
   "metadata": {},
   "outputs": [
    {
     "data": {
      "application/vnd.jupyter.widget-view+json": {
       "model_id": "95eaead7a43847e1b8c2c580735836bd",
       "version_major": 2,
       "version_minor": 0
      },
      "text/plain": [
       "Dropdown(index=2, options=('purchase_dog', 'dog_health', 'dog_parents_information', 'dog_food', 'dog_vaccinati…"
      ]
     },
     "metadata": {},
     "output_type": "display_data"
    },
    {
     "data": {
      "application/vnd.jupyter.widget-view+json": {
       "model_id": "6e4d6d4ac73c4abba96c8cb0e1f5d805",
       "version_major": 2,
       "version_minor": 0
      },
      "text/plain": [
       "Dropdown(index=4, options=('purchase_dog', 'dog_health', 'dog_parents_information', 'dog_food', 'dog_vaccinati…"
      ]
     },
     "metadata": {},
     "output_type": "display_data"
    },
    {
     "data": {
      "text/html": [
       "<div>\n",
       "<style scoped>\n",
       "    .dataframe tbody tr th:only-of-type {\n",
       "        vertical-align: middle;\n",
       "    }\n",
       "\n",
       "    .dataframe tbody tr th {\n",
       "        vertical-align: top;\n",
       "    }\n",
       "\n",
       "    .dataframe thead th {\n",
       "        text-align: right;\n",
       "    }\n",
       "</style>\n",
       "<table border=\"1\" class=\"dataframe\">\n",
       "  <thead>\n",
       "    <tr style=\"text-align: right;\">\n",
       "      <th></th>\n",
       "      <th>dog_parents_information</th>\n",
       "      <th>dog_vaccinations</th>\n",
       "    </tr>\n",
       "  </thead>\n",
       "  <tbody>\n",
       "    <tr>\n",
       "      <th>can i check if</th>\n",
       "      <td>1.0</td>\n",
       "      <td>1.0</td>\n",
       "    </tr>\n",
       "    <tr>\n",
       "      <th>i check if my</th>\n",
       "      <td>1.0</td>\n",
       "      <td>1.0</td>\n",
       "    </tr>\n",
       "  </tbody>\n",
       "</table>\n",
       "</div>"
      ],
      "text/plain": [
       "                dog_parents_information  dog_vaccinations\n",
       "can i check if  1.0                      1.0             \n",
       "i check if my   1.0                      1.0             "
      ]
     },
     "metadata": {},
     "output_type": "display_data"
    }
   ],
   "source": [
    "def onchange(change):\n",
    "    if change['type'] == 'change' and change['name'] == 'value':\n",
    "        clear_output()\n",
    "        display(d01)\n",
    "        display(d02)\n",
    "        display_intent_overlap(d01.value, d02.value)\n",
    "\n",
    "def display_intent_overlap(intent1, intent2):\n",
    "    if d01.value != d02.value:\n",
    "        ngrams_per_intent_df, ngram_freq_df = ii.get_ngrams_per_intent()\n",
    "        overlap_df = ii.get_intersection_freqs([intent1, intent2], ngram_freq_df)\n",
    "        overlap_df = overlap_df.sort_values([intent1, intent2], ascending=False)\n",
    "        display(overlap_df)\n",
    "    else:\n",
    "        display(Markdown(\"Intents chosen can't be the same\"))\n",
    "\n",
    "d01 = widgets.Dropdown(options=train_df['intent'].unique())\n",
    "d02 = widgets.Dropdown(options=train_df['intent'].unique())\n",
    "\n",
    "d01.observe(onchange)\n",
    "d02.observe(onchange)\n",
    "\n",
    "display(d01)\n",
    "display(d02)\n",
    "display_intent_overlap(d01.value, d02.value)"
   ]
  },
  {
   "cell_type": "code",
   "execution_count": 35,
   "metadata": {},
   "outputs": [
    {
     "data": {
      "text/markdown": [
       "You can use the table below to search through training utterances."
      ],
      "text/plain": [
       "<IPython.core.display.Markdown object>"
      ]
     },
     "metadata": {},
     "output_type": "display_data"
    },
    {
     "data": {
      "text/html": [
       "<div><table id=\"0b6daacf-6b1f-4510-a74d-4e4ef69bd3cd\" class=\"display\"><thead>\n",
       "    <tr style=\"text-align: right;\">\n",
       "      \n",
       "      <th>utterance</th>\n",
       "      <th>intent</th>\n",
       "    </tr>\n",
       "  </thead></table>\n",
       "<script type=\"text/javascript\">\n",
       "require([\"datatables\"], function (datatables) {\n",
       "    $(document).ready(function () {        \n",
       "        var dt_args = {\"columnDefs\": [{\"width\": \"70px\", \"targets\": \"_all\"}], \"data\": [[\"where are the best deals on pups\", \"purchase_dog\"], [\"what is the right price for a pedigree lab\", \"purchase_dog\"], [\"What dog can I purchase?\", \"purchase_dog\"], [\"No I wanted a puppy.\", \"purchase_dog\"], [\"I would like to buy a chinook\", \"purchase_dog\"], [\"i want to get a puppy\", \"purchase_dog\"], [\"I want to buy a minature schnauzer\", \"purchase_dog\"], [\"I want to buy a chinook\", \"purchase_dog\"], [\"Can I buy my dog on finance\", \"purchase_dog\"], [\"i want to add a dog to the family. How much would it cost\", \"purchase_dog\"], [\"I want a dog\", \"purchase_dog\"], [\"I've looked at the pictures and I'm ready to buy a puppy.\", \"purchase_dog\"], [\"is it always bad to buy a dog from a farm\", \"purchase_dog\"], [\"is \\u00a32000 too much for a FTCH collie\", \"purchase_dog\"], [\"I need a pup\", \"purchase_dog\"], [\"I'm looking to buy a dog\", \"purchase_dog\"], [\"I'd like to buy a wolfhound\", \"purchase_dog\"], [\"How can I buy puppies on the internet\", \"purchase_dog\"], [\"Hi I'd like to buy a dog\", \"purchase_dog\"], [\"hello, what should I do to buy a puppy?\", \"purchase_dog\"], [\"where should I look to find a breeder for a dog\", \"purchase_dog\"], [\"Can I buy a kaiken\", \"purchase_dog\"], [\"Do you sell doggies\", \"purchase_dog\"], [\"can I order a doggo online\", \"purchase_dog\"], [\"Can I get a puppy?\", \"purchase_dog\"], [\"where is the puppy pricing\", \"purchase_dog\"], [\"Where can I buy a dog\", \"purchase_dog\"], [\"Will different pups cost different prices\", \"purchase_dog\"], [\"Will you tell me if the puppy has been sick?\", \"dog_health\"], [\"my puppy has been shivering all night\", \"dog_health\"], [\"Can I return the puppy if it has health issues?\", \"dog_health\"], [\"Can the dog see properly\", \"dog_health\"], [\"Can you tell me about the pups wellbeing\", \"dog_health\"], [\"Can you tell me if the puppy is diseased\", \"dog_health\"], [\"do dogs get depression\", \"dog_health\"], [\"Does the animal have fleas\", \"dog_health\"], [\"does the puppies siblings get sick?\", \"dog_health\"], [\"Does the puppy look healthy?\", \"dog_health\"], [\"Has the dog been ill before\", \"dog_health\"], [\"Has the puppy shown any signs of sickness\", \"dog_health\"], [\"how can i prevent my dog getting sick again\", \"dog_health\"], [\"I gave my pug coffee and now it looks sick\", \"dog_health\"], [\"I'm concerned about the health of the animals\", \"dog_health\"], [\"Is the puppy well?\", \"dog_health\"], [\"is there any common illnesses in a dog\", \"dog_health\"], [\"I think my dog has rabies\", \"dog_health\"], [\"I want to get my dog a check up urgently. He don't seem the same\", \"dog_health\"], [\"kennel cough advice\", \"dog_health\"], [\"my chow chow is not so well well\", \"dog_health\"], [\"my dog vomitted last night\", \"dog_health\"], [\"my G.S has been diagnosed with cancer and I don't know what to do\", \"dog_health\"], [\"my pup don't look so great. What does it need\", \"dog_health\"], [\"my puppy is not like the other puppies\", \"dog_health\"], [\"my puppy is showing signs of illnes\", \"dog_health\"], [\"my pups not very happy\", \"dog_health\"], [\"Was the litter sick for the puppy I want to get?\", \"dog_health\"], [\"what is the health status of your puppies?\", \"dog_health\"], [\"I need to check the validity of my puppies mum's KCC register\", \"dog_parents_information\"], [\"are the labradoodles F1 or F2\", \"dog_parents_information\"], [\"are they bred from a puppy farm or is the mother a family pet\", \"dog_parents_information\"], [\"Can I come in and look at the puppies with the mother?\", \"dog_parents_information\"], [\"Can I interview the parents?\", \"dog_parents_information\"], [\"can I meet the father\", \"dog_parents_information\"], [\"Can look at the parents beforehand?\", \"dog_parents_information\"], [\"Does the mother get on well with children\", \"dog_parents_information\"], [\"Has the bitch been vaccinated\", \"dog_parents_information\"], [\"How do I know if the mum has any EC titles\", \"dog_parents_information\"], [\"how long does the mum wean her pups\", \"dog_parents_information\"], [\"how old is the mother?\", \"dog_parents_information\"], [\"If both parents are pedigree, does my doggo become pedigree\", \"dog_parents_information\"], [\"is it a warning sign if I can't meet the parents\", \"dog_parents_information\"], [\"Is the dad a FTCH\", \"dog_parents_information\"], [\"is the dad a wirecoat or softcoat fox terrier\", \"dog_parents_information\"], [\"Is the father pedigree\", \"dog_parents_information\"], [\"Is the puppy's mum still weaning it\", \"dog_parents_information\"], [\"Is this the mother's first litter\", \"dog_parents_information\"], [\"I want to know more about their parenting\", \"dog_parents_information\"], [\"what are signs the mater is not good\", \"dog_parents_information\"], [\"where can I research my dogs ancestry\", \"dog_parents_information\"], [\"Who's the puppy's father\", \"dog_parents_information\"], [\"whre can I check if my dogs parentals have bred before\", \"dog_parents_information\"], [\"Can dogs eat people food\", \"dog_food\"], [\"What sort of food do I need to get to keep the puppy happy?\", \"dog_food\"], [\"What is a good serving to give a dog\", \"dog_food\"], [\"What food do you sell\", \"dog_food\"], [\"What food do you have?\", \"dog_food\"], [\"What do puppies like to eat\", \"dog_food\"], [\"what dog food do you sell\", \"dog_food\"], [\"That's good to know. Does the food taste nice?\", \"dog_food\"], [\"Is tinned dog food okay for puppies\", \"dog_food\"], [\"Is meat okay for dogs three times a day\", \"dog_food\"], [\"is it bad to feed my mutt leftovers\", \"dog_food\"], [\"is dry food bad for dogs\", \"dog_food\"], [\"is any dog food bad for a dogs teeth?\", \"dog_food\"], [\"I have just got a litter of puppies and don't know if I can feed them anything but milk\", \"dog_food\"], [\"I don't know what dogs eat\", \"dog_food\"], [\"how often should I feed my dog\", \"dog_food\"], [\"do you sell dog food\", \"dog_food\"], [\"Do I always need to buy my dog the same food\", \"dog_food\"], [\"do dogs taste food like humans taste food\", \"dog_food\"], [\"do dogs eat chicken\", \"dog_food\"], [\"Can pups eat normal meat\", \"dog_food\"], [\"can my puppy eat human food\", \"dog_food\"], [\"can my puppy eat adult food\", \"dog_food\"], [\"can my dog have wet food\", \"dog_food\"], [\"can I put gravy on my dogs food\", \"dog_food\"], [\"can I mix my dogs food\", \"dog_food\"], [\"Can dogs have canned food for lunch\", \"dog_food\"], [\"are there any vaccinations I should give my pupper next year\", \"dog_vaccinations\"], [\"Are puppies already vaccinated?\", \"dog_vaccinations\"], [\"at what age do I not need to get my pooch jabs\", \"dog_vaccinations\"], [\"can I book some shots for my dog\", \"dog_vaccinations\"], [\"can I combine my dogs next check up with some vaccinations\", \"dog_vaccinations\"], [\"Can you immunise the dog before I get it\", \"dog_vaccinations\"], [\"Can you vaccinate the dog so it doesn't get sick\", \"dog_vaccinations\"], [\"does a pedigree need different immunisations to a mutt\", \"dog_vaccinations\"], [\"Do I have to pay for the vaccinations?\", \"dog_vaccinations\"], [\"do you give shots to your dogs\", \"dog_vaccinations\"], [\"do you need to have allthe vaccinations recommended\", \"dog_vaccinations\"], [\"Do you vaccinate your dogs?\", \"dog_vaccinations\"], [\"Has my puppy had all its injections\", \"dog_vaccinations\"], [\"Has the pupperino had its shots\", \"dog_vaccinations\"], [\"how can I check if my rescue staffy is up to date with it's injections\", \"dog_vaccinations\"], [\"How many jabs has the puppy had\", \"dog_vaccinations\"], [\"I need to get some injections for my drakehead lab\", \"dog_vaccinations\"], [\"is it illegal to not get your dog jabs\", \"dog_vaccinations\"], [\"Is the dog fully vaccinated\", \"dog_vaccinations\"], [\"is there such thing as antivax for dogs\", \"dog_vaccinations\"], [\"I wanna get my terrier an annual set of jabs\", \"dog_vaccinations\"], [\"I want my puppy to be protected against disease\", \"dog_vaccinations\"], [\"my hound is not overdue its last AC jab\", \"dog_vaccinations\"], [\"my little dog is not coping with vaccinations\", \"dog_vaccinations\"], [\"my poodle had it's first set of vaccs last week and I want to get the next set, when should I do this\", \"dog_vaccinations\"], [\"What about vaccinations?\", \"dog_vaccinations\"], [\"what are they vaccinated against\", \"dog_vaccinations\"], [\"When is the next dose due of the vaccination?\", \"dog_vaccinations\"]]};\n",
       "        dt_args = eval_functions(dt_args);\n",
       "        table = $('#0b6daacf-6b1f-4510-a74d-4e4ef69bd3cd').DataTable(dt_args);\n",
       "    });\n",
       "})\n",
       "</script>\n",
       "</div>\n"
      ],
      "text/plain": [
       "<IPython.core.display.HTML object>"
      ]
     },
     "metadata": {},
     "output_type": "display_data"
    }
   ],
   "source": [
    "display(Markdown(\"You can use the table below to search through training utterances.\"))\n",
    "show(train_df[['utterance', 'intent']])"
   ]
  },
  {
   "cell_type": "markdown",
   "metadata": {},
   "source": [
    "### Diagnose Confusion\n",
    "You can also find training utterances that may have caused misclassifications, by entering an utterance that has been misclassified.\n",
    "Note that the list produced is only a guide which will find the most obvious samples (no stemming or lemmatisation), and in no way exhaustive.\n",
    "\n",
    "You should also use the table above to search for different forms of words in the utterance."
   ]
  },
  {
   "cell_type": "code",
   "execution_count": 14,
   "metadata": {},
   "outputs": [
    {
     "data": {
      "application/vnd.jupyter.widget-view+json": {
       "model_id": "d37a9559a1994416a6d16f6539191dee",
       "version_major": 2,
       "version_minor": 0
      },
      "text/plain": [
       "Text(value='I want to buy a dog')"
      ]
     },
     "metadata": {},
     "output_type": "display_data"
    },
    {
     "data": {
      "text/html": [
       "<div>\n",
       "<style scoped>\n",
       "    .dataframe tbody tr th:only-of-type {\n",
       "        vertical-align: middle;\n",
       "    }\n",
       "\n",
       "    .dataframe tbody tr th {\n",
       "        vertical-align: top;\n",
       "    }\n",
       "\n",
       "    .dataframe thead th {\n",
       "        text-align: right;\n",
       "    }\n",
       "</style>\n",
       "<table border=\"1\" class=\"dataframe\">\n",
       "  <thead>\n",
       "    <tr style=\"text-align: right;\">\n",
       "      <th></th>\n",
       "      <th>utterance</th>\n",
       "      <th>Intent</th>\n",
       "      <th>ngrams found</th>\n",
       "    </tr>\n",
       "  </thead>\n",
       "  <tbody>\n",
       "    <tr>\n",
       "      <th>97</th>\n",
       "      <td>do you sell dog food</td>\n",
       "      <td>dog_food</td>\n",
       "      <td>'dog'</td>\n",
       "    </tr>\n",
       "    <tr>\n",
       "      <th>92</th>\n",
       "      <td>is dry food bad for dogs</td>\n",
       "      <td>dog_food</td>\n",
       "      <td>'i', 'a', 'dog'</td>\n",
       "    </tr>\n",
       "    <tr>\n",
       "      <th>93</th>\n",
       "      <td>is any dog food bad for a dogs teeth?</td>\n",
       "      <td>dog_food</td>\n",
       "      <td>'i', 'a', 'dog', 'a dog'</td>\n",
       "    </tr>\n",
       "    <tr>\n",
       "      <th>94</th>\n",
       "      <td>I have just got a litter of puppies and don't know if I can feed them anything but milk</td>\n",
       "      <td>dog_food</td>\n",
       "      <td>'i', 'a'</td>\n",
       "    </tr>\n",
       "    <tr>\n",
       "      <th>95</th>\n",
       "      <td>I don't know what dogs eat</td>\n",
       "      <td>dog_food</td>\n",
       "      <td>'i', 'a', 'dog'</td>\n",
       "    </tr>\n",
       "    <tr>\n",
       "      <th>96</th>\n",
       "      <td>how often should I feed my dog</td>\n",
       "      <td>dog_food</td>\n",
       "      <td>'i', 'dog'</td>\n",
       "    </tr>\n",
       "    <tr>\n",
       "      <th>98</th>\n",
       "      <td>Do I always need to buy my dog the same food</td>\n",
       "      <td>dog_food</td>\n",
       "      <td>'i', 'to', 'buy', 'a', 'dog', 'to buy'</td>\n",
       "    </tr>\n",
       "    <tr>\n",
       "      <th>99</th>\n",
       "      <td>do dogs taste food like humans taste food</td>\n",
       "      <td>dog_food</td>\n",
       "      <td>'i', 'a', 'dog'</td>\n",
       "    </tr>\n",
       "    <tr>\n",
       "      <th>105</th>\n",
       "      <td>can I put gravy on my dogs food</td>\n",
       "      <td>dog_food</td>\n",
       "      <td>'i', 'a', 'dog'</td>\n",
       "    </tr>\n",
       "    <tr>\n",
       "      <th>106</th>\n",
       "      <td>can I mix my dogs food</td>\n",
       "      <td>dog_food</td>\n",
       "      <td>'i', 'a', 'dog'</td>\n",
       "    </tr>\n",
       "    <tr>\n",
       "      <th>91</th>\n",
       "      <td>is it bad to feed my mutt leftovers</td>\n",
       "      <td>dog_food</td>\n",
       "      <td>'i', 'to', 'a'</td>\n",
       "    </tr>\n",
       "    <tr>\n",
       "      <th>90</th>\n",
       "      <td>Is meat okay for dogs three times a day</td>\n",
       "      <td>dog_food</td>\n",
       "      <td>'i', 'a', 'dog'</td>\n",
       "    </tr>\n",
       "    <tr>\n",
       "      <th>89</th>\n",
       "      <td>Is tinned dog food okay for puppies</td>\n",
       "      <td>dog_food</td>\n",
       "      <td>'i', 'a', 'dog'</td>\n",
       "    </tr>\n",
       "    <tr>\n",
       "      <th>100</th>\n",
       "      <td>do dogs eat chicken</td>\n",
       "      <td>dog_food</td>\n",
       "      <td>'i', 'a', 'dog'</td>\n",
       "    </tr>\n",
       "    <tr>\n",
       "      <th>86</th>\n",
       "      <td>What do puppies like to eat</td>\n",
       "      <td>dog_food</td>\n",
       "      <td>'i', 'to', 'a'</td>\n",
       "    </tr>\n",
       "    <tr>\n",
       "      <th>88</th>\n",
       "      <td>That's good to know. Does the food taste nice?</td>\n",
       "      <td>dog_food</td>\n",
       "      <td>'i', 'to', 'a'</td>\n",
       "    </tr>\n",
       "    <tr>\n",
       "      <th>104</th>\n",
       "      <td>can my dog have wet food</td>\n",
       "      <td>dog_food</td>\n",
       "      <td>'a', 'dog'</td>\n",
       "    </tr>\n",
       "    <tr>\n",
       "      <th>103</th>\n",
       "      <td>can my puppy eat adult food</td>\n",
       "      <td>dog_food</td>\n",
       "      <td>'a'</td>\n",
       "    </tr>\n",
       "    <tr>\n",
       "      <th>102</th>\n",
       "      <td>can my puppy eat human food</td>\n",
       "      <td>dog_food</td>\n",
       "      <td>'a'</td>\n",
       "    </tr>\n",
       "    <tr>\n",
       "      <th>101</th>\n",
       "      <td>Can pups eat normal meat</td>\n",
       "      <td>dog_food</td>\n",
       "      <td>'a'</td>\n",
       "    </tr>\n",
       "    <tr>\n",
       "      <th>87</th>\n",
       "      <td>what dog food do you sell</td>\n",
       "      <td>dog_food</td>\n",
       "      <td>'a', 'dog'</td>\n",
       "    </tr>\n",
       "    <tr>\n",
       "      <th>107</th>\n",
       "      <td>Can dogs have canned food for lunch</td>\n",
       "      <td>dog_food</td>\n",
       "      <td>'a', 'dog'</td>\n",
       "    </tr>\n",
       "    <tr>\n",
       "      <th>84</th>\n",
       "      <td>What food do you sell</td>\n",
       "      <td>dog_food</td>\n",
       "      <td>'a'</td>\n",
       "    </tr>\n",
       "    <tr>\n",
       "      <th>81</th>\n",
       "      <td>Can dogs eat people food</td>\n",
       "      <td>dog_food</td>\n",
       "      <td>'a', 'dog'</td>\n",
       "    </tr>\n",
       "    <tr>\n",
       "      <th>82</th>\n",
       "      <td>What sort of food do I need to get to keep the puppy happy?</td>\n",
       "      <td>dog_food</td>\n",
       "      <td>'i', 'to', 'a'</td>\n",
       "    </tr>\n",
       "    <tr>\n",
       "      <th>83</th>\n",
       "      <td>What is a good serving to give a dog</td>\n",
       "      <td>dog_food</td>\n",
       "      <td>'i', 'to', 'a', 'dog', 'a dog'</td>\n",
       "    </tr>\n",
       "    <tr>\n",
       "      <th>85</th>\n",
       "      <td>What food do you have?</td>\n",
       "      <td>dog_food</td>\n",
       "      <td>'a'</td>\n",
       "    </tr>\n",
       "    <tr>\n",
       "      <th>44</th>\n",
       "      <td>is there any common illnesses in a dog</td>\n",
       "      <td>dog_health</td>\n",
       "      <td>'i', 'a', 'dog', 'a dog'</td>\n",
       "    </tr>\n",
       "    <tr>\n",
       "      <th>45</th>\n",
       "      <td>I think my dog has rabies</td>\n",
       "      <td>dog_health</td>\n",
       "      <td>'i', 'a', 'dog'</td>\n",
       "    </tr>\n",
       "    <tr>\n",
       "      <th>46</th>\n",
       "      <td>I want to get my dog a check up urgently. He don't seem the same</td>\n",
       "      <td>dog_health</td>\n",
       "      <td>'i', 'want', 'to', 'a', 'dog', 'i want', 'want to', 'i want to'</td>\n",
       "    </tr>\n",
       "    <tr>\n",
       "      <th>...</th>\n",
       "      <td>...</td>\n",
       "      <td>...</td>\n",
       "      <td>...</td>\n",
       "    </tr>\n",
       "    <tr>\n",
       "      <th>108</th>\n",
       "      <td>are there any vaccinations I should give my pupper next year</td>\n",
       "      <td>dog_vaccinations</td>\n",
       "      <td>'i', 'a'</td>\n",
       "    </tr>\n",
       "    <tr>\n",
       "      <th>116</th>\n",
       "      <td>Do I have to pay for the vaccinations?</td>\n",
       "      <td>dog_vaccinations</td>\n",
       "      <td>'i', 'to', 'a'</td>\n",
       "    </tr>\n",
       "    <tr>\n",
       "      <th>12</th>\n",
       "      <td>is it always bad to buy a dog from a farm</td>\n",
       "      <td>purchase_dog</td>\n",
       "      <td>'i', 'to', 'buy', 'a', 'dog', 'to buy', 'buy a', 'a dog', 'to buy a', 'buy a dog', 'to buy a dog'</td>\n",
       "    </tr>\n",
       "    <tr>\n",
       "      <th>11</th>\n",
       "      <td>I've looked at the pictures and I'm ready to buy a puppy.</td>\n",
       "      <td>purchase_dog</td>\n",
       "      <td>'i', 'to', 'buy', 'a', 'to buy', 'buy a', 'to buy a'</td>\n",
       "    </tr>\n",
       "    <tr>\n",
       "      <th>10</th>\n",
       "      <td>I want a dog</td>\n",
       "      <td>purchase_dog</td>\n",
       "      <td>'i', 'want', 'a', 'dog', 'i want', 'a dog'</td>\n",
       "    </tr>\n",
       "    <tr>\n",
       "      <th>9</th>\n",
       "      <td>i want to add a dog to the family. How much would it cost</td>\n",
       "      <td>purchase_dog</td>\n",
       "      <td>'i', 'want', 'to', 'a', 'dog', 'i want', 'want to', 'a dog', 'i want to'</td>\n",
       "    </tr>\n",
       "    <tr>\n",
       "      <th>8</th>\n",
       "      <td>Can I buy my dog on finance</td>\n",
       "      <td>purchase_dog</td>\n",
       "      <td>'i', 'buy', 'a', 'dog'</td>\n",
       "    </tr>\n",
       "    <tr>\n",
       "      <th>4</th>\n",
       "      <td>I would like to buy a chinook</td>\n",
       "      <td>purchase_dog</td>\n",
       "      <td>'i', 'to', 'buy', 'a', 'to buy', 'buy a', 'to buy a'</td>\n",
       "    </tr>\n",
       "    <tr>\n",
       "      <th>6</th>\n",
       "      <td>I want to buy a minature schnauzer</td>\n",
       "      <td>purchase_dog</td>\n",
       "      <td>'i', 'want', 'to', 'buy', 'a', 'i want', 'want to', 'to buy', 'buy a', 'i want to', 'want to buy', 'to buy a', 'i want to buy', 'want to buy a'</td>\n",
       "    </tr>\n",
       "    <tr>\n",
       "      <th>5</th>\n",
       "      <td>i want to get a puppy</td>\n",
       "      <td>purchase_dog</td>\n",
       "      <td>'i', 'want', 'to', 'a', 'i want', 'want to', 'i want to'</td>\n",
       "    </tr>\n",
       "    <tr>\n",
       "      <th>13</th>\n",
       "      <td>is £2000 too much for a FTCH collie</td>\n",
       "      <td>purchase_dog</td>\n",
       "      <td>'i', 'to', 'a'</td>\n",
       "    </tr>\n",
       "    <tr>\n",
       "      <th>3</th>\n",
       "      <td>No I wanted a puppy.</td>\n",
       "      <td>purchase_dog</td>\n",
       "      <td>'i', 'want', 'a', 'i want'</td>\n",
       "    </tr>\n",
       "    <tr>\n",
       "      <th>2</th>\n",
       "      <td>What dog can I purchase?</td>\n",
       "      <td>purchase_dog</td>\n",
       "      <td>'i', 'a', 'dog'</td>\n",
       "    </tr>\n",
       "    <tr>\n",
       "      <th>7</th>\n",
       "      <td>I want to buy a chinook</td>\n",
       "      <td>purchase_dog</td>\n",
       "      <td>'i', 'want', 'to', 'buy', 'a', 'i want', 'want to', 'to buy', 'buy a', 'i want to', 'want to buy', 'to buy a', 'i want to buy', 'want to buy a'</td>\n",
       "    </tr>\n",
       "    <tr>\n",
       "      <th>14</th>\n",
       "      <td>I need a pup</td>\n",
       "      <td>purchase_dog</td>\n",
       "      <td>'i', 'a'</td>\n",
       "    </tr>\n",
       "    <tr>\n",
       "      <th>0</th>\n",
       "      <td>where are the best deals on pups</td>\n",
       "      <td>purchase_dog</td>\n",
       "      <td>'a'</td>\n",
       "    </tr>\n",
       "    <tr>\n",
       "      <th>16</th>\n",
       "      <td>I'd like to buy a wolfhound</td>\n",
       "      <td>purchase_dog</td>\n",
       "      <td>'i', 'to', 'buy', 'a', 'to buy', 'buy a', 'to buy a'</td>\n",
       "    </tr>\n",
       "    <tr>\n",
       "      <th>17</th>\n",
       "      <td>How can I buy puppies on the internet</td>\n",
       "      <td>purchase_dog</td>\n",
       "      <td>'i', 'buy', 'a'</td>\n",
       "    </tr>\n",
       "    <tr>\n",
       "      <th>27</th>\n",
       "      <td>Will different pups cost different prices</td>\n",
       "      <td>purchase_dog</td>\n",
       "      <td>'i'</td>\n",
       "    </tr>\n",
       "    <tr>\n",
       "      <th>26</th>\n",
       "      <td>Where can I buy a dog</td>\n",
       "      <td>purchase_dog</td>\n",
       "      <td>'i', 'buy', 'a', 'dog', 'buy a', 'a dog', 'buy a dog'</td>\n",
       "    </tr>\n",
       "    <tr>\n",
       "      <th>25</th>\n",
       "      <td>where is the puppy pricing</td>\n",
       "      <td>purchase_dog</td>\n",
       "      <td>'i'</td>\n",
       "    </tr>\n",
       "    <tr>\n",
       "      <th>24</th>\n",
       "      <td>Can I get a puppy?</td>\n",
       "      <td>purchase_dog</td>\n",
       "      <td>'i', 'a'</td>\n",
       "    </tr>\n",
       "    <tr>\n",
       "      <th>23</th>\n",
       "      <td>can I order a doggo online</td>\n",
       "      <td>purchase_dog</td>\n",
       "      <td>'i', 'a', 'dog', 'a dog'</td>\n",
       "    </tr>\n",
       "    <tr>\n",
       "      <th>22</th>\n",
       "      <td>Do you sell doggies</td>\n",
       "      <td>purchase_dog</td>\n",
       "      <td>'i', 'dog'</td>\n",
       "    </tr>\n",
       "    <tr>\n",
       "      <th>21</th>\n",
       "      <td>Can I buy a kaiken</td>\n",
       "      <td>purchase_dog</td>\n",
       "      <td>'i', 'buy', 'a', 'buy a'</td>\n",
       "    </tr>\n",
       "    <tr>\n",
       "      <th>20</th>\n",
       "      <td>where should I look to find a breeder for a dog</td>\n",
       "      <td>purchase_dog</td>\n",
       "      <td>'i', 'to', 'a', 'dog', 'a dog'</td>\n",
       "    </tr>\n",
       "    <tr>\n",
       "      <th>19</th>\n",
       "      <td>hello, what should I do to buy a puppy?</td>\n",
       "      <td>purchase_dog</td>\n",
       "      <td>'i', 'to', 'buy', 'a', 'to buy', 'buy a', 'to buy a'</td>\n",
       "    </tr>\n",
       "    <tr>\n",
       "      <th>18</th>\n",
       "      <td>Hi I'd like to buy a dog</td>\n",
       "      <td>purchase_dog</td>\n",
       "      <td>'i', 'to', 'buy', 'a', 'dog', 'to buy', 'buy a', 'a dog', 'to buy a', 'buy a dog', 'to buy a dog'</td>\n",
       "    </tr>\n",
       "    <tr>\n",
       "      <th>15</th>\n",
       "      <td>I'm looking to buy a dog</td>\n",
       "      <td>purchase_dog</td>\n",
       "      <td>'i', 'to', 'buy', 'a', 'dog', 'to buy', 'buy a', 'a dog', 'to buy a', 'buy a dog', 'to buy a dog'</td>\n",
       "    </tr>\n",
       "    <tr>\n",
       "      <th>1</th>\n",
       "      <td>what is the right price for a pedigree lab</td>\n",
       "      <td>purchase_dog</td>\n",
       "      <td>'i', 'a'</td>\n",
       "    </tr>\n",
       "  </tbody>\n",
       "</table>\n",
       "<p>136 rows × 3 columns</p>\n",
       "</div>"
      ],
      "text/plain": [
       "                                                                                   utterance  \\\n",
       "97   do you sell dog food                                                                      \n",
       "92   is dry food bad for dogs                                                                  \n",
       "93   is any dog food bad for a dogs teeth?                                                     \n",
       "94   I have just got a litter of puppies and don't know if I can feed them anything but milk   \n",
       "95   I don't know what dogs eat                                                                \n",
       "96   how often should I feed my dog                                                            \n",
       "98   Do I always need to buy my dog the same food                                              \n",
       "99   do dogs taste food like humans taste food                                                 \n",
       "105  can I put gravy on my dogs food                                                           \n",
       "106  can I mix my dogs food                                                                    \n",
       "91   is it bad to feed my mutt leftovers                                                       \n",
       "90   Is meat okay for dogs three times a day                                                   \n",
       "89   Is tinned dog food okay for puppies                                                       \n",
       "100  do dogs eat chicken                                                                       \n",
       "86   What do puppies like to eat                                                               \n",
       "88   That's good to know. Does the food taste nice?                                            \n",
       "104  can my dog have wet food                                                                  \n",
       "103  can my puppy eat adult food                                                               \n",
       "102  can my puppy eat human food                                                               \n",
       "101  Can pups eat normal meat                                                                  \n",
       "87   what dog food do you sell                                                                 \n",
       "107  Can dogs have canned food for lunch                                                       \n",
       "84   What food do you sell                                                                     \n",
       "81   Can dogs eat people food                                                                  \n",
       "82   What sort of food do I need to get to keep the puppy happy?                               \n",
       "83   What is a good serving to give a dog                                                      \n",
       "85   What food do you have?                                                                    \n",
       "44   is there any common illnesses in a dog                                                    \n",
       "45   I think my dog has rabies                                                                 \n",
       "46   I want to get my dog a check up urgently. He don't seem the same                          \n",
       "..                                                                ...                          \n",
       "108  are there any vaccinations I should give my pupper next year                              \n",
       "116  Do I have to pay for the vaccinations?                                                    \n",
       "12   is it always bad to buy a dog from a farm                                                 \n",
       "11   I've looked at the pictures and I'm ready to buy a puppy.                                 \n",
       "10   I want a dog                                                                              \n",
       "9    i want to add a dog to the family. How much would it cost                                 \n",
       "8    Can I buy my dog on finance                                                               \n",
       "4    I would like to buy a chinook                                                             \n",
       "6    I want to buy a minature schnauzer                                                        \n",
       "5    i want to get a puppy                                                                     \n",
       "13   is £2000 too much for a FTCH collie                                                       \n",
       "3    No I wanted a puppy.                                                                      \n",
       "2    What dog can I purchase?                                                                  \n",
       "7    I want to buy a chinook                                                                   \n",
       "14   I need a pup                                                                              \n",
       "0    where are the best deals on pups                                                          \n",
       "16   I'd like to buy a wolfhound                                                               \n",
       "17   How can I buy puppies on the internet                                                     \n",
       "27   Will different pups cost different prices                                                 \n",
       "26   Where can I buy a dog                                                                     \n",
       "25   where is the puppy pricing                                                                \n",
       "24   Can I get a puppy?                                                                        \n",
       "23   can I order a doggo online                                                                \n",
       "22   Do you sell doggies                                                                       \n",
       "21   Can I buy a kaiken                                                                        \n",
       "20   where should I look to find a breeder for a dog                                           \n",
       "19   hello, what should I do to buy a puppy?                                                   \n",
       "18   Hi I'd like to buy a dog                                                                  \n",
       "15   I'm looking to buy a dog                                                                  \n",
       "1    what is the right price for a pedigree lab                                                \n",
       "\n",
       "               Intent  \\\n",
       "97   dog_food           \n",
       "92   dog_food           \n",
       "93   dog_food           \n",
       "94   dog_food           \n",
       "95   dog_food           \n",
       "96   dog_food           \n",
       "98   dog_food           \n",
       "99   dog_food           \n",
       "105  dog_food           \n",
       "106  dog_food           \n",
       "91   dog_food           \n",
       "90   dog_food           \n",
       "89   dog_food           \n",
       "100  dog_food           \n",
       "86   dog_food           \n",
       "88   dog_food           \n",
       "104  dog_food           \n",
       "103  dog_food           \n",
       "102  dog_food           \n",
       "101  dog_food           \n",
       "87   dog_food           \n",
       "107  dog_food           \n",
       "84   dog_food           \n",
       "81   dog_food           \n",
       "82   dog_food           \n",
       "83   dog_food           \n",
       "85   dog_food           \n",
       "44   dog_health         \n",
       "45   dog_health         \n",
       "46   dog_health         \n",
       "..          ...         \n",
       "108  dog_vaccinations   \n",
       "116  dog_vaccinations   \n",
       "12   purchase_dog       \n",
       "11   purchase_dog       \n",
       "10   purchase_dog       \n",
       "9    purchase_dog       \n",
       "8    purchase_dog       \n",
       "4    purchase_dog       \n",
       "6    purchase_dog       \n",
       "5    purchase_dog       \n",
       "13   purchase_dog       \n",
       "3    purchase_dog       \n",
       "2    purchase_dog       \n",
       "7    purchase_dog       \n",
       "14   purchase_dog       \n",
       "0    purchase_dog       \n",
       "16   purchase_dog       \n",
       "17   purchase_dog       \n",
       "27   purchase_dog       \n",
       "26   purchase_dog       \n",
       "25   purchase_dog       \n",
       "24   purchase_dog       \n",
       "23   purchase_dog       \n",
       "22   purchase_dog       \n",
       "21   purchase_dog       \n",
       "20   purchase_dog       \n",
       "19   purchase_dog       \n",
       "18   purchase_dog       \n",
       "15   purchase_dog       \n",
       "1    purchase_dog       \n",
       "\n",
       "                                                                                                                                        ngrams found  \n",
       "97   'dog'                                                                                                                                            \n",
       "92   'i', 'a', 'dog'                                                                                                                                  \n",
       "93   'i', 'a', 'dog', 'a dog'                                                                                                                         \n",
       "94   'i', 'a'                                                                                                                                         \n",
       "95   'i', 'a', 'dog'                                                                                                                                  \n",
       "96   'i', 'dog'                                                                                                                                       \n",
       "98   'i', 'to', 'buy', 'a', 'dog', 'to buy'                                                                                                           \n",
       "99   'i', 'a', 'dog'                                                                                                                                  \n",
       "105  'i', 'a', 'dog'                                                                                                                                  \n",
       "106  'i', 'a', 'dog'                                                                                                                                  \n",
       "91   'i', 'to', 'a'                                                                                                                                   \n",
       "90   'i', 'a', 'dog'                                                                                                                                  \n",
       "89   'i', 'a', 'dog'                                                                                                                                  \n",
       "100  'i', 'a', 'dog'                                                                                                                                  \n",
       "86   'i', 'to', 'a'                                                                                                                                   \n",
       "88   'i', 'to', 'a'                                                                                                                                   \n",
       "104  'a', 'dog'                                                                                                                                       \n",
       "103  'a'                                                                                                                                              \n",
       "102  'a'                                                                                                                                              \n",
       "101  'a'                                                                                                                                              \n",
       "87   'a', 'dog'                                                                                                                                       \n",
       "107  'a', 'dog'                                                                                                                                       \n",
       "84   'a'                                                                                                                                              \n",
       "81   'a', 'dog'                                                                                                                                       \n",
       "82   'i', 'to', 'a'                                                                                                                                   \n",
       "83   'i', 'to', 'a', 'dog', 'a dog'                                                                                                                   \n",
       "85   'a'                                                                                                                                              \n",
       "44   'i', 'a', 'dog', 'a dog'                                                                                                                         \n",
       "45   'i', 'a', 'dog'                                                                                                                                  \n",
       "46   'i', 'want', 'to', 'a', 'dog', 'i want', 'want to', 'i want to'                                                                                  \n",
       "..                                                               ...                                                                                  \n",
       "108  'i', 'a'                                                                                                                                         \n",
       "116  'i', 'to', 'a'                                                                                                                                   \n",
       "12   'i', 'to', 'buy', 'a', 'dog', 'to buy', 'buy a', 'a dog', 'to buy a', 'buy a dog', 'to buy a dog'                                                \n",
       "11   'i', 'to', 'buy', 'a', 'to buy', 'buy a', 'to buy a'                                                                                             \n",
       "10   'i', 'want', 'a', 'dog', 'i want', 'a dog'                                                                                                       \n",
       "9    'i', 'want', 'to', 'a', 'dog', 'i want', 'want to', 'a dog', 'i want to'                                                                         \n",
       "8    'i', 'buy', 'a', 'dog'                                                                                                                           \n",
       "4    'i', 'to', 'buy', 'a', 'to buy', 'buy a', 'to buy a'                                                                                             \n",
       "6    'i', 'want', 'to', 'buy', 'a', 'i want', 'want to', 'to buy', 'buy a', 'i want to', 'want to buy', 'to buy a', 'i want to buy', 'want to buy a'  \n",
       "5    'i', 'want', 'to', 'a', 'i want', 'want to', 'i want to'                                                                                         \n",
       "13   'i', 'to', 'a'                                                                                                                                   \n",
       "3    'i', 'want', 'a', 'i want'                                                                                                                       \n",
       "2    'i', 'a', 'dog'                                                                                                                                  \n",
       "7    'i', 'want', 'to', 'buy', 'a', 'i want', 'want to', 'to buy', 'buy a', 'i want to', 'want to buy', 'to buy a', 'i want to buy', 'want to buy a'  \n",
       "14   'i', 'a'                                                                                                                                         \n",
       "0    'a'                                                                                                                                              \n",
       "16   'i', 'to', 'buy', 'a', 'to buy', 'buy a', 'to buy a'                                                                                             \n",
       "17   'i', 'buy', 'a'                                                                                                                                  \n",
       "27   'i'                                                                                                                                              \n",
       "26   'i', 'buy', 'a', 'dog', 'buy a', 'a dog', 'buy a dog'                                                                                            \n",
       "25   'i'                                                                                                                                              \n",
       "24   'i', 'a'                                                                                                                                         \n",
       "23   'i', 'a', 'dog', 'a dog'                                                                                                                         \n",
       "22   'i', 'dog'                                                                                                                                       \n",
       "21   'i', 'buy', 'a', 'buy a'                                                                                                                         \n",
       "20   'i', 'to', 'a', 'dog', 'a dog'                                                                                                                   \n",
       "19   'i', 'to', 'buy', 'a', 'to buy', 'buy a', 'to buy a'                                                                                             \n",
       "18   'i', 'to', 'buy', 'a', 'dog', 'to buy', 'buy a', 'a dog', 'to buy a', 'buy a dog', 'to buy a dog'                                                \n",
       "15   'i', 'to', 'buy', 'a', 'dog', 'to buy', 'buy a', 'a dog', 'to buy a', 'buy a dog', 'to buy a dog'                                                \n",
       "1    'i', 'a'                                                                                                                                         \n",
       "\n",
       "[136 rows x 3 columns]"
      ]
     },
     "metadata": {},
     "output_type": "display_data"
    }
   ],
   "source": [
    "n_list = [1,2,3,4]\n",
    "stopwords = None # None, 'nltk', or 'config'\n",
    "\n",
    "######################\n",
    "## DON'T EDIT BELOW ##\n",
    "######################\n",
    "def handle_submit(obj):\n",
    "    clear_output()\n",
    "    display(text_in)\n",
    "    display( diagnose_confusion(obj.value, d.value, n_list, stopwords) )\n",
    "\n",
    "text_in = widgets.Text()\n",
    "display(text_in)\n",
    "text_in.on_submit(handle_submit)"
   ]
  },
  {
   "cell_type": "markdown",
   "metadata": {},
   "source": [
    "## Training"
   ]
  },
  {
   "cell_type": "markdown",
   "metadata": {},
   "source": [
    "The process of 'training' will fall into one of three categories: resolving clashes, cleaning training data, or getting more training data. \n",
    "\n",
    "See the last section of the Training at Scale guide for tips on how to improve your training data."
   ]
  },
  {
   "cell_type": "code",
   "execution_count": null,
   "metadata": {},
   "outputs": [],
   "source": []
  }
 ],
 "metadata": {
  "hide_input": false,
  "kernelspec": {
   "display_name": "Python 3",
   "language": "python",
   "name": "python3"
  },
  "language_info": {
   "codemirror_mode": {
    "name": "ipython",
    "version": 3
   },
   "file_extension": ".py",
   "mimetype": "text/x-python",
   "name": "python",
   "nbconvert_exporter": "python",
   "pygments_lexer": "ipython3",
   "version": "3.7.8"
  },
  "toc": {
   "base_numbering": 1,
   "nav_menu": {},
   "number_sections": true,
   "sideBar": true,
   "skip_h1_title": true,
   "title_cell": "Table of Contents",
   "title_sidebar": "Contents",
   "toc_cell": false,
   "toc_position": {
    "height": "calc(100% - 180px)",
    "left": "10px",
    "top": "150px",
    "width": "336px"
   },
   "toc_section_display": true,
   "toc_window_display": true
  }
 },
 "nbformat": 4,
 "nbformat_minor": 2
}
