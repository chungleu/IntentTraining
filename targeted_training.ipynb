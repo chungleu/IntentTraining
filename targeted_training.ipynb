{
 "cells": [
  {
   "cell_type": "markdown",
   "metadata": {},
   "source": [
    "# Targeted Training Notebook\n",
    "A practical guide to the targeted training process. \n",
    "\n",
    "**Author:** Kalyan Dutia (kalyan.dutia@ibm.com)"
   ]
  },
  {
   "cell_type": "markdown",
   "metadata": {},
   "source": [
    "Here we assume that you **already have your intents downloaded, in the `data/workspace_training` folder.** If you don't, you can manually download them or use the tool contained in the exploratory analysis notebook."
   ]
  },
  {
   "cell_type": "code",
   "execution_count": null,
   "metadata": {},
   "outputs": [],
   "source": [
    "# installs\n",
    "!pip install ibm_watson>=3.3\n",
    "!pip install itables\n",
    "!pip install pandas==0.24\n",
    "!pip install matplotlib==3.1.0\n",
    "!pip install seaborn"
   ]
  },
  {
   "cell_type": "code",
   "execution_count": 1,
   "metadata": {},
   "outputs": [
    {
     "data": {
      "application/javascript": [
       "require.config({\n",
       "    paths: {\n",
       "        datatables: 'https://cdn.datatables.net/1.10.19/js/jquery.dataTables.min',\n",
       "    }\n",
       "});\n",
       "\n",
       "$('head').append('<link rel=\"stylesheet\" type=\"text/css\"                 href = \"https://cdn.datatables.net/1.10.19/css/jquery.dataTables.min.css\" > ');\n",
       "\n",
       "$('head').append('<style> table td { text-overflow: ellipsis; overflow: hidden; } </style>');\n"
      ],
      "text/plain": [
       "<IPython.core.display.Javascript object>"
      ]
     },
     "metadata": {},
     "output_type": "display_data"
    }
   ],
   "source": [
    "# external imports\n",
    "import os\n",
    "from IPython.display import display, Markdown, clear_output\n",
    "import ipywidgets as widgets\n",
    "import pandas as pd\n",
    "import numpy as np\n",
    "import seaborn as sns\n",
    "from itables import show\n",
    "import logging\n",
    "import time\n",
    "import matplotlib.pyplot as plt\n",
    "\n",
    "# internal imports\n",
    "import config\n",
    "from cli_tools.get_intent_intersections import intent_intersections\n",
    "from cli_tools.diagnose_confusion import diagnose_confusion\n",
    "from conversation_test.kfoldtest import kfoldtest\n",
    "\n",
    "# config\n",
    "sns.set_style(\"whitegrid\")\n",
    "sns.set_context(\"notebook\")\n",
    "pd.set_option('display.max_colwidth', -1)\n",
    "\n",
    "logging.getLogger(\"requests\").setLevel(logging.WARNING)\n",
    "logging.getLogger(\"urllib3.connectionpool\").setLevel(logging.WARNING)\n"
   ]
  },
  {
   "cell_type": "markdown",
   "metadata": {},
   "source": [
    "## Load a skill\n",
    "If you can't see your skill here, check the `data/workspace_training` folder."
   ]
  },
  {
   "cell_type": "code",
   "execution_count": 10,
   "metadata": {},
   "outputs": [
    {
     "data": {
      "application/vnd.jupyter.widget-view+json": {
       "model_id": "b9747c61516a42908e0e201184689888",
       "version_major": 2,
       "version_minor": 0
      },
      "text/plain": [
       "Dropdown(options=('puppy', 'Customer Care Sample Skill'), value='puppy')"
      ]
     },
     "metadata": {},
     "output_type": "display_data"
    },
    {
     "data": {
      "text/markdown": [
       "**<span style='color:blue'>puppy</span>** skill selected. Training data sample:"
      ],
      "text/plain": [
       "<IPython.core.display.Markdown object>"
      ]
     },
     "metadata": {},
     "output_type": "display_data"
    },
    {
     "data": {
      "text/html": [
       "<div>\n",
       "<style scoped>\n",
       "    .dataframe tbody tr th:only-of-type {\n",
       "        vertical-align: middle;\n",
       "    }\n",
       "\n",
       "    .dataframe tbody tr th {\n",
       "        vertical-align: top;\n",
       "    }\n",
       "\n",
       "    .dataframe thead th {\n",
       "        text-align: right;\n",
       "    }\n",
       "</style>\n",
       "<table border=\"1\" class=\"dataframe\">\n",
       "  <thead>\n",
       "    <tr style=\"text-align: right;\">\n",
       "      <th></th>\n",
       "      <th>utterance</th>\n",
       "      <th>intent</th>\n",
       "    </tr>\n",
       "  </thead>\n",
       "  <tbody>\n",
       "    <tr>\n",
       "      <th>83</th>\n",
       "      <td>Was the litter sick for the puppy I want to get?</td>\n",
       "      <td>DOG_HEALTH</td>\n",
       "    </tr>\n",
       "    <tr>\n",
       "      <th>82</th>\n",
       "      <td>Will you tell me if the puppy has been sick?</td>\n",
       "      <td>DOG_HEALTH</td>\n",
       "    </tr>\n",
       "    <tr>\n",
       "      <th>125</th>\n",
       "      <td>Is meat okay for dogs three times a day</td>\n",
       "      <td>DOG_FOOD</td>\n",
       "    </tr>\n",
       "    <tr>\n",
       "      <th>111</th>\n",
       "      <td>do you sell dog food</td>\n",
       "      <td>DOG_FOOD</td>\n",
       "    </tr>\n",
       "    <tr>\n",
       "      <th>44</th>\n",
       "      <td>Can you immunise the dog before I get it</td>\n",
       "      <td>DOG_VACCINATIONS</td>\n",
       "    </tr>\n",
       "    <tr>\n",
       "      <th>122</th>\n",
       "      <td>what dog food do you sell</td>\n",
       "      <td>DOG_FOOD</td>\n",
       "    </tr>\n",
       "    <tr>\n",
       "      <th>73</th>\n",
       "      <td>Can you tell me about the pups wellbeing</td>\n",
       "      <td>DOG_HEALTH</td>\n",
       "    </tr>\n",
       "    <tr>\n",
       "      <th>103</th>\n",
       "      <td>How do I know if the mum has any EC titles</td>\n",
       "      <td>DOG_PARENTS_INFORMATION</td>\n",
       "    </tr>\n",
       "    <tr>\n",
       "      <th>51</th>\n",
       "      <td>Do I have to pay for the vaccinations?</td>\n",
       "      <td>DOG_VACCINATIONS</td>\n",
       "    </tr>\n",
       "    <tr>\n",
       "      <th>91</th>\n",
       "      <td>Is the puppy's mum still weaning it</td>\n",
       "      <td>DOG_PARENTS_INFORMATION</td>\n",
       "    </tr>\n",
       "  </tbody>\n",
       "</table>\n",
       "</div>"
      ],
      "text/plain": [
       "                                            utterance                   intent\n",
       "83   Was the litter sick for the puppy I want to get?  DOG_HEALTH             \n",
       "82   Will you tell me if the puppy has been sick?      DOG_HEALTH             \n",
       "125  Is meat okay for dogs three times a day           DOG_FOOD               \n",
       "111  do you sell dog food                              DOG_FOOD               \n",
       "44   Can you immunise the dog before I get it          DOG_VACCINATIONS       \n",
       "122  what dog food do you sell                         DOG_FOOD               \n",
       "73   Can you tell me about the pups wellbeing          DOG_HEALTH             \n",
       "103  How do I know if the mum has any EC titles        DOG_PARENTS_INFORMATION\n",
       "51   Do I have to pay for the vaccinations?            DOG_VACCINATIONS       \n",
       "91   Is the puppy's mum still weaning it               DOG_PARENTS_INFORMATION"
      ]
     },
     "metadata": {},
     "output_type": "display_data"
    }
   ],
   "source": [
    "def onchange(change):\n",
    "    if change['type'] == 'change' and change['name'] == 'value':\n",
    "        clear_output()\n",
    "        display(d)\n",
    "        display_sample(d, 10)\n",
    "\n",
    "def display_sample(d, samplesize):\n",
    "    if samplesize != None:\n",
    "        display(Markdown(\"**<span style='color:blue'>{}</span>** skill selected. Training data sample:\".format(d.value)))\n",
    "    training_file = training_files[d.index]\n",
    "\n",
    "    train_df = pd.read_csv(os.path.join(config.training_dir, training_file), names=['utterance', 'intent'])\n",
    "    if (len(train_df) > 0) & (samplesize != None):\n",
    "        display(train_df.sample(samplesize))\n",
    "    elif samplesize:\n",
    "        display(Markdown(\"<span style='color:red'>No intent training data exists for this workspace</span>\"))\n",
    "    \n",
    "    return train_df\n",
    "\n",
    "training_files = [file for file in os.listdir(config.training_dir) if file.endswith('.csv')]\n",
    "d = widgets.Dropdown(options=[item[0:len(item)-14] for item in training_files])\n",
    "d.observe(onchange)\n",
    "\n",
    "display(d)\n",
    "train_df = display_sample(d, 10)\n",
    "intents = train_df['intent'].unique()"
   ]
  },
  {
   "cell_type": "markdown",
   "metadata": {},
   "source": [
    "We also need the details of the workspace and instance in Watson:"
   ]
  },
  {
   "cell_type": "code",
   "execution_count": 3,
   "metadata": {},
   "outputs": [],
   "source": [
    "# first set workspace given selection above\n",
    "train_df = display_sample(d, None)\n",
    "\n",
    "# INSTANCE. Use one of apikey or username & password\n",
    "apikey = \"\"\n",
    "#username = \n",
    "#password = \n",
    "url = \"https://gateway.watsonplatform.net/assistant/api/\"\n",
    "\n",
    "# WORKSPACE \n",
    "workspace_id = \"\"\n",
    "threshold = 0.4\n",
    "\n",
    "# TEST PARAMS\n",
    "nfolds = 3"
   ]
  },
  {
   "cell_type": "markdown",
   "metadata": {},
   "source": [
    "## Run K-Fold test\n",
    "In order to work out which intents to target, we first run a K-Fold test on our workspace.\n",
    "You can also directly run one using the module in the `conversation_test` folder.\n",
    "\n",
    "The kfold test returns:\n",
    "- `results_kfold`: the classification per utterances\n",
    "- `classification_report`: f1 score, accuracy, precision and recall per intent, as well as averages\n",
    "\n",
    "If you haven't already set the number of folds or the threshold, have a look at the bottom of the above cell."
   ]
  },
  {
   "cell_type": "code",
   "execution_count": 4,
   "metadata": {
    "scrolled": true
   },
   "outputs": [
    {
     "name": "stderr",
     "output_type": "stream",
     "text": [
      "\u001b[38;2;128;128;128m[2019-08-05 16:26:28,724]\u001b[0m \u001b[32mINFO\u001b[0m \u001b[38;2;128;128;128m(kfoldtest): \u001b[0mYou have space to perform the k-fold test\n",
      "\u001b[38;2;128;128;128m[2019-08-05 16:26:28,743]\u001b[0m \u001b[36mDEBUG\u001b[0m \u001b[38;2;128;128;128m(kfoldtest): \u001b[0mfold num 1: train set: 89, test set: 47\n",
      "\u001b[38;2;128;128;128m[2019-08-05 16:26:28,744]\u001b[0m \u001b[36mDEBUG\u001b[0m \u001b[38;2;128;128;128m(kfoldtest): \u001b[0mfold num 2: train set: 91, test set: 45\n",
      "\u001b[38;2;128;128;128m[2019-08-05 16:26:28,745]\u001b[0m \u001b[36mDEBUG\u001b[0m \u001b[38;2;128;128;128m(kfoldtest): \u001b[0mfold num 3: train set: 92, test set: 44\n",
      "\u001b[38;2;128;128;128m[2019-08-05 16:26:28,746]\u001b[0m \u001b[32mINFO\u001b[0m \u001b[38;2;128;128;128m(kfoldtest): \u001b[0mCreating kfold workspaces..\n",
      "\u001b[38;2;128;128;128m[2019-08-05 16:26:34,452]\u001b[0m \u001b[32mINFO\u001b[0m \u001b[38;2;128;128;128m(kfoldtest): \u001b[0mChecking workspaces..\n",
      "\u001b[38;2;128;128;128m[2019-08-05 16:26:58,349]\u001b[0m \u001b[32mINFO\u001b[0m \u001b[38;2;128;128;128m(kfoldtest): \u001b[0mChecking workspaces..\n",
      "\u001b[38;2;128;128;128m[2019-08-05 16:26:58,816]\u001b[0m \u001b[36mDEBUG\u001b[0m \u001b[38;2;128;128;128m(kfoldtest): \u001b[0mWorkspace 1 available\n",
      "\u001b[38;2;128;128;128m[2019-08-05 16:27:00,460]\u001b[0m \u001b[36mDEBUG\u001b[0m \u001b[38;2;128;128;128m(kfoldtest): \u001b[0mWorkspace 2 available\n",
      "\u001b[38;2;128;128;128m[2019-08-05 16:27:21,039]\u001b[0m \u001b[32mINFO\u001b[0m \u001b[38;2;128;128;128m(kfoldtest): \u001b[0mChecking workspaces..\n",
      "\u001b[38;2;128;128;128m[2019-08-05 16:27:21,653]\u001b[0m \u001b[36mDEBUG\u001b[0m \u001b[38;2;128;128;128m(kfoldtest): \u001b[0mWorkspace 1 available\n",
      "\u001b[38;2;128;128;128m[2019-08-05 16:27:22,393]\u001b[0m \u001b[36mDEBUG\u001b[0m \u001b[38;2;128;128;128m(kfoldtest): \u001b[0mWorkspace 2 available\n",
      "\u001b[38;2;128;128;128m[2019-08-05 16:27:23,498]\u001b[0m \u001b[36mDEBUG\u001b[0m \u001b[38;2;128;128;128m(kfoldtest): \u001b[0mWorkspace 3 available\n",
      "\u001b[38;2;128;128;128m[2019-08-05 16:27:43,503]\u001b[0m \u001b[32mINFO\u001b[0m \u001b[38;2;128;128;128m(kfoldtest): \u001b[0mRunning test for fold 1\n",
      "100%|██████████| 47/47 [00:34<00:00,  2.13it/s]\n",
      "\u001b[38;2;128;128;128m[2019-08-05 16:28:18,486]\u001b[0m \u001b[32mINFO\u001b[0m \u001b[38;2;128;128;128m(kfoldtest): \u001b[0mRunning test for fold 2\n",
      "100%|██████████| 45/45 [00:27<00:00,  1.08s/it]\n",
      "\u001b[38;2;128;128;128m[2019-08-05 16:28:45,807]\u001b[0m \u001b[32mINFO\u001b[0m \u001b[38;2;128;128;128m(kfoldtest): \u001b[0mRunning test for fold 3\n",
      "100%|██████████| 44/44 [00:21<00:00,  2.15it/s]\n",
      "\u001b[38;2;128;128;128m[2019-08-05 16:29:07,747]\u001b[0m \u001b[32mINFO\u001b[0m \u001b[38;2;128;128;128m(kfoldtest): \u001b[0mDeleting temporary workspaces\n"
     ]
    }
   ],
   "source": [
    "import logging\n",
    "logger = logging.getLogger()\n",
    "logger.setLevel(logging.CRITICAL)\n",
    "\n",
    "kfold = kfoldtest(apikey=apikey, url=url, n_folds=nfolds, threshold=threshold)\n",
    "kfold.intent_df_from_df(train_df)\n",
    "results_kfold, classification_report = kfold.full_run_kfold_from_df(train_df)"
   ]
  },
  {
   "cell_type": "markdown",
   "metadata": {},
   "source": [
    "### View worst performing intents\n",
    "We'll first choose a metric, then create a CSV showing the worst performing intents which can be used for annotation throughout this process."
   ]
  },
  {
   "cell_type": "code",
   "execution_count": 5,
   "metadata": {},
   "outputs": [
    {
     "data": {
      "text/markdown": [
       "Now, we need to <span style='color:blue'>choose which metric to prioritise for this workspace.</span>\n",
       " \n",
       " If FPs and FNs are equally negative, then you may want to look at F1 score. More on this in **Section x** of the training at scale guide.\n",
       " \n",
       "**Preferred metric:**"
      ],
      "text/plain": [
       "<IPython.core.display.Markdown object>"
      ]
     },
     "metadata": {},
     "output_type": "display_data"
    },
    {
     "data": {
      "application/vnd.jupyter.widget-view+json": {
       "model_id": "58962609c8ef4accad2db61aeee55fee",
       "version_major": 2,
       "version_minor": 0
      },
      "text/plain": [
       "Dropdown(options=('precision', 'recall', 'accuracy', 'F1'), value='precision')"
      ]
     },
     "metadata": {},
     "output_type": "display_data"
    }
   ],
   "source": [
    "display(Markdown(\"Now, we need to <span style='color:blue'>choose which metric to prioritise for this workspace.</span>\" \n",
    "\n",
    "\"\\n \\n If FPs and FNs are equally negative, then you may want to look at F1 score. More on this in **Section x** of the training at scale guide.\"\n",
    "\n",
    "\"\\n \\n**Preferred metric:**\"))\n",
    "        \n",
    "d_m = widgets.Dropdown(options=['precision', 'recall', 'accuracy', 'F1'])\n",
    "display(d_m)"
   ]
  },
  {
   "cell_type": "code",
   "execution_count": 6,
   "metadata": {},
   "outputs": [
    {
     "data": {
      "text/markdown": [
       "We can then view K-fold results sorted by this metric, with a column added to show the size of the training set, and a couple more for annotation."
      ],
      "text/plain": [
       "<IPython.core.display.Markdown object>"
      ]
     },
     "metadata": {},
     "output_type": "display_data"
    },
    {
     "data": {
      "text/markdown": [
       "These results have been exported to <span style='color:blue'>/Users/kalyan/Documents/practice-cog/intent_training_tools/results/puppy_kfold_results_20190805-1629.csv</span> for annotation throughout the targeted training process."
      ],
      "text/plain": [
       "<IPython.core.display.Markdown object>"
      ]
     },
     "metadata": {},
     "output_type": "display_data"
    },
    {
     "data": {
      "text/html": [
       "<div>\n",
       "<style scoped>\n",
       "    .dataframe tbody tr th:only-of-type {\n",
       "        vertical-align: middle;\n",
       "    }\n",
       "\n",
       "    .dataframe tbody tr th {\n",
       "        vertical-align: top;\n",
       "    }\n",
       "\n",
       "    .dataframe thead th {\n",
       "        text-align: right;\n",
       "    }\n",
       "</style>\n",
       "<table border=\"1\" class=\"dataframe\">\n",
       "  <thead>\n",
       "    <tr style=\"text-align: right;\">\n",
       "      <th>confusion</th>\n",
       "      <th>threshold</th>\n",
       "      <th>accuracy</th>\n",
       "      <th>precision</th>\n",
       "      <th>recall</th>\n",
       "      <th>F1</th>\n",
       "      <th>train_size</th>\n",
       "      <th>comment</th>\n",
       "      <th>action</th>\n",
       "    </tr>\n",
       "  </thead>\n",
       "  <tbody>\n",
       "    <tr>\n",
       "      <th>DOG_HEALTH</th>\n",
       "      <td>0.4</td>\n",
       "      <td>0.718750</td>\n",
       "      <td>0.733333</td>\n",
       "      <td>0.956522</td>\n",
       "      <td>0.830189</td>\n",
       "      <td>29</td>\n",
       "      <td></td>\n",
       "      <td></td>\n",
       "    </tr>\n",
       "    <tr>\n",
       "      <th>PURCHASE_DOG</th>\n",
       "      <td>0.4</td>\n",
       "      <td>0.757576</td>\n",
       "      <td>0.827586</td>\n",
       "      <td>0.888889</td>\n",
       "      <td>0.857143</td>\n",
       "      <td>28</td>\n",
       "      <td></td>\n",
       "      <td></td>\n",
       "    </tr>\n",
       "    <tr>\n",
       "      <th>DOG_PARENTS_INFORMATION</th>\n",
       "      <td>0.4</td>\n",
       "      <td>0.869565</td>\n",
       "      <td>0.869565</td>\n",
       "      <td>1.000000</td>\n",
       "      <td>0.930233</td>\n",
       "      <td>24</td>\n",
       "      <td></td>\n",
       "      <td></td>\n",
       "    </tr>\n",
       "    <tr>\n",
       "      <th>DOG_VACCINATIONS</th>\n",
       "      <td>0.4</td>\n",
       "      <td>0.857143</td>\n",
       "      <td>0.900000</td>\n",
       "      <td>0.947368</td>\n",
       "      <td>0.923077</td>\n",
       "      <td>28</td>\n",
       "      <td></td>\n",
       "      <td></td>\n",
       "    </tr>\n",
       "    <tr>\n",
       "      <th>DOG_FOOD</th>\n",
       "      <td>0.4</td>\n",
       "      <td>0.925926</td>\n",
       "      <td>0.960000</td>\n",
       "      <td>0.960000</td>\n",
       "      <td>0.960000</td>\n",
       "      <td>27</td>\n",
       "      <td></td>\n",
       "      <td></td>\n",
       "    </tr>\n",
       "  </tbody>\n",
       "</table>\n",
       "</div>"
      ],
      "text/plain": [
       "confusion                threshold  accuracy  precision    recall        F1  \\\n",
       "DOG_HEALTH               0.4        0.718750  0.733333   0.956522  0.830189   \n",
       "PURCHASE_DOG             0.4        0.757576  0.827586   0.888889  0.857143   \n",
       "DOG_PARENTS_INFORMATION  0.4        0.869565  0.869565   1.000000  0.930233   \n",
       "DOG_VACCINATIONS         0.4        0.857143  0.900000   0.947368  0.923077   \n",
       "DOG_FOOD                 0.4        0.925926  0.960000   0.960000  0.960000   \n",
       "\n",
       "confusion                train_size comment action  \n",
       "DOG_HEALTH               29                         \n",
       "PURCHASE_DOG             28                         \n",
       "DOG_PARENTS_INFORMATION  24                         \n",
       "DOG_VACCINATIONS         28                         \n",
       "DOG_FOOD                 27                         "
      ]
     },
     "metadata": {},
     "output_type": "display_data"
    }
   ],
   "source": [
    "cl_rep_export = classification_report.loc[intents, :].sort_values(d_m.value, ascending=True)\n",
    "cl_rep_export = cl_rep_export.drop(columns='set size')\n",
    "\n",
    "intent_sizes = train_df.groupby('intent').count()\n",
    "cl_rep_export['train_size'] = intent_sizes\n",
    "\n",
    "cl_rep_export['comment'] = \"\"\n",
    "cl_rep_export['action'] = \"\"\n",
    "\n",
    "timestr = time.strftime(\"%Y%m%d-%H%M\")\n",
    "filename = d.value + '_kfold_results_' + timestr + '.csv'\n",
    "output_path = os.path.join(config.output_folder, filename)\n",
    "cl_rep_export.to_csv(output_path)\n",
    "\n",
    "display(Markdown(\"We can then view K-fold results sorted by this metric, with a column added to show the size of the training set, and a couple more for annotation.\"))\n",
    "display(Markdown(\"These results have been exported to <span style='color:blue'>{}</span> for annotation throughout the targeted training process.\".format(output_path)))\n",
    "display(cl_rep_export)\n",
    "\n"
   ]
  },
  {
   "cell_type": "code",
   "execution_count": 7,
   "metadata": {
    "scrolled": false
   },
   "outputs": [
    {
     "data": {
      "text/markdown": [
       "We can also view a plot of these."
      ],
      "text/plain": [
       "<IPython.core.display.Markdown object>"
      ]
     },
     "metadata": {},
     "output_type": "display_data"
    },
    {
     "data": {
      "image/png": "[encoded data removed]",
      "text/plain": [
       "<Figure size 720x720 with 4 Axes>"
      ]
     },
     "metadata": {
      "needs_background": "light"
     },
     "output_type": "display_data"
    }
   ],
   "source": [
    "display(Markdown(\"We can also view a plot of these.\"))\n",
    "melt_df = cl_rep_export.reset_index().melt(id_vars=['index'], value_vars=['F1', 'accuracy', 'precision', 'recall']).rename(columns={'confusion': 'metric'})\n",
    "ax = sns.catplot(data=melt_df, col_wrap=2, x='index', y='value', col='metric', kind='bar', hue=\"metric\")\n",
    "[plt.setp(ax.get_xticklabels(), rotation=80) for ax in ax.axes.flat];"
   ]
  },
  {
   "cell_type": "markdown",
   "metadata": {},
   "source": [
    "## Assess Root Cause\n",
    "The next stage is to write some comments and actions for the training that is needed. To do this we'll use the tools in this section."
   ]
  },
  {
   "cell_type": "markdown",
   "metadata": {},
   "source": [
    "### More training?\n",
    "A common sign that an intent needs more training is that it has **low recall**: it is commonly not matching intents with enough confidence to provide a response. To test for this we can plot recall against training set size for our intents. \n",
    "\n",
    "You should investigate any intents which fall on the bottom left hand size of this plot as candidates for getting more training."
   ]
  },
  {
   "cell_type": "code",
   "execution_count": 8,
   "metadata": {},
   "outputs": [
    {
     "data": {
      "image/png": "[encoded data removed]",
      "text/plain": [
       "<Figure size 360x360 with 1 Axes>"
      ]
     },
     "metadata": {
      "needs_background": "light"
     },
     "output_type": "display_data"
    }
   ],
   "source": [
    "ax = sns.lmplot(data=cl_rep_export, x='train_size', y='recall', fit_reg=False)\n",
    "ax.axes[0,0].set_title('Intent Size vs Recall')\n",
    "ax.axes[0,0].set_ylim(0,1);"
   ]
  },
  {
   "cell_type": "markdown",
   "metadata": {},
   "source": [
    "### Intent Overlaps\n",
    "Here we'll use tools to find overlapping phrases between intents that may be causing confusion between them. \n",
    "\n",
    "Change the parameters in the next cell to choose the length of the ngrams being searched for, and whether to remove stopwords."
   ]
  },
  {
   "cell_type": "code",
   "execution_count": 9,
   "metadata": {},
   "outputs": [],
   "source": [
    "ngram_list = [4,5] \n",
    "stopwords = 'none' # stopwords_in can be none, nltk, or config"
   ]
  },
  {
   "cell_type": "code",
   "execution_count": 10,
   "metadata": {},
   "outputs": [
    {
     "data": {
      "image/png": "[encoded data removed]",
      "text/plain": [
       "<Figure size 432x288 with 1 Axes>"
      ]
     },
     "metadata": {
      "needs_background": "light"
     },
     "output_type": "display_data"
    }
   ],
   "source": [
    "ii = intent_intersections(ngram_list, stopwords_in=stopwords, intent_col='intent')\n",
    "ii.import_training_df(train_df)\n",
    "intersection_df, intersection_size_df = ii.calculate_ngram_intersections()\n",
    "\n",
    "intersection_size_df = intersection_size_df.fillna(0)\n",
    "heatmap_colors = sns.cubehelix_palette(8, start=2, rot=0, dark=0.2, light=.95, reverse=False)\n",
    "ax = sns.heatmap(intersection_size_df, annot=True, cmap=heatmap_colors, cbar=False, square=True)\n",
    "ax.set_title('Intent Overlap Matrix');"
   ]
  },
  {
   "cell_type": "markdown",
   "metadata": {},
   "source": [
    "Next, we can look into specific overlaps:"
   ]
  },
  {
   "cell_type": "code",
   "execution_count": 11,
   "metadata": {},
   "outputs": [
    {
     "data": {
      "application/vnd.jupyter.widget-view+json": {
       "model_id": "375abca1708041fe929a556dff6f8c29",
       "version_major": 2,
       "version_minor": 0
      },
      "text/plain": [
       "Dropdown(options=('purchase_dog', 'dog_vaccinations', 'dog_health', 'dog_parents_information', 'dog_food'), va…"
      ]
     },
     "metadata": {},
     "output_type": "display_data"
    },
    {
     "data": {
      "application/vnd.jupyter.widget-view+json": {
       "model_id": "4366f60e06c1494386e4b598588ef053",
       "version_major": 2,
       "version_minor": 0
      },
      "text/plain": [
       "Dropdown(options=('purchase_dog', 'dog_vaccinations', 'dog_health', 'dog_parents_information', 'dog_food'), va…"
      ]
     },
     "metadata": {},
     "output_type": "display_data"
    },
    {
     "data": {
      "text/markdown": [
       "Intents chosen can't be the same"
      ],
      "text/plain": [
       "<IPython.core.display.Markdown object>"
      ]
     },
     "metadata": {},
     "output_type": "display_data"
    }
   ],
   "source": [
    "def onchange(change):\n",
    "    if change['type'] == 'change' and change['name'] == 'value':\n",
    "        clear_output()\n",
    "        display(d01)\n",
    "        display(d02)\n",
    "        display_intent_overlap(d01.value, d02.value)\n",
    "\n",
    "def display_intent_overlap(intent1, intent2):\n",
    "    if d01.value != d02.value:\n",
    "        ngrams_per_intent_df, ngram_freq_df = ii.get_ngrams_per_intent()\n",
    "        overlap_df = ii.get_intersection_freqs([intent1, intent2], ngram_freq_df)\n",
    "        overlap_df = overlap_df.sort_values([intent1, intent2], ascending=False)\n",
    "        display(overlap_df)\n",
    "    else:\n",
    "        display(Markdown(\"Intents chosen can't be the same\"))\n",
    "\n",
    "d01 = widgets.Dropdown(options=train_df['intent'].unique())\n",
    "d02 = widgets.Dropdown(options=train_df['intent'].unique())\n",
    "\n",
    "d01.observe(onchange)\n",
    "d02.observe(onchange)\n",
    "\n",
    "display(d01)\n",
    "display(d02)\n",
    "display_intent_overlap(d01.value, d02.value)"
   ]
  },
  {
   "cell_type": "code",
   "execution_count": 12,
   "metadata": {},
   "outputs": [
    {
     "data": {
      "text/markdown": [
       "You can use the table below to search through training utterances."
      ],
      "text/plain": [
       "<IPython.core.display.Markdown object>"
      ]
     },
     "metadata": {},
     "output_type": "display_data"
    },
    {
     "data": {
      "text/html": [
       "<div><table id=\"d5e0270e-a7e0-4f93-81ff-c3c2862314c2\" class=\"display\"><thead>\n",
       "    <tr style=\"text-align: right;\">\n",
       "      \n",
       "      <th>utterance</th>\n",
       "      <th>intent</th>\n",
       "    </tr>\n",
       "  </thead></table>\n",
       "<script type=\"text/javascript\">\n",
       "require([\"datatables\"], function (datatables) {\n",
       "    $(document).ready(function () {\n",
       "        function eval_functions(map_or_text) {\n",
       "            if (typeof map_or_text === \"string\") {\n",
       "                if (map_or_text.startsWith(\"function\")) {\n",
       "                    try {\n",
       "                        // Note: parenthesis are required around the whole expression for eval to return a value!\n",
       "                        // See https://stackoverflow.com/a/7399078/911298.\n",
       "                        //\n",
       "                        // eval(\"local_fun = \" + map_or_text) would fail because local_fun is not declared\n",
       "                        // (using var, let or const would work, but it would only be declared in the local scope\n",
       "                        // and therefore the value could not be retrieved).\n",
       "                        const func = eval(`(${map_or_text})`);\n",
       "                        if (typeof func !== \"function\") {\n",
       "                            // Note: backquotes are super convenient! \n",
       "                            // https://developer.mozilla.org/en-US/docs/Web/JavaScript/Reference/Template_literals\n",
       "                            console.error(\n",
       "                                `Evaluated expression \"${map_or_text}\" is not a function (type is ${typeof func})`\n",
       "                            );\n",
       "                            return map_or_text;\n",
       "                        }\n",
       "                        // Return the function        \n",
       "                        return func;\n",
       "                    } catch (e) {\n",
       "                        // Make sure to print the error with a second argument to console.error().\n",
       "                        console.error(`itables was not able to parse \"${map_or_text}\"`, e);\n",
       "                    }\n",
       "                }\n",
       "            } else if (typeof map_or_text === \"object\") {\n",
       "                if (map_or_text instanceof Array) {\n",
       "                    // Note: \"var\" is now superseded by \"let\" and \"const\".\n",
       "                    // https://medium.com/javascript-scene/javascript-es6-var-let-or-const-ba58b8dcde75\n",
       "                    const result = [];\n",
       "                    // Note: \"for of\" is the best way to iterate through an iterable.\n",
       "                    // https://developer.mozilla.org/en-US/docs/Web/JavaScript/Reference/Statements/for...of\n",
       "                    for (const item of map_or_text) {\n",
       "                        result.push(eval_functions(item));\n",
       "                    }\n",
       "                    return result;\n",
       "\n",
       "                    // Alternatively, more functional approach in one line:\n",
       "                    // return map_or_text.map(eval_functions);\n",
       "                } else {\n",
       "                    const result = {};\n",
       "                    // Object.keys() is safer than \"for in\" because otherwise you might have keys\n",
       "                    // that aren't defined in the object itself.\n",
       "                    //\n",
       "                    // See https://stackoverflow.com/a/684692/911298.\n",
       "                    for (const item of Object.keys(map_or_text)) {\n",
       "                        result[item] = eval_functions(map_or_text[item]);\n",
       "                    }\n",
       "                    return result;\n",
       "                }\n",
       "            }\n",
       "\n",
       "            return map_or_text;\n",
       "        }\n",
       "        var dt_args = {\"data\": [[\"I want to buy a minature schnauzer\", \"purchase_dog\"], [\"I've looked at the pictures and I'm ready to buy a puppy.\", \"purchase_dog\"], [\"I would like to buy a chinook\", \"purchase_dog\"], [\"hello, what should I do to buy a puppy?\", \"purchase_dog\"], [\"Can I buy a kaiken\", \"purchase_dog\"], [\"I want a dog\", \"purchase_dog\"], [\"I'm looking to buy a dog\", \"purchase_dog\"], [\"I'd like to buy a wolfhound\", \"purchase_dog\"], [\"i want to get a puppy\", \"purchase_dog\"], [\"Hi I'd like to buy a dog\", \"purchase_dog\"], [\"No I wanted a puppy.\", \"purchase_dog\"], [\"I want to buy a chinook\", \"purchase_dog\"], [\"What dog can I purchase?\", \"purchase_dog\"], [\"Where can I buy a dog\", \"purchase_dog\"], [\"Can I get a puppy?\", \"purchase_dog\"], [\"I need a pup\", \"purchase_dog\"], [\"How can I buy puppies on the internet\", \"purchase_dog\"], [\"Do you sell doggies\", \"purchase_dog\"], [\"where are the best deals on pups\", \"purchase_dog\"], [\"can I order a doggo online\", \"purchase_dog\"], [\"is it always bad to buy a dog from a farm\", \"purchase_dog\"], [\"Can I buy my dog on finance\", \"purchase_dog\"], [\"what is the right price for a pedigree lab\", \"purchase_dog\"], [\"is \\u00a32000 too much for a FTCH collie\", \"purchase_dog\"], [\"where is the puppy pricing\", \"purchase_dog\"], [\"Will different pups cost different prices\", \"purchase_dog\"], [\"i want to add a dog to the family. How much would it cost\", \"purchase_dog\"], [\"where should I look to find a breeder for a dog\", \"purchase_dog\"], [\"how can I check if my rescue staffy is up to date with it's injections\", \"dog_vaccinations\"], [\"I wanna get my terrier an annual set of jabs\", \"dog_vaccinations\"], [\"my hound is not overdue its last AC jab\", \"dog_vaccinations\"], [\"at what age do I not need to get my pooch jabs\", \"dog_vaccinations\"], [\"does a pedigree need different immunisations to a mutt\", \"dog_vaccinations\"], [\"I need to get some injections for my drakehead lab\", \"dog_vaccinations\"], [\"do you need to have allthe vaccinations recommended\", \"dog_vaccinations\"], [\"can I combine my dogs next check up with some vaccinations\", \"dog_vaccinations\"], [\"is it illegal to not get your dog jabs\", \"dog_vaccinations\"], [\"is there such thing as antivax for dogs\", \"dog_vaccinations\"], [\"my little dog is not coping with vaccinations\", \"dog_vaccinations\"], [\"can I book some shots for my dog\", \"dog_vaccinations\"], [\"are there any vaccinations I should give my pupper next year\", \"dog_vaccinations\"], [\"my poodle had it's first set of vaccs last week and I want to get the next set, when should I do this\", \"dog_vaccinations\"], [\"Can you vaccinate the dog so it doesn't get sick\", \"dog_vaccinations\"], [\"I want my puppy to be protected against disease\", \"dog_vaccinations\"], [\"Can you immunise the dog before I get it\", \"dog_vaccinations\"], [\"Has the pupperino had its shots\", \"dog_vaccinations\"], [\"Has my puppy had all its injections\", \"dog_vaccinations\"], [\"Is the dog fully vaccinated\", \"dog_vaccinations\"], [\"How many jabs has the puppy had\", \"dog_vaccinations\"], [\"When is the next dose due of the vaccination?\", \"dog_vaccinations\"], [\"What about vaccinations?\", \"dog_vaccinations\"], [\"Do I have to pay for the vaccinations?\", \"dog_vaccinations\"], [\"what are they vaccinated against\", \"dog_vaccinations\"], [\"do you give shots to your dogs\", \"dog_vaccinations\"], [\"Are puppies already vaccinated?\", \"dog_vaccinations\"], [\"Do you vaccinate your dogs?\", \"dog_vaccinations\"], [\"my pups not very happy\", \"dog_health\"], [\"kennel cough advice\", \"dog_health\"], [\"I want to get my dog a check up urgently. He don't seem the same\", \"dog_health\"], [\"I think my dog has rabies\", \"dog_health\"], [\"my puppy has been shivering all night\", \"dog_health\"], [\"do dogs get depression\", \"dog_health\"], [\"my puppy is not like the other puppies\", \"dog_health\"], [\"I gave my pug coffee and now it looks sick\", \"dog_health\"], [\"my G.S has been diagnosed with cancer and I don't know what to do\", \"dog_health\"], [\"my pup don't look so great. What does it need\", \"dog_health\"], [\"my chow chow is not so well well\", \"dog_health\"], [\"how can i prevent my dog getting sick again\", \"dog_health\"], [\"is there any common illnesses in a dog\", \"dog_health\"], [\"my puppy is showing signs of illnes\", \"dog_health\"], [\"my dog vomitted last night\", \"dog_health\"], [\"Can the dog see properly\", \"dog_health\"], [\"Has the puppy shown any signs of sickness\", \"dog_health\"], [\"Can you tell me about the pups wellbeing\", \"dog_health\"], [\"I'm concerned about the health of the animals\", \"dog_health\"], [\"what is the health status of your puppies?\", \"dog_health\"], [\"Does the animal have fleas\", \"dog_health\"], [\"Can you tell me if the puppy is diseased\", \"dog_health\"], [\"Has the dog been ill before\", \"dog_health\"], [\"Is the puppy well?\", \"dog_health\"], [\"Does the puppy look healthy?\", \"dog_health\"], [\"Can I return the puppy if it has health issues?\", \"dog_health\"], [\"Will you tell me if the puppy has been sick?\", \"dog_health\"], [\"Was the litter sick for the puppy I want to get?\", \"dog_health\"], [\"does the puppies siblings get sick?\", \"dog_health\"], [\"I need to check the validity of my puppies mum's KCC register\", \"dog_parents_information\"], [\"Can I come in and look at the puppies with the mother?\", \"dog_parents_information\"], [\"Can I interview the parents?\", \"dog_parents_information\"], [\"how old is the mother?\", \"dog_parents_information\"], [\"Can look at the parents beforehand?\", \"dog_parents_information\"], [\"Does the mother get on well with children\", \"dog_parents_information\"], [\"Is the puppy's mum still weaning it\", \"dog_parents_information\"], [\"Has the bitch been vaccinated\", \"dog_parents_information\"], [\"Is this the mother's first litter\", \"dog_parents_information\"], [\"Who's the puppy's father\", \"dog_parents_information\"], [\"Is the father pedigree\", \"dog_parents_information\"], [\"are the labradoodles F1 or F2\", \"dog_parents_information\"], [\"I want to know more about their parenting\", \"dog_parents_information\"], [\"are they bred from a puppy farm or is the mother a family pet\", \"dog_parents_information\"], [\"where can I research my dogs ancestry\", \"dog_parents_information\"], [\"If both parents are pedigree, does my doggo become pedigree\", \"dog_parents_information\"], [\"is it a warning sign if I can't meet the parents\", \"dog_parents_information\"], [\"Is the dad a FTCH\", \"dog_parents_information\"], [\"How do I know if the mum has any EC titles\", \"dog_parents_information\"], [\"how long does the mum wean her pups\", \"dog_parents_information\"], [\"can I meet the father\", \"dog_parents_information\"], [\"is the dad a wirecoat or softcoat fox terrier\", \"dog_parents_information\"], [\"whre can I check if my dogs parentals have bred before\", \"dog_parents_information\"], [\"what are signs the mater is not good\", \"dog_parents_information\"], [\"can my puppy eat human food\", \"dog_food\"], [\"can my puppy eat adult food\", \"dog_food\"], [\"do you sell dog food\", \"dog_food\"], [\"I have just got a litter of puppies and don't know if I can feed them anything but milk\", \"dog_food\"], [\"do dogs eat chicken\", \"dog_food\"], [\"Do I always need to buy my dog the same food\", \"dog_food\"], [\"What is a good serving to give a dog\", \"dog_food\"], [\"is any dog food bad for a dogs teeth?\", \"dog_food\"], [\"can I put gravy on my dogs food\", \"dog_food\"], [\"is dry food bad for dogs\", \"dog_food\"], [\"can my dog have wet food\", \"dog_food\"], [\"can I mix my dogs food\", \"dog_food\"], [\"how often should I feed my dog\", \"dog_food\"], [\"what dog food do you sell\", \"dog_food\"], [\"do dogs taste food like humans taste food\", \"dog_food\"], [\"Can dogs eat people food\", \"dog_food\"], [\"Is meat okay for dogs three times a day\", \"dog_food\"], [\"Can dogs have canned food for lunch\", \"dog_food\"], [\"Can pups eat normal meat\", \"dog_food\"], [\"Is tinned dog food okay for puppies\", \"dog_food\"], [\"What do puppies like to eat\", \"dog_food\"], [\"I don't know what dogs eat\", \"dog_food\"], [\"That's good to know. Does the food taste nice?\", \"dog_food\"], [\"What food do you sell\", \"dog_food\"], [\"What food do you have?\", \"dog_food\"], [\"What sort of food do I need to get to keep the puppy happy?\", \"dog_food\"], [\"is it bad to feed my mutt leftovers\", \"dog_food\"]]};\n",
       "        dt_args = eval_functions(dt_args);\n",
       "        table = $('#d5e0270e-a7e0-4f93-81ff-c3c2862314c2').DataTable(dt_args);\n",
       "    });\n",
       "})\n",
       "</script>\n",
       "</div>\n"
      ],
      "text/plain": [
       "<IPython.core.display.HTML object>"
      ]
     },
     "metadata": {},
     "output_type": "display_data"
    }
   ],
   "source": [
    "display(Markdown(\"You can use the table below to search through training utterances.\"))\n",
    "show(train_df[['utterance', 'intent']])"
   ]
  },
  {
   "cell_type": "markdown",
   "metadata": {},
   "source": [
    "### Diagnose Confusion\n",
    "You can also find training utterances that may have caused misclassifications, by entering an utterance that has been misclassified.\n",
    "Note that the list produced is only a guide which will find the most obvious samples (no stemming or lemmatisation), and in no way exhaustive.\n",
    "\n",
    "You should also use the table above to search for different forms of words in the utterance."
   ]
  },
  {
   "cell_type": "code",
   "execution_count": 12,
   "metadata": {},
   "outputs": [
    {
     "data": {
      "application/vnd.jupyter.widget-view+json": {
       "model_id": "79498edbcdf848efb4ba88487c557081",
       "version_major": 2,
       "version_minor": 0
      },
      "text/plain": [
       "Text(value='i want to buy a dog')"
      ]
     },
     "metadata": {},
     "output_type": "display_data"
    },
    {
     "data": {
      "text/html": [
       "<div>\n",
       "<style scoped>\n",
       "    .dataframe tbody tr th:only-of-type {\n",
       "        vertical-align: middle;\n",
       "    }\n",
       "\n",
       "    .dataframe tbody tr th {\n",
       "        vertical-align: top;\n",
       "    }\n",
       "\n",
       "    .dataframe thead th {\n",
       "        text-align: right;\n",
       "    }\n",
       "</style>\n",
       "<table border=\"1\" class=\"dataframe\">\n",
       "  <thead>\n",
       "    <tr style=\"text-align: right;\">\n",
       "      <th></th>\n",
       "      <th>utterance</th>\n",
       "      <th>Intent</th>\n",
       "      <th>ngrams found</th>\n",
       "    </tr>\n",
       "  </thead>\n",
       "  <tbody>\n",
       "    <tr>\n",
       "      <th>130</th>\n",
       "      <td>I don't know what dogs eat</td>\n",
       "      <td>dog_food</td>\n",
       "      <td>'dog'</td>\n",
       "    </tr>\n",
       "    <tr>\n",
       "      <th>114</th>\n",
       "      <td>Do I always need to buy my dog the same food</td>\n",
       "      <td>dog_food</td>\n",
       "      <td>'buy', 'dog'</td>\n",
       "    </tr>\n",
       "    <tr>\n",
       "      <th>111</th>\n",
       "      <td>do you sell dog food</td>\n",
       "      <td>dog_food</td>\n",
       "      <td>'dog'</td>\n",
       "    </tr>\n",
       "    <tr>\n",
       "      <th>128</th>\n",
       "      <td>Is tinned dog food okay for puppies</td>\n",
       "      <td>dog_food</td>\n",
       "      <td>'dog'</td>\n",
       "    </tr>\n",
       "    <tr>\n",
       "      <th>115</th>\n",
       "      <td>What is a good serving to give a dog</td>\n",
       "      <td>dog_food</td>\n",
       "      <td>'dog'</td>\n",
       "    </tr>\n",
       "    <tr>\n",
       "      <th>116</th>\n",
       "      <td>is any dog food bad for a dogs teeth?</td>\n",
       "      <td>dog_food</td>\n",
       "      <td>'dog'</td>\n",
       "    </tr>\n",
       "    <tr>\n",
       "      <th>117</th>\n",
       "      <td>can I put gravy on my dogs food</td>\n",
       "      <td>dog_food</td>\n",
       "      <td>'dog'</td>\n",
       "    </tr>\n",
       "    <tr>\n",
       "      <th>118</th>\n",
       "      <td>is dry food bad for dogs</td>\n",
       "      <td>dog_food</td>\n",
       "      <td>'dog'</td>\n",
       "    </tr>\n",
       "    <tr>\n",
       "      <th>119</th>\n",
       "      <td>can my dog have wet food</td>\n",
       "      <td>dog_food</td>\n",
       "      <td>'dog'</td>\n",
       "    </tr>\n",
       "    <tr>\n",
       "      <th>113</th>\n",
       "      <td>do dogs eat chicken</td>\n",
       "      <td>dog_food</td>\n",
       "      <td>'dog'</td>\n",
       "    </tr>\n",
       "    <tr>\n",
       "      <th>120</th>\n",
       "      <td>can I mix my dogs food</td>\n",
       "      <td>dog_food</td>\n",
       "      <td>'dog'</td>\n",
       "    </tr>\n",
       "    <tr>\n",
       "      <th>121</th>\n",
       "      <td>how often should I feed my dog</td>\n",
       "      <td>dog_food</td>\n",
       "      <td>'dog'</td>\n",
       "    </tr>\n",
       "    <tr>\n",
       "      <th>122</th>\n",
       "      <td>what dog food do you sell</td>\n",
       "      <td>dog_food</td>\n",
       "      <td>'dog'</td>\n",
       "    </tr>\n",
       "    <tr>\n",
       "      <th>123</th>\n",
       "      <td>do dogs taste food like humans taste food</td>\n",
       "      <td>dog_food</td>\n",
       "      <td>'dog'</td>\n",
       "    </tr>\n",
       "    <tr>\n",
       "      <th>124</th>\n",
       "      <td>Can dogs eat people food</td>\n",
       "      <td>dog_food</td>\n",
       "      <td>'dog'</td>\n",
       "    </tr>\n",
       "    <tr>\n",
       "      <th>125</th>\n",
       "      <td>Is meat okay for dogs three times a day</td>\n",
       "      <td>dog_food</td>\n",
       "      <td>'dog'</td>\n",
       "    </tr>\n",
       "    <tr>\n",
       "      <th>126</th>\n",
       "      <td>Can dogs have canned food for lunch</td>\n",
       "      <td>dog_food</td>\n",
       "      <td>'dog'</td>\n",
       "    </tr>\n",
       "    <tr>\n",
       "      <th>78</th>\n",
       "      <td>Has the dog been ill before</td>\n",
       "      <td>dog_health</td>\n",
       "      <td>'dog'</td>\n",
       "    </tr>\n",
       "    <tr>\n",
       "      <th>58</th>\n",
       "      <td>I want to get my dog a check up urgently. He don't seem the same</td>\n",
       "      <td>dog_health</td>\n",
       "      <td>'want', 'dog'</td>\n",
       "    </tr>\n",
       "    <tr>\n",
       "      <th>59</th>\n",
       "      <td>I think my dog has rabies</td>\n",
       "      <td>dog_health</td>\n",
       "      <td>'dog'</td>\n",
       "    </tr>\n",
       "    <tr>\n",
       "      <th>61</th>\n",
       "      <td>do dogs get depression</td>\n",
       "      <td>dog_health</td>\n",
       "      <td>'dog'</td>\n",
       "    </tr>\n",
       "    <tr>\n",
       "      <th>67</th>\n",
       "      <td>how can i prevent my dog getting sick again</td>\n",
       "      <td>dog_health</td>\n",
       "      <td>'dog'</td>\n",
       "    </tr>\n",
       "    <tr>\n",
       "      <th>83</th>\n",
       "      <td>Was the litter sick for the puppy I want to get?</td>\n",
       "      <td>dog_health</td>\n",
       "      <td>'want'</td>\n",
       "    </tr>\n",
       "    <tr>\n",
       "      <th>71</th>\n",
       "      <td>Can the dog see properly</td>\n",
       "      <td>dog_health</td>\n",
       "      <td>'dog'</td>\n",
       "    </tr>\n",
       "    <tr>\n",
       "      <th>70</th>\n",
       "      <td>my dog vomitted last night</td>\n",
       "      <td>dog_health</td>\n",
       "      <td>'dog'</td>\n",
       "    </tr>\n",
       "    <tr>\n",
       "      <th>68</th>\n",
       "      <td>is there any common illnesses in a dog</td>\n",
       "      <td>dog_health</td>\n",
       "      <td>'dog'</td>\n",
       "    </tr>\n",
       "    <tr>\n",
       "      <th>97</th>\n",
       "      <td>I want to know more about their parenting</td>\n",
       "      <td>dog_parents_information</td>\n",
       "      <td>'want'</td>\n",
       "    </tr>\n",
       "    <tr>\n",
       "      <th>100</th>\n",
       "      <td>If both parents are pedigree, does my doggo become pedigree</td>\n",
       "      <td>dog_parents_information</td>\n",
       "      <td>'dog'</td>\n",
       "    </tr>\n",
       "    <tr>\n",
       "      <th>107</th>\n",
       "      <td>whre can I check if my dogs parentals have bred before</td>\n",
       "      <td>dog_parents_information</td>\n",
       "      <td>'dog'</td>\n",
       "    </tr>\n",
       "    <tr>\n",
       "      <th>99</th>\n",
       "      <td>where can I research my dogs ancestry</td>\n",
       "      <td>dog_parents_information</td>\n",
       "      <td>'dog'</td>\n",
       "    </tr>\n",
       "    <tr>\n",
       "      <th>...</th>\n",
       "      <td>...</td>\n",
       "      <td>...</td>\n",
       "      <td>...</td>\n",
       "    </tr>\n",
       "    <tr>\n",
       "      <th>39</th>\n",
       "      <td>can I book some shots for my dog</td>\n",
       "      <td>dog_vaccinations</td>\n",
       "      <td>'dog'</td>\n",
       "    </tr>\n",
       "    <tr>\n",
       "      <th>42</th>\n",
       "      <td>Can you vaccinate the dog so it doesn't get sick</td>\n",
       "      <td>dog_vaccinations</td>\n",
       "      <td>'dog'</td>\n",
       "    </tr>\n",
       "    <tr>\n",
       "      <th>38</th>\n",
       "      <td>my little dog is not coping with vaccinations</td>\n",
       "      <td>dog_vaccinations</td>\n",
       "      <td>'dog'</td>\n",
       "    </tr>\n",
       "    <tr>\n",
       "      <th>37</th>\n",
       "      <td>is there such thing as antivax for dogs</td>\n",
       "      <td>dog_vaccinations</td>\n",
       "      <td>'dog'</td>\n",
       "    </tr>\n",
       "    <tr>\n",
       "      <th>36</th>\n",
       "      <td>is it illegal to not get your dog jabs</td>\n",
       "      <td>dog_vaccinations</td>\n",
       "      <td>'dog'</td>\n",
       "    </tr>\n",
       "    <tr>\n",
       "      <th>35</th>\n",
       "      <td>can I combine my dogs next check up with some vaccinations</td>\n",
       "      <td>dog_vaccinations</td>\n",
       "      <td>'dog'</td>\n",
       "    </tr>\n",
       "    <tr>\n",
       "      <th>41</th>\n",
       "      <td>my poodle had it's first set of vaccs last week and I want to get the next set, when should I do this</td>\n",
       "      <td>dog_vaccinations</td>\n",
       "      <td>'want'</td>\n",
       "    </tr>\n",
       "    <tr>\n",
       "      <th>43</th>\n",
       "      <td>I want my puppy to be protected against disease</td>\n",
       "      <td>dog_vaccinations</td>\n",
       "      <td>'want'</td>\n",
       "    </tr>\n",
       "    <tr>\n",
       "      <th>44</th>\n",
       "      <td>Can you immunise the dog before I get it</td>\n",
       "      <td>dog_vaccinations</td>\n",
       "      <td>'dog'</td>\n",
       "    </tr>\n",
       "    <tr>\n",
       "      <th>5</th>\n",
       "      <td>I want a dog</td>\n",
       "      <td>purchase_dog</td>\n",
       "      <td>'want', 'dog'</td>\n",
       "    </tr>\n",
       "    <tr>\n",
       "      <th>8</th>\n",
       "      <td>i want to get a puppy</td>\n",
       "      <td>purchase_dog</td>\n",
       "      <td>'want'</td>\n",
       "    </tr>\n",
       "    <tr>\n",
       "      <th>10</th>\n",
       "      <td>No I wanted a puppy.</td>\n",
       "      <td>purchase_dog</td>\n",
       "      <td>'want'</td>\n",
       "    </tr>\n",
       "    <tr>\n",
       "      <th>11</th>\n",
       "      <td>I want to buy a chinook</td>\n",
       "      <td>purchase_dog</td>\n",
       "      <td>'want', 'buy'</td>\n",
       "    </tr>\n",
       "    <tr>\n",
       "      <th>26</th>\n",
       "      <td>i want to add a dog to the family. How much would it cost</td>\n",
       "      <td>purchase_dog</td>\n",
       "      <td>'want', 'dog'</td>\n",
       "    </tr>\n",
       "    <tr>\n",
       "      <th>1</th>\n",
       "      <td>I've looked at the pictures and I'm ready to buy a puppy.</td>\n",
       "      <td>purchase_dog</td>\n",
       "      <td>'buy'</td>\n",
       "    </tr>\n",
       "    <tr>\n",
       "      <th>2</th>\n",
       "      <td>I would like to buy a chinook</td>\n",
       "      <td>purchase_dog</td>\n",
       "      <td>'buy'</td>\n",
       "    </tr>\n",
       "    <tr>\n",
       "      <th>3</th>\n",
       "      <td>hello, what should I do to buy a puppy?</td>\n",
       "      <td>purchase_dog</td>\n",
       "      <td>'buy'</td>\n",
       "    </tr>\n",
       "    <tr>\n",
       "      <th>7</th>\n",
       "      <td>I'd like to buy a wolfhound</td>\n",
       "      <td>purchase_dog</td>\n",
       "      <td>'buy'</td>\n",
       "    </tr>\n",
       "    <tr>\n",
       "      <th>6</th>\n",
       "      <td>I'm looking to buy a dog</td>\n",
       "      <td>purchase_dog</td>\n",
       "      <td>'buy', 'dog'</td>\n",
       "    </tr>\n",
       "    <tr>\n",
       "      <th>9</th>\n",
       "      <td>Hi I'd like to buy a dog</td>\n",
       "      <td>purchase_dog</td>\n",
       "      <td>'buy', 'dog'</td>\n",
       "    </tr>\n",
       "    <tr>\n",
       "      <th>13</th>\n",
       "      <td>Where can I buy a dog</td>\n",
       "      <td>purchase_dog</td>\n",
       "      <td>'buy', 'dog'</td>\n",
       "    </tr>\n",
       "    <tr>\n",
       "      <th>16</th>\n",
       "      <td>How can I buy puppies on the internet</td>\n",
       "      <td>purchase_dog</td>\n",
       "      <td>'buy'</td>\n",
       "    </tr>\n",
       "    <tr>\n",
       "      <th>20</th>\n",
       "      <td>is it always bad to buy a dog from a farm</td>\n",
       "      <td>purchase_dog</td>\n",
       "      <td>'buy', 'dog'</td>\n",
       "    </tr>\n",
       "    <tr>\n",
       "      <th>21</th>\n",
       "      <td>Can I buy my dog on finance</td>\n",
       "      <td>purchase_dog</td>\n",
       "      <td>'buy', 'dog'</td>\n",
       "    </tr>\n",
       "    <tr>\n",
       "      <th>12</th>\n",
       "      <td>What dog can I purchase?</td>\n",
       "      <td>purchase_dog</td>\n",
       "      <td>'dog'</td>\n",
       "    </tr>\n",
       "    <tr>\n",
       "      <th>17</th>\n",
       "      <td>Do you sell doggies</td>\n",
       "      <td>purchase_dog</td>\n",
       "      <td>'dog'</td>\n",
       "    </tr>\n",
       "    <tr>\n",
       "      <th>19</th>\n",
       "      <td>can I order a doggo online</td>\n",
       "      <td>purchase_dog</td>\n",
       "      <td>'dog'</td>\n",
       "    </tr>\n",
       "    <tr>\n",
       "      <th>27</th>\n",
       "      <td>where should I look to find a breeder for a dog</td>\n",
       "      <td>purchase_dog</td>\n",
       "      <td>'dog'</td>\n",
       "    </tr>\n",
       "    <tr>\n",
       "      <th>4</th>\n",
       "      <td>Can I buy a kaiken</td>\n",
       "      <td>purchase_dog</td>\n",
       "      <td>'buy'</td>\n",
       "    </tr>\n",
       "    <tr>\n",
       "      <th>0</th>\n",
       "      <td>I want to buy a minature schnauzer</td>\n",
       "      <td>purchase_dog</td>\n",
       "      <td>'want', 'buy'</td>\n",
       "    </tr>\n",
       "  </tbody>\n",
       "</table>\n",
       "<p>63 rows × 3 columns</p>\n",
       "</div>"
      ],
      "text/plain": [
       "                                                                                                 utterance  \\\n",
       "130  I don't know what dogs eat                                                                              \n",
       "114  Do I always need to buy my dog the same food                                                            \n",
       "111  do you sell dog food                                                                                    \n",
       "128  Is tinned dog food okay for puppies                                                                     \n",
       "115  What is a good serving to give a dog                                                                    \n",
       "116  is any dog food bad for a dogs teeth?                                                                   \n",
       "117  can I put gravy on my dogs food                                                                         \n",
       "118  is dry food bad for dogs                                                                                \n",
       "119  can my dog have wet food                                                                                \n",
       "113  do dogs eat chicken                                                                                     \n",
       "120  can I mix my dogs food                                                                                  \n",
       "121  how often should I feed my dog                                                                          \n",
       "122  what dog food do you sell                                                                               \n",
       "123  do dogs taste food like humans taste food                                                               \n",
       "124  Can dogs eat people food                                                                                \n",
       "125  Is meat okay for dogs three times a day                                                                 \n",
       "126  Can dogs have canned food for lunch                                                                     \n",
       "78   Has the dog been ill before                                                                             \n",
       "58   I want to get my dog a check up urgently. He don't seem the same                                        \n",
       "59   I think my dog has rabies                                                                               \n",
       "61   do dogs get depression                                                                                  \n",
       "67   how can i prevent my dog getting sick again                                                             \n",
       "83   Was the litter sick for the puppy I want to get?                                                        \n",
       "71   Can the dog see properly                                                                                \n",
       "70   my dog vomitted last night                                                                              \n",
       "68   is there any common illnesses in a dog                                                                  \n",
       "97   I want to know more about their parenting                                                               \n",
       "100  If both parents are pedigree, does my doggo become pedigree                                             \n",
       "107  whre can I check if my dogs parentals have bred before                                                  \n",
       "99   where can I research my dogs ancestry                                                                   \n",
       "..                                     ...                                                                   \n",
       "39   can I book some shots for my dog                                                                        \n",
       "42   Can you vaccinate the dog so it doesn't get sick                                                        \n",
       "38   my little dog is not coping with vaccinations                                                           \n",
       "37   is there such thing as antivax for dogs                                                                 \n",
       "36   is it illegal to not get your dog jabs                                                                  \n",
       "35   can I combine my dogs next check up with some vaccinations                                              \n",
       "41   my poodle had it's first set of vaccs last week and I want to get the next set, when should I do this   \n",
       "43   I want my puppy to be protected against disease                                                         \n",
       "44   Can you immunise the dog before I get it                                                                \n",
       "5    I want a dog                                                                                            \n",
       "8    i want to get a puppy                                                                                   \n",
       "10   No I wanted a puppy.                                                                                    \n",
       "11   I want to buy a chinook                                                                                 \n",
       "26   i want to add a dog to the family. How much would it cost                                               \n",
       "1    I've looked at the pictures and I'm ready to buy a puppy.                                               \n",
       "2    I would like to buy a chinook                                                                           \n",
       "3    hello, what should I do to buy a puppy?                                                                 \n",
       "7    I'd like to buy a wolfhound                                                                             \n",
       "6    I'm looking to buy a dog                                                                                \n",
       "9    Hi I'd like to buy a dog                                                                                \n",
       "13   Where can I buy a dog                                                                                   \n",
       "16   How can I buy puppies on the internet                                                                   \n",
       "20   is it always bad to buy a dog from a farm                                                               \n",
       "21   Can I buy my dog on finance                                                                             \n",
       "12   What dog can I purchase?                                                                                \n",
       "17   Do you sell doggies                                                                                     \n",
       "19   can I order a doggo online                                                                              \n",
       "27   where should I look to find a breeder for a dog                                                         \n",
       "4    Can I buy a kaiken                                                                                      \n",
       "0    I want to buy a minature schnauzer                                                                      \n",
       "\n",
       "                      Intent   ngrams found  \n",
       "130  dog_food                 'dog'          \n",
       "114  dog_food                 'buy', 'dog'   \n",
       "111  dog_food                 'dog'          \n",
       "128  dog_food                 'dog'          \n",
       "115  dog_food                 'dog'          \n",
       "116  dog_food                 'dog'          \n",
       "117  dog_food                 'dog'          \n",
       "118  dog_food                 'dog'          \n",
       "119  dog_food                 'dog'          \n",
       "113  dog_food                 'dog'          \n",
       "120  dog_food                 'dog'          \n",
       "121  dog_food                 'dog'          \n",
       "122  dog_food                 'dog'          \n",
       "123  dog_food                 'dog'          \n",
       "124  dog_food                 'dog'          \n",
       "125  dog_food                 'dog'          \n",
       "126  dog_food                 'dog'          \n",
       "78   dog_health               'dog'          \n",
       "58   dog_health               'want', 'dog'  \n",
       "59   dog_health               'dog'          \n",
       "61   dog_health               'dog'          \n",
       "67   dog_health               'dog'          \n",
       "83   dog_health               'want'         \n",
       "71   dog_health               'dog'          \n",
       "70   dog_health               'dog'          \n",
       "68   dog_health               'dog'          \n",
       "97   dog_parents_information  'want'         \n",
       "100  dog_parents_information  'dog'          \n",
       "107  dog_parents_information  'dog'          \n",
       "99   dog_parents_information  'dog'          \n",
       "..                       ...    ...          \n",
       "39   dog_vaccinations         'dog'          \n",
       "42   dog_vaccinations         'dog'          \n",
       "38   dog_vaccinations         'dog'          \n",
       "37   dog_vaccinations         'dog'          \n",
       "36   dog_vaccinations         'dog'          \n",
       "35   dog_vaccinations         'dog'          \n",
       "41   dog_vaccinations         'want'         \n",
       "43   dog_vaccinations         'want'         \n",
       "44   dog_vaccinations         'dog'          \n",
       "5    purchase_dog             'want', 'dog'  \n",
       "8    purchase_dog             'want'         \n",
       "10   purchase_dog             'want'         \n",
       "11   purchase_dog             'want', 'buy'  \n",
       "26   purchase_dog             'want', 'dog'  \n",
       "1    purchase_dog             'buy'          \n",
       "2    purchase_dog             'buy'          \n",
       "3    purchase_dog             'buy'          \n",
       "7    purchase_dog             'buy'          \n",
       "6    purchase_dog             'buy', 'dog'   \n",
       "9    purchase_dog             'buy', 'dog'   \n",
       "13   purchase_dog             'buy', 'dog'   \n",
       "16   purchase_dog             'buy'          \n",
       "20   purchase_dog             'buy', 'dog'   \n",
       "21   purchase_dog             'buy', 'dog'   \n",
       "12   purchase_dog             'dog'          \n",
       "17   purchase_dog             'dog'          \n",
       "19   purchase_dog             'dog'          \n",
       "27   purchase_dog             'dog'          \n",
       "4    purchase_dog             'buy'          \n",
       "0    purchase_dog             'want', 'buy'  \n",
       "\n",
       "[63 rows x 3 columns]"
      ]
     },
     "metadata": {},
     "output_type": "display_data"
    }
   ],
   "source": [
    "n_list = [1,2,3,4]\n",
    "stopwords = None # None, 'nltk', or 'config'\n",
    "\n",
    "######################\n",
    "## DON'T EDIT BELOW ##\n",
    "######################\n",
    "def handle_submit(obj):\n",
    "    clear_output()\n",
    "    display(text_in)\n",
    "    display( diagnose_confusion(obj.value, d.value, n_list, stopwords) )\n",
    "\n",
    "text_in = widgets.Text()\n",
    "display(text_in)\n",
    "text_in.on_submit(handle_submit)"
   ]
  },
  {
   "cell_type": "markdown",
   "metadata": {},
   "source": [
    "## Training"
   ]
  },
  {
   "cell_type": "markdown",
   "metadata": {},
   "source": [
    "The process of 'training' will fall into one of three categories: resolving clashes, cleaning training data, or getting more training data. \n",
    "\n",
    "See the last section of the Training at Scale guide for tips on how to improve your training data."
   ]
  },
  {
   "cell_type": "code",
   "execution_count": null,
   "metadata": {},
   "outputs": [],
   "source": []
  }
 ],
 "metadata": {
  "hide_input": false,
  "kernelspec": {
   "display_name": "Python 3",
   "language": "python",
   "name": "python3"
  },
  "language_info": {
   "codemirror_mode": {
    "name": "ipython",
    "version": 3
   },
   "file_extension": ".py",
   "mimetype": "text/x-python",
   "name": "python",
   "nbconvert_exporter": "python",
   "pygments_lexer": "ipython3",
   "version": "3.6.0"
  },
  "toc": {
   "base_numbering": 1,
   "nav_menu": {},
   "number_sections": true,
   "sideBar": true,
   "skip_h1_title": true,
   "title_cell": "Table of Contents",
   "title_sidebar": "Contents",
   "toc_cell": false,
   "toc_position": {
    "height": "calc(100% - 180px)",
    "left": "10px",
    "top": "150px",
    "width": "336px"
   },
   "toc_section_display": true,
   "toc_window_display": true
  }
 },
 "nbformat": 4,
 "nbformat_minor": 2
}
