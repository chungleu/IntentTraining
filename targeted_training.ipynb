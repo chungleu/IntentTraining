{
 "cells": [
  {
   "cell_type": "markdown",
   "metadata": {},
   "source": [
    "# Targeted Training Notebook\n",
    "A practical guide to the targeted training process. \n",
    "\n",
    "**Author:** Kalyan Dutia (kalyan.dutia@ibm.com)"
   ]
  },
  {
   "cell_type": "markdown",
   "metadata": {},
   "source": [
    "Here we assume that you **already have your intents downloaded, in the `data/workspace_training` folder.** If you don't, you can manually download them or use the tool contained in the exploratory analysis notebook."
   ]
  },
  {
   "cell_type": "raw",
   "metadata": {},
   "source": [
    "# installs\n",
    "!pip install watson_developer_cloud==2.0.1"
   ]
  },
  {
   "cell_type": "code",
   "execution_count": 65,
   "metadata": {},
   "outputs": [],
   "source": [
    "# external imports\n",
    "import os\n",
    "from IPython.display import display, Markdown, clear_output\n",
    "import ipywidgets as widgets\n",
    "import pandas as pd\n",
    "import numpy as np\n",
    "import seaborn as sns\n",
    "from itables import show\n",
    "import logging\n",
    "import time\n",
    "import matplotlib.pyplot as plt\n",
    "\n",
    "# internal imports\n",
    "import config\n",
    "from cli_tools.get_intent_intersections import intent_intersections\n",
    "from conversation_test.kfoldtest import kfoldtest\n",
    "\n",
    "# config\n",
    "sns.set_style(\"whitegrid\")\n",
    "sns.set_context(\"notebook\")\n",
    "pd.set_option('display.max_colwidth', -1)\n",
    "\n",
    "logging.getLogger(\"requests\").setLevel(logging.WARNING)\n",
    "logging.getLogger(\"urllib3\").setLevel(logging.WARNING)\n"
   ]
  },
  {
   "cell_type": "markdown",
   "metadata": {},
   "source": [
    "## Load a skill\n",
    "If you can't see your skill here, check the `data/workspace_training` folder."
   ]
  },
  {
   "cell_type": "code",
   "execution_count": 10,
   "metadata": {},
   "outputs": [
    {
     "data": {
      "application/vnd.jupyter.widget-view+json": {
       "model_id": "c9dc0621b8984f2ca1e07a0cef933590",
       "version_major": 2,
       "version_minor": 0
      },
      "text/plain": [
       "Dropdown(options=('puppy', 'Customer Care Sample Skill'), value='puppy')"
      ]
     },
     "metadata": {},
     "output_type": "display_data"
    },
    {
     "data": {
      "text/markdown": [
       "**<span style='color:blue'>puppy</span>** skill selected. Training data sample:"
      ],
      "text/plain": [
       "<IPython.core.display.Markdown object>"
      ]
     },
     "metadata": {},
     "output_type": "display_data"
    },
    {
     "data": {
      "text/html": [
       "<div>\n",
       "<style scoped>\n",
       "    .dataframe tbody tr th:only-of-type {\n",
       "        vertical-align: middle;\n",
       "    }\n",
       "\n",
       "    .dataframe tbody tr th {\n",
       "        vertical-align: top;\n",
       "    }\n",
       "\n",
       "    .dataframe thead th {\n",
       "        text-align: right;\n",
       "    }\n",
       "</style>\n",
       "<table border=\"1\" class=\"dataframe\">\n",
       "  <thead>\n",
       "    <tr style=\"text-align: right;\">\n",
       "      <th></th>\n",
       "      <th>utterance</th>\n",
       "      <th>intent</th>\n",
       "    </tr>\n",
       "  </thead>\n",
       "  <tbody>\n",
       "    <tr>\n",
       "      <th>114</th>\n",
       "      <td>Do I always need to buy my dog the same food</td>\n",
       "      <td>DOG_FOOD</td>\n",
       "    </tr>\n",
       "    <tr>\n",
       "      <th>84</th>\n",
       "      <td>does the puppies siblings get sick?</td>\n",
       "      <td>DOG_HEALTH</td>\n",
       "    </tr>\n",
       "    <tr>\n",
       "      <th>71</th>\n",
       "      <td>Can the dog see properly</td>\n",
       "      <td>DOG_HEALTH</td>\n",
       "    </tr>\n",
       "    <tr>\n",
       "      <th>104</th>\n",
       "      <td>how long does the mum wean her pups</td>\n",
       "      <td>DOG_PARENTS_INFORMATION</td>\n",
       "    </tr>\n",
       "    <tr>\n",
       "      <th>87</th>\n",
       "      <td>Can I interview the parents?</td>\n",
       "      <td>DOG_PARENTS_INFORMATION</td>\n",
       "    </tr>\n",
       "    <tr>\n",
       "      <th>66</th>\n",
       "      <td>my chow chow is not so well well</td>\n",
       "      <td>DOG_HEALTH</td>\n",
       "    </tr>\n",
       "    <tr>\n",
       "      <th>13</th>\n",
       "      <td>Where can I buy a dog</td>\n",
       "      <td>PURCHASE_DOG</td>\n",
       "    </tr>\n",
       "    <tr>\n",
       "      <th>1</th>\n",
       "      <td>I've looked at the pictures and I'm ready to buy a puppy.</td>\n",
       "      <td>PURCHASE_DOG</td>\n",
       "    </tr>\n",
       "    <tr>\n",
       "      <th>61</th>\n",
       "      <td>do dogs get depression</td>\n",
       "      <td>DOG_HEALTH</td>\n",
       "    </tr>\n",
       "    <tr>\n",
       "      <th>112</th>\n",
       "      <td>I have just got a litter of puppies and don't know if I can feed them anything but milk</td>\n",
       "      <td>DOG_FOOD</td>\n",
       "    </tr>\n",
       "  </tbody>\n",
       "</table>\n",
       "</div>"
      ],
      "text/plain": [
       "                                                                                   utterance  \\\n",
       "114  Do I always need to buy my dog the same food                                              \n",
       "84   does the puppies siblings get sick?                                                       \n",
       "71   Can the dog see properly                                                                  \n",
       "104  how long does the mum wean her pups                                                       \n",
       "87   Can I interview the parents?                                                              \n",
       "66   my chow chow is not so well well                                                          \n",
       "13   Where can I buy a dog                                                                     \n",
       "1    I've looked at the pictures and I'm ready to buy a puppy.                                 \n",
       "61   do dogs get depression                                                                    \n",
       "112  I have just got a litter of puppies and don't know if I can feed them anything but milk   \n",
       "\n",
       "                      intent  \n",
       "114  DOG_FOOD                 \n",
       "84   DOG_HEALTH               \n",
       "71   DOG_HEALTH               \n",
       "104  DOG_PARENTS_INFORMATION  \n",
       "87   DOG_PARENTS_INFORMATION  \n",
       "66   DOG_HEALTH               \n",
       "13   PURCHASE_DOG             \n",
       "1    PURCHASE_DOG             \n",
       "61   DOG_HEALTH               \n",
       "112  DOG_FOOD                 "
      ]
     },
     "metadata": {},
     "output_type": "display_data"
    }
   ],
   "source": [
    "def onchange(change):\n",
    "    if change['type'] == 'change' and change['name'] == 'value':\n",
    "        clear_output()\n",
    "        display(d)\n",
    "        display_sample(d, 10)\n",
    "\n",
    "def display_sample(d, samplesize):\n",
    "    display(Markdown(\"**<span style='color:blue'>{}</span>** skill selected. Training data sample:\".format(d.value)))\n",
    "    training_file = training_files[d.index]\n",
    "\n",
    "    train_df = pd.read_csv(os.path.join(config.training_dir, training_file), names=['utterance', 'intent'])\n",
    "    if len(train_df) > 0:\n",
    "        display(train_df.sample(samplesize))\n",
    "    else:\n",
    "        display(Markdown(\"<span style='color:red'>No intent training data exists for this workspace</span>\"))\n",
    "    \n",
    "    return train_df\n",
    "\n",
    "training_files = [file for file in os.listdir(config.training_dir) if file.endswith('.csv')]\n",
    "d = widgets.Dropdown(options=[item[0:len(item)-14] for item in training_files])\n",
    "d.observe(onchange)\n",
    "\n",
    "display(d)\n",
    "train_df = display_sample(d, 10)\n",
    "intents = train_df['intent'].unique()"
   ]
  },
  {
   "cell_type": "markdown",
   "metadata": {},
   "source": [
    "We also need the details of the workspace and instance in Watson:"
   ]
  },
  {
   "cell_type": "code",
   "execution_count": 3,
   "metadata": {},
   "outputs": [],
   "source": [
    "# INSTANCE. Use one of apikey or username & password\n",
    "apikey = \"5XuD4BoYqV0Lx5PUltqzVnDue1MzCTgGcld8uCtPsNR_\"\n",
    "#username = \n",
    "#password = \n",
    "url = \"https://gateway.watsonplatform.net/assistant/api/\"\n",
    "\n",
    "# WORKSPACE \n",
    "workspace_id = \"e6b17f68-9a81-4ac6-ae18-231717a47d3a\"\n",
    "threshold = 0.4\n",
    "\n",
    "# TEST PARAMS\n",
    "nfolds = 3"
   ]
  },
  {
   "cell_type": "markdown",
   "metadata": {},
   "source": [
    "## Run K-Fold test\n",
    "In order to work out which intents to target, we first run a K-Fold test on our workspace.\n",
    "You can also directly run one using the module in the `conversation_test` folder.\n",
    "\n",
    "The kfold test returns:\n",
    "- `results_kfold`: the classification per utterances\n",
    "- `classification_report`: f1 score, precision and recall per intent, as well as averages\n",
    "- `metrics_per_fold`: the same metrics, but for the entire workspace, per fold"
   ]
  },
  {
   "cell_type": "code",
   "execution_count": 4,
   "metadata": {
    "scrolled": true
   },
   "outputs": [
    {
     "name": "stderr",
     "output_type": "stream",
     "text": [
      "\u001b[38;2;128;128;128m[2019-07-26 10:08:24,148]\u001b[0m \u001b[36mDEBUG\u001b[0m \u001b[38;2;128;128;128m(urllib3.connectionpool): \u001b[0mStarting new HTTPS connection (1): iam.bluemix.net:443\n",
      "\u001b[38;2;128;128;128m[2019-07-26 10:08:24,148]\u001b[0m \u001b[36mDEBUG\u001b[0m \u001b[38;2;128;128;128m(urllib3.connectionpool): \u001b[0mStarting new HTTPS connection (1): iam.bluemix.net:443\n",
      "\u001b[38;2;128;128;128m[2019-07-26 10:08:24,392]\u001b[0m \u001b[36mDEBUG\u001b[0m \u001b[38;2;128;128;128m(urllib3.connectionpool): \u001b[0mhttps://iam.bluemix.net:443 \"POST /identity/token HTTP/1.1\" 200 1808\n",
      "\u001b[38;2;128;128;128m[2019-07-26 10:08:24,392]\u001b[0m \u001b[36mDEBUG\u001b[0m \u001b[38;2;128;128;128m(urllib3.connectionpool): \u001b[0mhttps://iam.bluemix.net:443 \"POST /identity/token HTTP/1.1\" 200 1808\n",
      "\u001b[38;2;128;128;128m[2019-07-26 10:08:24,401]\u001b[0m \u001b[36mDEBUG\u001b[0m \u001b[38;2;128;128;128m(urllib3.connectionpool): \u001b[0mStarting new HTTPS connection (1): gateway.watsonplatform.net:443\n",
      "\u001b[38;2;128;128;128m[2019-07-26 10:08:24,401]\u001b[0m \u001b[36mDEBUG\u001b[0m \u001b[38;2;128;128;128m(urllib3.connectionpool): \u001b[0mStarting new HTTPS connection (1): gateway.watsonplatform.net:443\n",
      "\u001b[38;2;128;128;128m[2019-07-26 10:08:26,327]\u001b[0m \u001b[36mDEBUG\u001b[0m \u001b[38;2;128;128;128m(urllib3.connectionpool): \u001b[0mhttps://gateway.watsonplatform.net:443 \"GET /assistant/api//v1/workspaces?version=2018-07-10 HTTP/1.1\" 200 None\n",
      "\u001b[38;2;128;128;128m[2019-07-26 10:08:26,327]\u001b[0m \u001b[36mDEBUG\u001b[0m \u001b[38;2;128;128;128m(urllib3.connectionpool): \u001b[0mhttps://gateway.watsonplatform.net:443 \"GET /assistant/api//v1/workspaces?version=2018-07-10 HTTP/1.1\" 200 None\n",
      "\u001b[38;2;128;128;128m[2019-07-26 10:08:26,374]\u001b[0m \u001b[36mDEBUG\u001b[0m \u001b[38;2;128;128;128m(urllib3.connectionpool): \u001b[0mStarting new HTTPS connection (1): gateway.watsonplatform.net:443\n",
      "\u001b[38;2;128;128;128m[2019-07-26 10:08:26,374]\u001b[0m \u001b[36mDEBUG\u001b[0m \u001b[38;2;128;128;128m(urllib3.connectionpool): \u001b[0mStarting new HTTPS connection (1): gateway.watsonplatform.net:443\n"
     ]
    },
    {
     "name": "stdout",
     "output_type": "stream",
     "text": [
      "You have space to perform the k-fold test\n",
      "fold num 1: train set: 89, test set: 47\n",
      "fold num 2: train set: 91, test set: 45\n",
      "fold num 3: train set: 92, test set: 44\n",
      "creating K-FOLD workspace 1 out of 3\n"
     ]
    },
    {
     "name": "stderr",
     "output_type": "stream",
     "text": [
      "\u001b[38;2;128;128;128m[2019-07-26 10:08:27,324]\u001b[0m \u001b[36mDEBUG\u001b[0m \u001b[38;2;128;128;128m(urllib3.connectionpool): \u001b[0mhttps://gateway.watsonplatform.net:443 \"POST /assistant/api//v1/workspaces?version=2018-07-10 HTTP/1.1\" 201 None\n",
      "\u001b[38;2;128;128;128m[2019-07-26 10:08:27,324]\u001b[0m \u001b[36mDEBUG\u001b[0m \u001b[38;2;128;128;128m(urllib3.connectionpool): \u001b[0mhttps://gateway.watsonplatform.net:443 \"POST /assistant/api//v1/workspaces?version=2018-07-10 HTTP/1.1\" 201 None\n",
      "\u001b[38;2;128;128;128m[2019-07-26 10:08:27,359]\u001b[0m \u001b[36mDEBUG\u001b[0m \u001b[38;2;128;128;128m(urllib3.connectionpool): \u001b[0mStarting new HTTPS connection (1): gateway.watsonplatform.net:443\n",
      "\u001b[38;2;128;128;128m[2019-07-26 10:08:27,359]\u001b[0m \u001b[36mDEBUG\u001b[0m \u001b[38;2;128;128;128m(urllib3.connectionpool): \u001b[0mStarting new HTTPS connection (1): gateway.watsonplatform.net:443\n"
     ]
    },
    {
     "name": "stdout",
     "output_type": "stream",
     "text": [
      "creating K-FOLD workspace 2 out of 3\n"
     ]
    },
    {
     "name": "stderr",
     "output_type": "stream",
     "text": [
      "\u001b[38;2;128;128;128m[2019-07-26 10:08:27,739]\u001b[0m \u001b[36mDEBUG\u001b[0m \u001b[38;2;128;128;128m(urllib3.connectionpool): \u001b[0mhttps://gateway.watsonplatform.net:443 \"POST /assistant/api//v1/workspaces?version=2018-07-10 HTTP/1.1\" 201 205\n",
      "\u001b[38;2;128;128;128m[2019-07-26 10:08:27,739]\u001b[0m \u001b[36mDEBUG\u001b[0m \u001b[38;2;128;128;128m(urllib3.connectionpool): \u001b[0mhttps://gateway.watsonplatform.net:443 \"POST /assistant/api//v1/workspaces?version=2018-07-10 HTTP/1.1\" 201 205\n",
      "\u001b[38;2;128;128;128m[2019-07-26 10:08:27,784]\u001b[0m \u001b[36mDEBUG\u001b[0m \u001b[38;2;128;128;128m(urllib3.connectionpool): \u001b[0mStarting new HTTPS connection (1): gateway.watsonplatform.net:443\n",
      "\u001b[38;2;128;128;128m[2019-07-26 10:08:27,784]\u001b[0m \u001b[36mDEBUG\u001b[0m \u001b[38;2;128;128;128m(urllib3.connectionpool): \u001b[0mStarting new HTTPS connection (1): gateway.watsonplatform.net:443\n"
     ]
    },
    {
     "name": "stdout",
     "output_type": "stream",
     "text": [
      "creating K-FOLD workspace 3 out of 3\n"
     ]
    },
    {
     "name": "stderr",
     "output_type": "stream",
     "text": [
      "\u001b[38;2;128;128;128m[2019-07-26 10:08:28,250]\u001b[0m \u001b[36mDEBUG\u001b[0m \u001b[38;2;128;128;128m(urllib3.connectionpool): \u001b[0mhttps://gateway.watsonplatform.net:443 \"POST /assistant/api//v1/workspaces?version=2018-07-10 HTTP/1.1\" 201 None\n",
      "\u001b[38;2;128;128;128m[2019-07-26 10:08:28,250]\u001b[0m \u001b[36mDEBUG\u001b[0m \u001b[38;2;128;128;128m(urllib3.connectionpool): \u001b[0mhttps://gateway.watsonplatform.net:443 \"POST /assistant/api//v1/workspaces?version=2018-07-10 HTTP/1.1\" 201 None\n",
      "\u001b[38;2;128;128;128m[2019-07-26 10:08:28,259]\u001b[0m \u001b[36mDEBUG\u001b[0m \u001b[38;2;128;128;128m(urllib3.connectionpool): \u001b[0mStarting new HTTPS connection (1): gateway.watsonplatform.net:443\n",
      "\u001b[38;2;128;128;128m[2019-07-26 10:08:28,259]\u001b[0m \u001b[36mDEBUG\u001b[0m \u001b[38;2;128;128;128m(urllib3.connectionpool): \u001b[0mStarting new HTTPS connection (1): gateway.watsonplatform.net:443\n"
     ]
    },
    {
     "name": "stdout",
     "output_type": "stream",
     "text": [
      "Checking workspaces..\n"
     ]
    },
    {
     "name": "stderr",
     "output_type": "stream",
     "text": [
      "\u001b[38;2;128;128;128m[2019-07-26 10:08:28,655]\u001b[0m \u001b[36mDEBUG\u001b[0m \u001b[38;2;128;128;128m(urllib3.connectionpool): \u001b[0mhttps://gateway.watsonplatform.net:443 \"GET /assistant/api//v1/workspaces/f26bb75b-7f94-4995-aec6-e301900d2920?version=2018-07-10 HTTP/1.1\" 200 220\n",
      "\u001b[38;2;128;128;128m[2019-07-26 10:08:28,655]\u001b[0m \u001b[36mDEBUG\u001b[0m \u001b[38;2;128;128;128m(urllib3.connectionpool): \u001b[0mhttps://gateway.watsonplatform.net:443 \"GET /assistant/api//v1/workspaces/f26bb75b-7f94-4995-aec6-e301900d2920?version=2018-07-10 HTTP/1.1\" 200 220\n",
      "\u001b[38;2;128;128;128m[2019-07-26 10:08:28,663]\u001b[0m \u001b[36mDEBUG\u001b[0m \u001b[38;2;128;128;128m(urllib3.connectionpool): \u001b[0mStarting new HTTPS connection (1): gateway.watsonplatform.net:443\n",
      "\u001b[38;2;128;128;128m[2019-07-26 10:08:28,663]\u001b[0m \u001b[36mDEBUG\u001b[0m \u001b[38;2;128;128;128m(urllib3.connectionpool): \u001b[0mStarting new HTTPS connection (1): gateway.watsonplatform.net:443\n",
      "\u001b[38;2;128;128;128m[2019-07-26 10:08:29,194]\u001b[0m \u001b[36mDEBUG\u001b[0m \u001b[38;2;128;128;128m(urllib3.connectionpool): \u001b[0mhttps://gateway.watsonplatform.net:443 \"GET /assistant/api//v1/workspaces/5486135a-c94c-4d01-bcbb-a7377f461966?version=2018-07-10 HTTP/1.1\" 200 222\n",
      "\u001b[38;2;128;128;128m[2019-07-26 10:08:29,194]\u001b[0m \u001b[36mDEBUG\u001b[0m \u001b[38;2;128;128;128m(urllib3.connectionpool): \u001b[0mhttps://gateway.watsonplatform.net:443 \"GET /assistant/api//v1/workspaces/5486135a-c94c-4d01-bcbb-a7377f461966?version=2018-07-10 HTTP/1.1\" 200 222\n",
      "\u001b[38;2;128;128;128m[2019-07-26 10:08:29,204]\u001b[0m \u001b[36mDEBUG\u001b[0m \u001b[38;2;128;128;128m(urllib3.connectionpool): \u001b[0mStarting new HTTPS connection (1): gateway.watsonplatform.net:443\n",
      "\u001b[38;2;128;128;128m[2019-07-26 10:08:29,204]\u001b[0m \u001b[36mDEBUG\u001b[0m \u001b[38;2;128;128;128m(urllib3.connectionpool): \u001b[0mStarting new HTTPS connection (1): gateway.watsonplatform.net:443\n",
      "\u001b[38;2;128;128;128m[2019-07-26 10:08:29,505]\u001b[0m \u001b[36mDEBUG\u001b[0m \u001b[38;2;128;128;128m(urllib3.connectionpool): \u001b[0mhttps://gateway.watsonplatform.net:443 \"GET /assistant/api//v1/workspaces/e5bec1bc-42a3-45eb-b09b-860e89a9c1e8?version=2018-07-10 HTTP/1.1\" 200 220\n",
      "\u001b[38;2;128;128;128m[2019-07-26 10:08:29,505]\u001b[0m \u001b[36mDEBUG\u001b[0m \u001b[38;2;128;128;128m(urllib3.connectionpool): \u001b[0mhttps://gateway.watsonplatform.net:443 \"GET /assistant/api//v1/workspaces/e5bec1bc-42a3-45eb-b09b-860e89a9c1e8?version=2018-07-10 HTTP/1.1\" 200 220\n",
      "\u001b[38;2;128;128;128m[2019-07-26 10:08:49,520]\u001b[0m \u001b[36mDEBUG\u001b[0m \u001b[38;2;128;128;128m(urllib3.connectionpool): \u001b[0mStarting new HTTPS connection (1): gateway.watsonplatform.net:443\n",
      "\u001b[38;2;128;128;128m[2019-07-26 10:08:49,520]\u001b[0m \u001b[36mDEBUG\u001b[0m \u001b[38;2;128;128;128m(urllib3.connectionpool): \u001b[0mStarting new HTTPS connection (1): gateway.watsonplatform.net:443\n"
     ]
    },
    {
     "name": "stdout",
     "output_type": "stream",
     "text": [
      "Checking workspaces..\n"
     ]
    },
    {
     "name": "stderr",
     "output_type": "stream",
     "text": [
      "\u001b[38;2;128;128;128m[2019-07-26 10:08:49,891]\u001b[0m \u001b[36mDEBUG\u001b[0m \u001b[38;2;128;128;128m(urllib3.connectionpool): \u001b[0mhttps://gateway.watsonplatform.net:443 \"GET /assistant/api//v1/workspaces/f26bb75b-7f94-4995-aec6-e301900d2920?version=2018-07-10 HTTP/1.1\" 200 220\n",
      "\u001b[38;2;128;128;128m[2019-07-26 10:08:49,891]\u001b[0m \u001b[36mDEBUG\u001b[0m \u001b[38;2;128;128;128m(urllib3.connectionpool): \u001b[0mhttps://gateway.watsonplatform.net:443 \"GET /assistant/api//v1/workspaces/f26bb75b-7f94-4995-aec6-e301900d2920?version=2018-07-10 HTTP/1.1\" 200 220\n",
      "\u001b[38;2;128;128;128m[2019-07-26 10:08:49,902]\u001b[0m \u001b[36mDEBUG\u001b[0m \u001b[38;2;128;128;128m(urllib3.connectionpool): \u001b[0mStarting new HTTPS connection (1): gateway.watsonplatform.net:443\n",
      "\u001b[38;2;128;128;128m[2019-07-26 10:08:49,902]\u001b[0m \u001b[36mDEBUG\u001b[0m \u001b[38;2;128;128;128m(urllib3.connectionpool): \u001b[0mStarting new HTTPS connection (1): gateway.watsonplatform.net:443\n",
      "\u001b[38;2;128;128;128m[2019-07-26 10:08:50,245]\u001b[0m \u001b[36mDEBUG\u001b[0m \u001b[38;2;128;128;128m(urllib3.connectionpool): \u001b[0mhttps://gateway.watsonplatform.net:443 \"GET /assistant/api//v1/workspaces/5486135a-c94c-4d01-bcbb-a7377f461966?version=2018-07-10 HTTP/1.1\" 200 222\n",
      "\u001b[38;2;128;128;128m[2019-07-26 10:08:50,245]\u001b[0m \u001b[36mDEBUG\u001b[0m \u001b[38;2;128;128;128m(urllib3.connectionpool): \u001b[0mhttps://gateway.watsonplatform.net:443 \"GET /assistant/api//v1/workspaces/5486135a-c94c-4d01-bcbb-a7377f461966?version=2018-07-10 HTTP/1.1\" 200 222\n",
      "\u001b[38;2;128;128;128m[2019-07-26 10:08:50,255]\u001b[0m \u001b[36mDEBUG\u001b[0m \u001b[38;2;128;128;128m(urllib3.connectionpool): \u001b[0mStarting new HTTPS connection (1): gateway.watsonplatform.net:443\n",
      "\u001b[38;2;128;128;128m[2019-07-26 10:08:50,255]\u001b[0m \u001b[36mDEBUG\u001b[0m \u001b[38;2;128;128;128m(urllib3.connectionpool): \u001b[0mStarting new HTTPS connection (1): gateway.watsonplatform.net:443\n",
      "\u001b[38;2;128;128;128m[2019-07-26 10:08:50,549]\u001b[0m \u001b[36mDEBUG\u001b[0m \u001b[38;2;128;128;128m(urllib3.connectionpool): \u001b[0mhttps://gateway.watsonplatform.net:443 \"GET /assistant/api//v1/workspaces/e5bec1bc-42a3-45eb-b09b-860e89a9c1e8?version=2018-07-10 HTTP/1.1\" 200 220\n",
      "\u001b[38;2;128;128;128m[2019-07-26 10:08:50,549]\u001b[0m \u001b[36mDEBUG\u001b[0m \u001b[38;2;128;128;128m(urllib3.connectionpool): \u001b[0mhttps://gateway.watsonplatform.net:443 \"GET /assistant/api//v1/workspaces/e5bec1bc-42a3-45eb-b09b-860e89a9c1e8?version=2018-07-10 HTTP/1.1\" 200 220\n",
      "\u001b[38;2;128;128;128m[2019-07-26 10:09:10,569]\u001b[0m \u001b[36mDEBUG\u001b[0m \u001b[38;2;128;128;128m(urllib3.connectionpool): \u001b[0mStarting new HTTPS connection (1): gateway.watsonplatform.net:443\n",
      "\u001b[38;2;128;128;128m[2019-07-26 10:09:10,569]\u001b[0m \u001b[36mDEBUG\u001b[0m \u001b[38;2;128;128;128m(urllib3.connectionpool): \u001b[0mStarting new HTTPS connection (1): gateway.watsonplatform.net:443\n"
     ]
    },
    {
     "name": "stdout",
     "output_type": "stream",
     "text": [
      "Checking workspaces..\n"
     ]
    },
    {
     "name": "stderr",
     "output_type": "stream",
     "text": [
      "\u001b[38;2;128;128;128m[2019-07-26 10:09:11,141]\u001b[0m \u001b[36mDEBUG\u001b[0m \u001b[38;2;128;128;128m(urllib3.connectionpool): \u001b[0mhttps://gateway.watsonplatform.net:443 \"GET /assistant/api//v1/workspaces/f26bb75b-7f94-4995-aec6-e301900d2920?version=2018-07-10 HTTP/1.1\" 200 224\n",
      "\u001b[38;2;128;128;128m[2019-07-26 10:09:11,141]\u001b[0m \u001b[36mDEBUG\u001b[0m \u001b[38;2;128;128;128m(urllib3.connectionpool): \u001b[0mhttps://gateway.watsonplatform.net:443 \"GET /assistant/api//v1/workspaces/f26bb75b-7f94-4995-aec6-e301900d2920?version=2018-07-10 HTTP/1.1\" 200 224\n",
      "\u001b[38;2;128;128;128m[2019-07-26 10:09:11,159]\u001b[0m \u001b[36mDEBUG\u001b[0m \u001b[38;2;128;128;128m(urllib3.connectionpool): \u001b[0mStarting new HTTPS connection (1): gateway.watsonplatform.net:443\n",
      "\u001b[38;2;128;128;128m[2019-07-26 10:09:11,159]\u001b[0m \u001b[36mDEBUG\u001b[0m \u001b[38;2;128;128;128m(urllib3.connectionpool): \u001b[0mStarting new HTTPS connection (1): gateway.watsonplatform.net:443\n"
     ]
    },
    {
     "name": "stdout",
     "output_type": "stream",
     "text": [
      "Workspace f26bb75b-7f94-4995-aec6-e301900d2920 (1) available\n"
     ]
    },
    {
     "name": "stderr",
     "output_type": "stream",
     "text": [
      "\u001b[38;2;128;128;128m[2019-07-26 10:09:11,591]\u001b[0m \u001b[36mDEBUG\u001b[0m \u001b[38;2;128;128;128m(urllib3.connectionpool): \u001b[0mhttps://gateway.watsonplatform.net:443 \"GET /assistant/api//v1/workspaces/5486135a-c94c-4d01-bcbb-a7377f461966?version=2018-07-10 HTTP/1.1\" 200 224\n",
      "\u001b[38;2;128;128;128m[2019-07-26 10:09:11,591]\u001b[0m \u001b[36mDEBUG\u001b[0m \u001b[38;2;128;128;128m(urllib3.connectionpool): \u001b[0mhttps://gateway.watsonplatform.net:443 \"GET /assistant/api//v1/workspaces/5486135a-c94c-4d01-bcbb-a7377f461966?version=2018-07-10 HTTP/1.1\" 200 224\n",
      "\u001b[38;2;128;128;128m[2019-07-26 10:09:11,602]\u001b[0m \u001b[36mDEBUG\u001b[0m \u001b[38;2;128;128;128m(urllib3.connectionpool): \u001b[0mStarting new HTTPS connection (1): gateway.watsonplatform.net:443\n",
      "\u001b[38;2;128;128;128m[2019-07-26 10:09:11,602]\u001b[0m \u001b[36mDEBUG\u001b[0m \u001b[38;2;128;128;128m(urllib3.connectionpool): \u001b[0mStarting new HTTPS connection (1): gateway.watsonplatform.net:443\n"
     ]
    },
    {
     "name": "stdout",
     "output_type": "stream",
     "text": [
      "Workspace 5486135a-c94c-4d01-bcbb-a7377f461966 (2) available\n"
     ]
    },
    {
     "name": "stderr",
     "output_type": "stream",
     "text": [
      "\u001b[38;2;128;128;128m[2019-07-26 10:09:12,097]\u001b[0m \u001b[36mDEBUG\u001b[0m \u001b[38;2;128;128;128m(urllib3.connectionpool): \u001b[0mhttps://gateway.watsonplatform.net:443 \"GET /assistant/api//v1/workspaces/e5bec1bc-42a3-45eb-b09b-860e89a9c1e8?version=2018-07-10 HTTP/1.1\" 200 221\n",
      "\u001b[38;2;128;128;128m[2019-07-26 10:09:12,097]\u001b[0m \u001b[36mDEBUG\u001b[0m \u001b[38;2;128;128;128m(urllib3.connectionpool): \u001b[0mhttps://gateway.watsonplatform.net:443 \"GET /assistant/api//v1/workspaces/e5bec1bc-42a3-45eb-b09b-860e89a9c1e8?version=2018-07-10 HTTP/1.1\" 200 221\n"
     ]
    },
    {
     "name": "stdout",
     "output_type": "stream",
     "text": [
      "Workspace e5bec1bc-42a3-45eb-b09b-860e89a9c1e8 (3) available\n"
     ]
    },
    {
     "name": "stderr",
     "output_type": "stream",
     "text": [
      "  0%|          | 0/3 [00:00<?, ?it/s]\n",
      "  0%|          | 0/47 [00:00<?, ?it/s]\u001b[A\u001b[38;2;128;128;128m[2019-07-26 10:09:32,130]\u001b[0m \u001b[36mDEBUG\u001b[0m \u001b[38;2;128;128;128m(urllib3.connectionpool): \u001b[0mStarting new HTTPS connection (1): gateway.watsonplatform.net:443\n",
      "\u001b[38;2;128;128;128m[2019-07-26 10:09:32,130]\u001b[0m \u001b[36mDEBUG\u001b[0m \u001b[38;2;128;128;128m(urllib3.connectionpool): \u001b[0mStarting new HTTPS connection (1): gateway.watsonplatform.net:443\n"
     ]
    },
    {
     "name": "stdout",
     "output_type": "stream",
     "text": [
      "\n",
      "\n",
      "RUNNING K-FOLD FOR FOLD NUMBER 1\n"
     ]
    },
    {
     "name": "stderr",
     "output_type": "stream",
     "text": [
      "\u001b[38;2;128;128;128m[2019-07-26 10:09:32,453]\u001b[0m \u001b[36mDEBUG\u001b[0m \u001b[38;2;128;128;128m(urllib3.connectionpool): \u001b[0mhttps://gateway.watsonplatform.net:443 \"POST /assistant/api//v1/workspaces/f26bb75b-7f94-4995-aec6-e301900d2920/message?version=2018-07-10 HTTP/1.1\" 200 511\n",
      "\u001b[38;2;128;128;128m[2019-07-26 10:09:32,453]\u001b[0m \u001b[36mDEBUG\u001b[0m \u001b[38;2;128;128;128m(urllib3.connectionpool): \u001b[0mhttps://gateway.watsonplatform.net:443 \"POST /assistant/api//v1/workspaces/f26bb75b-7f94-4995-aec6-e301900d2920/message?version=2018-07-10 HTTP/1.1\" 200 511\n",
      "\n",
      "  2%|▏         | 1/47 [00:00<00:15,  2.90it/s]\u001b[A\u001b[38;2;128;128;128m[2019-07-26 10:09:32,481]\u001b[0m \u001b[36mDEBUG\u001b[0m \u001b[38;2;128;128;128m(urllib3.connectionpool): \u001b[0mStarting new HTTPS connection (1): gateway.watsonplatform.net:443\n",
      "\u001b[38;2;128;128;128m[2019-07-26 10:09:32,481]\u001b[0m \u001b[36mDEBUG\u001b[0m \u001b[38;2;128;128;128m(urllib3.connectionpool): \u001b[0mStarting new HTTPS connection (1): gateway.watsonplatform.net:443\n",
      "\u001b[38;2;128;128;128m[2019-07-26 10:09:32,849]\u001b[0m \u001b[36mDEBUG\u001b[0m \u001b[38;2;128;128;128m(urllib3.connectionpool): \u001b[0mhttps://gateway.watsonplatform.net:443 \"POST /assistant/api//v1/workspaces/f26bb75b-7f94-4995-aec6-e301900d2920/message?version=2018-07-10 HTTP/1.1\" 200 None\n",
      "\u001b[38;2;128;128;128m[2019-07-26 10:09:32,849]\u001b[0m \u001b[36mDEBUG\u001b[0m \u001b[38;2;128;128;128m(urllib3.connectionpool): \u001b[0mhttps://gateway.watsonplatform.net:443 \"POST /assistant/api//v1/workspaces/f26bb75b-7f94-4995-aec6-e301900d2920/message?version=2018-07-10 HTTP/1.1\" 200 None\n",
      "\n",
      "  4%|▍         | 2/47 [00:00<00:16,  2.78it/s]\u001b[A\u001b[38;2;128;128;128m[2019-07-26 10:09:32,876]\u001b[0m \u001b[36mDEBUG\u001b[0m \u001b[38;2;128;128;128m(urllib3.connectionpool): \u001b[0mStarting new HTTPS connection (1): gateway.watsonplatform.net:443\n",
      "\u001b[38;2;128;128;128m[2019-07-26 10:09:32,876]\u001b[0m \u001b[36mDEBUG\u001b[0m \u001b[38;2;128;128;128m(urllib3.connectionpool): \u001b[0mStarting new HTTPS connection (1): gateway.watsonplatform.net:443\n",
      "\u001b[38;2;128;128;128m[2019-07-26 10:09:33,166]\u001b[0m \u001b[36mDEBUG\u001b[0m \u001b[38;2;128;128;128m(urllib3.connectionpool): \u001b[0mhttps://gateway.watsonplatform.net:443 \"POST /assistant/api//v1/workspaces/f26bb75b-7f94-4995-aec6-e301900d2920/message?version=2018-07-10 HTTP/1.1\" 200 504\n",
      "\u001b[38;2;128;128;128m[2019-07-26 10:09:33,166]\u001b[0m \u001b[36mDEBUG\u001b[0m \u001b[38;2;128;128;128m(urllib3.connectionpool): \u001b[0mhttps://gateway.watsonplatform.net:443 \"POST /assistant/api//v1/workspaces/f26bb75b-7f94-4995-aec6-e301900d2920/message?version=2018-07-10 HTTP/1.1\" 200 504\n",
      "\n",
      "  6%|▋         | 3/47 [00:01<00:15,  2.88it/s]\u001b[A\u001b[38;2;128;128;128m[2019-07-26 10:09:33,200]\u001b[0m \u001b[36mDEBUG\u001b[0m \u001b[38;2;128;128;128m(urllib3.connectionpool): \u001b[0mStarting new HTTPS connection (1): gateway.watsonplatform.net:443\n",
      "\u001b[38;2;128;128;128m[2019-07-26 10:09:33,200]\u001b[0m \u001b[36mDEBUG\u001b[0m \u001b[38;2;128;128;128m(urllib3.connectionpool): \u001b[0mStarting new HTTPS connection (1): gateway.watsonplatform.net:443\n",
      "\u001b[38;2;128;128;128m[2019-07-26 10:09:33,500]\u001b[0m \u001b[36mDEBUG\u001b[0m \u001b[38;2;128;128;128m(urllib3.connectionpool): \u001b[0mhttps://gateway.watsonplatform.net:443 \"POST /assistant/api//v1/workspaces/f26bb75b-7f94-4995-aec6-e301900d2920/message?version=2018-07-10 HTTP/1.1\" 200 498\n",
      "\u001b[38;2;128;128;128m[2019-07-26 10:09:33,500]\u001b[0m \u001b[36mDEBUG\u001b[0m \u001b[38;2;128;128;128m(urllib3.connectionpool): \u001b[0mhttps://gateway.watsonplatform.net:443 \"POST /assistant/api//v1/workspaces/f26bb75b-7f94-4995-aec6-e301900d2920/message?version=2018-07-10 HTTP/1.1\" 200 498\n",
      "\n",
      "  9%|▊         | 4/47 [00:01<00:15,  2.87it/s]\u001b[A\u001b[38;2;128;128;128m[2019-07-26 10:09:33,551]\u001b[0m \u001b[36mDEBUG\u001b[0m \u001b[38;2;128;128;128m(urllib3.connectionpool): \u001b[0mStarting new HTTPS connection (1): gateway.watsonplatform.net:443\n",
      "\u001b[38;2;128;128;128m[2019-07-26 10:09:33,551]\u001b[0m \u001b[36mDEBUG\u001b[0m \u001b[38;2;128;128;128m(urllib3.connectionpool): \u001b[0mStarting new HTTPS connection (1): gateway.watsonplatform.net:443\n",
      "\u001b[38;2;128;128;128m[2019-07-26 10:09:34,025]\u001b[0m \u001b[36mDEBUG\u001b[0m \u001b[38;2;128;128;128m(urllib3.connectionpool): \u001b[0mhttps://gateway.watsonplatform.net:443 \"POST /assistant/api//v1/workspaces/f26bb75b-7f94-4995-aec6-e301900d2920/message?version=2018-07-10 HTTP/1.1\" 200 None\n",
      "\u001b[38;2;128;128;128m[2019-07-26 10:09:34,025]\u001b[0m \u001b[36mDEBUG\u001b[0m \u001b[38;2;128;128;128m(urllib3.connectionpool): \u001b[0mhttps://gateway.watsonplatform.net:443 \"POST /assistant/api//v1/workspaces/f26bb75b-7f94-4995-aec6-e301900d2920/message?version=2018-07-10 HTTP/1.1\" 200 None\n",
      "\n",
      " 11%|█         | 5/47 [00:01<00:16,  2.54it/s]\u001b[A\u001b[38;2;128;128;128m[2019-07-26 10:09:34,042]\u001b[0m \u001b[36mDEBUG\u001b[0m \u001b[38;2;128;128;128m(urllib3.connectionpool): \u001b[0mStarting new HTTPS connection (1): gateway.watsonplatform.net:443\n",
      "\u001b[38;2;128;128;128m[2019-07-26 10:09:34,042]\u001b[0m \u001b[36mDEBUG\u001b[0m \u001b[38;2;128;128;128m(urllib3.connectionpool): \u001b[0mStarting new HTTPS connection (1): gateway.watsonplatform.net:443\n",
      "\u001b[38;2;128;128;128m[2019-07-26 10:09:34,437]\u001b[0m \u001b[36mDEBUG\u001b[0m \u001b[38;2;128;128;128m(urllib3.connectionpool): \u001b[0mhttps://gateway.watsonplatform.net:443 \"POST /assistant/api//v1/workspaces/f26bb75b-7f94-4995-aec6-e301900d2920/message?version=2018-07-10 HTTP/1.1\" 200 509\n",
      "\u001b[38;2;128;128;128m[2019-07-26 10:09:34,437]\u001b[0m \u001b[36mDEBUG\u001b[0m \u001b[38;2;128;128;128m(urllib3.connectionpool): \u001b[0mhttps://gateway.watsonplatform.net:443 \"POST /assistant/api//v1/workspaces/f26bb75b-7f94-4995-aec6-e301900d2920/message?version=2018-07-10 HTTP/1.1\" 200 509\n",
      "\n",
      " 13%|█▎        | 6/47 [00:02<00:16,  2.50it/s]\u001b[A\u001b[38;2;128;128;128m[2019-07-26 10:09:34,454]\u001b[0m \u001b[36mDEBUG\u001b[0m \u001b[38;2;128;128;128m(urllib3.connectionpool): \u001b[0mStarting new HTTPS connection (1): gateway.watsonplatform.net:443\n",
      "\u001b[38;2;128;128;128m[2019-07-26 10:09:34,454]\u001b[0m \u001b[36mDEBUG\u001b[0m \u001b[38;2;128;128;128m(urllib3.connectionpool): \u001b[0mStarting new HTTPS connection (1): gateway.watsonplatform.net:443\n",
      "\u001b[38;2;128;128;128m[2019-07-26 10:09:34,754]\u001b[0m \u001b[36mDEBUG\u001b[0m \u001b[38;2;128;128;128m(urllib3.connectionpool): \u001b[0mhttps://gateway.watsonplatform.net:443 \"POST /assistant/api//v1/workspaces/f26bb75b-7f94-4995-aec6-e301900d2920/message?version=2018-07-10 HTTP/1.1\" 200 506\n",
      "\u001b[38;2;128;128;128m[2019-07-26 10:09:34,754]\u001b[0m \u001b[36mDEBUG\u001b[0m \u001b[38;2;128;128;128m(urllib3.connectionpool): \u001b[0mhttps://gateway.watsonplatform.net:443 \"POST /assistant/api//v1/workspaces/f26bb75b-7f94-4995-aec6-e301900d2920/message?version=2018-07-10 HTTP/1.1\" 200 506\n",
      "\n",
      " 15%|█▍        | 7/47 [00:02<00:15,  2.66it/s]\u001b[A\u001b[38;2;128;128;128m[2019-07-26 10:09:34,775]\u001b[0m \u001b[36mDEBUG\u001b[0m \u001b[38;2;128;128;128m(urllib3.connectionpool): \u001b[0mStarting new HTTPS connection (1): gateway.watsonplatform.net:443\n",
      "\u001b[38;2;128;128;128m[2019-07-26 10:09:34,775]\u001b[0m \u001b[36mDEBUG\u001b[0m \u001b[38;2;128;128;128m(urllib3.connectionpool): \u001b[0mStarting new HTTPS connection (1): gateway.watsonplatform.net:443\n",
      "\u001b[38;2;128;128;128m[2019-07-26 10:09:35,037]\u001b[0m \u001b[36mDEBUG\u001b[0m \u001b[38;2;128;128;128m(urllib3.connectionpool): \u001b[0mhttps://gateway.watsonplatform.net:443 \"POST /assistant/api//v1/workspaces/f26bb75b-7f94-4995-aec6-e301900d2920/message?version=2018-07-10 HTTP/1.1\" 200 504\n",
      "\u001b[38;2;128;128;128m[2019-07-26 10:09:35,037]\u001b[0m \u001b[36mDEBUG\u001b[0m \u001b[38;2;128;128;128m(urllib3.connectionpool): \u001b[0mhttps://gateway.watsonplatform.net:443 \"POST /assistant/api//v1/workspaces/f26bb75b-7f94-4995-aec6-e301900d2920/message?version=2018-07-10 HTTP/1.1\" 200 504\n",
      "\n",
      " 17%|█▋        | 8/47 [00:02<00:13,  2.87it/s]\u001b[A\u001b[38;2;128;128;128m[2019-07-26 10:09:35,066]\u001b[0m \u001b[36mDEBUG\u001b[0m \u001b[38;2;128;128;128m(urllib3.connectionpool): \u001b[0mStarting new HTTPS connection (1): gateway.watsonplatform.net:443\n",
      "\u001b[38;2;128;128;128m[2019-07-26 10:09:35,066]\u001b[0m \u001b[36mDEBUG\u001b[0m \u001b[38;2;128;128;128m(urllib3.connectionpool): \u001b[0mStarting new HTTPS connection (1): gateway.watsonplatform.net:443\n",
      "\u001b[38;2;128;128;128m[2019-07-26 10:09:35,421]\u001b[0m \u001b[36mDEBUG\u001b[0m \u001b[38;2;128;128;128m(urllib3.connectionpool): \u001b[0mhttps://gateway.watsonplatform.net:443 \"POST /assistant/api//v1/workspaces/f26bb75b-7f94-4995-aec6-e301900d2920/message?version=2018-07-10 HTTP/1.1\" 200 None\n",
      "\u001b[38;2;128;128;128m[2019-07-26 10:09:35,421]\u001b[0m \u001b[36mDEBUG\u001b[0m \u001b[38;2;128;128;128m(urllib3.connectionpool): \u001b[0mhttps://gateway.watsonplatform.net:443 \"POST /assistant/api//v1/workspaces/f26bb75b-7f94-4995-aec6-e301900d2920/message?version=2018-07-10 HTTP/1.1\" 200 None\n",
      "\n",
      " 19%|█▉        | 9/47 [00:03<00:13,  2.80it/s]\u001b[A\u001b[38;2;128;128;128m[2019-07-26 10:09:35,439]\u001b[0m \u001b[36mDEBUG\u001b[0m \u001b[38;2;128;128;128m(urllib3.connectionpool): \u001b[0mStarting new HTTPS connection (1): gateway.watsonplatform.net:443\n"
     ]
    },
    {
     "name": "stderr",
     "output_type": "stream",
     "text": [
      "\u001b[38;2;128;128;128m[2019-07-26 10:09:35,439]\u001b[0m \u001b[36mDEBUG\u001b[0m \u001b[38;2;128;128;128m(urllib3.connectionpool): \u001b[0mStarting new HTTPS connection (1): gateway.watsonplatform.net:443\n",
      "\u001b[38;2;128;128;128m[2019-07-26 10:09:35,685]\u001b[0m \u001b[36mDEBUG\u001b[0m \u001b[38;2;128;128;128m(urllib3.connectionpool): \u001b[0mhttps://gateway.watsonplatform.net:443 \"POST /assistant/api//v1/workspaces/f26bb75b-7f94-4995-aec6-e301900d2920/message?version=2018-07-10 HTTP/1.1\" 200 502\n",
      "\u001b[38;2;128;128;128m[2019-07-26 10:09:35,685]\u001b[0m \u001b[36mDEBUG\u001b[0m \u001b[38;2;128;128;128m(urllib3.connectionpool): \u001b[0mhttps://gateway.watsonplatform.net:443 \"POST /assistant/api//v1/workspaces/f26bb75b-7f94-4995-aec6-e301900d2920/message?version=2018-07-10 HTTP/1.1\" 200 502\n",
      "\n",
      " 21%|██▏       | 10/47 [00:03<00:12,  3.02it/s]\u001b[A\u001b[38;2;128;128;128m[2019-07-26 10:09:35,708]\u001b[0m \u001b[36mDEBUG\u001b[0m \u001b[38;2;128;128;128m(urllib3.connectionpool): \u001b[0mStarting new HTTPS connection (1): gateway.watsonplatform.net:443\n",
      "\u001b[38;2;128;128;128m[2019-07-26 10:09:35,708]\u001b[0m \u001b[36mDEBUG\u001b[0m \u001b[38;2;128;128;128m(urllib3.connectionpool): \u001b[0mStarting new HTTPS connection (1): gateway.watsonplatform.net:443\n",
      "\u001b[38;2;128;128;128m[2019-07-26 10:09:36,418]\u001b[0m \u001b[36mDEBUG\u001b[0m \u001b[38;2;128;128;128m(urllib3.connectionpool): \u001b[0mhttps://gateway.watsonplatform.net:443 \"POST /assistant/api//v1/workspaces/f26bb75b-7f94-4995-aec6-e301900d2920/message?version=2018-07-10 HTTP/1.1\" 200 None\n",
      "\u001b[38;2;128;128;128m[2019-07-26 10:09:36,418]\u001b[0m \u001b[36mDEBUG\u001b[0m \u001b[38;2;128;128;128m(urllib3.connectionpool): \u001b[0mhttps://gateway.watsonplatform.net:443 \"POST /assistant/api//v1/workspaces/f26bb75b-7f94-4995-aec6-e301900d2920/message?version=2018-07-10 HTTP/1.1\" 200 None\n",
      "\n",
      " 23%|██▎       | 11/47 [00:04<00:16,  2.15it/s]\u001b[A\u001b[38;2;128;128;128m[2019-07-26 10:09:36,486]\u001b[0m \u001b[36mDEBUG\u001b[0m \u001b[38;2;128;128;128m(urllib3.connectionpool): \u001b[0mStarting new HTTPS connection (1): gateway.watsonplatform.net:443\n",
      "\u001b[38;2;128;128;128m[2019-07-26 10:09:36,486]\u001b[0m \u001b[36mDEBUG\u001b[0m \u001b[38;2;128;128;128m(urllib3.connectionpool): \u001b[0mStarting new HTTPS connection (1): gateway.watsonplatform.net:443\n",
      "\u001b[38;2;128;128;128m[2019-07-26 10:09:36,981]\u001b[0m \u001b[36mDEBUG\u001b[0m \u001b[38;2;128;128;128m(urllib3.connectionpool): \u001b[0mhttps://gateway.watsonplatform.net:443 \"POST /assistant/api//v1/workspaces/f26bb75b-7f94-4995-aec6-e301900d2920/message?version=2018-07-10 HTTP/1.1\" 200 520\n",
      "\u001b[38;2;128;128;128m[2019-07-26 10:09:36,981]\u001b[0m \u001b[36mDEBUG\u001b[0m \u001b[38;2;128;128;128m(urllib3.connectionpool): \u001b[0mhttps://gateway.watsonplatform.net:443 \"POST /assistant/api//v1/workspaces/f26bb75b-7f94-4995-aec6-e301900d2920/message?version=2018-07-10 HTTP/1.1\" 200 520\n",
      "\n",
      " 26%|██▌       | 12/47 [00:04<00:16,  2.08it/s]\u001b[A\u001b[38;2;128;128;128m[2019-07-26 10:09:37,010]\u001b[0m \u001b[36mDEBUG\u001b[0m \u001b[38;2;128;128;128m(urllib3.connectionpool): \u001b[0mStarting new HTTPS connection (1): gateway.watsonplatform.net:443\n",
      "\u001b[38;2;128;128;128m[2019-07-26 10:09:37,010]\u001b[0m \u001b[36mDEBUG\u001b[0m \u001b[38;2;128;128;128m(urllib3.connectionpool): \u001b[0mStarting new HTTPS connection (1): gateway.watsonplatform.net:443\n",
      "\u001b[38;2;128;128;128m[2019-07-26 10:09:37,467]\u001b[0m \u001b[36mDEBUG\u001b[0m \u001b[38;2;128;128;128m(urllib3.connectionpool): \u001b[0mhttps://gateway.watsonplatform.net:443 \"POST /assistant/api//v1/workspaces/f26bb75b-7f94-4995-aec6-e301900d2920/message?version=2018-07-10 HTTP/1.1\" 200 None\n",
      "\u001b[38;2;128;128;128m[2019-07-26 10:09:37,467]\u001b[0m \u001b[36mDEBUG\u001b[0m \u001b[38;2;128;128;128m(urllib3.connectionpool): \u001b[0mhttps://gateway.watsonplatform.net:443 \"POST /assistant/api//v1/workspaces/f26bb75b-7f94-4995-aec6-e301900d2920/message?version=2018-07-10 HTTP/1.1\" 200 None\n",
      "\n",
      " 28%|██▊       | 13/47 [00:05<00:16,  2.08it/s]\u001b[A\u001b[38;2;128;128;128m[2019-07-26 10:09:37,488]\u001b[0m \u001b[36mDEBUG\u001b[0m \u001b[38;2;128;128;128m(urllib3.connectionpool): \u001b[0mStarting new HTTPS connection (1): gateway.watsonplatform.net:443\n",
      "\u001b[38;2;128;128;128m[2019-07-26 10:09:37,488]\u001b[0m \u001b[36mDEBUG\u001b[0m \u001b[38;2;128;128;128m(urllib3.connectionpool): \u001b[0mStarting new HTTPS connection (1): gateway.watsonplatform.net:443\n",
      "\u001b[38;2;128;128;128m[2019-07-26 10:09:37,723]\u001b[0m \u001b[36mDEBUG\u001b[0m \u001b[38;2;128;128;128m(urllib3.connectionpool): \u001b[0mhttps://gateway.watsonplatform.net:443 \"POST /assistant/api//v1/workspaces/f26bb75b-7f94-4995-aec6-e301900d2920/message?version=2018-07-10 HTTP/1.1\" 200 553\n",
      "\u001b[38;2;128;128;128m[2019-07-26 10:09:37,723]\u001b[0m \u001b[36mDEBUG\u001b[0m \u001b[38;2;128;128;128m(urllib3.connectionpool): \u001b[0mhttps://gateway.watsonplatform.net:443 \"POST /assistant/api//v1/workspaces/f26bb75b-7f94-4995-aec6-e301900d2920/message?version=2018-07-10 HTTP/1.1\" 200 553\n",
      "\n",
      " 30%|██▉       | 14/47 [00:05<00:13,  2.42it/s]\u001b[A\u001b[38;2;128;128;128m[2019-07-26 10:09:37,741]\u001b[0m \u001b[36mDEBUG\u001b[0m \u001b[38;2;128;128;128m(urllib3.connectionpool): \u001b[0mStarting new HTTPS connection (1): gateway.watsonplatform.net:443\n",
      "\u001b[38;2;128;128;128m[2019-07-26 10:09:37,741]\u001b[0m \u001b[36mDEBUG\u001b[0m \u001b[38;2;128;128;128m(urllib3.connectionpool): \u001b[0mStarting new HTTPS connection (1): gateway.watsonplatform.net:443\n",
      "\u001b[38;2;128;128;128m[2019-07-26 10:09:38,018]\u001b[0m \u001b[36mDEBUG\u001b[0m \u001b[38;2;128;128;128m(urllib3.connectionpool): \u001b[0mhttps://gateway.watsonplatform.net:443 \"POST /assistant/api//v1/workspaces/f26bb75b-7f94-4995-aec6-e301900d2920/message?version=2018-07-10 HTTP/1.1\" 200 519\n",
      "\u001b[38;2;128;128;128m[2019-07-26 10:09:38,018]\u001b[0m \u001b[36mDEBUG\u001b[0m \u001b[38;2;128;128;128m(urllib3.connectionpool): \u001b[0mhttps://gateway.watsonplatform.net:443 \"POST /assistant/api//v1/workspaces/f26bb75b-7f94-4995-aec6-e301900d2920/message?version=2018-07-10 HTTP/1.1\" 200 519\n",
      "\n",
      " 32%|███▏      | 15/47 [00:05<00:12,  2.64it/s]\u001b[A\u001b[38;2;128;128;128m[2019-07-26 10:09:38,039]\u001b[0m \u001b[36mDEBUG\u001b[0m \u001b[38;2;128;128;128m(urllib3.connectionpool): \u001b[0mStarting new HTTPS connection (1): gateway.watsonplatform.net:443\n",
      "\u001b[38;2;128;128;128m[2019-07-26 10:09:38,039]\u001b[0m \u001b[36mDEBUG\u001b[0m \u001b[38;2;128;128;128m(urllib3.connectionpool): \u001b[0mStarting new HTTPS connection (1): gateway.watsonplatform.net:443\n",
      "\u001b[38;2;128;128;128m[2019-07-26 10:09:38,376]\u001b[0m \u001b[36mDEBUG\u001b[0m \u001b[38;2;128;128;128m(urllib3.connectionpool): \u001b[0mhttps://gateway.watsonplatform.net:443 \"POST /assistant/api//v1/workspaces/f26bb75b-7f94-4995-aec6-e301900d2920/message?version=2018-07-10 HTTP/1.1\" 200 511\n",
      "\u001b[38;2;128;128;128m[2019-07-26 10:09:38,376]\u001b[0m \u001b[36mDEBUG\u001b[0m \u001b[38;2;128;128;128m(urllib3.connectionpool): \u001b[0mhttps://gateway.watsonplatform.net:443 \"POST /assistant/api//v1/workspaces/f26bb75b-7f94-4995-aec6-e301900d2920/message?version=2018-07-10 HTTP/1.1\" 200 511\n",
      "\n",
      " 34%|███▍      | 16/47 [00:06<00:11,  2.65it/s]\u001b[A\u001b[38;2;128;128;128m[2019-07-26 10:09:38,411]\u001b[0m \u001b[36mDEBUG\u001b[0m \u001b[38;2;128;128;128m(urllib3.connectionpool): \u001b[0mStarting new HTTPS connection (1): gateway.watsonplatform.net:443\n",
      "\u001b[38;2;128;128;128m[2019-07-26 10:09:38,411]\u001b[0m \u001b[36mDEBUG\u001b[0m \u001b[38;2;128;128;128m(urllib3.connectionpool): \u001b[0mStarting new HTTPS connection (1): gateway.watsonplatform.net:443\n",
      "\u001b[38;2;128;128;128m[2019-07-26 10:09:38,659]\u001b[0m \u001b[36mDEBUG\u001b[0m \u001b[38;2;128;128;128m(urllib3.connectionpool): \u001b[0mhttps://gateway.watsonplatform.net:443 \"POST /assistant/api//v1/workspaces/f26bb75b-7f94-4995-aec6-e301900d2920/message?version=2018-07-10 HTTP/1.1\" 200 508\n",
      "\u001b[38;2;128;128;128m[2019-07-26 10:09:38,659]\u001b[0m \u001b[36mDEBUG\u001b[0m \u001b[38;2;128;128;128m(urllib3.connectionpool): \u001b[0mhttps://gateway.watsonplatform.net:443 \"POST /assistant/api//v1/workspaces/f26bb75b-7f94-4995-aec6-e301900d2920/message?version=2018-07-10 HTTP/1.1\" 200 508\n",
      "\n",
      " 36%|███▌      | 17/47 [00:06<00:10,  2.91it/s]\u001b[A\u001b[38;2;128;128;128m[2019-07-26 10:09:38,681]\u001b[0m \u001b[36mDEBUG\u001b[0m \u001b[38;2;128;128;128m(urllib3.connectionpool): \u001b[0mStarting new HTTPS connection (1): gateway.watsonplatform.net:443\n",
      "\u001b[38;2;128;128;128m[2019-07-26 10:09:38,681]\u001b[0m \u001b[36mDEBUG\u001b[0m \u001b[38;2;128;128;128m(urllib3.connectionpool): \u001b[0mStarting new HTTPS connection (1): gateway.watsonplatform.net:443\n",
      "\u001b[38;2;128;128;128m[2019-07-26 10:09:38,953]\u001b[0m \u001b[36mDEBUG\u001b[0m \u001b[38;2;128;128;128m(urllib3.connectionpool): \u001b[0mhttps://gateway.watsonplatform.net:443 \"POST /assistant/api//v1/workspaces/f26bb75b-7f94-4995-aec6-e301900d2920/message?version=2018-07-10 HTTP/1.1\" 200 514\n",
      "\u001b[38;2;128;128;128m[2019-07-26 10:09:38,953]\u001b[0m \u001b[36mDEBUG\u001b[0m \u001b[38;2;128;128;128m(urllib3.connectionpool): \u001b[0mhttps://gateway.watsonplatform.net:443 \"POST /assistant/api//v1/workspaces/f26bb75b-7f94-4995-aec6-e301900d2920/message?version=2018-07-10 HTTP/1.1\" 200 514\n"
     ]
    },
    {
     "name": "stderr",
     "output_type": "stream",
     "text": [
      "\n",
      " 38%|███▊      | 18/47 [00:06<00:09,  3.03it/s]\u001b[A\u001b[38;2;128;128;128m[2019-07-26 10:09:38,977]\u001b[0m \u001b[36mDEBUG\u001b[0m \u001b[38;2;128;128;128m(urllib3.connectionpool): \u001b[0mStarting new HTTPS connection (1): gateway.watsonplatform.net:443\n",
      "\u001b[38;2;128;128;128m[2019-07-26 10:09:38,977]\u001b[0m \u001b[36mDEBUG\u001b[0m \u001b[38;2;128;128;128m(urllib3.connectionpool): \u001b[0mStarting new HTTPS connection (1): gateway.watsonplatform.net:443\n",
      "\u001b[38;2;128;128;128m[2019-07-26 10:09:39,423]\u001b[0m \u001b[36mDEBUG\u001b[0m \u001b[38;2;128;128;128m(urllib3.connectionpool): \u001b[0mhttps://gateway.watsonplatform.net:443 \"POST /assistant/api//v1/workspaces/f26bb75b-7f94-4995-aec6-e301900d2920/message?version=2018-07-10 HTTP/1.1\" 200 None\n",
      "\u001b[38;2;128;128;128m[2019-07-26 10:09:39,423]\u001b[0m \u001b[36mDEBUG\u001b[0m \u001b[38;2;128;128;128m(urllib3.connectionpool): \u001b[0mhttps://gateway.watsonplatform.net:443 \"POST /assistant/api//v1/workspaces/f26bb75b-7f94-4995-aec6-e301900d2920/message?version=2018-07-10 HTTP/1.1\" 200 None\n",
      "\n",
      " 40%|████      | 19/47 [00:07<00:10,  2.68it/s]\u001b[A\u001b[38;2;128;128;128m[2019-07-26 10:09:39,453]\u001b[0m \u001b[36mDEBUG\u001b[0m \u001b[38;2;128;128;128m(urllib3.connectionpool): \u001b[0mStarting new HTTPS connection (1): gateway.watsonplatform.net:443\n",
      "\u001b[38;2;128;128;128m[2019-07-26 10:09:39,453]\u001b[0m \u001b[36mDEBUG\u001b[0m \u001b[38;2;128;128;128m(urllib3.connectionpool): \u001b[0mStarting new HTTPS connection (1): gateway.watsonplatform.net:443\n",
      "\u001b[38;2;128;128;128m[2019-07-26 10:09:39,704]\u001b[0m \u001b[36mDEBUG\u001b[0m \u001b[38;2;128;128;128m(urllib3.connectionpool): \u001b[0mhttps://gateway.watsonplatform.net:443 \"POST /assistant/api//v1/workspaces/f26bb75b-7f94-4995-aec6-e301900d2920/message?version=2018-07-10 HTTP/1.1\" 200 None\n",
      "\u001b[38;2;128;128;128m[2019-07-26 10:09:39,704]\u001b[0m \u001b[36mDEBUG\u001b[0m \u001b[38;2;128;128;128m(urllib3.connectionpool): \u001b[0mhttps://gateway.watsonplatform.net:443 \"POST /assistant/api//v1/workspaces/f26bb75b-7f94-4995-aec6-e301900d2920/message?version=2018-07-10 HTTP/1.1\" 200 None\n",
      "\n",
      " 43%|████▎     | 20/47 [00:07<00:09,  2.92it/s]\u001b[A\u001b[38;2;128;128;128m[2019-07-26 10:09:39,724]\u001b[0m \u001b[36mDEBUG\u001b[0m \u001b[38;2;128;128;128m(urllib3.connectionpool): \u001b[0mStarting new HTTPS connection (1): gateway.watsonplatform.net:443\n",
      "\u001b[38;2;128;128;128m[2019-07-26 10:09:39,724]\u001b[0m \u001b[36mDEBUG\u001b[0m \u001b[38;2;128;128;128m(urllib3.connectionpool): \u001b[0mStarting new HTTPS connection (1): gateway.watsonplatform.net:443\n",
      "\u001b[38;2;128;128;128m[2019-07-26 10:09:40,027]\u001b[0m \u001b[36mDEBUG\u001b[0m \u001b[38;2;128;128;128m(urllib3.connectionpool): \u001b[0mhttps://gateway.watsonplatform.net:443 \"POST /assistant/api//v1/workspaces/f26bb75b-7f94-4995-aec6-e301900d2920/message?version=2018-07-10 HTTP/1.1\" 200 504\n",
      "\u001b[38;2;128;128;128m[2019-07-26 10:09:40,027]\u001b[0m \u001b[36mDEBUG\u001b[0m \u001b[38;2;128;128;128m(urllib3.connectionpool): \u001b[0mhttps://gateway.watsonplatform.net:443 \"POST /assistant/api//v1/workspaces/f26bb75b-7f94-4995-aec6-e301900d2920/message?version=2018-07-10 HTTP/1.1\" 200 504\n",
      "\n",
      " 45%|████▍     | 21/47 [00:07<00:08,  2.96it/s]\u001b[A\u001b[38;2;128;128;128m[2019-07-26 10:09:40,047]\u001b[0m \u001b[36mDEBUG\u001b[0m \u001b[38;2;128;128;128m(urllib3.connectionpool): \u001b[0mStarting new HTTPS connection (1): gateway.watsonplatform.net:443\n",
      "\u001b[38;2;128;128;128m[2019-07-26 10:09:40,047]\u001b[0m \u001b[36mDEBUG\u001b[0m \u001b[38;2;128;128;128m(urllib3.connectionpool): \u001b[0mStarting new HTTPS connection (1): gateway.watsonplatform.net:443\n",
      "\u001b[38;2;128;128;128m[2019-07-26 10:09:40,432]\u001b[0m \u001b[36mDEBUG\u001b[0m \u001b[38;2;128;128;128m(urllib3.connectionpool): \u001b[0mhttps://gateway.watsonplatform.net:443 \"POST /assistant/api//v1/workspaces/f26bb75b-7f94-4995-aec6-e301900d2920/message?version=2018-07-10 HTTP/1.1\" 200 521\n",
      "\u001b[38;2;128;128;128m[2019-07-26 10:09:40,432]\u001b[0m \u001b[36mDEBUG\u001b[0m \u001b[38;2;128;128;128m(urllib3.connectionpool): \u001b[0mhttps://gateway.watsonplatform.net:443 \"POST /assistant/api//v1/workspaces/f26bb75b-7f94-4995-aec6-e301900d2920/message?version=2018-07-10 HTTP/1.1\" 200 521\n",
      "\n",
      " 47%|████▋     | 22/47 [00:08<00:08,  2.80it/s]\u001b[A\u001b[38;2;128;128;128m[2019-07-26 10:09:40,454]\u001b[0m \u001b[36mDEBUG\u001b[0m \u001b[38;2;128;128;128m(urllib3.connectionpool): \u001b[0mStarting new HTTPS connection (1): gateway.watsonplatform.net:443\n",
      "\u001b[38;2;128;128;128m[2019-07-26 10:09:40,454]\u001b[0m \u001b[36mDEBUG\u001b[0m \u001b[38;2;128;128;128m(urllib3.connectionpool): \u001b[0mStarting new HTTPS connection (1): gateway.watsonplatform.net:443\n",
      "\u001b[38;2;128;128;128m[2019-07-26 10:09:43,622]\u001b[0m \u001b[36mDEBUG\u001b[0m \u001b[38;2;128;128;128m(urllib3.connectionpool): \u001b[0mhttps://gateway.watsonplatform.net:443 \"POST /assistant/api//v1/workspaces/f26bb75b-7f94-4995-aec6-e301900d2920/message?version=2018-07-10 HTTP/1.1\" 200 None\n",
      "\u001b[38;2;128;128;128m[2019-07-26 10:09:43,622]\u001b[0m \u001b[36mDEBUG\u001b[0m \u001b[38;2;128;128;128m(urllib3.connectionpool): \u001b[0mhttps://gateway.watsonplatform.net:443 \"POST /assistant/api//v1/workspaces/f26bb75b-7f94-4995-aec6-e301900d2920/message?version=2018-07-10 HTTP/1.1\" 200 None\n",
      "\n",
      " 49%|████▉     | 23/47 [00:11<00:29,  1.22s/it]\u001b[A\u001b[38;2;128;128;128m[2019-07-26 10:09:43,669]\u001b[0m \u001b[36mDEBUG\u001b[0m \u001b[38;2;128;128;128m(urllib3.connectionpool): \u001b[0mStarting new HTTPS connection (1): gateway.watsonplatform.net:443\n",
      "\u001b[38;2;128;128;128m[2019-07-26 10:09:43,669]\u001b[0m \u001b[36mDEBUG\u001b[0m \u001b[38;2;128;128;128m(urllib3.connectionpool): \u001b[0mStarting new HTTPS connection (1): gateway.watsonplatform.net:443\n",
      "\u001b[38;2;128;128;128m[2019-07-26 10:09:44,063]\u001b[0m \u001b[36mDEBUG\u001b[0m \u001b[38;2;128;128;128m(urllib3.connectionpool): \u001b[0mhttps://gateway.watsonplatform.net:443 \"POST /assistant/api//v1/workspaces/f26bb75b-7f94-4995-aec6-e301900d2920/message?version=2018-07-10 HTTP/1.1\" 200 None\n",
      "\u001b[38;2;128;128;128m[2019-07-26 10:09:44,063]\u001b[0m \u001b[36mDEBUG\u001b[0m \u001b[38;2;128;128;128m(urllib3.connectionpool): \u001b[0mhttps://gateway.watsonplatform.net:443 \"POST /assistant/api//v1/workspaces/f26bb75b-7f94-4995-aec6-e301900d2920/message?version=2018-07-10 HTTP/1.1\" 200 None\n",
      "\n",
      " 51%|█████     | 24/47 [00:11<00:22,  1.03it/s]\u001b[A\u001b[38;2;128;128;128m[2019-07-26 10:09:44,084]\u001b[0m \u001b[36mDEBUG\u001b[0m \u001b[38;2;128;128;128m(urllib3.connectionpool): \u001b[0mStarting new HTTPS connection (1): gateway.watsonplatform.net:443\n",
      "\u001b[38;2;128;128;128m[2019-07-26 10:09:44,084]\u001b[0m \u001b[36mDEBUG\u001b[0m \u001b[38;2;128;128;128m(urllib3.connectionpool): \u001b[0mStarting new HTTPS connection (1): gateway.watsonplatform.net:443\n",
      "\u001b[38;2;128;128;128m[2019-07-26 10:09:44,355]\u001b[0m \u001b[36mDEBUG\u001b[0m \u001b[38;2;128;128;128m(urllib3.connectionpool): \u001b[0mhttps://gateway.watsonplatform.net:443 \"POST /assistant/api//v1/workspaces/f26bb75b-7f94-4995-aec6-e301900d2920/message?version=2018-07-10 HTTP/1.1\" 200 None\n",
      "\u001b[38;2;128;128;128m[2019-07-26 10:09:44,355]\u001b[0m \u001b[36mDEBUG\u001b[0m \u001b[38;2;128;128;128m(urllib3.connectionpool): \u001b[0mhttps://gateway.watsonplatform.net:443 \"POST /assistant/api//v1/workspaces/f26bb75b-7f94-4995-aec6-e301900d2920/message?version=2018-07-10 HTTP/1.1\" 200 None\n",
      "\n",
      " 53%|█████▎    | 25/47 [00:12<00:16,  1.30it/s]\u001b[A\u001b[38;2;128;128;128m[2019-07-26 10:09:44,373]\u001b[0m \u001b[36mDEBUG\u001b[0m \u001b[38;2;128;128;128m(urllib3.connectionpool): \u001b[0mStarting new HTTPS connection (1): gateway.watsonplatform.net:443\n",
      "\u001b[38;2;128;128;128m[2019-07-26 10:09:44,373]\u001b[0m \u001b[36mDEBUG\u001b[0m \u001b[38;2;128;128;128m(urllib3.connectionpool): \u001b[0mStarting new HTTPS connection (1): gateway.watsonplatform.net:443\n",
      "\u001b[38;2;128;128;128m[2019-07-26 10:09:44,595]\u001b[0m \u001b[36mDEBUG\u001b[0m \u001b[38;2;128;128;128m(urllib3.connectionpool): \u001b[0mhttps://gateway.watsonplatform.net:443 \"POST /assistant/api//v1/workspaces/f26bb75b-7f94-4995-aec6-e301900d2920/message?version=2018-07-10 HTTP/1.1\" 200 511\n",
      "\u001b[38;2;128;128;128m[2019-07-26 10:09:44,595]\u001b[0m \u001b[36mDEBUG\u001b[0m \u001b[38;2;128;128;128m(urllib3.connectionpool): \u001b[0mhttps://gateway.watsonplatform.net:443 \"POST /assistant/api//v1/workspaces/f26bb75b-7f94-4995-aec6-e301900d2920/message?version=2018-07-10 HTTP/1.1\" 200 511\n",
      "\n",
      " 55%|█████▌    | 26/47 [00:12<00:12,  1.64it/s]\u001b[A\u001b[38;2;128;128;128m[2019-07-26 10:09:44,615]\u001b[0m \u001b[36mDEBUG\u001b[0m \u001b[38;2;128;128;128m(urllib3.connectionpool): \u001b[0mStarting new HTTPS connection (1): gateway.watsonplatform.net:443\n",
      "\u001b[38;2;128;128;128m[2019-07-26 10:09:44,615]\u001b[0m \u001b[36mDEBUG\u001b[0m \u001b[38;2;128;128;128m(urllib3.connectionpool): \u001b[0mStarting new HTTPS connection (1): gateway.watsonplatform.net:443\n",
      "\u001b[38;2;128;128;128m[2019-07-26 10:09:45,207]\u001b[0m \u001b[36mDEBUG\u001b[0m \u001b[38;2;128;128;128m(urllib3.connectionpool): \u001b[0mhttps://gateway.watsonplatform.net:443 \"POST /assistant/api//v1/workspaces/f26bb75b-7f94-4995-aec6-e301900d2920/message?version=2018-07-10 HTTP/1.1\" 200 516\n"
     ]
    },
    {
     "name": "stderr",
     "output_type": "stream",
     "text": [
      "\u001b[38;2;128;128;128m[2019-07-26 10:09:45,207]\u001b[0m \u001b[36mDEBUG\u001b[0m \u001b[38;2;128;128;128m(urllib3.connectionpool): \u001b[0mhttps://gateway.watsonplatform.net:443 \"POST /assistant/api//v1/workspaces/f26bb75b-7f94-4995-aec6-e301900d2920/message?version=2018-07-10 HTTP/1.1\" 200 516\n",
      "\n",
      " 57%|█████▋    | 27/47 [00:13<00:12,  1.63it/s]\u001b[A\u001b[38;2;128;128;128m[2019-07-26 10:09:45,234]\u001b[0m \u001b[36mDEBUG\u001b[0m \u001b[38;2;128;128;128m(urllib3.connectionpool): \u001b[0mStarting new HTTPS connection (1): gateway.watsonplatform.net:443\n",
      "\u001b[38;2;128;128;128m[2019-07-26 10:09:45,234]\u001b[0m \u001b[36mDEBUG\u001b[0m \u001b[38;2;128;128;128m(urllib3.connectionpool): \u001b[0mStarting new HTTPS connection (1): gateway.watsonplatform.net:443\n",
      "\u001b[38;2;128;128;128m[2019-07-26 10:09:45,516]\u001b[0m \u001b[36mDEBUG\u001b[0m \u001b[38;2;128;128;128m(urllib3.connectionpool): \u001b[0mhttps://gateway.watsonplatform.net:443 \"POST /assistant/api//v1/workspaces/f26bb75b-7f94-4995-aec6-e301900d2920/message?version=2018-07-10 HTTP/1.1\" 200 511\n",
      "\u001b[38;2;128;128;128m[2019-07-26 10:09:45,516]\u001b[0m \u001b[36mDEBUG\u001b[0m \u001b[38;2;128;128;128m(urllib3.connectionpool): \u001b[0mhttps://gateway.watsonplatform.net:443 \"POST /assistant/api//v1/workspaces/f26bb75b-7f94-4995-aec6-e301900d2920/message?version=2018-07-10 HTTP/1.1\" 200 511\n",
      "\n",
      " 60%|█████▉    | 28/47 [00:13<00:09,  1.92it/s]\u001b[A\u001b[38;2;128;128;128m[2019-07-26 10:09:45,533]\u001b[0m \u001b[36mDEBUG\u001b[0m \u001b[38;2;128;128;128m(urllib3.connectionpool): \u001b[0mStarting new HTTPS connection (1): gateway.watsonplatform.net:443\n",
      "\u001b[38;2;128;128;128m[2019-07-26 10:09:45,533]\u001b[0m \u001b[36mDEBUG\u001b[0m \u001b[38;2;128;128;128m(urllib3.connectionpool): \u001b[0mStarting new HTTPS connection (1): gateway.watsonplatform.net:443\n",
      "\u001b[38;2;128;128;128m[2019-07-26 10:09:45,922]\u001b[0m \u001b[36mDEBUG\u001b[0m \u001b[38;2;128;128;128m(urllib3.connectionpool): \u001b[0mhttps://gateway.watsonplatform.net:443 \"POST /assistant/api//v1/workspaces/f26bb75b-7f94-4995-aec6-e301900d2920/message?version=2018-07-10 HTTP/1.1\" 200 518\n",
      "\u001b[38;2;128;128;128m[2019-07-26 10:09:45,922]\u001b[0m \u001b[36mDEBUG\u001b[0m \u001b[38;2;128;128;128m(urllib3.connectionpool): \u001b[0mhttps://gateway.watsonplatform.net:443 \"POST /assistant/api//v1/workspaces/f26bb75b-7f94-4995-aec6-e301900d2920/message?version=2018-07-10 HTTP/1.1\" 200 518\n",
      "\n",
      " 62%|██████▏   | 29/47 [00:13<00:08,  2.06it/s]\u001b[A\u001b[38;2;128;128;128m[2019-07-26 10:09:45,942]\u001b[0m \u001b[36mDEBUG\u001b[0m \u001b[38;2;128;128;128m(urllib3.connectionpool): \u001b[0mStarting new HTTPS connection (1): gateway.watsonplatform.net:443\n",
      "\u001b[38;2;128;128;128m[2019-07-26 10:09:45,942]\u001b[0m \u001b[36mDEBUG\u001b[0m \u001b[38;2;128;128;128m(urllib3.connectionpool): \u001b[0mStarting new HTTPS connection (1): gateway.watsonplatform.net:443\n",
      "\u001b[38;2;128;128;128m[2019-07-26 10:09:46,478]\u001b[0m \u001b[36mDEBUG\u001b[0m \u001b[38;2;128;128;128m(urllib3.connectionpool): \u001b[0mhttps://gateway.watsonplatform.net:443 \"POST /assistant/api//v1/workspaces/f26bb75b-7f94-4995-aec6-e301900d2920/message?version=2018-07-10 HTTP/1.1\" 200 519\n",
      "\u001b[38;2;128;128;128m[2019-07-26 10:09:46,478]\u001b[0m \u001b[36mDEBUG\u001b[0m \u001b[38;2;128;128;128m(urllib3.connectionpool): \u001b[0mhttps://gateway.watsonplatform.net:443 \"POST /assistant/api//v1/workspaces/f26bb75b-7f94-4995-aec6-e301900d2920/message?version=2018-07-10 HTTP/1.1\" 200 519\n",
      "\n",
      " 64%|██████▍   | 30/47 [00:14<00:08,  1.93it/s]\u001b[A\u001b[38;2;128;128;128m[2019-07-26 10:09:46,538]\u001b[0m \u001b[36mDEBUG\u001b[0m \u001b[38;2;128;128;128m(urllib3.connectionpool): \u001b[0mStarting new HTTPS connection (1): gateway.watsonplatform.net:443\n",
      "\u001b[38;2;128;128;128m[2019-07-26 10:09:46,538]\u001b[0m \u001b[36mDEBUG\u001b[0m \u001b[38;2;128;128;128m(urllib3.connectionpool): \u001b[0mStarting new HTTPS connection (1): gateway.watsonplatform.net:443\n",
      "\u001b[38;2;128;128;128m[2019-07-26 10:09:46,787]\u001b[0m \u001b[36mDEBUG\u001b[0m \u001b[38;2;128;128;128m(urllib3.connectionpool): \u001b[0mhttps://gateway.watsonplatform.net:443 \"POST /assistant/api//v1/workspaces/f26bb75b-7f94-4995-aec6-e301900d2920/message?version=2018-07-10 HTTP/1.1\" 200 None\n",
      "\u001b[38;2;128;128;128m[2019-07-26 10:09:46,787]\u001b[0m \u001b[36mDEBUG\u001b[0m \u001b[38;2;128;128;128m(urllib3.connectionpool): \u001b[0mhttps://gateway.watsonplatform.net:443 \"POST /assistant/api//v1/workspaces/f26bb75b-7f94-4995-aec6-e301900d2920/message?version=2018-07-10 HTTP/1.1\" 200 None\n",
      "\n",
      " 66%|██████▌   | 31/47 [00:14<00:07,  2.25it/s]\u001b[A\u001b[38;2;128;128;128m[2019-07-26 10:09:46,807]\u001b[0m \u001b[36mDEBUG\u001b[0m \u001b[38;2;128;128;128m(urllib3.connectionpool): \u001b[0mStarting new HTTPS connection (1): gateway.watsonplatform.net:443\n",
      "\u001b[38;2;128;128;128m[2019-07-26 10:09:46,807]\u001b[0m \u001b[36mDEBUG\u001b[0m \u001b[38;2;128;128;128m(urllib3.connectionpool): \u001b[0mStarting new HTTPS connection (1): gateway.watsonplatform.net:443\n",
      "\u001b[38;2;128;128;128m[2019-07-26 10:09:47,066]\u001b[0m \u001b[36mDEBUG\u001b[0m \u001b[38;2;128;128;128m(urllib3.connectionpool): \u001b[0mhttps://gateway.watsonplatform.net:443 \"POST /assistant/api//v1/workspaces/f26bb75b-7f94-4995-aec6-e301900d2920/message?version=2018-07-10 HTTP/1.1\" 200 500\n",
      "\u001b[38;2;128;128;128m[2019-07-26 10:09:47,066]\u001b[0m \u001b[36mDEBUG\u001b[0m \u001b[38;2;128;128;128m(urllib3.connectionpool): \u001b[0mhttps://gateway.watsonplatform.net:443 \"POST /assistant/api//v1/workspaces/f26bb75b-7f94-4995-aec6-e301900d2920/message?version=2018-07-10 HTTP/1.1\" 200 500\n",
      "\n",
      " 68%|██████▊   | 32/47 [00:14<00:05,  2.54it/s]\u001b[A\u001b[38;2;128;128;128m[2019-07-26 10:09:47,082]\u001b[0m \u001b[36mDEBUG\u001b[0m \u001b[38;2;128;128;128m(urllib3.connectionpool): \u001b[0mStarting new HTTPS connection (1): gateway.watsonplatform.net:443\n",
      "\u001b[38;2;128;128;128m[2019-07-26 10:09:47,082]\u001b[0m \u001b[36mDEBUG\u001b[0m \u001b[38;2;128;128;128m(urllib3.connectionpool): \u001b[0mStarting new HTTPS connection (1): gateway.watsonplatform.net:443\n",
      "\u001b[38;2;128;128;128m[2019-07-26 10:09:47,508]\u001b[0m \u001b[36mDEBUG\u001b[0m \u001b[38;2;128;128;128m(urllib3.connectionpool): \u001b[0mhttps://gateway.watsonplatform.net:443 \"POST /assistant/api//v1/workspaces/f26bb75b-7f94-4995-aec6-e301900d2920/message?version=2018-07-10 HTTP/1.1\" 200 None\n",
      "\u001b[38;2;128;128;128m[2019-07-26 10:09:47,508]\u001b[0m \u001b[36mDEBUG\u001b[0m \u001b[38;2;128;128;128m(urllib3.connectionpool): \u001b[0mhttps://gateway.watsonplatform.net:443 \"POST /assistant/api//v1/workspaces/f26bb75b-7f94-4995-aec6-e301900d2920/message?version=2018-07-10 HTTP/1.1\" 200 None\n",
      "\n",
      " 70%|███████   | 33/47 [00:15<00:05,  2.45it/s]\u001b[A\u001b[38;2;128;128;128m[2019-07-26 10:09:47,525]\u001b[0m \u001b[36mDEBUG\u001b[0m \u001b[38;2;128;128;128m(urllib3.connectionpool): \u001b[0mStarting new HTTPS connection (1): gateway.watsonplatform.net:443\n",
      "\u001b[38;2;128;128;128m[2019-07-26 10:09:47,525]\u001b[0m \u001b[36mDEBUG\u001b[0m \u001b[38;2;128;128;128m(urllib3.connectionpool): \u001b[0mStarting new HTTPS connection (1): gateway.watsonplatform.net:443\n",
      "\u001b[38;2;128;128;128m[2019-07-26 10:09:47,769]\u001b[0m \u001b[36mDEBUG\u001b[0m \u001b[38;2;128;128;128m(urllib3.connectionpool): \u001b[0mhttps://gateway.watsonplatform.net:443 \"POST /assistant/api//v1/workspaces/f26bb75b-7f94-4995-aec6-e301900d2920/message?version=2018-07-10 HTTP/1.1\" 200 None\n",
      "\u001b[38;2;128;128;128m[2019-07-26 10:09:47,769]\u001b[0m \u001b[36mDEBUG\u001b[0m \u001b[38;2;128;128;128m(urllib3.connectionpool): \u001b[0mhttps://gateway.watsonplatform.net:443 \"POST /assistant/api//v1/workspaces/f26bb75b-7f94-4995-aec6-e301900d2920/message?version=2018-07-10 HTTP/1.1\" 200 None\n",
      "\n",
      " 72%|███████▏  | 34/47 [00:15<00:04,  2.72it/s]\u001b[A\u001b[38;2;128;128;128m[2019-07-26 10:09:47,803]\u001b[0m \u001b[36mDEBUG\u001b[0m \u001b[38;2;128;128;128m(urllib3.connectionpool): \u001b[0mStarting new HTTPS connection (1): gateway.watsonplatform.net:443\n",
      "\u001b[38;2;128;128;128m[2019-07-26 10:09:47,803]\u001b[0m \u001b[36mDEBUG\u001b[0m \u001b[38;2;128;128;128m(urllib3.connectionpool): \u001b[0mStarting new HTTPS connection (1): gateway.watsonplatform.net:443\n",
      "\u001b[38;2;128;128;128m[2019-07-26 10:09:48,066]\u001b[0m \u001b[36mDEBUG\u001b[0m \u001b[38;2;128;128;128m(urllib3.connectionpool): \u001b[0mhttps://gateway.watsonplatform.net:443 \"POST /assistant/api//v1/workspaces/f26bb75b-7f94-4995-aec6-e301900d2920/message?version=2018-07-10 HTTP/1.1\" 200 None\n",
      "\u001b[38;2;128;128;128m[2019-07-26 10:09:48,066]\u001b[0m \u001b[36mDEBUG\u001b[0m \u001b[38;2;128;128;128m(urllib3.connectionpool): \u001b[0mhttps://gateway.watsonplatform.net:443 \"POST /assistant/api//v1/workspaces/f26bb75b-7f94-4995-aec6-e301900d2920/message?version=2018-07-10 HTTP/1.1\" 200 None\n",
      "\n",
      " 74%|███████▍  | 35/47 [00:15<00:04,  2.91it/s]\u001b[A\u001b[38;2;128;128;128m[2019-07-26 10:09:48,085]\u001b[0m \u001b[36mDEBUG\u001b[0m \u001b[38;2;128;128;128m(urllib3.connectionpool): \u001b[0mStarting new HTTPS connection (1): gateway.watsonplatform.net:443\n",
      "\u001b[38;2;128;128;128m[2019-07-26 10:09:48,085]\u001b[0m \u001b[36mDEBUG\u001b[0m \u001b[38;2;128;128;128m(urllib3.connectionpool): \u001b[0mStarting new HTTPS connection (1): gateway.watsonplatform.net:443\n"
     ]
    },
    {
     "name": "stderr",
     "output_type": "stream",
     "text": [
      "\u001b[38;2;128;128;128m[2019-07-26 10:09:48,388]\u001b[0m \u001b[36mDEBUG\u001b[0m \u001b[38;2;128;128;128m(urllib3.connectionpool): \u001b[0mhttps://gateway.watsonplatform.net:443 \"POST /assistant/api//v1/workspaces/f26bb75b-7f94-4995-aec6-e301900d2920/message?version=2018-07-10 HTTP/1.1\" 200 518\n",
      "\u001b[38;2;128;128;128m[2019-07-26 10:09:48,388]\u001b[0m \u001b[36mDEBUG\u001b[0m \u001b[38;2;128;128;128m(urllib3.connectionpool): \u001b[0mhttps://gateway.watsonplatform.net:443 \"POST /assistant/api//v1/workspaces/f26bb75b-7f94-4995-aec6-e301900d2920/message?version=2018-07-10 HTTP/1.1\" 200 518\n",
      "\n",
      " 77%|███████▋  | 36/47 [00:16<00:03,  2.96it/s]\u001b[A\u001b[38;2;128;128;128m[2019-07-26 10:09:48,407]\u001b[0m \u001b[36mDEBUG\u001b[0m \u001b[38;2;128;128;128m(urllib3.connectionpool): \u001b[0mStarting new HTTPS connection (1): gateway.watsonplatform.net:443\n",
      "\u001b[38;2;128;128;128m[2019-07-26 10:09:48,407]\u001b[0m \u001b[36mDEBUG\u001b[0m \u001b[38;2;128;128;128m(urllib3.connectionpool): \u001b[0mStarting new HTTPS connection (1): gateway.watsonplatform.net:443\n",
      "\u001b[38;2;128;128;128m[2019-07-26 10:09:48,719]\u001b[0m \u001b[36mDEBUG\u001b[0m \u001b[38;2;128;128;128m(urllib3.connectionpool): \u001b[0mhttps://gateway.watsonplatform.net:443 \"POST /assistant/api//v1/workspaces/f26bb75b-7f94-4995-aec6-e301900d2920/message?version=2018-07-10 HTTP/1.1\" 200 515\n",
      "\u001b[38;2;128;128;128m[2019-07-26 10:09:48,719]\u001b[0m \u001b[36mDEBUG\u001b[0m \u001b[38;2;128;128;128m(urllib3.connectionpool): \u001b[0mhttps://gateway.watsonplatform.net:443 \"POST /assistant/api//v1/workspaces/f26bb75b-7f94-4995-aec6-e301900d2920/message?version=2018-07-10 HTTP/1.1\" 200 515\n",
      "\n",
      " 79%|███████▊  | 37/47 [00:16<00:03,  2.94it/s]\u001b[A\u001b[38;2;128;128;128m[2019-07-26 10:09:48,752]\u001b[0m \u001b[36mDEBUG\u001b[0m \u001b[38;2;128;128;128m(urllib3.connectionpool): \u001b[0mStarting new HTTPS connection (1): gateway.watsonplatform.net:443\n",
      "\u001b[38;2;128;128;128m[2019-07-26 10:09:48,752]\u001b[0m \u001b[36mDEBUG\u001b[0m \u001b[38;2;128;128;128m(urllib3.connectionpool): \u001b[0mStarting new HTTPS connection (1): gateway.watsonplatform.net:443\n",
      "\u001b[38;2;128;128;128m[2019-07-26 10:09:49,576]\u001b[0m \u001b[36mDEBUG\u001b[0m \u001b[38;2;128;128;128m(urllib3.connectionpool): \u001b[0mhttps://gateway.watsonplatform.net:443 \"POST /assistant/api//v1/workspaces/f26bb75b-7f94-4995-aec6-e301900d2920/message?version=2018-07-10 HTTP/1.1\" 200 None\n",
      "\u001b[38;2;128;128;128m[2019-07-26 10:09:49,576]\u001b[0m \u001b[36mDEBUG\u001b[0m \u001b[38;2;128;128;128m(urllib3.connectionpool): \u001b[0mhttps://gateway.watsonplatform.net:443 \"POST /assistant/api//v1/workspaces/f26bb75b-7f94-4995-aec6-e301900d2920/message?version=2018-07-10 HTTP/1.1\" 200 None\n",
      "\n",
      " 81%|████████  | 38/47 [00:17<00:04,  2.04it/s]\u001b[A\u001b[38;2;128;128;128m[2019-07-26 10:09:49,593]\u001b[0m \u001b[36mDEBUG\u001b[0m \u001b[38;2;128;128;128m(urllib3.connectionpool): \u001b[0mStarting new HTTPS connection (1): gateway.watsonplatform.net:443\n",
      "\u001b[38;2;128;128;128m[2019-07-26 10:09:49,593]\u001b[0m \u001b[36mDEBUG\u001b[0m \u001b[38;2;128;128;128m(urllib3.connectionpool): \u001b[0mStarting new HTTPS connection (1): gateway.watsonplatform.net:443\n",
      "\u001b[38;2;128;128;128m[2019-07-26 10:09:50,685]\u001b[0m \u001b[36mDEBUG\u001b[0m \u001b[38;2;128;128;128m(urllib3.connectionpool): \u001b[0mhttps://gateway.watsonplatform.net:443 \"POST /assistant/api//v1/workspaces/f26bb75b-7f94-4995-aec6-e301900d2920/message?version=2018-07-10 HTTP/1.1\" 200 506\n",
      "\u001b[38;2;128;128;128m[2019-07-26 10:09:50,685]\u001b[0m \u001b[36mDEBUG\u001b[0m \u001b[38;2;128;128;128m(urllib3.connectionpool): \u001b[0mhttps://gateway.watsonplatform.net:443 \"POST /assistant/api//v1/workspaces/f26bb75b-7f94-4995-aec6-e301900d2920/message?version=2018-07-10 HTTP/1.1\" 200 506\n",
      "\n",
      " 83%|████████▎ | 39/47 [00:18<00:05,  1.47it/s]\u001b[A\u001b[38;2;128;128;128m[2019-07-26 10:09:50,715]\u001b[0m \u001b[36mDEBUG\u001b[0m \u001b[38;2;128;128;128m(urllib3.connectionpool): \u001b[0mStarting new HTTPS connection (1): gateway.watsonplatform.net:443\n",
      "\u001b[38;2;128;128;128m[2019-07-26 10:09:50,715]\u001b[0m \u001b[36mDEBUG\u001b[0m \u001b[38;2;128;128;128m(urllib3.connectionpool): \u001b[0mStarting new HTTPS connection (1): gateway.watsonplatform.net:443\n",
      "\u001b[38;2;128;128;128m[2019-07-26 10:09:51,345]\u001b[0m \u001b[36mDEBUG\u001b[0m \u001b[38;2;128;128;128m(urllib3.connectionpool): \u001b[0mhttps://gateway.watsonplatform.net:443 \"POST /assistant/api//v1/workspaces/f26bb75b-7f94-4995-aec6-e301900d2920/message?version=2018-07-10 HTTP/1.1\" 200 545\n",
      "\u001b[38;2;128;128;128m[2019-07-26 10:09:51,345]\u001b[0m \u001b[36mDEBUG\u001b[0m \u001b[38;2;128;128;128m(urllib3.connectionpool): \u001b[0mhttps://gateway.watsonplatform.net:443 \"POST /assistant/api//v1/workspaces/f26bb75b-7f94-4995-aec6-e301900d2920/message?version=2018-07-10 HTTP/1.1\" 200 545\n",
      "\n",
      " 85%|████████▌ | 40/47 [00:19<00:04,  1.49it/s]\u001b[A\u001b[38;2;128;128;128m[2019-07-26 10:09:51,380]\u001b[0m \u001b[36mDEBUG\u001b[0m \u001b[38;2;128;128;128m(urllib3.connectionpool): \u001b[0mStarting new HTTPS connection (1): gateway.watsonplatform.net:443\n",
      "\u001b[38;2;128;128;128m[2019-07-26 10:09:51,380]\u001b[0m \u001b[36mDEBUG\u001b[0m \u001b[38;2;128;128;128m(urllib3.connectionpool): \u001b[0mStarting new HTTPS connection (1): gateway.watsonplatform.net:443\n",
      "\u001b[38;2;128;128;128m[2019-07-26 10:09:54,313]\u001b[0m \u001b[36mDEBUG\u001b[0m \u001b[38;2;128;128;128m(urllib3.connectionpool): \u001b[0mhttps://gateway.watsonplatform.net:443 \"POST /assistant/api//v1/workspaces/f26bb75b-7f94-4995-aec6-e301900d2920/message?version=2018-07-10 HTTP/1.1\" 200 None\n",
      "\u001b[38;2;128;128;128m[2019-07-26 10:09:54,313]\u001b[0m \u001b[36mDEBUG\u001b[0m \u001b[38;2;128;128;128m(urllib3.connectionpool): \u001b[0mhttps://gateway.watsonplatform.net:443 \"POST /assistant/api//v1/workspaces/f26bb75b-7f94-4995-aec6-e301900d2920/message?version=2018-07-10 HTTP/1.1\" 200 None\n",
      "\n",
      " 87%|████████▋ | 41/47 [00:22<00:08,  1.36s/it]\u001b[A\u001b[38;2;128;128;128m[2019-07-26 10:09:54,332]\u001b[0m \u001b[36mDEBUG\u001b[0m \u001b[38;2;128;128;128m(urllib3.connectionpool): \u001b[0mStarting new HTTPS connection (1): gateway.watsonplatform.net:443\n",
      "\u001b[38;2;128;128;128m[2019-07-26 10:09:54,332]\u001b[0m \u001b[36mDEBUG\u001b[0m \u001b[38;2;128;128;128m(urllib3.connectionpool): \u001b[0mStarting new HTTPS connection (1): gateway.watsonplatform.net:443\n",
      "\u001b[38;2;128;128;128m[2019-07-26 10:09:54,595]\u001b[0m \u001b[36mDEBUG\u001b[0m \u001b[38;2;128;128;128m(urllib3.connectionpool): \u001b[0mhttps://gateway.watsonplatform.net:443 \"POST /assistant/api//v1/workspaces/f26bb75b-7f94-4995-aec6-e301900d2920/message?version=2018-07-10 HTTP/1.1\" 200 None\n",
      "\u001b[38;2;128;128;128m[2019-07-26 10:09:54,595]\u001b[0m \u001b[36mDEBUG\u001b[0m \u001b[38;2;128;128;128m(urllib3.connectionpool): \u001b[0mhttps://gateway.watsonplatform.net:443 \"POST /assistant/api//v1/workspaces/f26bb75b-7f94-4995-aec6-e301900d2920/message?version=2018-07-10 HTTP/1.1\" 200 None\n",
      "\n",
      " 89%|████████▉ | 42/47 [00:22<00:05,  1.04s/it]\u001b[A\u001b[38;2;128;128;128m[2019-07-26 10:09:54,618]\u001b[0m \u001b[36mDEBUG\u001b[0m \u001b[38;2;128;128;128m(urllib3.connectionpool): \u001b[0mStarting new HTTPS connection (1): gateway.watsonplatform.net:443\n",
      "\u001b[38;2;128;128;128m[2019-07-26 10:09:54,618]\u001b[0m \u001b[36mDEBUG\u001b[0m \u001b[38;2;128;128;128m(urllib3.connectionpool): \u001b[0mStarting new HTTPS connection (1): gateway.watsonplatform.net:443\n",
      "\u001b[38;2;128;128;128m[2019-07-26 10:09:55,257]\u001b[0m \u001b[36mDEBUG\u001b[0m \u001b[38;2;128;128;128m(urllib3.connectionpool): \u001b[0mhttps://gateway.watsonplatform.net:443 \"POST /assistant/api//v1/workspaces/f26bb75b-7f94-4995-aec6-e301900d2920/message?version=2018-07-10 HTTP/1.1\" 200 None\n",
      "\u001b[38;2;128;128;128m[2019-07-26 10:09:55,257]\u001b[0m \u001b[36mDEBUG\u001b[0m \u001b[38;2;128;128;128m(urllib3.connectionpool): \u001b[0mhttps://gateway.watsonplatform.net:443 \"POST /assistant/api//v1/workspaces/f26bb75b-7f94-4995-aec6-e301900d2920/message?version=2018-07-10 HTTP/1.1\" 200 None\n",
      "\n",
      " 91%|█████████▏| 43/47 [00:23<00:03,  1.07it/s]\u001b[A\u001b[38;2;128;128;128m[2019-07-26 10:09:55,325]\u001b[0m \u001b[36mDEBUG\u001b[0m \u001b[38;2;128;128;128m(urllib3.connectionpool): \u001b[0mStarting new HTTPS connection (1): gateway.watsonplatform.net:443\n",
      "\u001b[38;2;128;128;128m[2019-07-26 10:09:55,325]\u001b[0m \u001b[36mDEBUG\u001b[0m \u001b[38;2;128;128;128m(urllib3.connectionpool): \u001b[0mStarting new HTTPS connection (1): gateway.watsonplatform.net:443\n",
      "\u001b[38;2;128;128;128m[2019-07-26 10:09:56,692]\u001b[0m \u001b[36mDEBUG\u001b[0m \u001b[38;2;128;128;128m(urllib3.connectionpool): \u001b[0mhttps://gateway.watsonplatform.net:443 \"POST /assistant/api//v1/workspaces/f26bb75b-7f94-4995-aec6-e301900d2920/message?version=2018-07-10 HTTP/1.1\" 200 516\n",
      "\u001b[38;2;128;128;128m[2019-07-26 10:09:56,692]\u001b[0m \u001b[36mDEBUG\u001b[0m \u001b[38;2;128;128;128m(urllib3.connectionpool): \u001b[0mhttps://gateway.watsonplatform.net:443 \"POST /assistant/api//v1/workspaces/f26bb75b-7f94-4995-aec6-e301900d2920/message?version=2018-07-10 HTTP/1.1\" 200 516\n",
      "\n",
      " 94%|█████████▎| 44/47 [00:24<00:03,  1.07s/it]\u001b[A\u001b[38;2;128;128;128m[2019-07-26 10:09:56,712]\u001b[0m \u001b[36mDEBUG\u001b[0m \u001b[38;2;128;128;128m(urllib3.connectionpool): \u001b[0mStarting new HTTPS connection (1): gateway.watsonplatform.net:443\n"
     ]
    },
    {
     "name": "stderr",
     "output_type": "stream",
     "text": [
      "\u001b[38;2;128;128;128m[2019-07-26 10:09:56,712]\u001b[0m \u001b[36mDEBUG\u001b[0m \u001b[38;2;128;128;128m(urllib3.connectionpool): \u001b[0mStarting new HTTPS connection (1): gateway.watsonplatform.net:443\n",
      "\u001b[38;2;128;128;128m[2019-07-26 10:09:56,955]\u001b[0m \u001b[36mDEBUG\u001b[0m \u001b[38;2;128;128;128m(urllib3.connectionpool): \u001b[0mhttps://gateway.watsonplatform.net:443 \"POST /assistant/api//v1/workspaces/f26bb75b-7f94-4995-aec6-e301900d2920/message?version=2018-07-10 HTTP/1.1\" 200 None\n",
      "\u001b[38;2;128;128;128m[2019-07-26 10:09:56,955]\u001b[0m \u001b[36mDEBUG\u001b[0m \u001b[38;2;128;128;128m(urllib3.connectionpool): \u001b[0mhttps://gateway.watsonplatform.net:443 \"POST /assistant/api//v1/workspaces/f26bb75b-7f94-4995-aec6-e301900d2920/message?version=2018-07-10 HTTP/1.1\" 200 None\n",
      "\n",
      " 96%|█████████▌| 45/47 [00:24<00:01,  1.21it/s]\u001b[A\u001b[38;2;128;128;128m[2019-07-26 10:09:56,977]\u001b[0m \u001b[36mDEBUG\u001b[0m \u001b[38;2;128;128;128m(urllib3.connectionpool): \u001b[0mStarting new HTTPS connection (1): gateway.watsonplatform.net:443\n",
      "\u001b[38;2;128;128;128m[2019-07-26 10:09:56,977]\u001b[0m \u001b[36mDEBUG\u001b[0m \u001b[38;2;128;128;128m(urllib3.connectionpool): \u001b[0mStarting new HTTPS connection (1): gateway.watsonplatform.net:443\n",
      "\u001b[38;2;128;128;128m[2019-07-26 10:09:57,559]\u001b[0m \u001b[36mDEBUG\u001b[0m \u001b[38;2;128;128;128m(urllib3.connectionpool): \u001b[0mhttps://gateway.watsonplatform.net:443 \"POST /assistant/api//v1/workspaces/f26bb75b-7f94-4995-aec6-e301900d2920/message?version=2018-07-10 HTTP/1.1\" 200 506\n",
      "\u001b[38;2;128;128;128m[2019-07-26 10:09:57,559]\u001b[0m \u001b[36mDEBUG\u001b[0m \u001b[38;2;128;128;128m(urllib3.connectionpool): \u001b[0mhttps://gateway.watsonplatform.net:443 \"POST /assistant/api//v1/workspaces/f26bb75b-7f94-4995-aec6-e301900d2920/message?version=2018-07-10 HTTP/1.1\" 200 506\n",
      "\n",
      " 98%|█████████▊| 46/47 [00:25<00:00,  1.31it/s]\u001b[A\u001b[38;2;128;128;128m[2019-07-26 10:09:57,577]\u001b[0m \u001b[36mDEBUG\u001b[0m \u001b[38;2;128;128;128m(urllib3.connectionpool): \u001b[0mStarting new HTTPS connection (1): gateway.watsonplatform.net:443\n",
      "\u001b[38;2;128;128;128m[2019-07-26 10:09:57,577]\u001b[0m \u001b[36mDEBUG\u001b[0m \u001b[38;2;128;128;128m(urllib3.connectionpool): \u001b[0mStarting new HTTPS connection (1): gateway.watsonplatform.net:443\n",
      "\u001b[38;2;128;128;128m[2019-07-26 10:09:57,849]\u001b[0m \u001b[36mDEBUG\u001b[0m \u001b[38;2;128;128;128m(urllib3.connectionpool): \u001b[0mhttps://gateway.watsonplatform.net:443 \"POST /assistant/api//v1/workspaces/f26bb75b-7f94-4995-aec6-e301900d2920/message?version=2018-07-10 HTTP/1.1\" 200 527\n",
      "\u001b[38;2;128;128;128m[2019-07-26 10:09:57,849]\u001b[0m \u001b[36mDEBUG\u001b[0m \u001b[38;2;128;128;128m(urllib3.connectionpool): \u001b[0mhttps://gateway.watsonplatform.net:443 \"POST /assistant/api//v1/workspaces/f26bb75b-7f94-4995-aec6-e301900d2920/message?version=2018-07-10 HTTP/1.1\" 200 527\n",
      "\n",
      " 33%|███▎      | 1/3 [00:25<00:51, 25.83s/it]s]\u001b[A\n",
      "  0%|          | 0/45 [00:00<?, ?it/s]\u001b[A\u001b[38;2;128;128;128m[2019-07-26 10:09:57,958]\u001b[0m \u001b[36mDEBUG\u001b[0m \u001b[38;2;128;128;128m(urllib3.connectionpool): \u001b[0mStarting new HTTPS connection (1): gateway.watsonplatform.net:443\n",
      "\u001b[38;2;128;128;128m[2019-07-26 10:09:57,958]\u001b[0m \u001b[36mDEBUG\u001b[0m \u001b[38;2;128;128;128m(urllib3.connectionpool): \u001b[0mStarting new HTTPS connection (1): gateway.watsonplatform.net:443\n"
     ]
    },
    {
     "name": "stdout",
     "output_type": "stream",
     "text": [
      "\n",
      "\n",
      "RUNNING K-FOLD FOR FOLD NUMBER 2\n"
     ]
    },
    {
     "name": "stderr",
     "output_type": "stream",
     "text": [
      "\u001b[38;2;128;128;128m[2019-07-26 10:09:58,309]\u001b[0m \u001b[36mDEBUG\u001b[0m \u001b[38;2;128;128;128m(urllib3.connectionpool): \u001b[0mhttps://gateway.watsonplatform.net:443 \"POST /assistant/api//v1/workspaces/5486135a-c94c-4d01-bcbb-a7377f461966/message?version=2018-07-10 HTTP/1.1\" 200 526\n",
      "\u001b[38;2;128;128;128m[2019-07-26 10:09:58,309]\u001b[0m \u001b[36mDEBUG\u001b[0m \u001b[38;2;128;128;128m(urllib3.connectionpool): \u001b[0mhttps://gateway.watsonplatform.net:443 \"POST /assistant/api//v1/workspaces/5486135a-c94c-4d01-bcbb-a7377f461966/message?version=2018-07-10 HTTP/1.1\" 200 526\n",
      "\n",
      "  2%|▏         | 1/45 [00:00<00:16,  2.72it/s]\u001b[A\u001b[38;2;128;128;128m[2019-07-26 10:09:58,326]\u001b[0m \u001b[36mDEBUG\u001b[0m \u001b[38;2;128;128;128m(urllib3.connectionpool): \u001b[0mStarting new HTTPS connection (1): gateway.watsonplatform.net:443\n",
      "\u001b[38;2;128;128;128m[2019-07-26 10:09:58,326]\u001b[0m \u001b[36mDEBUG\u001b[0m \u001b[38;2;128;128;128m(urllib3.connectionpool): \u001b[0mStarting new HTTPS connection (1): gateway.watsonplatform.net:443\n",
      "\u001b[38;2;128;128;128m[2019-07-26 10:09:58,895]\u001b[0m \u001b[36mDEBUG\u001b[0m \u001b[38;2;128;128;128m(urllib3.connectionpool): \u001b[0mhttps://gateway.watsonplatform.net:443 \"POST /assistant/api//v1/workspaces/5486135a-c94c-4d01-bcbb-a7377f461966/message?version=2018-07-10 HTTP/1.1\" 200 508\n",
      "\u001b[38;2;128;128;128m[2019-07-26 10:09:58,895]\u001b[0m \u001b[36mDEBUG\u001b[0m \u001b[38;2;128;128;128m(urllib3.connectionpool): \u001b[0mhttps://gateway.watsonplatform.net:443 \"POST /assistant/api//v1/workspaces/5486135a-c94c-4d01-bcbb-a7377f461966/message?version=2018-07-10 HTTP/1.1\" 200 508\n",
      "\n",
      "  4%|▍         | 2/45 [00:00<00:18,  2.31it/s]\u001b[A\u001b[38;2;128;128;128m[2019-07-26 10:09:58,911]\u001b[0m \u001b[36mDEBUG\u001b[0m \u001b[38;2;128;128;128m(urllib3.connectionpool): \u001b[0mStarting new HTTPS connection (1): gateway.watsonplatform.net:443\n",
      "\u001b[38;2;128;128;128m[2019-07-26 10:09:58,911]\u001b[0m \u001b[36mDEBUG\u001b[0m \u001b[38;2;128;128;128m(urllib3.connectionpool): \u001b[0mStarting new HTTPS connection (1): gateway.watsonplatform.net:443\n",
      "\u001b[38;2;128;128;128m[2019-07-26 10:09:59,612]\u001b[0m \u001b[36mDEBUG\u001b[0m \u001b[38;2;128;128;128m(urllib3.connectionpool): \u001b[0mhttps://gateway.watsonplatform.net:443 \"POST /assistant/api//v1/workspaces/5486135a-c94c-4d01-bcbb-a7377f461966/message?version=2018-07-10 HTTP/1.1\" 200 None\n",
      "\u001b[38;2;128;128;128m[2019-07-26 10:09:59,612]\u001b[0m \u001b[36mDEBUG\u001b[0m \u001b[38;2;128;128;128m(urllib3.connectionpool): \u001b[0mhttps://gateway.watsonplatform.net:443 \"POST /assistant/api//v1/workspaces/5486135a-c94c-4d01-bcbb-a7377f461966/message?version=2018-07-10 HTTP/1.1\" 200 None\n",
      "\n",
      "  7%|▋         | 3/45 [00:01<00:21,  1.91it/s]\u001b[A\u001b[38;2;128;128;128m[2019-07-26 10:09:59,648]\u001b[0m \u001b[36mDEBUG\u001b[0m \u001b[38;2;128;128;128m(urllib3.connectionpool): \u001b[0mStarting new HTTPS connection (1): gateway.watsonplatform.net:443\n",
      "\u001b[38;2;128;128;128m[2019-07-26 10:09:59,648]\u001b[0m \u001b[36mDEBUG\u001b[0m \u001b[38;2;128;128;128m(urllib3.connectionpool): \u001b[0mStarting new HTTPS connection (1): gateway.watsonplatform.net:443\n",
      "\u001b[38;2;128;128;128m[2019-07-26 10:10:00,106]\u001b[0m \u001b[36mDEBUG\u001b[0m \u001b[38;2;128;128;128m(urllib3.connectionpool): \u001b[0mhttps://gateway.watsonplatform.net:443 \"POST /assistant/api//v1/workspaces/5486135a-c94c-4d01-bcbb-a7377f461966/message?version=2018-07-10 HTTP/1.1\" 200 501\n",
      "\u001b[38;2;128;128;128m[2019-07-26 10:10:00,106]\u001b[0m \u001b[36mDEBUG\u001b[0m \u001b[38;2;128;128;128m(urllib3.connectionpool): \u001b[0mhttps://gateway.watsonplatform.net:443 \"POST /assistant/api//v1/workspaces/5486135a-c94c-4d01-bcbb-a7377f461966/message?version=2018-07-10 HTTP/1.1\" 200 501\n",
      "\n",
      "  9%|▉         | 4/45 [00:02<00:20,  1.96it/s]\u001b[A\u001b[38;2;128;128;128m[2019-07-26 10:10:00,132]\u001b[0m \u001b[36mDEBUG\u001b[0m \u001b[38;2;128;128;128m(urllib3.connectionpool): \u001b[0mStarting new HTTPS connection (1): gateway.watsonplatform.net:443\n",
      "\u001b[38;2;128;128;128m[2019-07-26 10:10:00,132]\u001b[0m \u001b[36mDEBUG\u001b[0m \u001b[38;2;128;128;128m(urllib3.connectionpool): \u001b[0mStarting new HTTPS connection (1): gateway.watsonplatform.net:443\n",
      "\u001b[38;2;128;128;128m[2019-07-26 10:10:00,428]\u001b[0m \u001b[36mDEBUG\u001b[0m \u001b[38;2;128;128;128m(urllib3.connectionpool): \u001b[0mhttps://gateway.watsonplatform.net:443 \"POST /assistant/api//v1/workspaces/5486135a-c94c-4d01-bcbb-a7377f461966/message?version=2018-07-10 HTTP/1.1\" 200 None\n",
      "\u001b[38;2;128;128;128m[2019-07-26 10:10:00,428]\u001b[0m \u001b[36mDEBUG\u001b[0m \u001b[38;2;128;128;128m(urllib3.connectionpool): \u001b[0mhttps://gateway.watsonplatform.net:443 \"POST /assistant/api//v1/workspaces/5486135a-c94c-4d01-bcbb-a7377f461966/message?version=2018-07-10 HTTP/1.1\" 200 None\n",
      "\n",
      " 11%|█         | 5/45 [00:02<00:18,  2.21it/s]\u001b[A\u001b[38;2;128;128;128m[2019-07-26 10:10:00,445]\u001b[0m \u001b[36mDEBUG\u001b[0m \u001b[38;2;128;128;128m(urllib3.connectionpool): \u001b[0mStarting new HTTPS connection (1): gateway.watsonplatform.net:443\n",
      "\u001b[38;2;128;128;128m[2019-07-26 10:10:00,445]\u001b[0m \u001b[36mDEBUG\u001b[0m \u001b[38;2;128;128;128m(urllib3.connectionpool): \u001b[0mStarting new HTTPS connection (1): gateway.watsonplatform.net:443\n",
      "\u001b[38;2;128;128;128m[2019-07-26 10:10:00,810]\u001b[0m \u001b[36mDEBUG\u001b[0m \u001b[38;2;128;128;128m(urllib3.connectionpool): \u001b[0mhttps://gateway.watsonplatform.net:443 \"POST /assistant/api//v1/workspaces/5486135a-c94c-4d01-bcbb-a7377f461966/message?version=2018-07-10 HTTP/1.1\" 200 496\n",
      "\u001b[38;2;128;128;128m[2019-07-26 10:10:00,810]\u001b[0m \u001b[36mDEBUG\u001b[0m \u001b[38;2;128;128;128m(urllib3.connectionpool): \u001b[0mhttps://gateway.watsonplatform.net:443 \"POST /assistant/api//v1/workspaces/5486135a-c94c-4d01-bcbb-a7377f461966/message?version=2018-07-10 HTTP/1.1\" 200 496\n",
      "\n",
      " 13%|█▎        | 6/45 [00:02<00:16,  2.30it/s]\u001b[A\u001b[38;2;128;128;128m[2019-07-26 10:10:00,834]\u001b[0m \u001b[36mDEBUG\u001b[0m \u001b[38;2;128;128;128m(urllib3.connectionpool): \u001b[0mStarting new HTTPS connection (1): gateway.watsonplatform.net:443\n",
      "\u001b[38;2;128;128;128m[2019-07-26 10:10:00,834]\u001b[0m \u001b[36mDEBUG\u001b[0m \u001b[38;2;128;128;128m(urllib3.connectionpool): \u001b[0mStarting new HTTPS connection (1): gateway.watsonplatform.net:443\n",
      "\u001b[38;2;128;128;128m[2019-07-26 10:10:02,795]\u001b[0m \u001b[36mDEBUG\u001b[0m \u001b[38;2;128;128;128m(urllib3.connectionpool): \u001b[0mhttps://gateway.watsonplatform.net:443 \"POST /assistant/api//v1/workspaces/5486135a-c94c-4d01-bcbb-a7377f461966/message?version=2018-07-10 HTTP/1.1\" 200 None\n",
      "\u001b[38;2;128;128;128m[2019-07-26 10:10:02,795]\u001b[0m \u001b[36mDEBUG\u001b[0m \u001b[38;2;128;128;128m(urllib3.connectionpool): \u001b[0mhttps://gateway.watsonplatform.net:443 \"POST /assistant/api//v1/workspaces/5486135a-c94c-4d01-bcbb-a7377f461966/message?version=2018-07-10 HTTP/1.1\" 200 None\n",
      "\n",
      " 16%|█▌        | 7/45 [00:04<00:34,  1.11it/s]\u001b[A\u001b[38;2;128;128;128m[2019-07-26 10:10:02,813]\u001b[0m \u001b[36mDEBUG\u001b[0m \u001b[38;2;128;128;128m(urllib3.connectionpool): \u001b[0mStarting new HTTPS connection (1): gateway.watsonplatform.net:443\n",
      "\u001b[38;2;128;128;128m[2019-07-26 10:10:02,813]\u001b[0m \u001b[36mDEBUG\u001b[0m \u001b[38;2;128;128;128m(urllib3.connectionpool): \u001b[0mStarting new HTTPS connection (1): gateway.watsonplatform.net:443\n",
      "\u001b[38;2;128;128;128m[2019-07-26 10:10:03,499]\u001b[0m \u001b[36mDEBUG\u001b[0m \u001b[38;2;128;128;128m(urllib3.connectionpool): \u001b[0mhttps://gateway.watsonplatform.net:443 \"POST /assistant/api//v1/workspaces/5486135a-c94c-4d01-bcbb-a7377f461966/message?version=2018-07-10 HTTP/1.1\" 200 None\n",
      "\u001b[38;2;128;128;128m[2019-07-26 10:10:03,499]\u001b[0m \u001b[36mDEBUG\u001b[0m \u001b[38;2;128;128;128m(urllib3.connectionpool): \u001b[0mhttps://gateway.watsonplatform.net:443 \"POST /assistant/api//v1/workspaces/5486135a-c94c-4d01-bcbb-a7377f461966/message?version=2018-07-10 HTTP/1.1\" 200 None\n",
      "\n",
      " 18%|█▊        | 8/45 [00:05<00:31,  1.19it/s]\u001b[A\u001b[38;2;128;128;128m[2019-07-26 10:10:03,517]\u001b[0m \u001b[36mDEBUG\u001b[0m \u001b[38;2;128;128;128m(urllib3.connectionpool): \u001b[0mStarting new HTTPS connection (1): gateway.watsonplatform.net:443\n",
      "\u001b[38;2;128;128;128m[2019-07-26 10:10:03,517]\u001b[0m \u001b[36mDEBUG\u001b[0m \u001b[38;2;128;128;128m(urllib3.connectionpool): \u001b[0mStarting new HTTPS connection (1): gateway.watsonplatform.net:443\n",
      "\u001b[38;2;128;128;128m[2019-07-26 10:10:03,978]\u001b[0m \u001b[36mDEBUG\u001b[0m \u001b[38;2;128;128;128m(urllib3.connectionpool): \u001b[0mhttps://gateway.watsonplatform.net:443 \"POST /assistant/api//v1/workspaces/5486135a-c94c-4d01-bcbb-a7377f461966/message?version=2018-07-10 HTTP/1.1\" 200 514\n",
      "\u001b[38;2;128;128;128m[2019-07-26 10:10:03,978]\u001b[0m \u001b[36mDEBUG\u001b[0m \u001b[38;2;128;128;128m(urllib3.connectionpool): \u001b[0mhttps://gateway.watsonplatform.net:443 \"POST /assistant/api//v1/workspaces/5486135a-c94c-4d01-bcbb-a7377f461966/message?version=2018-07-10 HTTP/1.1\" 200 514\n",
      "\n",
      " 20%|██        | 9/45 [00:06<00:26,  1.36it/s]\u001b[A\u001b[38;2;128;128;128m[2019-07-26 10:10:04,005]\u001b[0m \u001b[36mDEBUG\u001b[0m \u001b[38;2;128;128;128m(urllib3.connectionpool): \u001b[0mStarting new HTTPS connection (1): gateway.watsonplatform.net:443\n"
     ]
    },
    {
     "name": "stderr",
     "output_type": "stream",
     "text": [
      "\u001b[38;2;128;128;128m[2019-07-26 10:10:04,005]\u001b[0m \u001b[36mDEBUG\u001b[0m \u001b[38;2;128;128;128m(urllib3.connectionpool): \u001b[0mStarting new HTTPS connection (1): gateway.watsonplatform.net:443\n",
      "\u001b[38;2;128;128;128m[2019-07-26 10:10:04,322]\u001b[0m \u001b[36mDEBUG\u001b[0m \u001b[38;2;128;128;128m(urllib3.connectionpool): \u001b[0mhttps://gateway.watsonplatform.net:443 \"POST /assistant/api//v1/workspaces/5486135a-c94c-4d01-bcbb-a7377f461966/message?version=2018-07-10 HTTP/1.1\" 200 None\n",
      "\u001b[38;2;128;128;128m[2019-07-26 10:10:04,322]\u001b[0m \u001b[36mDEBUG\u001b[0m \u001b[38;2;128;128;128m(urllib3.connectionpool): \u001b[0mhttps://gateway.watsonplatform.net:443 \"POST /assistant/api//v1/workspaces/5486135a-c94c-4d01-bcbb-a7377f461966/message?version=2018-07-10 HTTP/1.1\" 200 None\n",
      "\n",
      " 22%|██▏       | 10/45 [00:06<00:21,  1.63it/s]\u001b[A\u001b[38;2;128;128;128m[2019-07-26 10:10:04,338]\u001b[0m \u001b[36mDEBUG\u001b[0m \u001b[38;2;128;128;128m(urllib3.connectionpool): \u001b[0mStarting new HTTPS connection (1): gateway.watsonplatform.net:443\n",
      "\u001b[38;2;128;128;128m[2019-07-26 10:10:04,338]\u001b[0m \u001b[36mDEBUG\u001b[0m \u001b[38;2;128;128;128m(urllib3.connectionpool): \u001b[0mStarting new HTTPS connection (1): gateway.watsonplatform.net:443\n",
      "\u001b[38;2;128;128;128m[2019-07-26 10:10:04,577]\u001b[0m \u001b[36mDEBUG\u001b[0m \u001b[38;2;128;128;128m(urllib3.connectionpool): \u001b[0mhttps://gateway.watsonplatform.net:443 \"POST /assistant/api//v1/workspaces/5486135a-c94c-4d01-bcbb-a7377f461966/message?version=2018-07-10 HTTP/1.1\" 200 None\n",
      "\u001b[38;2;128;128;128m[2019-07-26 10:10:04,577]\u001b[0m \u001b[36mDEBUG\u001b[0m \u001b[38;2;128;128;128m(urllib3.connectionpool): \u001b[0mhttps://gateway.watsonplatform.net:443 \"POST /assistant/api//v1/workspaces/5486135a-c94c-4d01-bcbb-a7377f461966/message?version=2018-07-10 HTTP/1.1\" 200 None\n",
      "\n",
      " 24%|██▍       | 11/45 [00:06<00:17,  1.97it/s]\u001b[A\u001b[38;2;128;128;128m[2019-07-26 10:10:04,596]\u001b[0m \u001b[36mDEBUG\u001b[0m \u001b[38;2;128;128;128m(urllib3.connectionpool): \u001b[0mStarting new HTTPS connection (1): gateway.watsonplatform.net:443\n",
      "\u001b[38;2;128;128;128m[2019-07-26 10:10:04,596]\u001b[0m \u001b[36mDEBUG\u001b[0m \u001b[38;2;128;128;128m(urllib3.connectionpool): \u001b[0mStarting new HTTPS connection (1): gateway.watsonplatform.net:443\n",
      "\u001b[38;2;128;128;128m[2019-07-26 10:10:04,877]\u001b[0m \u001b[36mDEBUG\u001b[0m \u001b[38;2;128;128;128m(urllib3.connectionpool): \u001b[0mhttps://gateway.watsonplatform.net:443 \"POST /assistant/api//v1/workspaces/5486135a-c94c-4d01-bcbb-a7377f461966/message?version=2018-07-10 HTTP/1.1\" 200 525\n",
      "\u001b[38;2;128;128;128m[2019-07-26 10:10:04,877]\u001b[0m \u001b[36mDEBUG\u001b[0m \u001b[38;2;128;128;128m(urllib3.connectionpool): \u001b[0mhttps://gateway.watsonplatform.net:443 \"POST /assistant/api//v1/workspaces/5486135a-c94c-4d01-bcbb-a7377f461966/message?version=2018-07-10 HTTP/1.1\" 200 525\n",
      "\n",
      " 27%|██▋       | 12/45 [00:06<00:14,  2.25it/s]\u001b[A\u001b[38;2;128;128;128m[2019-07-26 10:10:04,898]\u001b[0m \u001b[36mDEBUG\u001b[0m \u001b[38;2;128;128;128m(urllib3.connectionpool): \u001b[0mStarting new HTTPS connection (1): gateway.watsonplatform.net:443\n",
      "\u001b[38;2;128;128;128m[2019-07-26 10:10:04,898]\u001b[0m \u001b[36mDEBUG\u001b[0m \u001b[38;2;128;128;128m(urllib3.connectionpool): \u001b[0mStarting new HTTPS connection (1): gateway.watsonplatform.net:443\n",
      "\u001b[38;2;128;128;128m[2019-07-26 10:10:05,585]\u001b[0m \u001b[36mDEBUG\u001b[0m \u001b[38;2;128;128;128m(urllib3.connectionpool): \u001b[0mhttps://gateway.watsonplatform.net:443 \"POST /assistant/api//v1/workspaces/5486135a-c94c-4d01-bcbb-a7377f461966/message?version=2018-07-10 HTTP/1.1\" 200 None\n",
      "\u001b[38;2;128;128;128m[2019-07-26 10:10:05,585]\u001b[0m \u001b[36mDEBUG\u001b[0m \u001b[38;2;128;128;128m(urllib3.connectionpool): \u001b[0mhttps://gateway.watsonplatform.net:443 \"POST /assistant/api//v1/workspaces/5486135a-c94c-4d01-bcbb-a7377f461966/message?version=2018-07-10 HTTP/1.1\" 200 None\n",
      "\n",
      " 29%|██▉       | 13/45 [00:07<00:16,  1.91it/s]\u001b[A\u001b[38;2;128;128;128m[2019-07-26 10:10:05,605]\u001b[0m \u001b[36mDEBUG\u001b[0m \u001b[38;2;128;128;128m(urllib3.connectionpool): \u001b[0mStarting new HTTPS connection (1): gateway.watsonplatform.net:443\n",
      "\u001b[38;2;128;128;128m[2019-07-26 10:10:05,605]\u001b[0m \u001b[36mDEBUG\u001b[0m \u001b[38;2;128;128;128m(urllib3.connectionpool): \u001b[0mStarting new HTTPS connection (1): gateway.watsonplatform.net:443\n",
      "\u001b[38;2;128;128;128m[2019-07-26 10:10:05,989]\u001b[0m \u001b[36mDEBUG\u001b[0m \u001b[38;2;128;128;128m(urllib3.connectionpool): \u001b[0mhttps://gateway.watsonplatform.net:443 \"POST /assistant/api//v1/workspaces/5486135a-c94c-4d01-bcbb-a7377f461966/message?version=2018-07-10 HTTP/1.1\" 200 None\n",
      "\u001b[38;2;128;128;128m[2019-07-26 10:10:05,989]\u001b[0m \u001b[36mDEBUG\u001b[0m \u001b[38;2;128;128;128m(urllib3.connectionpool): \u001b[0mhttps://gateway.watsonplatform.net:443 \"POST /assistant/api//v1/workspaces/5486135a-c94c-4d01-bcbb-a7377f461966/message?version=2018-07-10 HTTP/1.1\" 200 None\n",
      "\n",
      " 31%|███       | 14/45 [00:08<00:15,  2.05it/s]\u001b[A\u001b[38;2;128;128;128m[2019-07-26 10:10:06,009]\u001b[0m \u001b[36mDEBUG\u001b[0m \u001b[38;2;128;128;128m(urllib3.connectionpool): \u001b[0mStarting new HTTPS connection (1): gateway.watsonplatform.net:443\n",
      "\u001b[38;2;128;128;128m[2019-07-26 10:10:06,009]\u001b[0m \u001b[36mDEBUG\u001b[0m \u001b[38;2;128;128;128m(urllib3.connectionpool): \u001b[0mStarting new HTTPS connection (1): gateway.watsonplatform.net:443\n",
      "\u001b[38;2;128;128;128m[2019-07-26 10:10:06,473]\u001b[0m \u001b[36mDEBUG\u001b[0m \u001b[38;2;128;128;128m(urllib3.connectionpool): \u001b[0mhttps://gateway.watsonplatform.net:443 \"POST /assistant/api//v1/workspaces/5486135a-c94c-4d01-bcbb-a7377f461966/message?version=2018-07-10 HTTP/1.1\" 200 None\n",
      "\u001b[38;2;128;128;128m[2019-07-26 10:10:06,473]\u001b[0m \u001b[36mDEBUG\u001b[0m \u001b[38;2;128;128;128m(urllib3.connectionpool): \u001b[0mhttps://gateway.watsonplatform.net:443 \"POST /assistant/api//v1/workspaces/5486135a-c94c-4d01-bcbb-a7377f461966/message?version=2018-07-10 HTTP/1.1\" 200 None\n",
      "\n",
      " 33%|███▎      | 15/45 [00:08<00:14,  2.05it/s]\u001b[A\u001b[38;2;128;128;128m[2019-07-26 10:10:06,493]\u001b[0m \u001b[36mDEBUG\u001b[0m \u001b[38;2;128;128;128m(urllib3.connectionpool): \u001b[0mStarting new HTTPS connection (1): gateway.watsonplatform.net:443\n",
      "\u001b[38;2;128;128;128m[2019-07-26 10:10:06,493]\u001b[0m \u001b[36mDEBUG\u001b[0m \u001b[38;2;128;128;128m(urllib3.connectionpool): \u001b[0mStarting new HTTPS connection (1): gateway.watsonplatform.net:443\n",
      "\u001b[38;2;128;128;128m[2019-07-26 10:10:08,754]\u001b[0m \u001b[36mDEBUG\u001b[0m \u001b[38;2;128;128;128m(urllib3.connectionpool): \u001b[0mhttps://gateway.watsonplatform.net:443 \"POST /assistant/api//v1/workspaces/5486135a-c94c-4d01-bcbb-a7377f461966/message?version=2018-07-10 HTTP/1.1\" 200 None\n",
      "\u001b[38;2;128;128;128m[2019-07-26 10:10:08,754]\u001b[0m \u001b[36mDEBUG\u001b[0m \u001b[38;2;128;128;128m(urllib3.connectionpool): \u001b[0mhttps://gateway.watsonplatform.net:443 \"POST /assistant/api//v1/workspaces/5486135a-c94c-4d01-bcbb-a7377f461966/message?version=2018-07-10 HTTP/1.1\" 200 None\n",
      "\n",
      " 36%|███▌      | 16/45 [00:10<00:30,  1.05s/it]\u001b[A\u001b[38;2;128;128;128m[2019-07-26 10:10:08,853]\u001b[0m \u001b[36mDEBUG\u001b[0m \u001b[38;2;128;128;128m(urllib3.connectionpool): \u001b[0mStarting new HTTPS connection (1): gateway.watsonplatform.net:443\n",
      "\u001b[38;2;128;128;128m[2019-07-26 10:10:08,853]\u001b[0m \u001b[36mDEBUG\u001b[0m \u001b[38;2;128;128;128m(urllib3.connectionpool): \u001b[0mStarting new HTTPS connection (1): gateway.watsonplatform.net:443\n",
      "\u001b[38;2;128;128;128m[2019-07-26 10:10:09,236]\u001b[0m \u001b[36mDEBUG\u001b[0m \u001b[38;2;128;128;128m(urllib3.connectionpool): \u001b[0mhttps://gateway.watsonplatform.net:443 \"POST /assistant/api//v1/workspaces/5486135a-c94c-4d01-bcbb-a7377f461966/message?version=2018-07-10 HTTP/1.1\" 200 511\n",
      "\u001b[38;2;128;128;128m[2019-07-26 10:10:09,236]\u001b[0m \u001b[36mDEBUG\u001b[0m \u001b[38;2;128;128;128m(urllib3.connectionpool): \u001b[0mhttps://gateway.watsonplatform.net:443 \"POST /assistant/api//v1/workspaces/5486135a-c94c-4d01-bcbb-a7377f461966/message?version=2018-07-10 HTTP/1.1\" 200 511\n",
      "\n",
      " 38%|███▊      | 17/45 [00:11<00:23,  1.17it/s]\u001b[A\u001b[38;2;128;128;128m[2019-07-26 10:10:09,255]\u001b[0m \u001b[36mDEBUG\u001b[0m \u001b[38;2;128;128;128m(urllib3.connectionpool): \u001b[0mStarting new HTTPS connection (1): gateway.watsonplatform.net:443\n",
      "\u001b[38;2;128;128;128m[2019-07-26 10:10:09,255]\u001b[0m \u001b[36mDEBUG\u001b[0m \u001b[38;2;128;128;128m(urllib3.connectionpool): \u001b[0mStarting new HTTPS connection (1): gateway.watsonplatform.net:443\n",
      "\u001b[38;2;128;128;128m[2019-07-26 10:10:09,629]\u001b[0m \u001b[36mDEBUG\u001b[0m \u001b[38;2;128;128;128m(urllib3.connectionpool): \u001b[0mhttps://gateway.watsonplatform.net:443 \"POST /assistant/api//v1/workspaces/5486135a-c94c-4d01-bcbb-a7377f461966/message?version=2018-07-10 HTTP/1.1\" 200 None\n",
      "\u001b[38;2;128;128;128m[2019-07-26 10:10:09,629]\u001b[0m \u001b[36mDEBUG\u001b[0m \u001b[38;2;128;128;128m(urllib3.connectionpool): \u001b[0mhttps://gateway.watsonplatform.net:443 \"POST /assistant/api//v1/workspaces/5486135a-c94c-4d01-bcbb-a7377f461966/message?version=2018-07-10 HTTP/1.1\" 200 None\n"
     ]
    },
    {
     "name": "stderr",
     "output_type": "stream",
     "text": [
      "\n",
      " 40%|████      | 18/45 [00:11<00:19,  1.40it/s]\u001b[A\u001b[38;2;128;128;128m[2019-07-26 10:10:09,646]\u001b[0m \u001b[36mDEBUG\u001b[0m \u001b[38;2;128;128;128m(urllib3.connectionpool): \u001b[0mStarting new HTTPS connection (1): gateway.watsonplatform.net:443\n",
      "\u001b[38;2;128;128;128m[2019-07-26 10:10:09,646]\u001b[0m \u001b[36mDEBUG\u001b[0m \u001b[38;2;128;128;128m(urllib3.connectionpool): \u001b[0mStarting new HTTPS connection (1): gateway.watsonplatform.net:443\n",
      "\u001b[38;2;128;128;128m[2019-07-26 10:10:10,113]\u001b[0m \u001b[36mDEBUG\u001b[0m \u001b[38;2;128;128;128m(urllib3.connectionpool): \u001b[0mhttps://gateway.watsonplatform.net:443 \"POST /assistant/api//v1/workspaces/5486135a-c94c-4d01-bcbb-a7377f461966/message?version=2018-07-10 HTTP/1.1\" 200 525\n",
      "\u001b[38;2;128;128;128m[2019-07-26 10:10:10,113]\u001b[0m \u001b[36mDEBUG\u001b[0m \u001b[38;2;128;128;128m(urllib3.connectionpool): \u001b[0mhttps://gateway.watsonplatform.net:443 \"POST /assistant/api//v1/workspaces/5486135a-c94c-4d01-bcbb-a7377f461966/message?version=2018-07-10 HTTP/1.1\" 200 525\n",
      "\n",
      " 42%|████▏     | 19/45 [00:12<00:16,  1.55it/s]\u001b[A\u001b[38;2;128;128;128m[2019-07-26 10:10:10,131]\u001b[0m \u001b[36mDEBUG\u001b[0m \u001b[38;2;128;128;128m(urllib3.connectionpool): \u001b[0mStarting new HTTPS connection (1): gateway.watsonplatform.net:443\n",
      "\u001b[38;2;128;128;128m[2019-07-26 10:10:10,131]\u001b[0m \u001b[36mDEBUG\u001b[0m \u001b[38;2;128;128;128m(urllib3.connectionpool): \u001b[0mStarting new HTTPS connection (1): gateway.watsonplatform.net:443\n",
      "\u001b[38;2;128;128;128m[2019-07-26 10:10:10,502]\u001b[0m \u001b[36mDEBUG\u001b[0m \u001b[38;2;128;128;128m(urllib3.connectionpool): \u001b[0mhttps://gateway.watsonplatform.net:443 \"POST /assistant/api//v1/workspaces/5486135a-c94c-4d01-bcbb-a7377f461966/message?version=2018-07-10 HTTP/1.1\" 200 517\n",
      "\u001b[38;2;128;128;128m[2019-07-26 10:10:10,502]\u001b[0m \u001b[36mDEBUG\u001b[0m \u001b[38;2;128;128;128m(urllib3.connectionpool): \u001b[0mhttps://gateway.watsonplatform.net:443 \"POST /assistant/api//v1/workspaces/5486135a-c94c-4d01-bcbb-a7377f461966/message?version=2018-07-10 HTTP/1.1\" 200 517\n",
      "\n",
      " 44%|████▍     | 20/45 [00:12<00:14,  1.76it/s]\u001b[A\u001b[38;2;128;128;128m[2019-07-26 10:10:10,519]\u001b[0m \u001b[36mDEBUG\u001b[0m \u001b[38;2;128;128;128m(urllib3.connectionpool): \u001b[0mStarting new HTTPS connection (1): gateway.watsonplatform.net:443\n",
      "\u001b[38;2;128;128;128m[2019-07-26 10:10:10,519]\u001b[0m \u001b[36mDEBUG\u001b[0m \u001b[38;2;128;128;128m(urllib3.connectionpool): \u001b[0mStarting new HTTPS connection (1): gateway.watsonplatform.net:443\n",
      "\u001b[38;2;128;128;128m[2019-07-26 10:10:10,810]\u001b[0m \u001b[36mDEBUG\u001b[0m \u001b[38;2;128;128;128m(urllib3.connectionpool): \u001b[0mhttps://gateway.watsonplatform.net:443 \"POST /assistant/api//v1/workspaces/5486135a-c94c-4d01-bcbb-a7377f461966/message?version=2018-07-10 HTTP/1.1\" 200 530\n",
      "\u001b[38;2;128;128;128m[2019-07-26 10:10:10,810]\u001b[0m \u001b[36mDEBUG\u001b[0m \u001b[38;2;128;128;128m(urllib3.connectionpool): \u001b[0mhttps://gateway.watsonplatform.net:443 \"POST /assistant/api//v1/workspaces/5486135a-c94c-4d01-bcbb-a7377f461966/message?version=2018-07-10 HTTP/1.1\" 200 530\n",
      "\n",
      " 47%|████▋     | 21/45 [00:12<00:11,  2.04it/s]\u001b[A\u001b[38;2;128;128;128m[2019-07-26 10:10:10,825]\u001b[0m \u001b[36mDEBUG\u001b[0m \u001b[38;2;128;128;128m(urllib3.connectionpool): \u001b[0mStarting new HTTPS connection (1): gateway.watsonplatform.net:443\n",
      "\u001b[38;2;128;128;128m[2019-07-26 10:10:10,825]\u001b[0m \u001b[36mDEBUG\u001b[0m \u001b[38;2;128;128;128m(urllib3.connectionpool): \u001b[0mStarting new HTTPS connection (1): gateway.watsonplatform.net:443\n",
      "\u001b[38;2;128;128;128m[2019-07-26 10:10:11,266]\u001b[0m \u001b[36mDEBUG\u001b[0m \u001b[38;2;128;128;128m(urllib3.connectionpool): \u001b[0mhttps://gateway.watsonplatform.net:443 \"POST /assistant/api//v1/workspaces/5486135a-c94c-4d01-bcbb-a7377f461966/message?version=2018-07-10 HTTP/1.1\" 200 None\n",
      "\u001b[38;2;128;128;128m[2019-07-26 10:10:11,266]\u001b[0m \u001b[36mDEBUG\u001b[0m \u001b[38;2;128;128;128m(urllib3.connectionpool): \u001b[0mhttps://gateway.watsonplatform.net:443 \"POST /assistant/api//v1/workspaces/5486135a-c94c-4d01-bcbb-a7377f461966/message?version=2018-07-10 HTTP/1.1\" 200 None\n",
      "\n",
      " 49%|████▉     | 22/45 [00:13<00:11,  2.06it/s]\u001b[A\u001b[38;2;128;128;128m[2019-07-26 10:10:11,303]\u001b[0m \u001b[36mDEBUG\u001b[0m \u001b[38;2;128;128;128m(urllib3.connectionpool): \u001b[0mStarting new HTTPS connection (1): gateway.watsonplatform.net:443\n",
      "\u001b[38;2;128;128;128m[2019-07-26 10:10:11,303]\u001b[0m \u001b[36mDEBUG\u001b[0m \u001b[38;2;128;128;128m(urllib3.connectionpool): \u001b[0mStarting new HTTPS connection (1): gateway.watsonplatform.net:443\n",
      "\u001b[38;2;128;128;128m[2019-07-26 10:10:11,972]\u001b[0m \u001b[36mDEBUG\u001b[0m \u001b[38;2;128;128;128m(urllib3.connectionpool): \u001b[0mhttps://gateway.watsonplatform.net:443 \"POST /assistant/api//v1/workspaces/5486135a-c94c-4d01-bcbb-a7377f461966/message?version=2018-07-10 HTTP/1.1\" 200 None\n",
      "\u001b[38;2;128;128;128m[2019-07-26 10:10:11,972]\u001b[0m \u001b[36mDEBUG\u001b[0m \u001b[38;2;128;128;128m(urllib3.connectionpool): \u001b[0mhttps://gateway.watsonplatform.net:443 \"POST /assistant/api//v1/workspaces/5486135a-c94c-4d01-bcbb-a7377f461966/message?version=2018-07-10 HTTP/1.1\" 200 None\n",
      "\n",
      " 51%|█████     | 23/45 [00:14<00:12,  1.79it/s]\u001b[A\u001b[38;2;128;128;128m[2019-07-26 10:10:12,058]\u001b[0m \u001b[36mDEBUG\u001b[0m \u001b[38;2;128;128;128m(urllib3.connectionpool): \u001b[0mStarting new HTTPS connection (1): gateway.watsonplatform.net:443\n",
      "\u001b[38;2;128;128;128m[2019-07-26 10:10:12,058]\u001b[0m \u001b[36mDEBUG\u001b[0m \u001b[38;2;128;128;128m(urllib3.connectionpool): \u001b[0mStarting new HTTPS connection (1): gateway.watsonplatform.net:443\n",
      "\u001b[38;2;128;128;128m[2019-07-26 10:10:12,340]\u001b[0m \u001b[36mDEBUG\u001b[0m \u001b[38;2;128;128;128m(urllib3.connectionpool): \u001b[0mhttps://gateway.watsonplatform.net:443 \"POST /assistant/api//v1/workspaces/5486135a-c94c-4d01-bcbb-a7377f461966/message?version=2018-07-10 HTTP/1.1\" 200 513\n",
      "\u001b[38;2;128;128;128m[2019-07-26 10:10:12,340]\u001b[0m \u001b[36mDEBUG\u001b[0m \u001b[38;2;128;128;128m(urllib3.connectionpool): \u001b[0mhttps://gateway.watsonplatform.net:443 \"POST /assistant/api//v1/workspaces/5486135a-c94c-4d01-bcbb-a7377f461966/message?version=2018-07-10 HTTP/1.1\" 200 513\n",
      "\n",
      " 53%|█████▎    | 24/45 [00:14<00:10,  2.01it/s]\u001b[A\u001b[38;2;128;128;128m[2019-07-26 10:10:12,393]\u001b[0m \u001b[36mDEBUG\u001b[0m \u001b[38;2;128;128;128m(urllib3.connectionpool): \u001b[0mStarting new HTTPS connection (1): gateway.watsonplatform.net:443\n",
      "\u001b[38;2;128;128;128m[2019-07-26 10:10:12,393]\u001b[0m \u001b[36mDEBUG\u001b[0m \u001b[38;2;128;128;128m(urllib3.connectionpool): \u001b[0mStarting new HTTPS connection (1): gateway.watsonplatform.net:443\n",
      "\u001b[38;2;128;128;128m[2019-07-26 10:10:13,064]\u001b[0m \u001b[36mDEBUG\u001b[0m \u001b[38;2;128;128;128m(urllib3.connectionpool): \u001b[0mhttps://gateway.watsonplatform.net:443 \"POST /assistant/api//v1/workspaces/5486135a-c94c-4d01-bcbb-a7377f461966/message?version=2018-07-10 HTTP/1.1\" 200 None\n",
      "\u001b[38;2;128;128;128m[2019-07-26 10:10:13,064]\u001b[0m \u001b[36mDEBUG\u001b[0m \u001b[38;2;128;128;128m(urllib3.connectionpool): \u001b[0mhttps://gateway.watsonplatform.net:443 \"POST /assistant/api//v1/workspaces/5486135a-c94c-4d01-bcbb-a7377f461966/message?version=2018-07-10 HTTP/1.1\" 200 None\n",
      "\n",
      " 56%|█████▌    | 25/45 [00:15<00:11,  1.79it/s]\u001b[A\u001b[38;2;128;128;128m[2019-07-26 10:10:13,086]\u001b[0m \u001b[36mDEBUG\u001b[0m \u001b[38;2;128;128;128m(urllib3.connectionpool): \u001b[0mStarting new HTTPS connection (1): gateway.watsonplatform.net:443\n",
      "\u001b[38;2;128;128;128m[2019-07-26 10:10:13,086]\u001b[0m \u001b[36mDEBUG\u001b[0m \u001b[38;2;128;128;128m(urllib3.connectionpool): \u001b[0mStarting new HTTPS connection (1): gateway.watsonplatform.net:443\n",
      "\u001b[38;2;128;128;128m[2019-07-26 10:10:13,718]\u001b[0m \u001b[36mDEBUG\u001b[0m \u001b[38;2;128;128;128m(urllib3.connectionpool): \u001b[0mhttps://gateway.watsonplatform.net:443 \"POST /assistant/api//v1/workspaces/5486135a-c94c-4d01-bcbb-a7377f461966/message?version=2018-07-10 HTTP/1.1\" 200 None\n",
      "\u001b[38;2;128;128;128m[2019-07-26 10:10:13,718]\u001b[0m \u001b[36mDEBUG\u001b[0m \u001b[38;2;128;128;128m(urllib3.connectionpool): \u001b[0mhttps://gateway.watsonplatform.net:443 \"POST /assistant/api//v1/workspaces/5486135a-c94c-4d01-bcbb-a7377f461966/message?version=2018-07-10 HTTP/1.1\" 200 None\n",
      "\n",
      " 58%|█████▊    | 26/45 [00:15<00:11,  1.71it/s]\u001b[A\u001b[38;2;128;128;128m[2019-07-26 10:10:13,736]\u001b[0m \u001b[36mDEBUG\u001b[0m \u001b[38;2;128;128;128m(urllib3.connectionpool): \u001b[0mStarting new HTTPS connection (1): gateway.watsonplatform.net:443\n",
      "\u001b[38;2;128;128;128m[2019-07-26 10:10:13,736]\u001b[0m \u001b[36mDEBUG\u001b[0m \u001b[38;2;128;128;128m(urllib3.connectionpool): \u001b[0mStarting new HTTPS connection (1): gateway.watsonplatform.net:443\n",
      "\u001b[38;2;128;128;128m[2019-07-26 10:10:14,154]\u001b[0m \u001b[36mDEBUG\u001b[0m \u001b[38;2;128;128;128m(urllib3.connectionpool): \u001b[0mhttps://gateway.watsonplatform.net:443 \"POST /assistant/api//v1/workspaces/5486135a-c94c-4d01-bcbb-a7377f461966/message?version=2018-07-10 HTTP/1.1\" 200 502\n"
     ]
    },
    {
     "name": "stderr",
     "output_type": "stream",
     "text": [
      "\u001b[38;2;128;128;128m[2019-07-26 10:10:14,154]\u001b[0m \u001b[36mDEBUG\u001b[0m \u001b[38;2;128;128;128m(urllib3.connectionpool): \u001b[0mhttps://gateway.watsonplatform.net:443 \"POST /assistant/api//v1/workspaces/5486135a-c94c-4d01-bcbb-a7377f461966/message?version=2018-07-10 HTTP/1.1\" 200 502\n",
      "\n",
      " 60%|██████    | 27/45 [00:16<00:09,  1.84it/s]\u001b[A\u001b[38;2;128;128;128m[2019-07-26 10:10:14,178]\u001b[0m \u001b[36mDEBUG\u001b[0m \u001b[38;2;128;128;128m(urllib3.connectionpool): \u001b[0mStarting new HTTPS connection (1): gateway.watsonplatform.net:443\n",
      "\u001b[38;2;128;128;128m[2019-07-26 10:10:14,178]\u001b[0m \u001b[36mDEBUG\u001b[0m \u001b[38;2;128;128;128m(urllib3.connectionpool): \u001b[0mStarting new HTTPS connection (1): gateway.watsonplatform.net:443\n",
      "\u001b[38;2;128;128;128m[2019-07-26 10:10:14,792]\u001b[0m \u001b[36mDEBUG\u001b[0m \u001b[38;2;128;128;128m(urllib3.connectionpool): \u001b[0mhttps://gateway.watsonplatform.net:443 \"POST /assistant/api//v1/workspaces/5486135a-c94c-4d01-bcbb-a7377f461966/message?version=2018-07-10 HTTP/1.1\" 200 509\n",
      "\u001b[38;2;128;128;128m[2019-07-26 10:10:14,792]\u001b[0m \u001b[36mDEBUG\u001b[0m \u001b[38;2;128;128;128m(urllib3.connectionpool): \u001b[0mhttps://gateway.watsonplatform.net:443 \"POST /assistant/api//v1/workspaces/5486135a-c94c-4d01-bcbb-a7377f461966/message?version=2018-07-10 HTTP/1.1\" 200 509\n",
      "\n",
      " 62%|██████▏   | 28/45 [00:16<00:09,  1.75it/s]\u001b[A\u001b[38;2;128;128;128m[2019-07-26 10:10:14,818]\u001b[0m \u001b[36mDEBUG\u001b[0m \u001b[38;2;128;128;128m(urllib3.connectionpool): \u001b[0mStarting new HTTPS connection (1): gateway.watsonplatform.net:443\n",
      "\u001b[38;2;128;128;128m[2019-07-26 10:10:14,818]\u001b[0m \u001b[36mDEBUG\u001b[0m \u001b[38;2;128;128;128m(urllib3.connectionpool): \u001b[0mStarting new HTTPS connection (1): gateway.watsonplatform.net:443\n",
      "\u001b[38;2;128;128;128m[2019-07-26 10:10:15,175]\u001b[0m \u001b[36mDEBUG\u001b[0m \u001b[38;2;128;128;128m(urllib3.connectionpool): \u001b[0mhttps://gateway.watsonplatform.net:443 \"POST /assistant/api//v1/workspaces/5486135a-c94c-4d01-bcbb-a7377f461966/message?version=2018-07-10 HTTP/1.1\" 200 506\n",
      "\u001b[38;2;128;128;128m[2019-07-26 10:10:15,175]\u001b[0m \u001b[36mDEBUG\u001b[0m \u001b[38;2;128;128;128m(urllib3.connectionpool): \u001b[0mhttps://gateway.watsonplatform.net:443 \"POST /assistant/api//v1/workspaces/5486135a-c94c-4d01-bcbb-a7377f461966/message?version=2018-07-10 HTTP/1.1\" 200 506\n",
      "\n",
      " 64%|██████▍   | 29/45 [00:17<00:08,  1.93it/s]\u001b[A\u001b[38;2;128;128;128m[2019-07-26 10:10:15,229]\u001b[0m \u001b[36mDEBUG\u001b[0m \u001b[38;2;128;128;128m(urllib3.connectionpool): \u001b[0mStarting new HTTPS connection (1): gateway.watsonplatform.net:443\n",
      "\u001b[38;2;128;128;128m[2019-07-26 10:10:15,229]\u001b[0m \u001b[36mDEBUG\u001b[0m \u001b[38;2;128;128;128m(urllib3.connectionpool): \u001b[0mStarting new HTTPS connection (1): gateway.watsonplatform.net:443\n",
      "\u001b[38;2;128;128;128m[2019-07-26 10:10:15,970]\u001b[0m \u001b[36mDEBUG\u001b[0m \u001b[38;2;128;128;128m(urllib3.connectionpool): \u001b[0mhttps://gateway.watsonplatform.net:443 \"POST /assistant/api//v1/workspaces/5486135a-c94c-4d01-bcbb-a7377f461966/message?version=2018-07-10 HTTP/1.1\" 200 None\n",
      "\u001b[38;2;128;128;128m[2019-07-26 10:10:15,970]\u001b[0m \u001b[36mDEBUG\u001b[0m \u001b[38;2;128;128;128m(urllib3.connectionpool): \u001b[0mhttps://gateway.watsonplatform.net:443 \"POST /assistant/api//v1/workspaces/5486135a-c94c-4d01-bcbb-a7377f461966/message?version=2018-07-10 HTTP/1.1\" 200 None\n",
      "\n",
      " 67%|██████▋   | 30/45 [00:18<00:09,  1.66it/s]\u001b[A\u001b[38;2;128;128;128m[2019-07-26 10:10:16,017]\u001b[0m \u001b[36mDEBUG\u001b[0m \u001b[38;2;128;128;128m(urllib3.connectionpool): \u001b[0mStarting new HTTPS connection (1): gateway.watsonplatform.net:443\n",
      "\u001b[38;2;128;128;128m[2019-07-26 10:10:16,017]\u001b[0m \u001b[36mDEBUG\u001b[0m \u001b[38;2;128;128;128m(urllib3.connectionpool): \u001b[0mStarting new HTTPS connection (1): gateway.watsonplatform.net:443\n",
      "\u001b[38;2;128;128;128m[2019-07-26 10:10:16,609]\u001b[0m \u001b[36mDEBUG\u001b[0m \u001b[38;2;128;128;128m(urllib3.connectionpool): \u001b[0mhttps://gateway.watsonplatform.net:443 \"POST /assistant/api//v1/workspaces/5486135a-c94c-4d01-bcbb-a7377f461966/message?version=2018-07-10 HTTP/1.1\" 200 None\n",
      "\u001b[38;2;128;128;128m[2019-07-26 10:10:16,609]\u001b[0m \u001b[36mDEBUG\u001b[0m \u001b[38;2;128;128;128m(urllib3.connectionpool): \u001b[0mhttps://gateway.watsonplatform.net:443 \"POST /assistant/api//v1/workspaces/5486135a-c94c-4d01-bcbb-a7377f461966/message?version=2018-07-10 HTTP/1.1\" 200 None\n",
      "\n",
      " 69%|██████▉   | 31/45 [00:18<00:08,  1.65it/s]\u001b[A\u001b[38;2;128;128;128m[2019-07-26 10:10:16,630]\u001b[0m \u001b[36mDEBUG\u001b[0m \u001b[38;2;128;128;128m(urllib3.connectionpool): \u001b[0mStarting new HTTPS connection (1): gateway.watsonplatform.net:443\n",
      "\u001b[38;2;128;128;128m[2019-07-26 10:10:16,630]\u001b[0m \u001b[36mDEBUG\u001b[0m \u001b[38;2;128;128;128m(urllib3.connectionpool): \u001b[0mStarting new HTTPS connection (1): gateway.watsonplatform.net:443\n",
      "\u001b[38;2;128;128;128m[2019-07-26 10:10:19,168]\u001b[0m \u001b[36mDEBUG\u001b[0m \u001b[38;2;128;128;128m(urllib3.connectionpool): \u001b[0mhttps://gateway.watsonplatform.net:443 \"POST /assistant/api//v1/workspaces/5486135a-c94c-4d01-bcbb-a7377f461966/message?version=2018-07-10 HTTP/1.1\" 200 None\n",
      "\u001b[38;2;128;128;128m[2019-07-26 10:10:19,168]\u001b[0m \u001b[36mDEBUG\u001b[0m \u001b[38;2;128;128;128m(urllib3.connectionpool): \u001b[0mhttps://gateway.watsonplatform.net:443 \"POST /assistant/api//v1/workspaces/5486135a-c94c-4d01-bcbb-a7377f461966/message?version=2018-07-10 HTTP/1.1\" 200 None\n",
      "\n",
      " 71%|███████   | 32/45 [00:21<00:15,  1.20s/it]\u001b[A\u001b[38;2;128;128;128m[2019-07-26 10:10:19,216]\u001b[0m \u001b[36mDEBUG\u001b[0m \u001b[38;2;128;128;128m(urllib3.connectionpool): \u001b[0mStarting new HTTPS connection (1): gateway.watsonplatform.net:443\n",
      "\u001b[38;2;128;128;128m[2019-07-26 10:10:19,216]\u001b[0m \u001b[36mDEBUG\u001b[0m \u001b[38;2;128;128;128m(urllib3.connectionpool): \u001b[0mStarting new HTTPS connection (1): gateway.watsonplatform.net:443\n",
      "\u001b[38;2;128;128;128m[2019-07-26 10:10:22,782]\u001b[0m \u001b[36mDEBUG\u001b[0m \u001b[38;2;128;128;128m(urllib3.connectionpool): \u001b[0mhttps://gateway.watsonplatform.net:443 \"POST /assistant/api//v1/workspaces/5486135a-c94c-4d01-bcbb-a7377f461966/message?version=2018-07-10 HTTP/1.1\" 200 None\n",
      "\u001b[38;2;128;128;128m[2019-07-26 10:10:22,782]\u001b[0m \u001b[36mDEBUG\u001b[0m \u001b[38;2;128;128;128m(urllib3.connectionpool): \u001b[0mhttps://gateway.watsonplatform.net:443 \"POST /assistant/api//v1/workspaces/5486135a-c94c-4d01-bcbb-a7377f461966/message?version=2018-07-10 HTTP/1.1\" 200 None\n",
      "\n",
      " 73%|███████▎  | 33/45 [00:24<00:23,  1.92s/it]\u001b[A\u001b[38;2;128;128;128m[2019-07-26 10:10:22,804]\u001b[0m \u001b[36mDEBUG\u001b[0m \u001b[38;2;128;128;128m(urllib3.connectionpool): \u001b[0mStarting new HTTPS connection (1): gateway.watsonplatform.net:443\n",
      "\u001b[38;2;128;128;128m[2019-07-26 10:10:22,804]\u001b[0m \u001b[36mDEBUG\u001b[0m \u001b[38;2;128;128;128m(urllib3.connectionpool): \u001b[0mStarting new HTTPS connection (1): gateway.watsonplatform.net:443\n",
      "\u001b[38;2;128;128;128m[2019-07-26 10:10:33,238]\u001b[0m \u001b[36mDEBUG\u001b[0m \u001b[38;2;128;128;128m(urllib3.connectionpool): \u001b[0mhttps://gateway.watsonplatform.net:443 \"POST /assistant/api//v1/workspaces/5486135a-c94c-4d01-bcbb-a7377f461966/message?version=2018-07-10 HTTP/1.1\" 200 None\n",
      "\u001b[38;2;128;128;128m[2019-07-26 10:10:33,238]\u001b[0m \u001b[36mDEBUG\u001b[0m \u001b[38;2;128;128;128m(urllib3.connectionpool): \u001b[0mhttps://gateway.watsonplatform.net:443 \"POST /assistant/api//v1/workspaces/5486135a-c94c-4d01-bcbb-a7377f461966/message?version=2018-07-10 HTTP/1.1\" 200 None\n",
      "\n",
      " 76%|███████▌  | 34/45 [00:35<00:49,  4.50s/it]\u001b[A\u001b[38;2;128;128;128m[2019-07-26 10:10:33,336]\u001b[0m \u001b[36mDEBUG\u001b[0m \u001b[38;2;128;128;128m(urllib3.connectionpool): \u001b[0mStarting new HTTPS connection (1): gateway.watsonplatform.net:443\n",
      "\u001b[38;2;128;128;128m[2019-07-26 10:10:33,336]\u001b[0m \u001b[36mDEBUG\u001b[0m \u001b[38;2;128;128;128m(urllib3.connectionpool): \u001b[0mStarting new HTTPS connection (1): gateway.watsonplatform.net:443\n",
      "\u001b[38;2;128;128;128m[2019-07-26 10:10:33,715]\u001b[0m \u001b[36mDEBUG\u001b[0m \u001b[38;2;128;128;128m(urllib3.connectionpool): \u001b[0mhttps://gateway.watsonplatform.net:443 \"POST /assistant/api//v1/workspaces/5486135a-c94c-4d01-bcbb-a7377f461966/message?version=2018-07-10 HTTP/1.1\" 200 None\n",
      "\u001b[38;2;128;128;128m[2019-07-26 10:10:33,715]\u001b[0m \u001b[36mDEBUG\u001b[0m \u001b[38;2;128;128;128m(urllib3.connectionpool): \u001b[0mhttps://gateway.watsonplatform.net:443 \"POST /assistant/api//v1/workspaces/5486135a-c94c-4d01-bcbb-a7377f461966/message?version=2018-07-10 HTTP/1.1\" 200 None\n",
      "\n",
      " 78%|███████▊  | 35/45 [00:35<00:32,  3.27s/it]\u001b[A\u001b[38;2;128;128;128m[2019-07-26 10:10:33,735]\u001b[0m \u001b[36mDEBUG\u001b[0m \u001b[38;2;128;128;128m(urllib3.connectionpool): \u001b[0mStarting new HTTPS connection (1): gateway.watsonplatform.net:443\n",
      "\u001b[38;2;128;128;128m[2019-07-26 10:10:33,735]\u001b[0m \u001b[36mDEBUG\u001b[0m \u001b[38;2;128;128;128m(urllib3.connectionpool): \u001b[0mStarting new HTTPS connection (1): gateway.watsonplatform.net:443\n"
     ]
    },
    {
     "name": "stderr",
     "output_type": "stream",
     "text": [
      "\u001b[38;2;128;128;128m[2019-07-26 10:10:34,014]\u001b[0m \u001b[36mDEBUG\u001b[0m \u001b[38;2;128;128;128m(urllib3.connectionpool): \u001b[0mhttps://gateway.watsonplatform.net:443 \"POST /assistant/api//v1/workspaces/5486135a-c94c-4d01-bcbb-a7377f461966/message?version=2018-07-10 HTTP/1.1\" 200 510\n",
      "\u001b[38;2;128;128;128m[2019-07-26 10:10:34,014]\u001b[0m \u001b[36mDEBUG\u001b[0m \u001b[38;2;128;128;128m(urllib3.connectionpool): \u001b[0mhttps://gateway.watsonplatform.net:443 \"POST /assistant/api//v1/workspaces/5486135a-c94c-4d01-bcbb-a7377f461966/message?version=2018-07-10 HTTP/1.1\" 200 510\n",
      "\n",
      " 80%|████████  | 36/45 [00:36<00:21,  2.40s/it]\u001b[A\u001b[38;2;128;128;128m[2019-07-26 10:10:34,112]\u001b[0m \u001b[36mDEBUG\u001b[0m \u001b[38;2;128;128;128m(urllib3.connectionpool): \u001b[0mStarting new HTTPS connection (1): gateway.watsonplatform.net:443\n",
      "\u001b[38;2;128;128;128m[2019-07-26 10:10:34,112]\u001b[0m \u001b[36mDEBUG\u001b[0m \u001b[38;2;128;128;128m(urllib3.connectionpool): \u001b[0mStarting new HTTPS connection (1): gateway.watsonplatform.net:443\n",
      "\u001b[38;2;128;128;128m[2019-07-26 10:10:34,429]\u001b[0m \u001b[36mDEBUG\u001b[0m \u001b[38;2;128;128;128m(urllib3.connectionpool): \u001b[0mhttps://gateway.watsonplatform.net:443 \"POST /assistant/api//v1/workspaces/5486135a-c94c-4d01-bcbb-a7377f461966/message?version=2018-07-10 HTTP/1.1\" 200 None\n",
      "\u001b[38;2;128;128;128m[2019-07-26 10:10:34,429]\u001b[0m \u001b[36mDEBUG\u001b[0m \u001b[38;2;128;128;128m(urllib3.connectionpool): \u001b[0mhttps://gateway.watsonplatform.net:443 \"POST /assistant/api//v1/workspaces/5486135a-c94c-4d01-bcbb-a7377f461966/message?version=2018-07-10 HTTP/1.1\" 200 None\n",
      "\n",
      " 82%|████████▏ | 37/45 [00:36<00:14,  1.78s/it]\u001b[A\u001b[38;2;128;128;128m[2019-07-26 10:10:34,447]\u001b[0m \u001b[36mDEBUG\u001b[0m \u001b[38;2;128;128;128m(urllib3.connectionpool): \u001b[0mStarting new HTTPS connection (1): gateway.watsonplatform.net:443\n",
      "\u001b[38;2;128;128;128m[2019-07-26 10:10:34,447]\u001b[0m \u001b[36mDEBUG\u001b[0m \u001b[38;2;128;128;128m(urllib3.connectionpool): \u001b[0mStarting new HTTPS connection (1): gateway.watsonplatform.net:443\n",
      "\u001b[38;2;128;128;128m[2019-07-26 10:10:34,879]\u001b[0m \u001b[36mDEBUG\u001b[0m \u001b[38;2;128;128;128m(urllib3.connectionpool): \u001b[0mhttps://gateway.watsonplatform.net:443 \"POST /assistant/api//v1/workspaces/5486135a-c94c-4d01-bcbb-a7377f461966/message?version=2018-07-10 HTTP/1.1\" 200 None\n",
      "\u001b[38;2;128;128;128m[2019-07-26 10:10:34,879]\u001b[0m \u001b[36mDEBUG\u001b[0m \u001b[38;2;128;128;128m(urllib3.connectionpool): \u001b[0mhttps://gateway.watsonplatform.net:443 \"POST /assistant/api//v1/workspaces/5486135a-c94c-4d01-bcbb-a7377f461966/message?version=2018-07-10 HTTP/1.1\" 200 None\n",
      "\n",
      " 84%|████████▍ | 38/45 [00:36<00:09,  1.38s/it]\u001b[A\u001b[38;2;128;128;128m[2019-07-26 10:10:34,904]\u001b[0m \u001b[36mDEBUG\u001b[0m \u001b[38;2;128;128;128m(urllib3.connectionpool): \u001b[0mStarting new HTTPS connection (1): gateway.watsonplatform.net:443\n",
      "\u001b[38;2;128;128;128m[2019-07-26 10:10:34,904]\u001b[0m \u001b[36mDEBUG\u001b[0m \u001b[38;2;128;128;128m(urllib3.connectionpool): \u001b[0mStarting new HTTPS connection (1): gateway.watsonplatform.net:443\n",
      "\u001b[38;2;128;128;128m[2019-07-26 10:10:35,265]\u001b[0m \u001b[36mDEBUG\u001b[0m \u001b[38;2;128;128;128m(urllib3.connectionpool): \u001b[0mhttps://gateway.watsonplatform.net:443 \"POST /assistant/api//v1/workspaces/5486135a-c94c-4d01-bcbb-a7377f461966/message?version=2018-07-10 HTTP/1.1\" 200 501\n",
      "\u001b[38;2;128;128;128m[2019-07-26 10:10:35,265]\u001b[0m \u001b[36mDEBUG\u001b[0m \u001b[38;2;128;128;128m(urllib3.connectionpool): \u001b[0mhttps://gateway.watsonplatform.net:443 \"POST /assistant/api//v1/workspaces/5486135a-c94c-4d01-bcbb-a7377f461966/message?version=2018-07-10 HTTP/1.1\" 200 501\n",
      "\n",
      " 87%|████████▋ | 39/45 [00:37<00:06,  1.09s/it]\u001b[A\u001b[38;2;128;128;128m[2019-07-26 10:10:35,315]\u001b[0m \u001b[36mDEBUG\u001b[0m \u001b[38;2;128;128;128m(urllib3.connectionpool): \u001b[0mStarting new HTTPS connection (1): gateway.watsonplatform.net:443\n",
      "\u001b[38;2;128;128;128m[2019-07-26 10:10:35,315]\u001b[0m \u001b[36mDEBUG\u001b[0m \u001b[38;2;128;128;128m(urllib3.connectionpool): \u001b[0mStarting new HTTPS connection (1): gateway.watsonplatform.net:443\n",
      "\u001b[38;2;128;128;128m[2019-07-26 10:10:35,965]\u001b[0m \u001b[36mDEBUG\u001b[0m \u001b[38;2;128;128;128m(urllib3.connectionpool): \u001b[0mhttps://gateway.watsonplatform.net:443 \"POST /assistant/api//v1/workspaces/5486135a-c94c-4d01-bcbb-a7377f461966/message?version=2018-07-10 HTTP/1.1\" 200 None\n",
      "\u001b[38;2;128;128;128m[2019-07-26 10:10:35,965]\u001b[0m \u001b[36mDEBUG\u001b[0m \u001b[38;2;128;128;128m(urllib3.connectionpool): \u001b[0mhttps://gateway.watsonplatform.net:443 \"POST /assistant/api//v1/workspaces/5486135a-c94c-4d01-bcbb-a7377f461966/message?version=2018-07-10 HTTP/1.1\" 200 None\n",
      "\n",
      " 89%|████████▉ | 40/45 [00:38<00:04,  1.04it/s]\u001b[A\u001b[38;2;128;128;128m[2019-07-26 10:10:35,983]\u001b[0m \u001b[36mDEBUG\u001b[0m \u001b[38;2;128;128;128m(urllib3.connectionpool): \u001b[0mStarting new HTTPS connection (1): gateway.watsonplatform.net:443\n",
      "\u001b[38;2;128;128;128m[2019-07-26 10:10:35,983]\u001b[0m \u001b[36mDEBUG\u001b[0m \u001b[38;2;128;128;128m(urllib3.connectionpool): \u001b[0mStarting new HTTPS connection (1): gateway.watsonplatform.net:443\n",
      "\u001b[38;2;128;128;128m[2019-07-26 10:10:37,177]\u001b[0m \u001b[36mDEBUG\u001b[0m \u001b[38;2;128;128;128m(urllib3.connectionpool): \u001b[0mhttps://gateway.watsonplatform.net:443 \"POST /assistant/api//v1/workspaces/5486135a-c94c-4d01-bcbb-a7377f461966/message?version=2018-07-10 HTTP/1.1\" 200 508\n",
      "\u001b[38;2;128;128;128m[2019-07-26 10:10:37,177]\u001b[0m \u001b[36mDEBUG\u001b[0m \u001b[38;2;128;128;128m(urllib3.connectionpool): \u001b[0mhttps://gateway.watsonplatform.net:443 \"POST /assistant/api//v1/workspaces/5486135a-c94c-4d01-bcbb-a7377f461966/message?version=2018-07-10 HTTP/1.1\" 200 508\n",
      "\n",
      " 91%|█████████ | 41/45 [00:39<00:04,  1.04s/it]\u001b[A\u001b[38;2;128;128;128m[2019-07-26 10:10:37,235]\u001b[0m \u001b[36mDEBUG\u001b[0m \u001b[38;2;128;128;128m(urllib3.connectionpool): \u001b[0mStarting new HTTPS connection (1): gateway.watsonplatform.net:443\n",
      "\u001b[38;2;128;128;128m[2019-07-26 10:10:37,235]\u001b[0m \u001b[36mDEBUG\u001b[0m \u001b[38;2;128;128;128m(urllib3.connectionpool): \u001b[0mStarting new HTTPS connection (1): gateway.watsonplatform.net:443\n",
      "\u001b[38;2;128;128;128m[2019-07-26 10:10:37,546]\u001b[0m \u001b[36mDEBUG\u001b[0m \u001b[38;2;128;128;128m(urllib3.connectionpool): \u001b[0mhttps://gateway.watsonplatform.net:443 \"POST /assistant/api//v1/workspaces/5486135a-c94c-4d01-bcbb-a7377f461966/message?version=2018-07-10 HTTP/1.1\" 200 503\n",
      "\u001b[38;2;128;128;128m[2019-07-26 10:10:37,546]\u001b[0m \u001b[36mDEBUG\u001b[0m \u001b[38;2;128;128;128m(urllib3.connectionpool): \u001b[0mhttps://gateway.watsonplatform.net:443 \"POST /assistant/api//v1/workspaces/5486135a-c94c-4d01-bcbb-a7377f461966/message?version=2018-07-10 HTTP/1.1\" 200 503\n",
      "\n",
      " 93%|█████████▎| 42/45 [00:39<00:02,  1.19it/s]\u001b[A\u001b[38;2;128;128;128m[2019-07-26 10:10:37,563]\u001b[0m \u001b[36mDEBUG\u001b[0m \u001b[38;2;128;128;128m(urllib3.connectionpool): \u001b[0mStarting new HTTPS connection (1): gateway.watsonplatform.net:443\n",
      "\u001b[38;2;128;128;128m[2019-07-26 10:10:37,563]\u001b[0m \u001b[36mDEBUG\u001b[0m \u001b[38;2;128;128;128m(urllib3.connectionpool): \u001b[0mStarting new HTTPS connection (1): gateway.watsonplatform.net:443\n",
      "\u001b[38;2;128;128;128m[2019-07-26 10:10:37,852]\u001b[0m \u001b[36mDEBUG\u001b[0m \u001b[38;2;128;128;128m(urllib3.connectionpool): \u001b[0mhttps://gateway.watsonplatform.net:443 \"POST /assistant/api//v1/workspaces/5486135a-c94c-4d01-bcbb-a7377f461966/message?version=2018-07-10 HTTP/1.1\" 200 None\n",
      "\u001b[38;2;128;128;128m[2019-07-26 10:10:37,852]\u001b[0m \u001b[36mDEBUG\u001b[0m \u001b[38;2;128;128;128m(urllib3.connectionpool): \u001b[0mhttps://gateway.watsonplatform.net:443 \"POST /assistant/api//v1/workspaces/5486135a-c94c-4d01-bcbb-a7377f461966/message?version=2018-07-10 HTTP/1.1\" 200 None\n",
      "\n",
      " 96%|█████████▌| 43/45 [00:39<00:01,  1.47it/s]\u001b[A\u001b[38;2;128;128;128m[2019-07-26 10:10:37,873]\u001b[0m \u001b[36mDEBUG\u001b[0m \u001b[38;2;128;128;128m(urllib3.connectionpool): \u001b[0mStarting new HTTPS connection (1): gateway.watsonplatform.net:443\n",
      "\u001b[38;2;128;128;128m[2019-07-26 10:10:37,873]\u001b[0m \u001b[36mDEBUG\u001b[0m \u001b[38;2;128;128;128m(urllib3.connectionpool): \u001b[0mStarting new HTTPS connection (1): gateway.watsonplatform.net:443\n",
      "\u001b[38;2;128;128;128m[2019-07-26 10:10:38,213]\u001b[0m \u001b[36mDEBUG\u001b[0m \u001b[38;2;128;128;128m(urllib3.connectionpool): \u001b[0mhttps://gateway.watsonplatform.net:443 \"POST /assistant/api//v1/workspaces/5486135a-c94c-4d01-bcbb-a7377f461966/message?version=2018-07-10 HTTP/1.1\" 200 None\n",
      "\u001b[38;2;128;128;128m[2019-07-26 10:10:38,213]\u001b[0m \u001b[36mDEBUG\u001b[0m \u001b[38;2;128;128;128m(urllib3.connectionpool): \u001b[0mhttps://gateway.watsonplatform.net:443 \"POST /assistant/api//v1/workspaces/5486135a-c94c-4d01-bcbb-a7377f461966/message?version=2018-07-10 HTTP/1.1\" 200 None\n",
      "\n"
     ]
    },
    {
     "name": "stderr",
     "output_type": "stream",
     "text": [
      " 98%|█████████▊| 44/45 [00:40<00:00,  1.72it/s]\u001b[A\u001b[38;2;128;128;128m[2019-07-26 10:10:38,229]\u001b[0m \u001b[36mDEBUG\u001b[0m \u001b[38;2;128;128;128m(urllib3.connectionpool): \u001b[0mStarting new HTTPS connection (1): gateway.watsonplatform.net:443\n",
      "\u001b[38;2;128;128;128m[2019-07-26 10:10:38,229]\u001b[0m \u001b[36mDEBUG\u001b[0m \u001b[38;2;128;128;128m(urllib3.connectionpool): \u001b[0mStarting new HTTPS connection (1): gateway.watsonplatform.net:443\n",
      "\u001b[38;2;128;128;128m[2019-07-26 10:10:38,606]\u001b[0m \u001b[36mDEBUG\u001b[0m \u001b[38;2;128;128;128m(urllib3.connectionpool): \u001b[0mhttps://gateway.watsonplatform.net:443 \"POST /assistant/api//v1/workspaces/5486135a-c94c-4d01-bcbb-a7377f461966/message?version=2018-07-10 HTTP/1.1\" 200 504\n",
      "\u001b[38;2;128;128;128m[2019-07-26 10:10:38,606]\u001b[0m \u001b[36mDEBUG\u001b[0m \u001b[38;2;128;128;128m(urllib3.connectionpool): \u001b[0mhttps://gateway.watsonplatform.net:443 \"POST /assistant/api//v1/workspaces/5486135a-c94c-4d01-bcbb-a7377f461966/message?version=2018-07-10 HTTP/1.1\" 200 504\n",
      "\n",
      " 67%|██████▋   | 2/3 [01:06<00:30, 30.29s/it]s]\u001b[A\n",
      "  0%|          | 0/44 [00:00<?, ?it/s]\u001b[A\u001b[38;2;128;128;128m[2019-07-26 10:10:38,658]\u001b[0m \u001b[36mDEBUG\u001b[0m \u001b[38;2;128;128;128m(urllib3.connectionpool): \u001b[0mStarting new HTTPS connection (1): gateway.watsonplatform.net:443\n",
      "\u001b[38;2;128;128;128m[2019-07-26 10:10:38,658]\u001b[0m \u001b[36mDEBUG\u001b[0m \u001b[38;2;128;128;128m(urllib3.connectionpool): \u001b[0mStarting new HTTPS connection (1): gateway.watsonplatform.net:443\n"
     ]
    },
    {
     "name": "stdout",
     "output_type": "stream",
     "text": [
      "\n",
      "\n",
      "RUNNING K-FOLD FOR FOLD NUMBER 3\n"
     ]
    },
    {
     "name": "stderr",
     "output_type": "stream",
     "text": [
      "\u001b[38;2;128;128;128m[2019-07-26 10:10:39,632]\u001b[0m \u001b[36mDEBUG\u001b[0m \u001b[38;2;128;128;128m(urllib3.connectionpool): \u001b[0mhttps://gateway.watsonplatform.net:443 \"POST /assistant/api//v1/workspaces/e5bec1bc-42a3-45eb-b09b-860e89a9c1e8/message?version=2018-07-10 HTTP/1.1\" 200 None\n",
      "\u001b[38;2;128;128;128m[2019-07-26 10:10:39,632]\u001b[0m \u001b[36mDEBUG\u001b[0m \u001b[38;2;128;128;128m(urllib3.connectionpool): \u001b[0mhttps://gateway.watsonplatform.net:443 \"POST /assistant/api//v1/workspaces/e5bec1bc-42a3-45eb-b09b-860e89a9c1e8/message?version=2018-07-10 HTTP/1.1\" 200 None\n",
      "\n",
      "  2%|▏         | 1/44 [00:00<00:42,  1.01it/s]\u001b[A\u001b[38;2;128;128;128m[2019-07-26 10:10:39,653]\u001b[0m \u001b[36mDEBUG\u001b[0m \u001b[38;2;128;128;128m(urllib3.connectionpool): \u001b[0mStarting new HTTPS connection (1): gateway.watsonplatform.net:443\n",
      "\u001b[38;2;128;128;128m[2019-07-26 10:10:39,653]\u001b[0m \u001b[36mDEBUG\u001b[0m \u001b[38;2;128;128;128m(urllib3.connectionpool): \u001b[0mStarting new HTTPS connection (1): gateway.watsonplatform.net:443\n",
      "\u001b[38;2;128;128;128m[2019-07-26 10:10:40,012]\u001b[0m \u001b[36mDEBUG\u001b[0m \u001b[38;2;128;128;128m(urllib3.connectionpool): \u001b[0mhttps://gateway.watsonplatform.net:443 \"POST /assistant/api//v1/workspaces/e5bec1bc-42a3-45eb-b09b-860e89a9c1e8/message?version=2018-07-10 HTTP/1.1\" 200 None\n",
      "\u001b[38;2;128;128;128m[2019-07-26 10:10:40,012]\u001b[0m \u001b[36mDEBUG\u001b[0m \u001b[38;2;128;128;128m(urllib3.connectionpool): \u001b[0mhttps://gateway.watsonplatform.net:443 \"POST /assistant/api//v1/workspaces/e5bec1bc-42a3-45eb-b09b-860e89a9c1e8/message?version=2018-07-10 HTTP/1.1\" 200 None\n",
      "\n",
      "  5%|▍         | 2/44 [00:01<00:34,  1.23it/s]\u001b[A\u001b[38;2;128;128;128m[2019-07-26 10:10:40,060]\u001b[0m \u001b[36mDEBUG\u001b[0m \u001b[38;2;128;128;128m(urllib3.connectionpool): \u001b[0mStarting new HTTPS connection (1): gateway.watsonplatform.net:443\n",
      "\u001b[38;2;128;128;128m[2019-07-26 10:10:40,060]\u001b[0m \u001b[36mDEBUG\u001b[0m \u001b[38;2;128;128;128m(urllib3.connectionpool): \u001b[0mStarting new HTTPS connection (1): gateway.watsonplatform.net:443\n",
      "\u001b[38;2;128;128;128m[2019-07-26 10:10:40,654]\u001b[0m \u001b[36mDEBUG\u001b[0m \u001b[38;2;128;128;128m(urllib3.connectionpool): \u001b[0mhttps://gateway.watsonplatform.net:443 \"POST /assistant/api//v1/workspaces/e5bec1bc-42a3-45eb-b09b-860e89a9c1e8/message?version=2018-07-10 HTTP/1.1\" 200 507\n",
      "\u001b[38;2;128;128;128m[2019-07-26 10:10:40,654]\u001b[0m \u001b[36mDEBUG\u001b[0m \u001b[38;2;128;128;128m(urllib3.connectionpool): \u001b[0mhttps://gateway.watsonplatform.net:443 \"POST /assistant/api//v1/workspaces/e5bec1bc-42a3-45eb-b09b-860e89a9c1e8/message?version=2018-07-10 HTTP/1.1\" 200 507\n",
      "\n",
      "  7%|▋         | 3/44 [00:02<00:30,  1.32it/s]\u001b[A\u001b[38;2;128;128;128m[2019-07-26 10:10:40,671]\u001b[0m \u001b[36mDEBUG\u001b[0m \u001b[38;2;128;128;128m(urllib3.connectionpool): \u001b[0mStarting new HTTPS connection (1): gateway.watsonplatform.net:443\n",
      "\u001b[38;2;128;128;128m[2019-07-26 10:10:40,671]\u001b[0m \u001b[36mDEBUG\u001b[0m \u001b[38;2;128;128;128m(urllib3.connectionpool): \u001b[0mStarting new HTTPS connection (1): gateway.watsonplatform.net:443\n",
      "\u001b[38;2;128;128;128m[2019-07-26 10:10:41,014]\u001b[0m \u001b[36mDEBUG\u001b[0m \u001b[38;2;128;128;128m(urllib3.connectionpool): \u001b[0mhttps://gateway.watsonplatform.net:443 \"POST /assistant/api//v1/workspaces/e5bec1bc-42a3-45eb-b09b-860e89a9c1e8/message?version=2018-07-10 HTTP/1.1\" 200 None\n",
      "\u001b[38;2;128;128;128m[2019-07-26 10:10:41,014]\u001b[0m \u001b[36mDEBUG\u001b[0m \u001b[38;2;128;128;128m(urllib3.connectionpool): \u001b[0mhttps://gateway.watsonplatform.net:443 \"POST /assistant/api//v1/workspaces/e5bec1bc-42a3-45eb-b09b-860e89a9c1e8/message?version=2018-07-10 HTTP/1.1\" 200 None\n",
      "\n",
      "  9%|▉         | 4/44 [00:02<00:25,  1.57it/s]\u001b[A\u001b[38;2;128;128;128m[2019-07-26 10:10:41,039]\u001b[0m \u001b[36mDEBUG\u001b[0m \u001b[38;2;128;128;128m(urllib3.connectionpool): \u001b[0mStarting new HTTPS connection (1): gateway.watsonplatform.net:443\n",
      "\u001b[38;2;128;128;128m[2019-07-26 10:10:41,039]\u001b[0m \u001b[36mDEBUG\u001b[0m \u001b[38;2;128;128;128m(urllib3.connectionpool): \u001b[0mStarting new HTTPS connection (1): gateway.watsonplatform.net:443\n",
      "\u001b[38;2;128;128;128m[2019-07-26 10:10:41,496]\u001b[0m \u001b[36mDEBUG\u001b[0m \u001b[38;2;128;128;128m(urllib3.connectionpool): \u001b[0mhttps://gateway.watsonplatform.net:443 \"POST /assistant/api//v1/workspaces/e5bec1bc-42a3-45eb-b09b-860e89a9c1e8/message?version=2018-07-10 HTTP/1.1\" 200 496\n",
      "\u001b[38;2;128;128;128m[2019-07-26 10:10:41,496]\u001b[0m \u001b[36mDEBUG\u001b[0m \u001b[38;2;128;128;128m(urllib3.connectionpool): \u001b[0mhttps://gateway.watsonplatform.net:443 \"POST /assistant/api//v1/workspaces/e5bec1bc-42a3-45eb-b09b-860e89a9c1e8/message?version=2018-07-10 HTTP/1.1\" 200 496\n",
      "\n",
      " 11%|█▏        | 5/44 [00:02<00:23,  1.69it/s]\u001b[A\u001b[38;2;128;128;128m[2019-07-26 10:10:41,515]\u001b[0m \u001b[36mDEBUG\u001b[0m \u001b[38;2;128;128;128m(urllib3.connectionpool): \u001b[0mStarting new HTTPS connection (1): gateway.watsonplatform.net:443\n",
      "\u001b[38;2;128;128;128m[2019-07-26 10:10:41,515]\u001b[0m \u001b[36mDEBUG\u001b[0m \u001b[38;2;128;128;128m(urllib3.connectionpool): \u001b[0mStarting new HTTPS connection (1): gateway.watsonplatform.net:443\n",
      "\u001b[38;2;128;128;128m[2019-07-26 10:10:41,828]\u001b[0m \u001b[36mDEBUG\u001b[0m \u001b[38;2;128;128;128m(urllib3.connectionpool): \u001b[0mhttps://gateway.watsonplatform.net:443 \"POST /assistant/api//v1/workspaces/e5bec1bc-42a3-45eb-b09b-860e89a9c1e8/message?version=2018-07-10 HTTP/1.1\" 200 None\n",
      "\u001b[38;2;128;128;128m[2019-07-26 10:10:41,828]\u001b[0m \u001b[36mDEBUG\u001b[0m \u001b[38;2;128;128;128m(urllib3.connectionpool): \u001b[0mhttps://gateway.watsonplatform.net:443 \"POST /assistant/api//v1/workspaces/e5bec1bc-42a3-45eb-b09b-860e89a9c1e8/message?version=2018-07-10 HTTP/1.1\" 200 None\n",
      "\n",
      " 14%|█▎        | 6/44 [00:03<00:19,  1.95it/s]\u001b[A\u001b[38;2;128;128;128m[2019-07-26 10:10:41,848]\u001b[0m \u001b[36mDEBUG\u001b[0m \u001b[38;2;128;128;128m(urllib3.connectionpool): \u001b[0mStarting new HTTPS connection (1): gateway.watsonplatform.net:443\n",
      "\u001b[38;2;128;128;128m[2019-07-26 10:10:41,848]\u001b[0m \u001b[36mDEBUG\u001b[0m \u001b[38;2;128;128;128m(urllib3.connectionpool): \u001b[0mStarting new HTTPS connection (1): gateway.watsonplatform.net:443\n",
      "\u001b[38;2;128;128;128m[2019-07-26 10:10:42,596]\u001b[0m \u001b[36mDEBUG\u001b[0m \u001b[38;2;128;128;128m(urllib3.connectionpool): \u001b[0mhttps://gateway.watsonplatform.net:443 \"POST /assistant/api//v1/workspaces/e5bec1bc-42a3-45eb-b09b-860e89a9c1e8/message?version=2018-07-10 HTTP/1.1\" 200 None\n",
      "\u001b[38;2;128;128;128m[2019-07-26 10:10:42,596]\u001b[0m \u001b[36mDEBUG\u001b[0m \u001b[38;2;128;128;128m(urllib3.connectionpool): \u001b[0mhttps://gateway.watsonplatform.net:443 \"POST /assistant/api//v1/workspaces/e5bec1bc-42a3-45eb-b09b-860e89a9c1e8/message?version=2018-07-10 HTTP/1.1\" 200 None\n",
      "\n",
      " 16%|█▌        | 7/44 [00:03<00:21,  1.70it/s]\u001b[A\u001b[38;2;128;128;128m[2019-07-26 10:10:42,613]\u001b[0m \u001b[36mDEBUG\u001b[0m \u001b[38;2;128;128;128m(urllib3.connectionpool): \u001b[0mStarting new HTTPS connection (1): gateway.watsonplatform.net:443\n",
      "\u001b[38;2;128;128;128m[2019-07-26 10:10:42,613]\u001b[0m \u001b[36mDEBUG\u001b[0m \u001b[38;2;128;128;128m(urllib3.connectionpool): \u001b[0mStarting new HTTPS connection (1): gateway.watsonplatform.net:443\n",
      "\u001b[38;2;128;128;128m[2019-07-26 10:10:42,966]\u001b[0m \u001b[36mDEBUG\u001b[0m \u001b[38;2;128;128;128m(urllib3.connectionpool): \u001b[0mhttps://gateway.watsonplatform.net:443 \"POST /assistant/api//v1/workspaces/e5bec1bc-42a3-45eb-b09b-860e89a9c1e8/message?version=2018-07-10 HTTP/1.1\" 200 None\n",
      "\u001b[38;2;128;128;128m[2019-07-26 10:10:42,966]\u001b[0m \u001b[36mDEBUG\u001b[0m \u001b[38;2;128;128;128m(urllib3.connectionpool): \u001b[0mhttps://gateway.watsonplatform.net:443 \"POST /assistant/api//v1/workspaces/e5bec1bc-42a3-45eb-b09b-860e89a9c1e8/message?version=2018-07-10 HTTP/1.1\" 200 None\n",
      "\n",
      " 18%|█▊        | 8/44 [00:04<00:18,  1.90it/s]\u001b[A\u001b[38;2;128;128;128m[2019-07-26 10:10:42,993]\u001b[0m \u001b[36mDEBUG\u001b[0m \u001b[38;2;128;128;128m(urllib3.connectionpool): \u001b[0mStarting new HTTPS connection (1): gateway.watsonplatform.net:443\n",
      "\u001b[38;2;128;128;128m[2019-07-26 10:10:42,993]\u001b[0m \u001b[36mDEBUG\u001b[0m \u001b[38;2;128;128;128m(urllib3.connectionpool): \u001b[0mStarting new HTTPS connection (1): gateway.watsonplatform.net:443\n",
      "\u001b[38;2;128;128;128m[2019-07-26 10:10:43,745]\u001b[0m \u001b[36mDEBUG\u001b[0m \u001b[38;2;128;128;128m(urllib3.connectionpool): \u001b[0mhttps://gateway.watsonplatform.net:443 \"POST /assistant/api//v1/workspaces/e5bec1bc-42a3-45eb-b09b-860e89a9c1e8/message?version=2018-07-10 HTTP/1.1\" 200 None\n",
      "\u001b[38;2;128;128;128m[2019-07-26 10:10:43,745]\u001b[0m \u001b[36mDEBUG\u001b[0m \u001b[38;2;128;128;128m(urllib3.connectionpool): \u001b[0mhttps://gateway.watsonplatform.net:443 \"POST /assistant/api//v1/workspaces/e5bec1bc-42a3-45eb-b09b-860e89a9c1e8/message?version=2018-07-10 HTTP/1.1\" 200 None\n",
      "\n",
      " 20%|██        | 9/44 [00:05<00:21,  1.67it/s]\u001b[A\u001b[38;2;128;128;128m[2019-07-26 10:10:43,767]\u001b[0m \u001b[36mDEBUG\u001b[0m \u001b[38;2;128;128;128m(urllib3.connectionpool): \u001b[0mStarting new HTTPS connection (1): gateway.watsonplatform.net:443\n"
     ]
    },
    {
     "name": "stderr",
     "output_type": "stream",
     "text": [
      "\u001b[38;2;128;128;128m[2019-07-26 10:10:43,767]\u001b[0m \u001b[36mDEBUG\u001b[0m \u001b[38;2;128;128;128m(urllib3.connectionpool): \u001b[0mStarting new HTTPS connection (1): gateway.watsonplatform.net:443\n",
      "\u001b[38;2;128;128;128m[2019-07-26 10:10:44,235]\u001b[0m \u001b[36mDEBUG\u001b[0m \u001b[38;2;128;128;128m(urllib3.connectionpool): \u001b[0mhttps://gateway.watsonplatform.net:443 \"POST /assistant/api//v1/workspaces/e5bec1bc-42a3-45eb-b09b-860e89a9c1e8/message?version=2018-07-10 HTTP/1.1\" 200 None\n",
      "\u001b[38;2;128;128;128m[2019-07-26 10:10:44,235]\u001b[0m \u001b[36mDEBUG\u001b[0m \u001b[38;2;128;128;128m(urllib3.connectionpool): \u001b[0mhttps://gateway.watsonplatform.net:443 \"POST /assistant/api//v1/workspaces/e5bec1bc-42a3-45eb-b09b-860e89a9c1e8/message?version=2018-07-10 HTTP/1.1\" 200 None\n",
      "\n",
      " 23%|██▎       | 10/44 [00:05<00:19,  1.76it/s]\u001b[A\u001b[38;2;128;128;128m[2019-07-26 10:10:44,275]\u001b[0m \u001b[36mDEBUG\u001b[0m \u001b[38;2;128;128;128m(urllib3.connectionpool): \u001b[0mStarting new HTTPS connection (1): gateway.watsonplatform.net:443\n",
      "\u001b[38;2;128;128;128m[2019-07-26 10:10:44,275]\u001b[0m \u001b[36mDEBUG\u001b[0m \u001b[38;2;128;128;128m(urllib3.connectionpool): \u001b[0mStarting new HTTPS connection (1): gateway.watsonplatform.net:443\n",
      "\u001b[38;2;128;128;128m[2019-07-26 10:10:44,688]\u001b[0m \u001b[36mDEBUG\u001b[0m \u001b[38;2;128;128;128m(urllib3.connectionpool): \u001b[0mhttps://gateway.watsonplatform.net:443 \"POST /assistant/api//v1/workspaces/e5bec1bc-42a3-45eb-b09b-860e89a9c1e8/message?version=2018-07-10 HTTP/1.1\" 200 None\n",
      "\u001b[38;2;128;128;128m[2019-07-26 10:10:44,688]\u001b[0m \u001b[36mDEBUG\u001b[0m \u001b[38;2;128;128;128m(urllib3.connectionpool): \u001b[0mhttps://gateway.watsonplatform.net:443 \"POST /assistant/api//v1/workspaces/e5bec1bc-42a3-45eb-b09b-860e89a9c1e8/message?version=2018-07-10 HTTP/1.1\" 200 None\n",
      "\n",
      " 25%|██▌       | 11/44 [00:06<00:17,  1.88it/s]\u001b[A\u001b[38;2;128;128;128m[2019-07-26 10:10:44,707]\u001b[0m \u001b[36mDEBUG\u001b[0m \u001b[38;2;128;128;128m(urllib3.connectionpool): \u001b[0mStarting new HTTPS connection (1): gateway.watsonplatform.net:443\n",
      "\u001b[38;2;128;128;128m[2019-07-26 10:10:44,707]\u001b[0m \u001b[36mDEBUG\u001b[0m \u001b[38;2;128;128;128m(urllib3.connectionpool): \u001b[0mStarting new HTTPS connection (1): gateway.watsonplatform.net:443\n",
      "\u001b[38;2;128;128;128m[2019-07-26 10:10:44,974]\u001b[0m \u001b[36mDEBUG\u001b[0m \u001b[38;2;128;128;128m(urllib3.connectionpool): \u001b[0mhttps://gateway.watsonplatform.net:443 \"POST /assistant/api//v1/workspaces/e5bec1bc-42a3-45eb-b09b-860e89a9c1e8/message?version=2018-07-10 HTTP/1.1\" 200 None\n",
      "\u001b[38;2;128;128;128m[2019-07-26 10:10:44,974]\u001b[0m \u001b[36mDEBUG\u001b[0m \u001b[38;2;128;128;128m(urllib3.connectionpool): \u001b[0mhttps://gateway.watsonplatform.net:443 \"POST /assistant/api//v1/workspaces/e5bec1bc-42a3-45eb-b09b-860e89a9c1e8/message?version=2018-07-10 HTTP/1.1\" 200 None\n",
      "\n",
      " 27%|██▋       | 12/44 [00:06<00:14,  2.19it/s]\u001b[A\u001b[38;2;128;128;128m[2019-07-26 10:10:44,990]\u001b[0m \u001b[36mDEBUG\u001b[0m \u001b[38;2;128;128;128m(urllib3.connectionpool): \u001b[0mStarting new HTTPS connection (1): gateway.watsonplatform.net:443\n",
      "\u001b[38;2;128;128;128m[2019-07-26 10:10:44,990]\u001b[0m \u001b[36mDEBUG\u001b[0m \u001b[38;2;128;128;128m(urllib3.connectionpool): \u001b[0mStarting new HTTPS connection (1): gateway.watsonplatform.net:443\n",
      "\u001b[38;2;128;128;128m[2019-07-26 10:10:45,287]\u001b[0m \u001b[36mDEBUG\u001b[0m \u001b[38;2;128;128;128m(urllib3.connectionpool): \u001b[0mhttps://gateway.watsonplatform.net:443 \"POST /assistant/api//v1/workspaces/e5bec1bc-42a3-45eb-b09b-860e89a9c1e8/message?version=2018-07-10 HTTP/1.1\" 200 None\n",
      "\u001b[38;2;128;128;128m[2019-07-26 10:10:45,287]\u001b[0m \u001b[36mDEBUG\u001b[0m \u001b[38;2;128;128;128m(urllib3.connectionpool): \u001b[0mhttps://gateway.watsonplatform.net:443 \"POST /assistant/api//v1/workspaces/e5bec1bc-42a3-45eb-b09b-860e89a9c1e8/message?version=2018-07-10 HTTP/1.1\" 200 None\n",
      "\n",
      " 30%|██▉       | 13/44 [00:06<00:12,  2.41it/s]\u001b[A\u001b[38;2;128;128;128m[2019-07-26 10:10:45,304]\u001b[0m \u001b[36mDEBUG\u001b[0m \u001b[38;2;128;128;128m(urllib3.connectionpool): \u001b[0mStarting new HTTPS connection (1): gateway.watsonplatform.net:443\n",
      "\u001b[38;2;128;128;128m[2019-07-26 10:10:45,304]\u001b[0m \u001b[36mDEBUG\u001b[0m \u001b[38;2;128;128;128m(urllib3.connectionpool): \u001b[0mStarting new HTTPS connection (1): gateway.watsonplatform.net:443\n",
      "\u001b[38;2;128;128;128m[2019-07-26 10:10:45,706]\u001b[0m \u001b[36mDEBUG\u001b[0m \u001b[38;2;128;128;128m(urllib3.connectionpool): \u001b[0mhttps://gateway.watsonplatform.net:443 \"POST /assistant/api//v1/workspaces/e5bec1bc-42a3-45eb-b09b-860e89a9c1e8/message?version=2018-07-10 HTTP/1.1\" 200 None\n",
      "\u001b[38;2;128;128;128m[2019-07-26 10:10:45,706]\u001b[0m \u001b[36mDEBUG\u001b[0m \u001b[38;2;128;128;128m(urllib3.connectionpool): \u001b[0mhttps://gateway.watsonplatform.net:443 \"POST /assistant/api//v1/workspaces/e5bec1bc-42a3-45eb-b09b-860e89a9c1e8/message?version=2018-07-10 HTTP/1.1\" 200 None\n",
      "\n",
      " 32%|███▏      | 14/44 [00:07<00:12,  2.39it/s]\u001b[A\u001b[38;2;128;128;128m[2019-07-26 10:10:45,730]\u001b[0m \u001b[36mDEBUG\u001b[0m \u001b[38;2;128;128;128m(urllib3.connectionpool): \u001b[0mStarting new HTTPS connection (1): gateway.watsonplatform.net:443\n",
      "\u001b[38;2;128;128;128m[2019-07-26 10:10:45,730]\u001b[0m \u001b[36mDEBUG\u001b[0m \u001b[38;2;128;128;128m(urllib3.connectionpool): \u001b[0mStarting new HTTPS connection (1): gateway.watsonplatform.net:443\n",
      "\u001b[38;2;128;128;128m[2019-07-26 10:10:46,071]\u001b[0m \u001b[36mDEBUG\u001b[0m \u001b[38;2;128;128;128m(urllib3.connectionpool): \u001b[0mhttps://gateway.watsonplatform.net:443 \"POST /assistant/api//v1/workspaces/e5bec1bc-42a3-45eb-b09b-860e89a9c1e8/message?version=2018-07-10 HTTP/1.1\" 200 504\n",
      "\u001b[38;2;128;128;128m[2019-07-26 10:10:46,071]\u001b[0m \u001b[36mDEBUG\u001b[0m \u001b[38;2;128;128;128m(urllib3.connectionpool): \u001b[0mhttps://gateway.watsonplatform.net:443 \"POST /assistant/api//v1/workspaces/e5bec1bc-42a3-45eb-b09b-860e89a9c1e8/message?version=2018-07-10 HTTP/1.1\" 200 504\n",
      "\n",
      " 34%|███▍      | 15/44 [00:07<00:12,  2.40it/s]\u001b[A\u001b[38;2;128;128;128m[2019-07-26 10:10:46,144]\u001b[0m \u001b[36mDEBUG\u001b[0m \u001b[38;2;128;128;128m(urllib3.connectionpool): \u001b[0mStarting new HTTPS connection (1): gateway.watsonplatform.net:443\n",
      "\u001b[38;2;128;128;128m[2019-07-26 10:10:46,144]\u001b[0m \u001b[36mDEBUG\u001b[0m \u001b[38;2;128;128;128m(urllib3.connectionpool): \u001b[0mStarting new HTTPS connection (1): gateway.watsonplatform.net:443\n",
      "\u001b[38;2;128;128;128m[2019-07-26 10:10:46,691]\u001b[0m \u001b[36mDEBUG\u001b[0m \u001b[38;2;128;128;128m(urllib3.connectionpool): \u001b[0mhttps://gateway.watsonplatform.net:443 \"POST /assistant/api//v1/workspaces/e5bec1bc-42a3-45eb-b09b-860e89a9c1e8/message?version=2018-07-10 HTTP/1.1\" 200 511\n",
      "\u001b[38;2;128;128;128m[2019-07-26 10:10:46,691]\u001b[0m \u001b[36mDEBUG\u001b[0m \u001b[38;2;128;128;128m(urllib3.connectionpool): \u001b[0mhttps://gateway.watsonplatform.net:443 \"POST /assistant/api//v1/workspaces/e5bec1bc-42a3-45eb-b09b-860e89a9c1e8/message?version=2018-07-10 HTTP/1.1\" 200 511\n",
      "\n",
      " 36%|███▋      | 16/44 [00:08<00:12,  2.17it/s]\u001b[A\u001b[38;2;128;128;128m[2019-07-26 10:10:46,708]\u001b[0m \u001b[36mDEBUG\u001b[0m \u001b[38;2;128;128;128m(urllib3.connectionpool): \u001b[0mStarting new HTTPS connection (1): gateway.watsonplatform.net:443\n",
      "\u001b[38;2;128;128;128m[2019-07-26 10:10:46,708]\u001b[0m \u001b[36mDEBUG\u001b[0m \u001b[38;2;128;128;128m(urllib3.connectionpool): \u001b[0mStarting new HTTPS connection (1): gateway.watsonplatform.net:443\n",
      "\u001b[38;2;128;128;128m[2019-07-26 10:10:47,044]\u001b[0m \u001b[36mDEBUG\u001b[0m \u001b[38;2;128;128;128m(urllib3.connectionpool): \u001b[0mhttps://gateway.watsonplatform.net:443 \"POST /assistant/api//v1/workspaces/e5bec1bc-42a3-45eb-b09b-860e89a9c1e8/message?version=2018-07-10 HTTP/1.1\" 200 508\n",
      "\u001b[38;2;128;128;128m[2019-07-26 10:10:47,044]\u001b[0m \u001b[36mDEBUG\u001b[0m \u001b[38;2;128;128;128m(urllib3.connectionpool): \u001b[0mhttps://gateway.watsonplatform.net:443 \"POST /assistant/api//v1/workspaces/e5bec1bc-42a3-45eb-b09b-860e89a9c1e8/message?version=2018-07-10 HTTP/1.1\" 200 508\n",
      "\n",
      " 39%|███▊      | 17/44 [00:08<00:11,  2.33it/s]\u001b[A\u001b[38;2;128;128;128m[2019-07-26 10:10:47,065]\u001b[0m \u001b[36mDEBUG\u001b[0m \u001b[38;2;128;128;128m(urllib3.connectionpool): \u001b[0mStarting new HTTPS connection (1): gateway.watsonplatform.net:443\n",
      "\u001b[38;2;128;128;128m[2019-07-26 10:10:47,065]\u001b[0m \u001b[36mDEBUG\u001b[0m \u001b[38;2;128;128;128m(urllib3.connectionpool): \u001b[0mStarting new HTTPS connection (1): gateway.watsonplatform.net:443\n",
      "\u001b[38;2;128;128;128m[2019-07-26 10:10:47,368]\u001b[0m \u001b[36mDEBUG\u001b[0m \u001b[38;2;128;128;128m(urllib3.connectionpool): \u001b[0mhttps://gateway.watsonplatform.net:443 \"POST /assistant/api//v1/workspaces/e5bec1bc-42a3-45eb-b09b-860e89a9c1e8/message?version=2018-07-10 HTTP/1.1\" 200 None\n",
      "\u001b[38;2;128;128;128m[2019-07-26 10:10:47,368]\u001b[0m \u001b[36mDEBUG\u001b[0m \u001b[38;2;128;128;128m(urllib3.connectionpool): \u001b[0mhttps://gateway.watsonplatform.net:443 \"POST /assistant/api//v1/workspaces/e5bec1bc-42a3-45eb-b09b-860e89a9c1e8/message?version=2018-07-10 HTTP/1.1\" 200 None\n"
     ]
    },
    {
     "name": "stderr",
     "output_type": "stream",
     "text": [
      "\n",
      " 41%|████      | 18/44 [00:08<00:10,  2.51it/s]\u001b[A\u001b[38;2;128;128;128m[2019-07-26 10:10:47,388]\u001b[0m \u001b[36mDEBUG\u001b[0m \u001b[38;2;128;128;128m(urllib3.connectionpool): \u001b[0mStarting new HTTPS connection (1): gateway.watsonplatform.net:443\n",
      "\u001b[38;2;128;128;128m[2019-07-26 10:10:47,388]\u001b[0m \u001b[36mDEBUG\u001b[0m \u001b[38;2;128;128;128m(urllib3.connectionpool): \u001b[0mStarting new HTTPS connection (1): gateway.watsonplatform.net:443\n",
      "\u001b[38;2;128;128;128m[2019-07-26 10:10:47,841]\u001b[0m \u001b[36mDEBUG\u001b[0m \u001b[38;2;128;128;128m(urllib3.connectionpool): \u001b[0mhttps://gateway.watsonplatform.net:443 \"POST /assistant/api//v1/workspaces/e5bec1bc-42a3-45eb-b09b-860e89a9c1e8/message?version=2018-07-10 HTTP/1.1\" 200 None\n",
      "\u001b[38;2;128;128;128m[2019-07-26 10:10:47,841]\u001b[0m \u001b[36mDEBUG\u001b[0m \u001b[38;2;128;128;128m(urllib3.connectionpool): \u001b[0mhttps://gateway.watsonplatform.net:443 \"POST /assistant/api//v1/workspaces/e5bec1bc-42a3-45eb-b09b-860e89a9c1e8/message?version=2018-07-10 HTTP/1.1\" 200 None\n",
      "\n",
      " 43%|████▎     | 19/44 [00:09<00:10,  2.38it/s]\u001b[A\u001b[38;2;128;128;128m[2019-07-26 10:10:47,863]\u001b[0m \u001b[36mDEBUG\u001b[0m \u001b[38;2;128;128;128m(urllib3.connectionpool): \u001b[0mStarting new HTTPS connection (1): gateway.watsonplatform.net:443\n",
      "\u001b[38;2;128;128;128m[2019-07-26 10:10:47,863]\u001b[0m \u001b[36mDEBUG\u001b[0m \u001b[38;2;128;128;128m(urllib3.connectionpool): \u001b[0mStarting new HTTPS connection (1): gateway.watsonplatform.net:443\n",
      "\u001b[38;2;128;128;128m[2019-07-26 10:10:48,445]\u001b[0m \u001b[36mDEBUG\u001b[0m \u001b[38;2;128;128;128m(urllib3.connectionpool): \u001b[0mhttps://gateway.watsonplatform.net:443 \"POST /assistant/api//v1/workspaces/e5bec1bc-42a3-45eb-b09b-860e89a9c1e8/message?version=2018-07-10 HTTP/1.1\" 200 503\n",
      "\u001b[38;2;128;128;128m[2019-07-26 10:10:48,445]\u001b[0m \u001b[36mDEBUG\u001b[0m \u001b[38;2;128;128;128m(urllib3.connectionpool): \u001b[0mhttps://gateway.watsonplatform.net:443 \"POST /assistant/api//v1/workspaces/e5bec1bc-42a3-45eb-b09b-860e89a9c1e8/message?version=2018-07-10 HTTP/1.1\" 200 503\n",
      "\n",
      " 45%|████▌     | 20/44 [00:09<00:11,  2.10it/s]\u001b[A\u001b[38;2;128;128;128m[2019-07-26 10:10:48,465]\u001b[0m \u001b[36mDEBUG\u001b[0m \u001b[38;2;128;128;128m(urllib3.connectionpool): \u001b[0mStarting new HTTPS connection (1): gateway.watsonplatform.net:443\n",
      "\u001b[38;2;128;128;128m[2019-07-26 10:10:48,465]\u001b[0m \u001b[36mDEBUG\u001b[0m \u001b[38;2;128;128;128m(urllib3.connectionpool): \u001b[0mStarting new HTTPS connection (1): gateway.watsonplatform.net:443\n",
      "\u001b[38;2;128;128;128m[2019-07-26 10:10:48,728]\u001b[0m \u001b[36mDEBUG\u001b[0m \u001b[38;2;128;128;128m(urllib3.connectionpool): \u001b[0mhttps://gateway.watsonplatform.net:443 \"POST /assistant/api//v1/workspaces/e5bec1bc-42a3-45eb-b09b-860e89a9c1e8/message?version=2018-07-10 HTTP/1.1\" 200 None\n",
      "\u001b[38;2;128;128;128m[2019-07-26 10:10:48,728]\u001b[0m \u001b[36mDEBUG\u001b[0m \u001b[38;2;128;128;128m(urllib3.connectionpool): \u001b[0mhttps://gateway.watsonplatform.net:443 \"POST /assistant/api//v1/workspaces/e5bec1bc-42a3-45eb-b09b-860e89a9c1e8/message?version=2018-07-10 HTTP/1.1\" 200 None\n",
      "\n",
      " 48%|████▊     | 21/44 [00:10<00:09,  2.40it/s]\u001b[A\u001b[38;2;128;128;128m[2019-07-26 10:10:48,745]\u001b[0m \u001b[36mDEBUG\u001b[0m \u001b[38;2;128;128;128m(urllib3.connectionpool): \u001b[0mStarting new HTTPS connection (1): gateway.watsonplatform.net:443\n",
      "\u001b[38;2;128;128;128m[2019-07-26 10:10:48,745]\u001b[0m \u001b[36mDEBUG\u001b[0m \u001b[38;2;128;128;128m(urllib3.connectionpool): \u001b[0mStarting new HTTPS connection (1): gateway.watsonplatform.net:443\n",
      "\u001b[38;2;128;128;128m[2019-07-26 10:10:49,074]\u001b[0m \u001b[36mDEBUG\u001b[0m \u001b[38;2;128;128;128m(urllib3.connectionpool): \u001b[0mhttps://gateway.watsonplatform.net:443 \"POST /assistant/api//v1/workspaces/e5bec1bc-42a3-45eb-b09b-860e89a9c1e8/message?version=2018-07-10 HTTP/1.1\" 200 None\n",
      "\u001b[38;2;128;128;128m[2019-07-26 10:10:49,074]\u001b[0m \u001b[36mDEBUG\u001b[0m \u001b[38;2;128;128;128m(urllib3.connectionpool): \u001b[0mhttps://gateway.watsonplatform.net:443 \"POST /assistant/api//v1/workspaces/e5bec1bc-42a3-45eb-b09b-860e89a9c1e8/message?version=2018-07-10 HTTP/1.1\" 200 None\n",
      "\n",
      " 50%|█████     | 22/44 [00:10<00:08,  2.51it/s]\u001b[A\u001b[38;2;128;128;128m[2019-07-26 10:10:49,111]\u001b[0m \u001b[36mDEBUG\u001b[0m \u001b[38;2;128;128;128m(urllib3.connectionpool): \u001b[0mStarting new HTTPS connection (1): gateway.watsonplatform.net:443\n",
      "\u001b[38;2;128;128;128m[2019-07-26 10:10:49,111]\u001b[0m \u001b[36mDEBUG\u001b[0m \u001b[38;2;128;128;128m(urllib3.connectionpool): \u001b[0mStarting new HTTPS connection (1): gateway.watsonplatform.net:443\n",
      "\u001b[38;2;128;128;128m[2019-07-26 10:10:49,490]\u001b[0m \u001b[36mDEBUG\u001b[0m \u001b[38;2;128;128;128m(urllib3.connectionpool): \u001b[0mhttps://gateway.watsonplatform.net:443 \"POST /assistant/api//v1/workspaces/e5bec1bc-42a3-45eb-b09b-860e89a9c1e8/message?version=2018-07-10 HTTP/1.1\" 200 None\n",
      "\u001b[38;2;128;128;128m[2019-07-26 10:10:49,490]\u001b[0m \u001b[36mDEBUG\u001b[0m \u001b[38;2;128;128;128m(urllib3.connectionpool): \u001b[0mhttps://gateway.watsonplatform.net:443 \"POST /assistant/api//v1/workspaces/e5bec1bc-42a3-45eb-b09b-860e89a9c1e8/message?version=2018-07-10 HTTP/1.1\" 200 None\n",
      "\n",
      " 52%|█████▏    | 23/44 [00:10<00:08,  2.49it/s]\u001b[A\u001b[38;2;128;128;128m[2019-07-26 10:10:49,512]\u001b[0m \u001b[36mDEBUG\u001b[0m \u001b[38;2;128;128;128m(urllib3.connectionpool): \u001b[0mStarting new HTTPS connection (1): gateway.watsonplatform.net:443\n",
      "\u001b[38;2;128;128;128m[2019-07-26 10:10:49,512]\u001b[0m \u001b[36mDEBUG\u001b[0m \u001b[38;2;128;128;128m(urllib3.connectionpool): \u001b[0mStarting new HTTPS connection (1): gateway.watsonplatform.net:443\n",
      "\u001b[38;2;128;128;128m[2019-07-26 10:10:49,892]\u001b[0m \u001b[36mDEBUG\u001b[0m \u001b[38;2;128;128;128m(urllib3.connectionpool): \u001b[0mhttps://gateway.watsonplatform.net:443 \"POST /assistant/api//v1/workspaces/e5bec1bc-42a3-45eb-b09b-860e89a9c1e8/message?version=2018-07-10 HTTP/1.1\" 200 501\n",
      "\u001b[38;2;128;128;128m[2019-07-26 10:10:49,892]\u001b[0m \u001b[36mDEBUG\u001b[0m \u001b[38;2;128;128;128m(urllib3.connectionpool): \u001b[0mhttps://gateway.watsonplatform.net:443 \"POST /assistant/api//v1/workspaces/e5bec1bc-42a3-45eb-b09b-860e89a9c1e8/message?version=2018-07-10 HTTP/1.1\" 200 501\n",
      "\n",
      " 55%|█████▍    | 24/44 [00:11<00:08,  2.49it/s]\u001b[A\u001b[38;2;128;128;128m[2019-07-26 10:10:49,914]\u001b[0m \u001b[36mDEBUG\u001b[0m \u001b[38;2;128;128;128m(urllib3.connectionpool): \u001b[0mStarting new HTTPS connection (1): gateway.watsonplatform.net:443\n",
      "\u001b[38;2;128;128;128m[2019-07-26 10:10:49,914]\u001b[0m \u001b[36mDEBUG\u001b[0m \u001b[38;2;128;128;128m(urllib3.connectionpool): \u001b[0mStarting new HTTPS connection (1): gateway.watsonplatform.net:443\n",
      "\u001b[38;2;128;128;128m[2019-07-26 10:10:50,223]\u001b[0m \u001b[36mDEBUG\u001b[0m \u001b[38;2;128;128;128m(urllib3.connectionpool): \u001b[0mhttps://gateway.watsonplatform.net:443 \"POST /assistant/api//v1/workspaces/e5bec1bc-42a3-45eb-b09b-860e89a9c1e8/message?version=2018-07-10 HTTP/1.1\" 200 None\n",
      "\u001b[38;2;128;128;128m[2019-07-26 10:10:50,223]\u001b[0m \u001b[36mDEBUG\u001b[0m \u001b[38;2;128;128;128m(urllib3.connectionpool): \u001b[0mhttps://gateway.watsonplatform.net:443 \"POST /assistant/api//v1/workspaces/e5bec1bc-42a3-45eb-b09b-860e89a9c1e8/message?version=2018-07-10 HTTP/1.1\" 200 None\n",
      "\n",
      " 57%|█████▋    | 25/44 [00:11<00:07,  2.63it/s]\u001b[A\u001b[38;2;128;128;128m[2019-07-26 10:10:50,240]\u001b[0m \u001b[36mDEBUG\u001b[0m \u001b[38;2;128;128;128m(urllib3.connectionpool): \u001b[0mStarting new HTTPS connection (1): gateway.watsonplatform.net:443\n",
      "\u001b[38;2;128;128;128m[2019-07-26 10:10:50,240]\u001b[0m \u001b[36mDEBUG\u001b[0m \u001b[38;2;128;128;128m(urllib3.connectionpool): \u001b[0mStarting new HTTPS connection (1): gateway.watsonplatform.net:443\n",
      "\u001b[38;2;128;128;128m[2019-07-26 10:10:50,787]\u001b[0m \u001b[36mDEBUG\u001b[0m \u001b[38;2;128;128;128m(urllib3.connectionpool): \u001b[0mhttps://gateway.watsonplatform.net:443 \"POST /assistant/api//v1/workspaces/e5bec1bc-42a3-45eb-b09b-860e89a9c1e8/message?version=2018-07-10 HTTP/1.1\" 200 None\n",
      "\u001b[38;2;128;128;128m[2019-07-26 10:10:50,787]\u001b[0m \u001b[36mDEBUG\u001b[0m \u001b[38;2;128;128;128m(urllib3.connectionpool): \u001b[0mhttps://gateway.watsonplatform.net:443 \"POST /assistant/api//v1/workspaces/e5bec1bc-42a3-45eb-b09b-860e89a9c1e8/message?version=2018-07-10 HTTP/1.1\" 200 None\n",
      "\n",
      " 59%|█████▉    | 26/44 [00:12<00:07,  2.29it/s]\u001b[A\u001b[38;2;128;128;128m[2019-07-26 10:10:50,809]\u001b[0m \u001b[36mDEBUG\u001b[0m \u001b[38;2;128;128;128m(urllib3.connectionpool): \u001b[0mStarting new HTTPS connection (1): gateway.watsonplatform.net:443\n",
      "\u001b[38;2;128;128;128m[2019-07-26 10:10:50,809]\u001b[0m \u001b[36mDEBUG\u001b[0m \u001b[38;2;128;128;128m(urllib3.connectionpool): \u001b[0mStarting new HTTPS connection (1): gateway.watsonplatform.net:443\n",
      "\u001b[38;2;128;128;128m[2019-07-26 10:10:51,061]\u001b[0m \u001b[36mDEBUG\u001b[0m \u001b[38;2;128;128;128m(urllib3.connectionpool): \u001b[0mhttps://gateway.watsonplatform.net:443 \"POST /assistant/api//v1/workspaces/e5bec1bc-42a3-45eb-b09b-860e89a9c1e8/message?version=2018-07-10 HTTP/1.1\" 200 None\n"
     ]
    },
    {
     "name": "stderr",
     "output_type": "stream",
     "text": [
      "\u001b[38;2;128;128;128m[2019-07-26 10:10:51,061]\u001b[0m \u001b[36mDEBUG\u001b[0m \u001b[38;2;128;128;128m(urllib3.connectionpool): \u001b[0mhttps://gateway.watsonplatform.net:443 \"POST /assistant/api//v1/workspaces/e5bec1bc-42a3-45eb-b09b-860e89a9c1e8/message?version=2018-07-10 HTTP/1.1\" 200 None\n",
      "\n",
      " 61%|██████▏   | 27/44 [00:12<00:06,  2.59it/s]\u001b[A\u001b[38;2;128;128;128m[2019-07-26 10:10:51,078]\u001b[0m \u001b[36mDEBUG\u001b[0m \u001b[38;2;128;128;128m(urllib3.connectionpool): \u001b[0mStarting new HTTPS connection (1): gateway.watsonplatform.net:443\n",
      "\u001b[38;2;128;128;128m[2019-07-26 10:10:51,078]\u001b[0m \u001b[36mDEBUG\u001b[0m \u001b[38;2;128;128;128m(urllib3.connectionpool): \u001b[0mStarting new HTTPS connection (1): gateway.watsonplatform.net:443\n",
      "\u001b[38;2;128;128;128m[2019-07-26 10:10:51,572]\u001b[0m \u001b[36mDEBUG\u001b[0m \u001b[38;2;128;128;128m(urllib3.connectionpool): \u001b[0mhttps://gateway.watsonplatform.net:443 \"POST /assistant/api//v1/workspaces/e5bec1bc-42a3-45eb-b09b-860e89a9c1e8/message?version=2018-07-10 HTTP/1.1\" 200 524\n",
      "\u001b[38;2;128;128;128m[2019-07-26 10:10:51,572]\u001b[0m \u001b[36mDEBUG\u001b[0m \u001b[38;2;128;128;128m(urllib3.connectionpool): \u001b[0mhttps://gateway.watsonplatform.net:443 \"POST /assistant/api//v1/workspaces/e5bec1bc-42a3-45eb-b09b-860e89a9c1e8/message?version=2018-07-10 HTTP/1.1\" 200 524\n",
      "\n",
      " 64%|██████▎   | 28/44 [00:12<00:06,  2.36it/s]\u001b[A\u001b[38;2;128;128;128m[2019-07-26 10:10:51,593]\u001b[0m \u001b[36mDEBUG\u001b[0m \u001b[38;2;128;128;128m(urllib3.connectionpool): \u001b[0mStarting new HTTPS connection (1): gateway.watsonplatform.net:443\n",
      "\u001b[38;2;128;128;128m[2019-07-26 10:10:51,593]\u001b[0m \u001b[36mDEBUG\u001b[0m \u001b[38;2;128;128;128m(urllib3.connectionpool): \u001b[0mStarting new HTTPS connection (1): gateway.watsonplatform.net:443\n",
      "\u001b[38;2;128;128;128m[2019-07-26 10:10:53,462]\u001b[0m \u001b[36mDEBUG\u001b[0m \u001b[38;2;128;128;128m(urllib3.connectionpool): \u001b[0mhttps://gateway.watsonplatform.net:443 \"POST /assistant/api//v1/workspaces/e5bec1bc-42a3-45eb-b09b-860e89a9c1e8/message?version=2018-07-10 HTTP/1.1\" 200 None\n",
      "\u001b[38;2;128;128;128m[2019-07-26 10:10:53,462]\u001b[0m \u001b[36mDEBUG\u001b[0m \u001b[38;2;128;128;128m(urllib3.connectionpool): \u001b[0mhttps://gateway.watsonplatform.net:443 \"POST /assistant/api//v1/workspaces/e5bec1bc-42a3-45eb-b09b-860e89a9c1e8/message?version=2018-07-10 HTTP/1.1\" 200 None\n",
      "\n",
      " 66%|██████▌   | 29/44 [00:14<00:12,  1.16it/s]\u001b[A\u001b[38;2;128;128;128m[2019-07-26 10:10:53,483]\u001b[0m \u001b[36mDEBUG\u001b[0m \u001b[38;2;128;128;128m(urllib3.connectionpool): \u001b[0mStarting new HTTPS connection (1): gateway.watsonplatform.net:443\n",
      "\u001b[38;2;128;128;128m[2019-07-26 10:10:53,483]\u001b[0m \u001b[36mDEBUG\u001b[0m \u001b[38;2;128;128;128m(urllib3.connectionpool): \u001b[0mStarting new HTTPS connection (1): gateway.watsonplatform.net:443\n",
      "\u001b[38;2;128;128;128m[2019-07-26 10:10:53,912]\u001b[0m \u001b[36mDEBUG\u001b[0m \u001b[38;2;128;128;128m(urllib3.connectionpool): \u001b[0mhttps://gateway.watsonplatform.net:443 \"POST /assistant/api//v1/workspaces/e5bec1bc-42a3-45eb-b09b-860e89a9c1e8/message?version=2018-07-10 HTTP/1.1\" 200 506\n",
      "\u001b[38;2;128;128;128m[2019-07-26 10:10:53,912]\u001b[0m \u001b[36mDEBUG\u001b[0m \u001b[38;2;128;128;128m(urllib3.connectionpool): \u001b[0mhttps://gateway.watsonplatform.net:443 \"POST /assistant/api//v1/workspaces/e5bec1bc-42a3-45eb-b09b-860e89a9c1e8/message?version=2018-07-10 HTTP/1.1\" 200 506\n",
      "\n",
      " 68%|██████▊   | 30/44 [00:15<00:10,  1.35it/s]\u001b[A\u001b[38;2;128;128;128m[2019-07-26 10:10:53,930]\u001b[0m \u001b[36mDEBUG\u001b[0m \u001b[38;2;128;128;128m(urllib3.connectionpool): \u001b[0mStarting new HTTPS connection (1): gateway.watsonplatform.net:443\n",
      "\u001b[38;2;128;128;128m[2019-07-26 10:10:53,930]\u001b[0m \u001b[36mDEBUG\u001b[0m \u001b[38;2;128;128;128m(urllib3.connectionpool): \u001b[0mStarting new HTTPS connection (1): gateway.watsonplatform.net:443\n",
      "\u001b[38;2;128;128;128m[2019-07-26 10:10:54,244]\u001b[0m \u001b[36mDEBUG\u001b[0m \u001b[38;2;128;128;128m(urllib3.connectionpool): \u001b[0mhttps://gateway.watsonplatform.net:443 \"POST /assistant/api//v1/workspaces/e5bec1bc-42a3-45eb-b09b-860e89a9c1e8/message?version=2018-07-10 HTTP/1.1\" 200 None\n",
      "\u001b[38;2;128;128;128m[2019-07-26 10:10:54,244]\u001b[0m \u001b[36mDEBUG\u001b[0m \u001b[38;2;128;128;128m(urllib3.connectionpool): \u001b[0mhttps://gateway.watsonplatform.net:443 \"POST /assistant/api//v1/workspaces/e5bec1bc-42a3-45eb-b09b-860e89a9c1e8/message?version=2018-07-10 HTTP/1.1\" 200 None\n",
      "\n",
      " 70%|███████   | 31/44 [00:15<00:08,  1.62it/s]\u001b[A\u001b[38;2;128;128;128m[2019-07-26 10:10:54,270]\u001b[0m \u001b[36mDEBUG\u001b[0m \u001b[38;2;128;128;128m(urllib3.connectionpool): \u001b[0mStarting new HTTPS connection (1): gateway.watsonplatform.net:443\n",
      "\u001b[38;2;128;128;128m[2019-07-26 10:10:54,270]\u001b[0m \u001b[36mDEBUG\u001b[0m \u001b[38;2;128;128;128m(urllib3.connectionpool): \u001b[0mStarting new HTTPS connection (1): gateway.watsonplatform.net:443\n",
      "\u001b[38;2;128;128;128m[2019-07-26 10:10:54,678]\u001b[0m \u001b[36mDEBUG\u001b[0m \u001b[38;2;128;128;128m(urllib3.connectionpool): \u001b[0mhttps://gateway.watsonplatform.net:443 \"POST /assistant/api//v1/workspaces/e5bec1bc-42a3-45eb-b09b-860e89a9c1e8/message?version=2018-07-10 HTTP/1.1\" 200 None\n",
      "\u001b[38;2;128;128;128m[2019-07-26 10:10:54,678]\u001b[0m \u001b[36mDEBUG\u001b[0m \u001b[38;2;128;128;128m(urllib3.connectionpool): \u001b[0mhttps://gateway.watsonplatform.net:443 \"POST /assistant/api//v1/workspaces/e5bec1bc-42a3-45eb-b09b-860e89a9c1e8/message?version=2018-07-10 HTTP/1.1\" 200 None\n",
      "\n",
      " 73%|███████▎  | 32/44 [00:16<00:06,  1.72it/s]\u001b[A\u001b[38;2;128;128;128m[2019-07-26 10:10:54,766]\u001b[0m \u001b[36mDEBUG\u001b[0m \u001b[38;2;128;128;128m(urllib3.connectionpool): \u001b[0mStarting new HTTPS connection (1): gateway.watsonplatform.net:443\n",
      "\u001b[38;2;128;128;128m[2019-07-26 10:10:54,766]\u001b[0m \u001b[36mDEBUG\u001b[0m \u001b[38;2;128;128;128m(urllib3.connectionpool): \u001b[0mStarting new HTTPS connection (1): gateway.watsonplatform.net:443\n",
      "\u001b[38;2;128;128;128m[2019-07-26 10:10:55,089]\u001b[0m \u001b[36mDEBUG\u001b[0m \u001b[38;2;128;128;128m(urllib3.connectionpool): \u001b[0mhttps://gateway.watsonplatform.net:443 \"POST /assistant/api//v1/workspaces/e5bec1bc-42a3-45eb-b09b-860e89a9c1e8/message?version=2018-07-10 HTTP/1.1\" 200 None\n",
      "\u001b[38;2;128;128;128m[2019-07-26 10:10:55,089]\u001b[0m \u001b[36mDEBUG\u001b[0m \u001b[38;2;128;128;128m(urllib3.connectionpool): \u001b[0mhttps://gateway.watsonplatform.net:443 \"POST /assistant/api//v1/workspaces/e5bec1bc-42a3-45eb-b09b-860e89a9c1e8/message?version=2018-07-10 HTTP/1.1\" 200 None\n",
      "\n",
      " 75%|███████▌  | 33/44 [00:16<00:05,  1.96it/s]\u001b[A\u001b[38;2;128;128;128m[2019-07-26 10:10:55,107]\u001b[0m \u001b[36mDEBUG\u001b[0m \u001b[38;2;128;128;128m(urllib3.connectionpool): \u001b[0mStarting new HTTPS connection (1): gateway.watsonplatform.net:443\n",
      "\u001b[38;2;128;128;128m[2019-07-26 10:10:55,107]\u001b[0m \u001b[36mDEBUG\u001b[0m \u001b[38;2;128;128;128m(urllib3.connectionpool): \u001b[0mStarting new HTTPS connection (1): gateway.watsonplatform.net:443\n",
      "\u001b[38;2;128;128;128m[2019-07-26 10:10:55,405]\u001b[0m \u001b[36mDEBUG\u001b[0m \u001b[38;2;128;128;128m(urllib3.connectionpool): \u001b[0mhttps://gateway.watsonplatform.net:443 \"POST /assistant/api//v1/workspaces/e5bec1bc-42a3-45eb-b09b-860e89a9c1e8/message?version=2018-07-10 HTTP/1.1\" 200 511\n",
      "\u001b[38;2;128;128;128m[2019-07-26 10:10:55,405]\u001b[0m \u001b[36mDEBUG\u001b[0m \u001b[38;2;128;128;128m(urllib3.connectionpool): \u001b[0mhttps://gateway.watsonplatform.net:443 \"POST /assistant/api//v1/workspaces/e5bec1bc-42a3-45eb-b09b-860e89a9c1e8/message?version=2018-07-10 HTTP/1.1\" 200 511\n",
      "\n",
      " 77%|███████▋  | 34/44 [00:17<00:05,  1.91it/s]\u001b[A\u001b[38;2;128;128;128m[2019-07-26 10:10:55,661]\u001b[0m \u001b[36mDEBUG\u001b[0m \u001b[38;2;128;128;128m(urllib3.connectionpool): \u001b[0mStarting new HTTPS connection (1): gateway.watsonplatform.net:443\n",
      "\u001b[38;2;128;128;128m[2019-07-26 10:10:55,661]\u001b[0m \u001b[36mDEBUG\u001b[0m \u001b[38;2;128;128;128m(urllib3.connectionpool): \u001b[0mStarting new HTTPS connection (1): gateway.watsonplatform.net:443\n",
      "\u001b[38;2;128;128;128m[2019-07-26 10:10:56,073]\u001b[0m \u001b[36mDEBUG\u001b[0m \u001b[38;2;128;128;128m(urllib3.connectionpool): \u001b[0mhttps://gateway.watsonplatform.net:443 \"POST /assistant/api//v1/workspaces/e5bec1bc-42a3-45eb-b09b-860e89a9c1e8/message?version=2018-07-10 HTTP/1.1\" 200 None\n",
      "\u001b[38;2;128;128;128m[2019-07-26 10:10:56,073]\u001b[0m \u001b[36mDEBUG\u001b[0m \u001b[38;2;128;128;128m(urllib3.connectionpool): \u001b[0mhttps://gateway.watsonplatform.net:443 \"POST /assistant/api//v1/workspaces/e5bec1bc-42a3-45eb-b09b-860e89a9c1e8/message?version=2018-07-10 HTTP/1.1\" 200 None\n",
      "\n",
      " 80%|███████▉  | 35/44 [00:17<00:04,  2.01it/s]\u001b[A\u001b[38;2;128;128;128m[2019-07-26 10:10:56,106]\u001b[0m \u001b[36mDEBUG\u001b[0m \u001b[38;2;128;128;128m(urllib3.connectionpool): \u001b[0mStarting new HTTPS connection (1): gateway.watsonplatform.net:443\n",
      "\u001b[38;2;128;128;128m[2019-07-26 10:10:56,106]\u001b[0m \u001b[36mDEBUG\u001b[0m \u001b[38;2;128;128;128m(urllib3.connectionpool): \u001b[0mStarting new HTTPS connection (1): gateway.watsonplatform.net:443\n"
     ]
    },
    {
     "name": "stderr",
     "output_type": "stream",
     "text": [
      "\u001b[38;2;128;128;128m[2019-07-26 10:10:56,510]\u001b[0m \u001b[36mDEBUG\u001b[0m \u001b[38;2;128;128;128m(urllib3.connectionpool): \u001b[0mhttps://gateway.watsonplatform.net:443 \"POST /assistant/api//v1/workspaces/e5bec1bc-42a3-45eb-b09b-860e89a9c1e8/message?version=2018-07-10 HTTP/1.1\" 200 None\n",
      "\u001b[38;2;128;128;128m[2019-07-26 10:10:56,510]\u001b[0m \u001b[36mDEBUG\u001b[0m \u001b[38;2;128;128;128m(urllib3.connectionpool): \u001b[0mhttps://gateway.watsonplatform.net:443 \"POST /assistant/api//v1/workspaces/e5bec1bc-42a3-45eb-b09b-860e89a9c1e8/message?version=2018-07-10 HTTP/1.1\" 200 None\n",
      "\n",
      " 82%|████████▏ | 36/44 [00:17<00:03,  2.05it/s]\u001b[A\u001b[38;2;128;128;128m[2019-07-26 10:10:56,560]\u001b[0m \u001b[36mDEBUG\u001b[0m \u001b[38;2;128;128;128m(urllib3.connectionpool): \u001b[0mStarting new HTTPS connection (1): gateway.watsonplatform.net:443\n",
      "\u001b[38;2;128;128;128m[2019-07-26 10:10:56,560]\u001b[0m \u001b[36mDEBUG\u001b[0m \u001b[38;2;128;128;128m(urllib3.connectionpool): \u001b[0mStarting new HTTPS connection (1): gateway.watsonplatform.net:443\n",
      "\u001b[38;2;128;128;128m[2019-07-26 10:10:57,010]\u001b[0m \u001b[36mDEBUG\u001b[0m \u001b[38;2;128;128;128m(urllib3.connectionpool): \u001b[0mhttps://gateway.watsonplatform.net:443 \"POST /assistant/api//v1/workspaces/e5bec1bc-42a3-45eb-b09b-860e89a9c1e8/message?version=2018-07-10 HTTP/1.1\" 200 506\n",
      "\u001b[38;2;128;128;128m[2019-07-26 10:10:57,010]\u001b[0m \u001b[36mDEBUG\u001b[0m \u001b[38;2;128;128;128m(urllib3.connectionpool): \u001b[0mhttps://gateway.watsonplatform.net:443 \"POST /assistant/api//v1/workspaces/e5bec1bc-42a3-45eb-b09b-860e89a9c1e8/message?version=2018-07-10 HTTP/1.1\" 200 506\n",
      "\n",
      " 84%|████████▍ | 37/44 [00:18<00:03,  2.08it/s]\u001b[A\u001b[38;2;128;128;128m[2019-07-26 10:10:57,030]\u001b[0m \u001b[36mDEBUG\u001b[0m \u001b[38;2;128;128;128m(urllib3.connectionpool): \u001b[0mStarting new HTTPS connection (1): gateway.watsonplatform.net:443\n",
      "\u001b[38;2;128;128;128m[2019-07-26 10:10:57,030]\u001b[0m \u001b[36mDEBUG\u001b[0m \u001b[38;2;128;128;128m(urllib3.connectionpool): \u001b[0mStarting new HTTPS connection (1): gateway.watsonplatform.net:443\n",
      "\u001b[38;2;128;128;128m[2019-07-26 10:10:57,704]\u001b[0m \u001b[36mDEBUG\u001b[0m \u001b[38;2;128;128;128m(urllib3.connectionpool): \u001b[0mhttps://gateway.watsonplatform.net:443 \"POST /assistant/api//v1/workspaces/e5bec1bc-42a3-45eb-b09b-860e89a9c1e8/message?version=2018-07-10 HTTP/1.1\" 200 503\n",
      "\u001b[38;2;128;128;128m[2019-07-26 10:10:57,704]\u001b[0m \u001b[36mDEBUG\u001b[0m \u001b[38;2;128;128;128m(urllib3.connectionpool): \u001b[0mhttps://gateway.watsonplatform.net:443 \"POST /assistant/api//v1/workspaces/e5bec1bc-42a3-45eb-b09b-860e89a9c1e8/message?version=2018-07-10 HTTP/1.1\" 200 503\n",
      "\n",
      " 86%|████████▋ | 38/44 [00:19<00:03,  1.83it/s]\u001b[A\u001b[38;2;128;128;128m[2019-07-26 10:10:57,723]\u001b[0m \u001b[36mDEBUG\u001b[0m \u001b[38;2;128;128;128m(urllib3.connectionpool): \u001b[0mStarting new HTTPS connection (1): gateway.watsonplatform.net:443\n",
      "\u001b[38;2;128;128;128m[2019-07-26 10:10:57,723]\u001b[0m \u001b[36mDEBUG\u001b[0m \u001b[38;2;128;128;128m(urllib3.connectionpool): \u001b[0mStarting new HTTPS connection (1): gateway.watsonplatform.net:443\n",
      "\u001b[38;2;128;128;128m[2019-07-26 10:10:58,052]\u001b[0m \u001b[36mDEBUG\u001b[0m \u001b[38;2;128;128;128m(urllib3.connectionpool): \u001b[0mhttps://gateway.watsonplatform.net:443 \"POST /assistant/api//v1/workspaces/e5bec1bc-42a3-45eb-b09b-860e89a9c1e8/message?version=2018-07-10 HTTP/1.1\" 200 None\n",
      "\u001b[38;2;128;128;128m[2019-07-26 10:10:58,052]\u001b[0m \u001b[36mDEBUG\u001b[0m \u001b[38;2;128;128;128m(urllib3.connectionpool): \u001b[0mhttps://gateway.watsonplatform.net:443 \"POST /assistant/api//v1/workspaces/e5bec1bc-42a3-45eb-b09b-860e89a9c1e8/message?version=2018-07-10 HTTP/1.1\" 200 None\n",
      "\n",
      " 89%|████████▊ | 39/44 [00:19<00:02,  2.04it/s]\u001b[A\u001b[38;2;128;128;128m[2019-07-26 10:10:58,089]\u001b[0m \u001b[36mDEBUG\u001b[0m \u001b[38;2;128;128;128m(urllib3.connectionpool): \u001b[0mStarting new HTTPS connection (1): gateway.watsonplatform.net:443\n",
      "\u001b[38;2;128;128;128m[2019-07-26 10:10:58,089]\u001b[0m \u001b[36mDEBUG\u001b[0m \u001b[38;2;128;128;128m(urllib3.connectionpool): \u001b[0mStarting new HTTPS connection (1): gateway.watsonplatform.net:443\n",
      "\u001b[38;2;128;128;128m[2019-07-26 10:10:58,394]\u001b[0m \u001b[36mDEBUG\u001b[0m \u001b[38;2;128;128;128m(urllib3.connectionpool): \u001b[0mhttps://gateway.watsonplatform.net:443 \"POST /assistant/api//v1/workspaces/e5bec1bc-42a3-45eb-b09b-860e89a9c1e8/message?version=2018-07-10 HTTP/1.1\" 200 None\n",
      "\u001b[38;2;128;128;128m[2019-07-26 10:10:58,394]\u001b[0m \u001b[36mDEBUG\u001b[0m \u001b[38;2;128;128;128m(urllib3.connectionpool): \u001b[0mhttps://gateway.watsonplatform.net:443 \"POST /assistant/api//v1/workspaces/e5bec1bc-42a3-45eb-b09b-860e89a9c1e8/message?version=2018-07-10 HTTP/1.1\" 200 None\n",
      "\n",
      " 91%|█████████ | 40/44 [00:19<00:01,  2.27it/s]\u001b[A\u001b[38;2;128;128;128m[2019-07-26 10:10:58,410]\u001b[0m \u001b[36mDEBUG\u001b[0m \u001b[38;2;128;128;128m(urllib3.connectionpool): \u001b[0mStarting new HTTPS connection (1): gateway.watsonplatform.net:443\n",
      "\u001b[38;2;128;128;128m[2019-07-26 10:10:58,410]\u001b[0m \u001b[36mDEBUG\u001b[0m \u001b[38;2;128;128;128m(urllib3.connectionpool): \u001b[0mStarting new HTTPS connection (1): gateway.watsonplatform.net:443\n",
      "\u001b[38;2;128;128;128m[2019-07-26 10:10:58,776]\u001b[0m \u001b[36mDEBUG\u001b[0m \u001b[38;2;128;128;128m(urllib3.connectionpool): \u001b[0mhttps://gateway.watsonplatform.net:443 \"POST /assistant/api//v1/workspaces/e5bec1bc-42a3-45eb-b09b-860e89a9c1e8/message?version=2018-07-10 HTTP/1.1\" 200 None\n",
      "\u001b[38;2;128;128;128m[2019-07-26 10:10:58,776]\u001b[0m \u001b[36mDEBUG\u001b[0m \u001b[38;2;128;128;128m(urllib3.connectionpool): \u001b[0mhttps://gateway.watsonplatform.net:443 \"POST /assistant/api//v1/workspaces/e5bec1bc-42a3-45eb-b09b-860e89a9c1e8/message?version=2018-07-10 HTTP/1.1\" 200 None\n",
      "\n",
      " 93%|█████████▎| 41/44 [00:20<00:01,  2.35it/s]\u001b[A\u001b[38;2;128;128;128m[2019-07-26 10:10:58,802]\u001b[0m \u001b[36mDEBUG\u001b[0m \u001b[38;2;128;128;128m(urllib3.connectionpool): \u001b[0mStarting new HTTPS connection (1): gateway.watsonplatform.net:443\n",
      "\u001b[38;2;128;128;128m[2019-07-26 10:10:58,802]\u001b[0m \u001b[36mDEBUG\u001b[0m \u001b[38;2;128;128;128m(urllib3.connectionpool): \u001b[0mStarting new HTTPS connection (1): gateway.watsonplatform.net:443\n",
      "\u001b[38;2;128;128;128m[2019-07-26 10:10:59,157]\u001b[0m \u001b[36mDEBUG\u001b[0m \u001b[38;2;128;128;128m(urllib3.connectionpool): \u001b[0mhttps://gateway.watsonplatform.net:443 \"POST /assistant/api//v1/workspaces/e5bec1bc-42a3-45eb-b09b-860e89a9c1e8/message?version=2018-07-10 HTTP/1.1\" 200 519\n",
      "\u001b[38;2;128;128;128m[2019-07-26 10:10:59,157]\u001b[0m \u001b[36mDEBUG\u001b[0m \u001b[38;2;128;128;128m(urllib3.connectionpool): \u001b[0mhttps://gateway.watsonplatform.net:443 \"POST /assistant/api//v1/workspaces/e5bec1bc-42a3-45eb-b09b-860e89a9c1e8/message?version=2018-07-10 HTTP/1.1\" 200 519\n",
      "\n",
      " 95%|█████████▌| 42/44 [00:20<00:00,  2.43it/s]\u001b[A\u001b[38;2;128;128;128m[2019-07-26 10:10:59,178]\u001b[0m \u001b[36mDEBUG\u001b[0m \u001b[38;2;128;128;128m(urllib3.connectionpool): \u001b[0mStarting new HTTPS connection (1): gateway.watsonplatform.net:443\n",
      "\u001b[38;2;128;128;128m[2019-07-26 10:10:59,178]\u001b[0m \u001b[36mDEBUG\u001b[0m \u001b[38;2;128;128;128m(urllib3.connectionpool): \u001b[0mStarting new HTTPS connection (1): gateway.watsonplatform.net:443\n",
      "\u001b[38;2;128;128;128m[2019-07-26 10:10:59,724]\u001b[0m \u001b[36mDEBUG\u001b[0m \u001b[38;2;128;128;128m(urllib3.connectionpool): \u001b[0mhttps://gateway.watsonplatform.net:443 \"POST /assistant/api//v1/workspaces/e5bec1bc-42a3-45eb-b09b-860e89a9c1e8/message?version=2018-07-10 HTTP/1.1\" 200 None\n",
      "\u001b[38;2;128;128;128m[2019-07-26 10:10:59,724]\u001b[0m \u001b[36mDEBUG\u001b[0m \u001b[38;2;128;128;128m(urllib3.connectionpool): \u001b[0mhttps://gateway.watsonplatform.net:443 \"POST /assistant/api//v1/workspaces/e5bec1bc-42a3-45eb-b09b-860e89a9c1e8/message?version=2018-07-10 HTTP/1.1\" 200 None\n",
      "\n",
      " 98%|█████████▊| 43/44 [00:21<00:00,  2.18it/s]\u001b[A\u001b[38;2;128;128;128m[2019-07-26 10:10:59,750]\u001b[0m \u001b[36mDEBUG\u001b[0m \u001b[38;2;128;128;128m(urllib3.connectionpool): \u001b[0mStarting new HTTPS connection (1): gateway.watsonplatform.net:443\n",
      "\u001b[38;2;128;128;128m[2019-07-26 10:10:59,750]\u001b[0m \u001b[36mDEBUG\u001b[0m \u001b[38;2;128;128;128m(urllib3.connectionpool): \u001b[0mStarting new HTTPS connection (1): gateway.watsonplatform.net:443\n",
      "\u001b[38;2;128;128;128m[2019-07-26 10:11:00,098]\u001b[0m \u001b[36mDEBUG\u001b[0m \u001b[38;2;128;128;128m(urllib3.connectionpool): \u001b[0mhttps://gateway.watsonplatform.net:443 \"POST /assistant/api//v1/workspaces/e5bec1bc-42a3-45eb-b09b-860e89a9c1e8/message?version=2018-07-10 HTTP/1.1\" 200 510\n",
      "\u001b[38;2;128;128;128m[2019-07-26 10:11:00,098]\u001b[0m \u001b[36mDEBUG\u001b[0m \u001b[38;2;128;128;128m(urllib3.connectionpool): \u001b[0mhttps://gateway.watsonplatform.net:443 \"POST /assistant/api//v1/workspaces/e5bec1bc-42a3-45eb-b09b-860e89a9c1e8/message?version=2018-07-10 HTTP/1.1\" 200 510\n",
      "\n"
     ]
    },
    {
     "name": "stderr",
     "output_type": "stream",
     "text": [
      "100%|██████████| 3/3 [01:28<00:00, 27.65s/it]s]\u001b[A\n"
     ]
    },
    {
     "name": "stdout",
     "output_type": "stream",
     "text": [
      "\n",
      "\n",
      "FINISHED\n"
     ]
    },
    {
     "name": "stderr",
     "output_type": "stream",
     "text": [
      "\u001b[38;2;128;128;128m[2019-07-26 10:11:00,875]\u001b[0m \u001b[36mDEBUG\u001b[0m \u001b[38;2;128;128;128m(urllib3.connectionpool): \u001b[0mStarting new HTTPS connection (1): gateway.watsonplatform.net:443\n",
      "\u001b[38;2;128;128;128m[2019-07-26 10:11:00,875]\u001b[0m \u001b[36mDEBUG\u001b[0m \u001b[38;2;128;128;128m(urllib3.connectionpool): \u001b[0mStarting new HTTPS connection (1): gateway.watsonplatform.net:443\n"
     ]
    },
    {
     "name": "stdout",
     "output_type": "stream",
     "text": [
      "deleting workspace 1 out of 3: f26bb75b-7f94-4995-aec6-e301900d2920\n"
     ]
    },
    {
     "name": "stderr",
     "output_type": "stream",
     "text": [
      "\u001b[38;2;128;128;128m[2019-07-26 10:11:01,465]\u001b[0m \u001b[36mDEBUG\u001b[0m \u001b[38;2;128;128;128m(urllib3.connectionpool): \u001b[0mhttps://gateway.watsonplatform.net:443 \"DELETE /assistant/api//v1/workspaces/f26bb75b-7f94-4995-aec6-e301900d2920?version=2018-07-10 HTTP/1.1\" 200 None\n",
      "\u001b[38;2;128;128;128m[2019-07-26 10:11:01,465]\u001b[0m \u001b[36mDEBUG\u001b[0m \u001b[38;2;128;128;128m(urllib3.connectionpool): \u001b[0mhttps://gateway.watsonplatform.net:443 \"DELETE /assistant/api//v1/workspaces/f26bb75b-7f94-4995-aec6-e301900d2920?version=2018-07-10 HTTP/1.1\" 200 None\n",
      "\u001b[38;2;128;128;128m[2019-07-26 10:11:01,473]\u001b[0m \u001b[36mDEBUG\u001b[0m \u001b[38;2;128;128;128m(urllib3.connectionpool): \u001b[0mStarting new HTTPS connection (1): gateway.watsonplatform.net:443\n",
      "\u001b[38;2;128;128;128m[2019-07-26 10:11:01,473]\u001b[0m \u001b[36mDEBUG\u001b[0m \u001b[38;2;128;128;128m(urllib3.connectionpool): \u001b[0mStarting new HTTPS connection (1): gateway.watsonplatform.net:443\n"
     ]
    },
    {
     "name": "stdout",
     "output_type": "stream",
     "text": [
      "deleting workspace 2 out of 3: 5486135a-c94c-4d01-bcbb-a7377f461966\n"
     ]
    },
    {
     "name": "stderr",
     "output_type": "stream",
     "text": [
      "\u001b[38;2;128;128;128m[2019-07-26 10:11:02,115]\u001b[0m \u001b[36mDEBUG\u001b[0m \u001b[38;2;128;128;128m(urllib3.connectionpool): \u001b[0mhttps://gateway.watsonplatform.net:443 \"DELETE /assistant/api//v1/workspaces/5486135a-c94c-4d01-bcbb-a7377f461966?version=2018-07-10 HTTP/1.1\" 200 None\n",
      "\u001b[38;2;128;128;128m[2019-07-26 10:11:02,115]\u001b[0m \u001b[36mDEBUG\u001b[0m \u001b[38;2;128;128;128m(urllib3.connectionpool): \u001b[0mhttps://gateway.watsonplatform.net:443 \"DELETE /assistant/api//v1/workspaces/5486135a-c94c-4d01-bcbb-a7377f461966?version=2018-07-10 HTTP/1.1\" 200 None\n",
      "\u001b[38;2;128;128;128m[2019-07-26 10:11:02,124]\u001b[0m \u001b[36mDEBUG\u001b[0m \u001b[38;2;128;128;128m(urllib3.connectionpool): \u001b[0mStarting new HTTPS connection (1): gateway.watsonplatform.net:443\n",
      "\u001b[38;2;128;128;128m[2019-07-26 10:11:02,124]\u001b[0m \u001b[36mDEBUG\u001b[0m \u001b[38;2;128;128;128m(urllib3.connectionpool): \u001b[0mStarting new HTTPS connection (1): gateway.watsonplatform.net:443\n"
     ]
    },
    {
     "name": "stdout",
     "output_type": "stream",
     "text": [
      "deleting workspace 3 out of 3: e5bec1bc-42a3-45eb-b09b-860e89a9c1e8\n"
     ]
    },
    {
     "name": "stderr",
     "output_type": "stream",
     "text": [
      "\u001b[38;2;128;128;128m[2019-07-26 10:11:02,551]\u001b[0m \u001b[36mDEBUG\u001b[0m \u001b[38;2;128;128;128m(urllib3.connectionpool): \u001b[0mhttps://gateway.watsonplatform.net:443 \"DELETE /assistant/api//v1/workspaces/e5bec1bc-42a3-45eb-b09b-860e89a9c1e8?version=2018-07-10 HTTP/1.1\" 200 28\n",
      "\u001b[38;2;128;128;128m[2019-07-26 10:11:02,551]\u001b[0m \u001b[36mDEBUG\u001b[0m \u001b[38;2;128;128;128m(urllib3.connectionpool): \u001b[0mhttps://gateway.watsonplatform.net:443 \"DELETE /assistant/api//v1/workspaces/e5bec1bc-42a3-45eb-b09b-860e89a9c1e8?version=2018-07-10 HTTP/1.1\" 200 28\n"
     ]
    }
   ],
   "source": [
    "import logging\n",
    "logger = logging.getLogger()\n",
    "logger.setLevel(logging.CRITICAL)\n",
    "\n",
    "kfold = kfoldtest(apikey=apikey, url=url, n_folds=nfolds, threshold=threshold)\n",
    "kfold.intent_df_from_df(train_df)\n",
    "results_kfold, classification_report, metrics_per_fold = kfold.full_run_kfold_from_df(train_df)"
   ]
  },
  {
   "cell_type": "markdown",
   "metadata": {},
   "source": [
    "### View worst performing intents\n",
    "We'll first choose a metric, then create a CSV showing the worst performing intents which can be used for annotation throughout this process."
   ]
  },
  {
   "cell_type": "code",
   "execution_count": 47,
   "metadata": {},
   "outputs": [
    {
     "data": {
      "text/markdown": [
       "Now, we need to <span style='color:blue'>choose which metric to prioritise for this workspace.</span>\n",
       " \n",
       " If FPs and FNs are equally negative, then you may want to look at F1 score. More on this in **Section x** of the training at scale guide.\n",
       " \n",
       "**Preferred metric:**"
      ],
      "text/plain": [
       "<IPython.core.display.Markdown object>"
      ]
     },
     "metadata": {},
     "output_type": "display_data"
    },
    {
     "data": {
      "application/vnd.jupyter.widget-view+json": {
       "model_id": "1306d6a9ead449a0b1f9a1480954db0a",
       "version_major": 2,
       "version_minor": 0
      },
      "text/plain": [
       "Dropdown(options=('precision', 'recall', 'f1-score'), value='precision')"
      ]
     },
     "metadata": {},
     "output_type": "display_data"
    }
   ],
   "source": [
    "display(Markdown(\"Now, we need to <span style='color:blue'>choose which metric to prioritise for this workspace.</span>\" \n",
    "\n",
    "\"\\n \\n If FPs and FNs are equally negative, then you may want to look at F1 score. More on this in **Section x** of the training at scale guide.\"\n",
    "\n",
    "\"\\n \\n**Preferred metric:**\"))\n",
    "        \n",
    "d_m = widgets.Dropdown(options=['precision', 'recall', 'f1-score'])\n",
    "display(d_m)"
   ]
  },
  {
   "cell_type": "code",
   "execution_count": 52,
   "metadata": {},
   "outputs": [
    {
     "data": {
      "text/markdown": [
       "We can then view K-fold results sorted by this metric, with a column added to show the size of the training set, and a couple more for annotation."
      ],
      "text/plain": [
       "<IPython.core.display.Markdown object>"
      ]
     },
     "metadata": {},
     "output_type": "display_data"
    },
    {
     "data": {
      "text/markdown": [
       "These results have been exported to <span style='color:blue'>/Users/kalyan/Documents/practice-cog/intent_training_tools/results/precision_kfold_results_20190726-1045.csv</span> for annotation throughout the targeted training process."
      ],
      "text/plain": [
       "<IPython.core.display.Markdown object>"
      ]
     },
     "metadata": {},
     "output_type": "display_data"
    },
    {
     "data": {
      "text/html": [
       "<div>\n",
       "<style scoped>\n",
       "    .dataframe tbody tr th:only-of-type {\n",
       "        vertical-align: middle;\n",
       "    }\n",
       "\n",
       "    .dataframe tbody tr th {\n",
       "        vertical-align: top;\n",
       "    }\n",
       "\n",
       "    .dataframe thead th {\n",
       "        text-align: right;\n",
       "    }\n",
       "</style>\n",
       "<table border=\"1\" class=\"dataframe\">\n",
       "  <thead>\n",
       "    <tr style=\"text-align: right;\">\n",
       "      <th></th>\n",
       "      <th>f1-score</th>\n",
       "      <th>precision</th>\n",
       "      <th>recall</th>\n",
       "      <th>train_size</th>\n",
       "      <th>comment</th>\n",
       "      <th>action</th>\n",
       "    </tr>\n",
       "  </thead>\n",
       "  <tbody>\n",
       "    <tr>\n",
       "      <th>DOG_HEALTH</th>\n",
       "      <td>0.745763</td>\n",
       "      <td>0.758621</td>\n",
       "      <td>0.733333</td>\n",
       "      <td>29</td>\n",
       "      <td></td>\n",
       "      <td></td>\n",
       "    </tr>\n",
       "    <tr>\n",
       "      <th>PURCHASE_DOG</th>\n",
       "      <td>0.842105</td>\n",
       "      <td>0.857143</td>\n",
       "      <td>0.827586</td>\n",
       "      <td>28</td>\n",
       "      <td></td>\n",
       "      <td></td>\n",
       "    </tr>\n",
       "    <tr>\n",
       "      <th>DOG_PARENTS_INFORMATION</th>\n",
       "      <td>0.851064</td>\n",
       "      <td>0.833333</td>\n",
       "      <td>0.869565</td>\n",
       "      <td>24</td>\n",
       "      <td></td>\n",
       "      <td></td>\n",
       "    </tr>\n",
       "    <tr>\n",
       "      <th>DOG_VACCINATIONS</th>\n",
       "      <td>0.750000</td>\n",
       "      <td>0.642857</td>\n",
       "      <td>0.900000</td>\n",
       "      <td>28</td>\n",
       "      <td></td>\n",
       "      <td></td>\n",
       "    </tr>\n",
       "    <tr>\n",
       "      <th>DOG_FOOD</th>\n",
       "      <td>0.923077</td>\n",
       "      <td>0.888889</td>\n",
       "      <td>0.960000</td>\n",
       "      <td>27</td>\n",
       "      <td></td>\n",
       "      <td></td>\n",
       "    </tr>\n",
       "  </tbody>\n",
       "</table>\n",
       "</div>"
      ],
      "text/plain": [
       "                         f1-score  precision    recall  train_size comment  \\\n",
       "DOG_HEALTH               0.745763  0.758621   0.733333  29                   \n",
       "PURCHASE_DOG             0.842105  0.857143   0.827586  28                   \n",
       "DOG_PARENTS_INFORMATION  0.851064  0.833333   0.869565  24                   \n",
       "DOG_VACCINATIONS         0.750000  0.642857   0.900000  28                   \n",
       "DOG_FOOD                 0.923077  0.888889   0.960000  27                   \n",
       "\n",
       "                        action  \n",
       "DOG_HEALTH                      \n",
       "PURCHASE_DOG                    \n",
       "DOG_PARENTS_INFORMATION         \n",
       "DOG_VACCINATIONS                \n",
       "DOG_FOOD                        "
      ]
     },
     "metadata": {},
     "output_type": "display_data"
    }
   ],
   "source": [
    "cl_rep_export = classification_report.loc[intents, :].sort_values(d_m.value, ascending=True)\n",
    "cl_rep_export = cl_rep_export.drop(columns='support')\n",
    "\n",
    "intent_sizes = train_df.groupby('intent').count()\n",
    "cl_rep_export['train_size'] = intent_sizes\n",
    "\n",
    "cl_rep_export['comment'] = \"\"\n",
    "cl_rep_export['action'] = \"\"\n",
    "\n",
    "timestr = time.strftime(\"%Y%m%d-%H%M\")\n",
    "filename = d.value + '_kfold_results_' + timestr + '.csv'\n",
    "output_path = os.path.join(config.output_folder, filename)\n",
    "cl_rep_export.to_csv(output_path)\n",
    "\n",
    "display(Markdown(\"We can then view K-fold results sorted by this metric, with a column added to show the size of the training set, and a couple more for annotation.\"))\n",
    "display(Markdown(\"These results have been exported to <span style='color:blue'>{}</span> for annotation throughout the targeted training process.\".format(output_path)))\n",
    "display(cl_rep_export)\n",
    "\n"
   ]
  },
  {
   "cell_type": "code",
   "execution_count": 58,
   "metadata": {},
   "outputs": [
    {
     "data": {
      "text/html": [
       "<div>\n",
       "<style scoped>\n",
       "    .dataframe tbody tr th:only-of-type {\n",
       "        vertical-align: middle;\n",
       "    }\n",
       "\n",
       "    .dataframe tbody tr th {\n",
       "        vertical-align: top;\n",
       "    }\n",
       "\n",
       "    .dataframe thead th {\n",
       "        text-align: right;\n",
       "    }\n",
       "</style>\n",
       "<table border=\"1\" class=\"dataframe\">\n",
       "  <thead>\n",
       "    <tr style=\"text-align: right;\">\n",
       "      <th></th>\n",
       "      <th>index</th>\n",
       "      <th>variable</th>\n",
       "      <th>value</th>\n",
       "    </tr>\n",
       "  </thead>\n",
       "  <tbody>\n",
       "    <tr>\n",
       "      <th>0</th>\n",
       "      <td>DOG_HEALTH</td>\n",
       "      <td>f1-score</td>\n",
       "      <td>0.745763</td>\n",
       "    </tr>\n",
       "    <tr>\n",
       "      <th>1</th>\n",
       "      <td>PURCHASE_DOG</td>\n",
       "      <td>f1-score</td>\n",
       "      <td>0.842105</td>\n",
       "    </tr>\n",
       "    <tr>\n",
       "      <th>2</th>\n",
       "      <td>DOG_PARENTS_INFORMATION</td>\n",
       "      <td>f1-score</td>\n",
       "      <td>0.851064</td>\n",
       "    </tr>\n",
       "    <tr>\n",
       "      <th>3</th>\n",
       "      <td>DOG_VACCINATIONS</td>\n",
       "      <td>f1-score</td>\n",
       "      <td>0.750000</td>\n",
       "    </tr>\n",
       "    <tr>\n",
       "      <th>4</th>\n",
       "      <td>DOG_FOOD</td>\n",
       "      <td>f1-score</td>\n",
       "      <td>0.923077</td>\n",
       "    </tr>\n",
       "    <tr>\n",
       "      <th>5</th>\n",
       "      <td>DOG_HEALTH</td>\n",
       "      <td>precision</td>\n",
       "      <td>0.758621</td>\n",
       "    </tr>\n",
       "    <tr>\n",
       "      <th>6</th>\n",
       "      <td>PURCHASE_DOG</td>\n",
       "      <td>precision</td>\n",
       "      <td>0.857143</td>\n",
       "    </tr>\n",
       "    <tr>\n",
       "      <th>7</th>\n",
       "      <td>DOG_PARENTS_INFORMATION</td>\n",
       "      <td>precision</td>\n",
       "      <td>0.833333</td>\n",
       "    </tr>\n",
       "    <tr>\n",
       "      <th>8</th>\n",
       "      <td>DOG_VACCINATIONS</td>\n",
       "      <td>precision</td>\n",
       "      <td>0.642857</td>\n",
       "    </tr>\n",
       "    <tr>\n",
       "      <th>9</th>\n",
       "      <td>DOG_FOOD</td>\n",
       "      <td>precision</td>\n",
       "      <td>0.888889</td>\n",
       "    </tr>\n",
       "    <tr>\n",
       "      <th>10</th>\n",
       "      <td>DOG_HEALTH</td>\n",
       "      <td>recall</td>\n",
       "      <td>0.733333</td>\n",
       "    </tr>\n",
       "    <tr>\n",
       "      <th>11</th>\n",
       "      <td>PURCHASE_DOG</td>\n",
       "      <td>recall</td>\n",
       "      <td>0.827586</td>\n",
       "    </tr>\n",
       "    <tr>\n",
       "      <th>12</th>\n",
       "      <td>DOG_PARENTS_INFORMATION</td>\n",
       "      <td>recall</td>\n",
       "      <td>0.869565</td>\n",
       "    </tr>\n",
       "    <tr>\n",
       "      <th>13</th>\n",
       "      <td>DOG_VACCINATIONS</td>\n",
       "      <td>recall</td>\n",
       "      <td>0.900000</td>\n",
       "    </tr>\n",
       "    <tr>\n",
       "      <th>14</th>\n",
       "      <td>DOG_FOOD</td>\n",
       "      <td>recall</td>\n",
       "      <td>0.960000</td>\n",
       "    </tr>\n",
       "  </tbody>\n",
       "</table>\n",
       "</div>"
      ],
      "text/plain": [
       "                      index   variable     value\n",
       "0   DOG_HEALTH               f1-score   0.745763\n",
       "1   PURCHASE_DOG             f1-score   0.842105\n",
       "2   DOG_PARENTS_INFORMATION  f1-score   0.851064\n",
       "3   DOG_VACCINATIONS         f1-score   0.750000\n",
       "4   DOG_FOOD                 f1-score   0.923077\n",
       "5   DOG_HEALTH               precision  0.758621\n",
       "6   PURCHASE_DOG             precision  0.857143\n",
       "7   DOG_PARENTS_INFORMATION  precision  0.833333\n",
       "8   DOG_VACCINATIONS         precision  0.642857\n",
       "9   DOG_FOOD                 precision  0.888889\n",
       "10  DOG_HEALTH               recall     0.733333\n",
       "11  PURCHASE_DOG             recall     0.827586\n",
       "12  DOG_PARENTS_INFORMATION  recall     0.869565\n",
       "13  DOG_VACCINATIONS         recall     0.900000\n",
       "14  DOG_FOOD                 recall     0.960000"
      ]
     },
     "execution_count": 58,
     "metadata": {},
     "output_type": "execute_result"
    }
   ],
   "source": [
    "melt_df = cl_rep_export.reset_index().melt(id_vars=['index'], value_vars=['f1-score', 'precision', 'recall'])\n",
    "melt_df"
   ]
  },
  {
   "cell_type": "code",
   "execution_count": 73,
   "metadata": {
    "scrolled": false
   },
   "outputs": [
    {
     "data": {
      "text/markdown": [
       "We can also view a plot of these."
      ],
      "text/plain": [
       "<IPython.core.display.Markdown object>"
      ]
     },
     "metadata": {},
     "output_type": "display_data"
    },
    {
     "data": {
      "image/png": "[encoded data removed]",
      "text/plain": [
       "<Figure size 1080x360 with 3 Axes>"
      ]
     },
     "metadata": {},
     "output_type": "display_data"
    }
   ],
   "source": [
    "display(Markdown(\"We can also view a plot of these.\"))\n",
    "ax = sns.catplot(data=melt_df, x='index', y='value', col='variable', kind='bar', hue=\"variable\")\n",
    "[plt.setp(ax.get_xticklabels(), rotation=80) for ax in ax.axes.flat];"
   ]
  },
  {
   "cell_type": "markdown",
   "metadata": {},
   "source": [
    "## Analysis\n",
    "The next stage is to write some comments and actions for the training that is needed. To do this we'll use the tools in this section."
   ]
  },
  {
   "cell_type": "markdown",
   "metadata": {},
   "source": [
    "### More training?\n",
    "A common sign that an intent needs more training is that it has **low recall**: it is commonly not matching intents with enough confidence to provide a response. To test for this we can plot recall against training set size for our intents. \n",
    "\n",
    "You should investigate any intents which fall on the bottom left hand size of this plot as candidates for getting more training."
   ]
  },
  {
   "cell_type": "code",
   "execution_count": 88,
   "metadata": {},
   "outputs": [
    {
     "data": {
      "image/png": "[encoded data removed]",
      "text/plain": [
       "<Figure size 360x360 with 1 Axes>"
      ]
     },
     "metadata": {},
     "output_type": "display_data"
    }
   ],
   "source": [
    "ax = sns.lmplot(data=cl_rep_export, x='train_size', y='recall', fit_reg=False)\n",
    "ax.axes[0,0].set_title('Intent Size vs Recall')\n",
    "ax.axes[0,0].set_ylim(0,1);"
   ]
  },
  {
   "cell_type": "markdown",
   "metadata": {},
   "source": [
    "### Clashes Between Intents\n",
    "Here we'll use tools to find overlapping phrases between intents that may be causing confusion between them. \n",
    "\n",
    "Change the parameters in the next cell to choose the length of the ngrams being searched for, and whether to remove stopwords."
   ]
  },
  {
   "cell_type": "code",
   "execution_count": 89,
   "metadata": {},
   "outputs": [],
   "source": [
    "ngram_list = [4,5] \n",
    "stopwords = 'none' # stopwords_in can be none, nltk, or config"
   ]
  },
  {
   "cell_type": "code",
   "execution_count": 92,
   "metadata": {},
   "outputs": [
    {
     "data": {
      "image/png": "[encoded data removed]",
      "text/plain": [
       "<Figure size 432x288 with 1 Axes>"
      ]
     },
     "metadata": {},
     "output_type": "display_data"
    }
   ],
   "source": [
    "ii = intent_intersections(ngram_list, stopwords_in=stopwords, intent_col='intent')\n",
    "ii.import_training_df(train_df)\n",
    "intersection_df, intersection_size_df = ii.calculate_ngram_intersections()\n",
    "\n",
    "intersection_size_df = intersection_size_df.fillna(0)\n",
    "heatmap_colors = sns.cubehelix_palette(8, start=2, rot=0, dark=0.2, light=.95, reverse=False)\n",
    "ax = sns.heatmap(intersection_size_df, annot=True, cmap=heatmap_colors, cbar=False, square=True)\n",
    "ax.set_title('Intent Overlap Matrix');"
   ]
  },
  {
   "cell_type": "markdown",
   "metadata": {},
   "source": [
    "Next, we can look into specific overlaps:"
   ]
  },
  {
   "cell_type": "code",
   "execution_count": 93,
   "metadata": {},
   "outputs": [
    {
     "data": {
      "application/vnd.jupyter.widget-view+json": {
       "model_id": "cfbac50f25484779b10775db585ebabc",
       "version_major": 2,
       "version_minor": 0
      },
      "text/plain": [
       "Dropdown(options=('purchase_dog', 'dog_vaccinations', 'dog_health', 'dog_parents_information', 'dog_food'), va…"
      ]
     },
     "metadata": {},
     "output_type": "display_data"
    },
    {
     "data": {
      "application/vnd.jupyter.widget-view+json": {
       "model_id": "bceb5bab24694dd4854b5a27e27bd245",
       "version_major": 2,
       "version_minor": 0
      },
      "text/plain": [
       "Dropdown(index=1, options=('purchase_dog', 'dog_vaccinations', 'dog_health', 'dog_parents_information', 'dog_f…"
      ]
     },
     "metadata": {},
     "output_type": "display_data"
    },
    {
     "data": {
      "text/html": [
       "<div>\n",
       "<style scoped>\n",
       "    .dataframe tbody tr th:only-of-type {\n",
       "        vertical-align: middle;\n",
       "    }\n",
       "\n",
       "    .dataframe tbody tr th {\n",
       "        vertical-align: top;\n",
       "    }\n",
       "\n",
       "    .dataframe thead th {\n",
       "        text-align: right;\n",
       "    }\n",
       "</style>\n",
       "<table border=\"1\" class=\"dataframe\">\n",
       "  <thead>\n",
       "    <tr style=\"text-align: right;\">\n",
       "      <th></th>\n",
       "      <th>purchase_dog</th>\n",
       "      <th>dog_vaccinations</th>\n",
       "    </tr>\n",
       "  </thead>\n",
       "  <tbody>\n",
       "    <tr>\n",
       "      <th>i want to get</th>\n",
       "      <td>1.0</td>\n",
       "      <td>1.0</td>\n",
       "    </tr>\n",
       "  </tbody>\n",
       "</table>\n",
       "</div>"
      ],
      "text/plain": [
       "               purchase_dog  dog_vaccinations\n",
       "i want to get  1.0           1.0             "
      ]
     },
     "metadata": {},
     "output_type": "display_data"
    }
   ],
   "source": [
    "def onchange(change):\n",
    "    if change['type'] == 'change' and change['name'] == 'value':\n",
    "        clear_output()\n",
    "        display(d01)\n",
    "        display(d02)\n",
    "        display_intent_overlap(d01.value, d02.value)\n",
    "\n",
    "def display_intent_overlap(intent1, intent2):\n",
    "    if d01.value != d02.value:\n",
    "        ngrams_per_intent_df, ngram_freq_df = ii.get_ngrams_per_intent()\n",
    "        overlap_df = ii.get_intersection_freqs([intent1, intent2], ngram_freq_df)\n",
    "        overlap_df = overlap_df.sort_values([intent1, intent2], ascending=False)\n",
    "        display(overlap_df)\n",
    "    else:\n",
    "        display(Markdown(\"Intents chosen can't be the same\"))\n",
    "\n",
    "d01 = widgets.Dropdown(options=train_df['intent'].unique())\n",
    "d02 = widgets.Dropdown(options=train_df['intent'].unique())\n",
    "\n",
    "d01.observe(onchange)\n",
    "d02.observe(onchange)\n",
    "\n",
    "display(d01)\n",
    "display(d02)\n",
    "display_intent_overlap(d01.value, d02.value)"
   ]
  },
  {
   "cell_type": "code",
   "execution_count": 94,
   "metadata": {},
   "outputs": [
    {
     "data": {
      "text/markdown": [
       "You can use the table below to search through training utterances."
      ],
      "text/plain": [
       "<IPython.core.display.Markdown object>"
      ]
     },
     "metadata": {},
     "output_type": "display_data"
    },
    {
     "data": {
      "text/html": [
       "<div><table id=\"8f69c18f-0ff0-4c9b-a076-d0feceecf4eb\" class=\"display\"><thead>\n",
       "    <tr style=\"text-align: right;\">\n",
       "      \n",
       "      <th>utterance</th>\n",
       "      <th>intent</th>\n",
       "    </tr>\n",
       "  </thead></table>\n",
       "<script type=\"text/javascript\">\n",
       "require([\"datatables\"], function (datatables) {\n",
       "    $(document).ready(function () {\n",
       "        function eval_functions(map_or_text) {\n",
       "            if (typeof map_or_text === \"string\") {\n",
       "                if (map_or_text.startsWith(\"function\")) {\n",
       "                    try {\n",
       "                        // Note: parenthesis are required around the whole expression for eval to return a value!\n",
       "                        // See https://stackoverflow.com/a/7399078/911298.\n",
       "                        //\n",
       "                        // eval(\"local_fun = \" + map_or_text) would fail because local_fun is not declared\n",
       "                        // (using var, let or const would work, but it would only be declared in the local scope\n",
       "                        // and therefore the value could not be retrieved).\n",
       "                        const func = eval(`(${map_or_text})`);\n",
       "                        if (typeof func !== \"function\") {\n",
       "                            // Note: backquotes are super convenient! \n",
       "                            // https://developer.mozilla.org/en-US/docs/Web/JavaScript/Reference/Template_literals\n",
       "                            console.error(\n",
       "                                `Evaluated expression \"${map_or_text}\" is not a function (type is ${typeof func})`\n",
       "                            );\n",
       "                            return map_or_text;\n",
       "                        }\n",
       "                        // Return the function        \n",
       "                        return func;\n",
       "                    } catch (e) {\n",
       "                        // Make sure to print the error with a second argument to console.error().\n",
       "                        console.error(`itables was not able to parse \"${map_or_text}\"`, e);\n",
       "                    }\n",
       "                }\n",
       "            } else if (typeof map_or_text === \"object\") {\n",
       "                if (map_or_text instanceof Array) {\n",
       "                    // Note: \"var\" is now superseded by \"let\" and \"const\".\n",
       "                    // https://medium.com/javascript-scene/javascript-es6-var-let-or-const-ba58b8dcde75\n",
       "                    const result = [];\n",
       "                    // Note: \"for of\" is the best way to iterate through an iterable.\n",
       "                    // https://developer.mozilla.org/en-US/docs/Web/JavaScript/Reference/Statements/for...of\n",
       "                    for (const item of map_or_text) {\n",
       "                        result.push(eval_functions(item));\n",
       "                    }\n",
       "                    return result;\n",
       "\n",
       "                    // Alternatively, more functional approach in one line:\n",
       "                    // return map_or_text.map(eval_functions);\n",
       "                } else {\n",
       "                    const result = {};\n",
       "                    // Object.keys() is safer than \"for in\" because otherwise you might have keys\n",
       "                    // that aren't defined in the object itself.\n",
       "                    //\n",
       "                    // See https://stackoverflow.com/a/684692/911298.\n",
       "                    for (const item of Object.keys(map_or_text)) {\n",
       "                        result[item] = eval_functions(map_or_text[item]);\n",
       "                    }\n",
       "                    return result;\n",
       "                }\n",
       "            }\n",
       "\n",
       "            return map_or_text;\n",
       "        }\n",
       "        var dt_args = {\"data\": [[\"I want to buy a minature schnauzer\", \"purchase_dog\"], [\"I've looked at the pictures and I'm ready to buy a puppy.\", \"purchase_dog\"], [\"I would like to buy a chinook\", \"purchase_dog\"], [\"hello, what should I do to buy a puppy?\", \"purchase_dog\"], [\"Can I buy a kaiken\", \"purchase_dog\"], [\"I want a dog\", \"purchase_dog\"], [\"I'm looking to buy a dog\", \"purchase_dog\"], [\"I'd like to buy a wolfhound\", \"purchase_dog\"], [\"i want to get a puppy\", \"purchase_dog\"], [\"Hi I'd like to buy a dog\", \"purchase_dog\"], [\"No I wanted a puppy.\", \"purchase_dog\"], [\"I want to buy a chinook\", \"purchase_dog\"], [\"What dog can I purchase?\", \"purchase_dog\"], [\"Where can I buy a dog\", \"purchase_dog\"], [\"Can I get a puppy?\", \"purchase_dog\"], [\"I need a pup\", \"purchase_dog\"], [\"How can I buy puppies on the internet\", \"purchase_dog\"], [\"Do you sell doggies\", \"purchase_dog\"], [\"where are the best deals on pups\", \"purchase_dog\"], [\"can I order a doggo online\", \"purchase_dog\"], [\"is it always bad to buy a dog from a farm\", \"purchase_dog\"], [\"Can I buy my dog on finance\", \"purchase_dog\"], [\"what is the right price for a pedigree lab\", \"purchase_dog\"], [\"is \\u00a32000 too much for a FTCH collie\", \"purchase_dog\"], [\"where is the puppy pricing\", \"purchase_dog\"], [\"Will different pups cost different prices\", \"purchase_dog\"], [\"i want to add a dog to the family. How much would it cost\", \"purchase_dog\"], [\"where should I look to find a breeder for a dog\", \"purchase_dog\"], [\"how can I check if my rescue staffy is up to date with it's injections\", \"dog_vaccinations\"], [\"I wanna get my terrier an annual set of jabs\", \"dog_vaccinations\"], [\"my hound is not overdue its last AC jab\", \"dog_vaccinations\"], [\"at what age do I not need to get my pooch jabs\", \"dog_vaccinations\"], [\"does a pedigree need different immunisations to a mutt\", \"dog_vaccinations\"], [\"I need to get some injections for my drakehead lab\", \"dog_vaccinations\"], [\"do you need to have allthe vaccinations recommended\", \"dog_vaccinations\"], [\"can I combine my dogs next check up with some vaccinations\", \"dog_vaccinations\"], [\"is it illegal to not get your dog jabs\", \"dog_vaccinations\"], [\"is there such thing as antivax for dogs\", \"dog_vaccinations\"], [\"my little dog is not coping with vaccinations\", \"dog_vaccinations\"], [\"can I book some shots for my dog\", \"dog_vaccinations\"], [\"are there any vaccinations I should give my pupper next year\", \"dog_vaccinations\"], [\"my poodle had it's first set of vaccs last week and I want to get the next set, when should I do this\", \"dog_vaccinations\"], [\"Can you vaccinate the dog so it doesn't get sick\", \"dog_vaccinations\"], [\"I want my puppy to be protected against disease\", \"dog_vaccinations\"], [\"Can you immunise the dog before I get it\", \"dog_vaccinations\"], [\"Has the pupperino had its shots\", \"dog_vaccinations\"], [\"Has my puppy had all its injections\", \"dog_vaccinations\"], [\"Is the dog fully vaccinated\", \"dog_vaccinations\"], [\"How many jabs has the puppy had\", \"dog_vaccinations\"], [\"When is the next dose due of the vaccination?\", \"dog_vaccinations\"], [\"What about vaccinations?\", \"dog_vaccinations\"], [\"Do I have to pay for the vaccinations?\", \"dog_vaccinations\"], [\"what are they vaccinated against\", \"dog_vaccinations\"], [\"do you give shots to your dogs\", \"dog_vaccinations\"], [\"Are puppies already vaccinated?\", \"dog_vaccinations\"], [\"Do you vaccinate your dogs?\", \"dog_vaccinations\"], [\"my pups not very happy\", \"dog_health\"], [\"kennel cough advice\", \"dog_health\"], [\"I want to get my dog a check up urgently. He don't seem the same\", \"dog_health\"], [\"I think my dog has rabies\", \"dog_health\"], [\"my puppy has been shivering all night\", \"dog_health\"], [\"do dogs get depression\", \"dog_health\"], [\"my puppy is not like the other puppies\", \"dog_health\"], [\"I gave my pug coffee and now it looks sick\", \"dog_health\"], [\"my G.S has been diagnosed with cancer and I don't know what to do\", \"dog_health\"], [\"my pup don't look so great. What does it need\", \"dog_health\"], [\"my chow chow is not so well well\", \"dog_health\"], [\"how can i prevent my dog getting sick again\", \"dog_health\"], [\"is there any common illnesses in a dog\", \"dog_health\"], [\"my puppy is showing signs of illnes\", \"dog_health\"], [\"my dog vomitted last night\", \"dog_health\"], [\"Can the dog see properly\", \"dog_health\"], [\"Has the puppy shown any signs of sickness\", \"dog_health\"], [\"Can you tell me about the pups wellbeing\", \"dog_health\"], [\"I'm concerned about the health of the animals\", \"dog_health\"], [\"what is the health status of your puppies?\", \"dog_health\"], [\"Does the animal have fleas\", \"dog_health\"], [\"Can you tell me if the puppy is diseased\", \"dog_health\"], [\"Has the dog been ill before\", \"dog_health\"], [\"Is the puppy well?\", \"dog_health\"], [\"Does the puppy look healthy?\", \"dog_health\"], [\"Can I return the puppy if it has health issues?\", \"dog_health\"], [\"Will you tell me if the puppy has been sick?\", \"dog_health\"], [\"Was the litter sick for the puppy I want to get?\", \"dog_health\"], [\"does the puppies siblings get sick?\", \"dog_health\"], [\"I need to check the validity of my puppies mum's KCC register\", \"dog_parents_information\"], [\"Can I come in and look at the puppies with the mother?\", \"dog_parents_information\"], [\"Can I interview the parents?\", \"dog_parents_information\"], [\"how old is the mother?\", \"dog_parents_information\"], [\"Can look at the parents beforehand?\", \"dog_parents_information\"], [\"Does the mother get on well with children\", \"dog_parents_information\"], [\"Is the puppy's mum still weaning it\", \"dog_parents_information\"], [\"Has the bitch been vaccinated\", \"dog_parents_information\"], [\"Is this the mother's first litter\", \"dog_parents_information\"], [\"Who's the puppy's father\", \"dog_parents_information\"], [\"Is the father pedigree\", \"dog_parents_information\"], [\"are the labradoodles F1 or F2\", \"dog_parents_information\"], [\"I want to know more about their parenting\", \"dog_parents_information\"], [\"are they bred from a puppy farm or is the mother a family pet\", \"dog_parents_information\"], [\"where can I research my dogs ancestry\", \"dog_parents_information\"], [\"If both parents are pedigree, does my doggo become pedigree\", \"dog_parents_information\"], [\"is it a warning sign if I can't meet the parents\", \"dog_parents_information\"], [\"Is the dad a FTCH\", \"dog_parents_information\"], [\"How do I know if the mum has any EC titles\", \"dog_parents_information\"], [\"how long does the mum wean her pups\", \"dog_parents_information\"], [\"can I meet the father\", \"dog_parents_information\"], [\"is the dad a wirecoat or softcoat fox terrier\", \"dog_parents_information\"], [\"whre can I check if my dogs parentals have bred before\", \"dog_parents_information\"], [\"what are signs the mater is not good\", \"dog_parents_information\"], [\"can my puppy eat human food\", \"dog_food\"], [\"can my puppy eat adult food\", \"dog_food\"], [\"do you sell dog food\", \"dog_food\"], [\"I have just got a litter of puppies and don't know if I can feed them anything but milk\", \"dog_food\"], [\"do dogs eat chicken\", \"dog_food\"], [\"Do I always need to buy my dog the same food\", \"dog_food\"], [\"What is a good serving to give a dog\", \"dog_food\"], [\"is any dog food bad for a dogs teeth?\", \"dog_food\"], [\"can I put gravy on my dogs food\", \"dog_food\"], [\"is dry food bad for dogs\", \"dog_food\"], [\"can my dog have wet food\", \"dog_food\"], [\"can I mix my dogs food\", \"dog_food\"], [\"how often should I feed my dog\", \"dog_food\"], [\"what dog food do you sell\", \"dog_food\"], [\"do dogs taste food like humans taste food\", \"dog_food\"], [\"Can dogs eat people food\", \"dog_food\"], [\"Is meat okay for dogs three times a day\", \"dog_food\"], [\"Can dogs have canned food for lunch\", \"dog_food\"], [\"Can pups eat normal meat\", \"dog_food\"], [\"Is tinned dog food okay for puppies\", \"dog_food\"], [\"What do puppies like to eat\", \"dog_food\"], [\"I don't know what dogs eat\", \"dog_food\"], [\"That's good to know. Does the food taste nice?\", \"dog_food\"], [\"What food do you sell\", \"dog_food\"], [\"What food do you have?\", \"dog_food\"], [\"What sort of food do I need to get to keep the puppy happy?\", \"dog_food\"], [\"is it bad to feed my mutt leftovers\", \"dog_food\"]]};\n",
       "        dt_args = eval_functions(dt_args);\n",
       "        table = $('#8f69c18f-0ff0-4c9b-a076-d0feceecf4eb').DataTable(dt_args);\n",
       "    });\n",
       "})\n",
       "</script>\n",
       "</div>\n"
      ],
      "text/plain": [
       "<IPython.core.display.HTML object>"
      ]
     },
     "metadata": {},
     "output_type": "display_data"
    }
   ],
   "source": [
    "display(Markdown(\"You can use the table below to search through training utterances.\"))\n",
    "show(train_df[['utterance', 'intent']])"
   ]
  },
  {
   "cell_type": "markdown",
   "metadata": {},
   "source": [
    "## Training"
   ]
  },
  {
   "cell_type": "markdown",
   "metadata": {},
   "source": [
    "We've currently got no tools to help here due to the differences in logs for each bot orchestrator. \n",
    "\n",
    "However, we can recommend two methods: **guided learning**, and **active learning**.\n",
    "\n",
    "<span style=\"color:red\">FILL IN AND REFER TO PAPER</span>"
   ]
  },
  {
   "cell_type": "code",
   "execution_count": null,
   "metadata": {},
   "outputs": [],
   "source": []
  }
 ],
 "metadata": {
  "hide_input": false,
  "kernelspec": {
   "display_name": "Python 3",
   "language": "python",
   "name": "python3"
  },
  "language_info": {
   "codemirror_mode": {
    "name": "ipython",
    "version": 3
   },
   "file_extension": ".py",
   "mimetype": "text/x-python",
   "name": "python",
   "nbconvert_exporter": "python",
   "pygments_lexer": "ipython3",
   "version": "3.6.0"
  },
  "toc": {
   "base_numbering": 1,
   "nav_menu": {},
   "number_sections": true,
   "sideBar": true,
   "skip_h1_title": true,
   "title_cell": "Table of Contents",
   "title_sidebar": "Contents",
   "toc_cell": false,
   "toc_position": {},
   "toc_section_display": true,
   "toc_window_display": true
  }
 },
 "nbformat": 4,
 "nbformat_minor": 2
}
