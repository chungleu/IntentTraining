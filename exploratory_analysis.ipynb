{
 "cells": [
  {
   "cell_type": "markdown",
   "metadata": {},
   "source": [
    "# Exploratory Analysis Notebook\n",
    "A set of tools to analyse the intents within your workspace.\n",
    "\n",
    "**Author:** Kalyan Dutia (kalyan.dutia@ibm.com)"
   ]
  },
  {
   "cell_type": "code",
   "execution_count": 1,
   "metadata": {},
   "outputs": [
    {
     "data": {
      "application/javascript": [
       "require.config({\n",
       "    paths: {\n",
       "        datatables: 'https://cdn.datatables.net/1.10.19/js/jquery.dataTables.min',\n",
       "    }\n",
       "});\n",
       "\n",
       "$('head').append('<link rel=\"stylesheet\" type=\"text/css\" \\\n",
       "                href = \"https://cdn.datatables.net/1.10.19/css/jquery.dataTables.min.css\" > ');\n",
       "\n",
       "$('head').append('<style> table td { text-overflow: ellipsis; overflow: hidden; } </style>');\n",
       "\n",
       "$('head').append(`<script>\n",
       "function eval_functions(map_or_text) {\n",
       "    if (typeof map_or_text === \"string\") {\n",
       "        if (map_or_text.startsWith(\"function\")) {\n",
       "            try {\n",
       "                // Note: parenthesis are required around the whole expression for eval to return a value!\n",
       "                // See https://stackoverflow.com/a/7399078/911298.\n",
       "                //\n",
       "                // eval(\"local_fun = \" + map_or_text) would fail because local_fun is not declared\n",
       "                // (using var, let or const would work, but it would only be declared in the local scope\n",
       "                // and therefore the value could not be retrieved).\n",
       "                const func = eval(\"(\" + map_or_text + \")\");\n",
       "                if (typeof func !== \"function\") {\n",
       "                    // Note: backquotes are super convenient!\n",
       "                    // https://developer.mozilla.org/en-US/docs/Web/JavaScript/Reference/Template_literals\n",
       "                    console.error(\"Evaluated expression \" + map_or_text + \" is not a function (type is \" + typeof func + \")\");\n",
       "                    return map_or_text;\n",
       "                }\n",
       "                // Return the function\n",
       "                return func;\n",
       "            } catch (e) {\n",
       "                // Make sure to print the error with a second argument to console.error().\n",
       "                console.error(\"itables was not able to parse \" + map_or_text, e);\n",
       "            }\n",
       "        }\n",
       "    } else if (typeof map_or_text === \"object\") {\n",
       "        if (map_or_text instanceof Array) {\n",
       "            // Note: \"var\" is now superseded by \"let\" and \"const\".\n",
       "            // https://medium.com/javascript-scene/javascript-es6-var-let-or-const-ba58b8dcde75\n",
       "            const result = [];\n",
       "            // Note: \"for of\" is the best way to iterate through an iterable.\n",
       "            // https://developer.mozilla.org/en-US/docs/Web/JavaScript/Reference/Statements/for...of\n",
       "            for (const item of map_or_text) {\n",
       "                result.push(eval_functions(item));\n",
       "            }\n",
       "            return result;\n",
       "\n",
       "            // Alternatively, more functional approach in one line:\n",
       "            // return map_or_text.map(eval_functions);\n",
       "        } else {\n",
       "            const result = {};\n",
       "            // Object.keys() is safer than \"for in\" because otherwise you might have keys\n",
       "            // that aren't defined in the object itself.\n",
       "            //\n",
       "            // See https://stackoverflow.com/a/684692/911298.\n",
       "            for (const item of Object.keys(map_or_text)) {\n",
       "                result[item] = eval_functions(map_or_text[item]);\n",
       "            }\n",
       "            return result;\n",
       "        }\n",
       "    }\n",
       "\n",
       "    return map_or_text;\n",
       "}\n",
       "</` + 'script>');"
      ],
      "text/plain": [
       "<IPython.core.display.Javascript object>"
      ]
     },
     "metadata": {},
     "output_type": "display_data"
    }
   ],
   "source": [
    "# external imports\n",
    "import os\n",
    "from IPython.display import display, Markdown, clear_output\n",
    "import ipywidgets as widgets\n",
    "import pandas as pd\n",
    "import numpy as np\n",
    "import seaborn as sns\n",
    "from itables import show\n",
    "\n",
    "# internal imports\n",
    "import config\n",
    "import cli_tools.download_intents as download_intents\n",
    "from cli_tools.get_intent_intersections import intent_intersections\n",
    "from for_csv.chi2_feat_select import chi2_feat_select\n",
    "\n",
    "# config\n",
    "sns.set_style(\"whitegrid\")\n",
    "sns.set_context(\"notebook\")\n",
    "pd.set_option('display.max_colwidth', -1) # change from -1"
   ]
  },
  {
   "cell_type": "markdown",
   "metadata": {},
   "source": [
    "## Get Training Data\n",
    "This will be stored in the *data/workspace_training* folder, with the format [workspace-name]_questions.csv"
   ]
  },
  {
   "cell_type": "markdown",
   "metadata": {},
   "source": [
    "### View existing data, import if necessary"
   ]
  },
  {
   "cell_type": "markdown",
   "metadata": {},
   "source": [
    "First, view the files in the training data folder:"
   ]
  },
  {
   "cell_type": "code",
   "execution_count": 2,
   "metadata": {},
   "outputs": [
    {
     "data": {
      "text/markdown": [
       "**Training data files:**"
      ],
      "text/plain": [
       "<IPython.core.display.Markdown object>"
      ]
     },
     "metadata": {},
     "output_type": "display_data"
    },
    {
     "data": {
      "text/markdown": [
       " - Puppy_questions.csv\n",
       " - Phone Advisor_questions.csv\n",
       " - Puppy_Training_Data.csv\n"
      ],
      "text/plain": [
       "<IPython.core.display.Markdown object>"
      ]
     },
     "metadata": {},
     "output_type": "display_data"
    }
   ],
   "source": [
    "def view_training_files():\n",
    "    training_files = [file for file in os.listdir(config.training_dir) if file.endswith('.csv')]\n",
    "    training_files\n",
    "\n",
    "    display(Markdown(\"**Training data files:**\"))\n",
    "    display(Markdown((''.join([' - {}\\n'.format(i) for i in training_files]))))\n",
    "    \n",
    "    return training_files\n",
    "        \n",
    "training_files = view_training_files()"
   ]
  },
  {
   "cell_type": "markdown",
   "metadata": {},
   "source": [
    "If you need to update the training data files, you can use the button below. "
   ]
  },
  {
   "cell_type": "code",
   "execution_count": 3,
   "metadata": {},
   "outputs": [
    {
     "data": {
      "application/vnd.jupyter.widget-view+json": {
       "model_id": "cb39afdce182427a966a233fe175803b",
       "version_major": 2,
       "version_minor": 0
      },
      "text/plain": [
       "Button(description='Update intent training files', style=ButtonStyle())"
      ]
     },
     "metadata": {},
     "output_type": "display_data"
    }
   ],
   "source": [
    "def download_intents_button_onclick(_):\n",
    "    download_intents.main()\n",
    "    training_files = view_training_files()\n",
    "    \n",
    "button = widgets.Button(description='Update intent training files')\n",
    "button.on_click(download_intents_button_onclick)\n",
    "\n",
    "display(button)"
   ]
  },
  {
   "cell_type": "markdown",
   "metadata": {},
   "source": [
    "### Select a skill\n",
    "Use the dropdown box, and use the following cell to confirm your selection."
   ]
  },
  {
   "cell_type": "code",
   "execution_count": 61,
   "metadata": {},
   "outputs": [
    {
     "data": {
      "application/vnd.jupyter.widget-view+json": {
       "model_id": "fb6b942d01754f579ed4527952cbaf65",
       "version_major": 2,
       "version_minor": 0
      },
      "text/plain": [
       "Dropdown(index=1, options=('Puppy', 'Phone Advisor', 'Puppy_Tra'), value='Phone Advisor')"
      ]
     },
     "metadata": {},
     "output_type": "display_data"
    },
    {
     "data": {
      "text/markdown": [
       "**<span style='color:blue'>Phone Advisor</span>** skill selected. Training data sample:"
      ],
      "text/plain": [
       "<IPython.core.display.Markdown object>"
      ]
     },
     "metadata": {},
     "output_type": "display_data"
    },
    {
     "data": {
      "text/html": [
       "<div>\n",
       "<style scoped>\n",
       "    .dataframe tbody tr th:only-of-type {\n",
       "        vertical-align: middle;\n",
       "    }\n",
       "\n",
       "    .dataframe tbody tr th {\n",
       "        vertical-align: top;\n",
       "    }\n",
       "\n",
       "    .dataframe thead th {\n",
       "        text-align: right;\n",
       "    }\n",
       "</style>\n",
       "<table border=\"1\" class=\"dataframe\">\n",
       "  <thead>\n",
       "    <tr style=\"text-align: right;\">\n",
       "      <th></th>\n",
       "      <th>utterance</th>\n",
       "      <th>intent</th>\n",
       "    </tr>\n",
       "  </thead>\n",
       "  <tbody>\n",
       "    <tr>\n",
       "      <th>49</th>\n",
       "      <td>hi</td>\n",
       "      <td>Greeting</td>\n",
       "    </tr>\n",
       "    <tr>\n",
       "      <th>50</th>\n",
       "      <td>hola</td>\n",
       "      <td>Greeting</td>\n",
       "    </tr>\n",
       "    <tr>\n",
       "      <th>27</th>\n",
       "      <td>I like android phones</td>\n",
       "      <td>positive</td>\n",
       "    </tr>\n",
       "    <tr>\n",
       "      <th>7</th>\n",
       "      <td>Tell me more about the Galaxy S9</td>\n",
       "      <td>phoneinfo</td>\n",
       "    </tr>\n",
       "    <tr>\n",
       "      <th>13</th>\n",
       "      <td>Here's a review of my phone</td>\n",
       "      <td>submitreview</td>\n",
       "    </tr>\n",
       "    <tr>\n",
       "      <th>52</th>\n",
       "      <td>hey</td>\n",
       "      <td>Greeting</td>\n",
       "    </tr>\n",
       "    <tr>\n",
       "      <th>17</th>\n",
       "      <td>Gary Numan</td>\n",
       "      <td>collectname</td>\n",
       "    </tr>\n",
       "    <tr>\n",
       "      <th>18</th>\n",
       "      <td>They call me Manuel Cardenas</td>\n",
       "      <td>collectname</td>\n",
       "    </tr>\n",
       "    <tr>\n",
       "      <th>1</th>\n",
       "      <td>Tell me about the google pixel 3</td>\n",
       "      <td>phoneinfo</td>\n",
       "    </tr>\n",
       "    <tr>\n",
       "      <th>10</th>\n",
       "      <td>Let me give you my opinions on apple phones</td>\n",
       "      <td>submitreview</td>\n",
       "    </tr>\n",
       "  </tbody>\n",
       "</table>\n",
       "</div>"
      ],
      "text/plain": [
       "                                      utterance        intent\n",
       "49  hi                                           Greeting    \n",
       "50  hola                                         Greeting    \n",
       "27  I like android phones                        positive    \n",
       "7   Tell me more about the Galaxy S9             phoneinfo   \n",
       "13  Here's a review of my phone                  submitreview\n",
       "52  hey                                          Greeting    \n",
       "17  Gary Numan                                   collectname \n",
       "18  They call me Manuel Cardenas                 collectname \n",
       "1   Tell me about the google pixel 3             phoneinfo   \n",
       "10  Let me give you my opinions on apple phones  submitreview"
      ]
     },
     "metadata": {},
     "output_type": "display_data"
    }
   ],
   "source": [
    "def onchange(change):\n",
    "    if change['type'] == 'change' and change['name'] == 'value':\n",
    "        clear_output()\n",
    "        display(d)\n",
    "        display_sample(d, 10)\n",
    "        \n",
    "def get_training(d):\n",
    "    training_file = training_files[d.index]\n",
    "    return pd.read_csv(os.path.join(config.training_dir, training_file), names=['utterance', 'intent'])\n",
    "\n",
    "def display_sample(d, samplesize):\n",
    "    if samplesize != None:\n",
    "        display(Markdown(\"**<span style='color:blue'>{}</span>** skill selected. Training data sample:\".format(d.value)))\n",
    "    \n",
    "    train_df = get_training(d)\n",
    "    \n",
    "    if (len(train_df) > 0) & (samplesize != None):\n",
    "        display(train_df.sample(samplesize))\n",
    "    elif samplesize:\n",
    "        display(Markdown(\"<span style='color:red'>No intent training data exists for this workspace</span>\"))\n",
    "    \n",
    "    return train_df\n",
    "\n",
    "d = widgets.Dropdown(options=[item[0:len(item)-14] for item in training_files])\n",
    "d.observe(onchange)\n",
    "\n",
    "display(d)"
   ]
  },
  {
   "cell_type": "code",
   "execution_count": 63,
   "metadata": {},
   "outputs": [],
   "source": [
    "train_df = get_training(d)\n",
    "intents = train_df['intent'].unique()"
   ]
  },
  {
   "cell_type": "markdown",
   "metadata": {},
   "source": [
    "## Analysis"
   ]
  },
  {
   "cell_type": "markdown",
   "metadata": {},
   "source": [
    "### Intent Sizes\n",
    "As a general rule of thumb, your intents should be sized relative to the amount of scope they cover. If this is not the case, you might want to check for redundancy in your intents later on.\n",
    "\n",
    "If your largest intent is greater than two times your smallest, a warning will appear below."
   ]
  },
  {
   "cell_type": "code",
   "execution_count": 16,
   "metadata": {},
   "outputs": [
    {
     "data": {
      "image/png": "[encoded data removed]",
      "text/plain": [
       "<Figure size 1440x576 with 1 Axes>"
      ]
     },
     "metadata": {},
     "output_type": "display_data"
    }
   ],
   "source": [
    "train_df = display_sample(d, None)\n",
    "intent_sizes = train_df.groupby('intent').count()\n",
    "intent_max_min_ratio = intent_sizes.max()[0] / intent_sizes.min()[0]\n",
    "\n",
    "if intent_max_min_ratio > 2:\n",
    "    display(Markdown(\"**<span style='color:darkorange'>Warning:</span>** Your largest intent is {}x larger than your smallest\".format(round(intent_max_min_ratio, 2))))\n",
    "\n",
    "sns.set(rc={'figure.figsize':(20,8)})\n",
    "ax = sns.countplot(data=train_df, x='intent', order=train_df['intent'].value_counts().index)\n",
    "ax.set_xticklabels(ax.get_xticklabels(), rotation=75);\n",
    "sns.despine(left=True)"
   ]
  },
  {
   "cell_type": "markdown",
   "metadata": {},
   "source": [
    "### Representative 1- and 2-grams\n",
    "In this section we use chi-squared feature selection to bring out the terms which most represent each intent in your workspace. \n",
    "\n",
    "Here, you should be thinking about:\n",
    "<ol type=\"a\">\n",
    "    <li>whether these terms are what you'd expect for each intent</li>\n",
    "    <li>if any of these terms would be good candidates for resting entities</li>\n",
    "</ol>"
   ]
  },
  {
   "cell_type": "code",
   "execution_count": 25,
   "metadata": {},
   "outputs": [
    {
     "data": {
      "text/html": [
       "<div>\n",
       "<style scoped>\n",
       "    .dataframe tbody tr th:only-of-type {\n",
       "        vertical-align: middle;\n",
       "    }\n",
       "\n",
       "    .dataframe tbody tr th {\n",
       "        vertical-align: top;\n",
       "    }\n",
       "\n",
       "    .dataframe thead th {\n",
       "        text-align: right;\n",
       "    }\n",
       "</style>\n",
       "<table border=\"1\" class=\"dataframe\">\n",
       "  <thead>\n",
       "    <tr style=\"text-align: right;\">\n",
       "      <th></th>\n",
       "      <th>DOG_FOOD</th>\n",
       "      <th>DOG_HEALTH</th>\n",
       "      <th>DOG_PARENTS_INFORMATION</th>\n",
       "      <th>DOG_VACCINATIONS</th>\n",
       "      <th>PURCHASE_DOG</th>\n",
       "    </tr>\n",
       "  </thead>\n",
       "  <tbody>\n",
       "    <tr>\n",
       "      <th>top unigrams</th>\n",
       "      <td>dogs, sell, feed, eat, food</td>\n",
       "      <td>chow, night, health, sick, tell</td>\n",
       "      <td>meet, mum, parents, father, mother</td>\n",
       "      <td>injections, vaccinated, shots, jabs, vaccinations</td>\n",
       "      <td>pricing, purchase, want, chinook, buy</td>\n",
       "    </tr>\n",
       "    <tr>\n",
       "      <th>top bigrams</th>\n",
       "      <td>puppy eat, dogs food, food sell, dogs eat, dog food</td>\n",
       "      <td>pups happy, dogs depression, dog properly, dog ill, tell puppy</td>\n",
       "      <td>meet father, father pedigree, mother litter, look parents, puppy father</td>\n",
       "      <td>vaccinate dogs, puppies vaccinated, shots dogs, puppy injections, jabs puppy</td>\n",
       "      <td>buy puppy, want buy, buy chinook, like buy, buy dog</td>\n",
       "    </tr>\n",
       "  </tbody>\n",
       "</table>\n",
       "</div>"
      ],
      "text/plain": [
       "                                                         DOG_FOOD  \\\n",
       "top unigrams  dogs, sell, feed, eat, food                           \n",
       "top bigrams   puppy eat, dogs food, food sell, dogs eat, dog food   \n",
       "\n",
       "                                                                  DOG_HEALTH  \\\n",
       "top unigrams  chow, night, health, sick, tell                                  \n",
       "top bigrams   pups happy, dogs depression, dog properly, dog ill, tell puppy   \n",
       "\n",
       "                                                              DOG_PARENTS_INFORMATION  \\\n",
       "top unigrams  meet, mum, parents, father, mother                                        \n",
       "top bigrams   meet father, father pedigree, mother litter, look parents, puppy father   \n",
       "\n",
       "                                                                          DOG_VACCINATIONS  \\\n",
       "top unigrams  injections, vaccinated, shots, jabs, vaccinations                              \n",
       "top bigrams   vaccinate dogs, puppies vaccinated, shots dogs, puppy injections, jabs puppy   \n",
       "\n",
       "                                                     PURCHASE_DOG  \n",
       "top unigrams  pricing, purchase, want, chinook, buy                \n",
       "top bigrams   buy puppy, want buy, buy chinook, like buy, buy dog  "
      ]
     },
     "execution_count": 25,
     "metadata": {},
     "output_type": "execute_result"
    }
   ],
   "source": [
    "K=5\n",
    "\n",
    "chi2 = chi2_feat_select(train_df)\n",
    "chi2.getKbest(K)"
   ]
  },
  {
   "cell_type": "markdown",
   "metadata": {},
   "source": [
    "### Clashes between Intents\n",
    "The matrix below shows the number of shared ngrams in utterances between intents. A high number means there is a greater overlap between the intents, which should be investigated."
   ]
  },
  {
   "cell_type": "code",
   "execution_count": 29,
   "metadata": {},
   "outputs": [],
   "source": [
    "ngram_list = [4,5] \n",
    "stopwords = 'none' # stopwords_in can be none, nltk, or config"
   ]
  },
  {
   "cell_type": "code",
   "execution_count": 30,
   "metadata": {},
   "outputs": [],
   "source": [
    "ii = intent_intersections(ngram_list, stopwords_in=stopwords, intent_col='intent')\n",
    "ii.import_training_df(train_df)\n",
    "intersection_df, intersection_size_df = ii.calculate_ngram_intersections()\n",
    "\n",
    "intersection_size_df = intersection_size_df.fillna(0)"
   ]
  },
  {
   "cell_type": "code",
   "execution_count": 31,
   "metadata": {},
   "outputs": [
    {
     "data": {
      "image/png": "[encoded data removed]",
      "text/plain": [
       "<Figure size 432x288 with 1 Axes>"
      ]
     },
     "metadata": {},
     "output_type": "display_data"
    }
   ],
   "source": [
    "heatmap_colors = sns.cubehelix_palette(8, start=2, rot=0, dark=0.2, light=.95, reverse=False)\n",
    "ax = sns.heatmap(intersection_size_df, annot=True, cmap=heatmap_colors, cbar=False, square=True)\n",
    "ax.set_title('Intent Overlap Matrix');"
   ]
  },
  {
   "cell_type": "markdown",
   "metadata": {},
   "source": [
    "You can then investigate specific intent overlaps:"
   ]
  },
  {
   "cell_type": "code",
   "execution_count": 32,
   "metadata": {
    "scrolled": false
   },
   "outputs": [
    {
     "data": {
      "application/vnd.jupyter.widget-view+json": {
       "model_id": "f9ab2b9cfb4b4e3bae410082489e3a2a",
       "version_major": 2,
       "version_minor": 0
      },
      "text/plain": [
       "Dropdown(options=('dog_vaccinations', 'dog_parents_information', 'purchase_dog', 'dog_health', 'dog_food'), va…"
      ]
     },
     "metadata": {},
     "output_type": "display_data"
    },
    {
     "data": {
      "application/vnd.jupyter.widget-view+json": {
       "model_id": "e9f2e6a29b97404ba769384a4e0874f9",
       "version_major": 2,
       "version_minor": 0
      },
      "text/plain": [
       "Dropdown(index=2, options=('dog_vaccinations', 'dog_parents_information', 'purchase_dog', 'dog_health', 'dog_f…"
      ]
     },
     "metadata": {},
     "output_type": "display_data"
    },
    {
     "data": {
      "text/html": [
       "<div>\n",
       "<style scoped>\n",
       "    .dataframe tbody tr th:only-of-type {\n",
       "        vertical-align: middle;\n",
       "    }\n",
       "\n",
       "    .dataframe tbody tr th {\n",
       "        vertical-align: top;\n",
       "    }\n",
       "\n",
       "    .dataframe thead th {\n",
       "        text-align: right;\n",
       "    }\n",
       "</style>\n",
       "<table border=\"1\" class=\"dataframe\">\n",
       "  <thead>\n",
       "    <tr style=\"text-align: right;\">\n",
       "      <th></th>\n",
       "      <th>dog_vaccinations</th>\n",
       "      <th>purchase_dog</th>\n",
       "    </tr>\n",
       "  </thead>\n",
       "  <tbody>\n",
       "    <tr>\n",
       "      <th>i want to get</th>\n",
       "      <td>1.0</td>\n",
       "      <td>1.0</td>\n",
       "    </tr>\n",
       "  </tbody>\n",
       "</table>\n",
       "</div>"
      ],
      "text/plain": [
       "               dog_vaccinations  purchase_dog\n",
       "i want to get  1.0               1.0         "
      ]
     },
     "metadata": {},
     "output_type": "display_data"
    }
   ],
   "source": [
    "def onchange(change):\n",
    "    if change['type'] == 'change' and change['name'] == 'value':\n",
    "        clear_output()\n",
    "        display(d01)\n",
    "        display(d02)\n",
    "        display_intent_overlap(d01.value, d02.value)\n",
    "\n",
    "def display_intent_overlap(intent1, intent2):\n",
    "    if d01.value != d02.value:\n",
    "        ngrams_per_intent_df, ngram_freq_df = ii.get_ngrams_per_intent()\n",
    "        overlap_df = ii.get_intersection_freqs([intent1, intent2], ngram_freq_df)\n",
    "        overlap_df = overlap_df.sort_values([intent1, intent2], ascending=False)\n",
    "        display(overlap_df)\n",
    "    else:\n",
    "        display(Markdown(\"Intents chosen can't be the same\"))\n",
    "\n",
    "d01 = widgets.Dropdown(options=train_df['intent'].unique())\n",
    "d02 = widgets.Dropdown(options=train_df['intent'].unique())\n",
    "\n",
    "d01.observe(onchange)\n",
    "d02.observe(onchange)\n",
    "\n",
    "display(d01)\n",
    "display(d02)\n",
    "display_intent_overlap(d01.value, d02.value)"
   ]
  },
  {
   "cell_type": "code",
   "execution_count": 37,
   "metadata": {},
   "outputs": [
    {
     "data": {
      "text/markdown": [
       "You can use the table below to search through training utterances."
      ],
      "text/plain": [
       "<IPython.core.display.Markdown object>"
      ]
     },
     "metadata": {},
     "output_type": "display_data"
    },
    {
     "data": {
      "text/html": [
       "<div><table id=\"9292fd0c-bcab-47bf-91f4-156c38712d97\" class=\"display\"><thead>\n",
       "    <tr style=\"text-align: right;\">\n",
       "      \n",
       "      <th>utterance</th>\n",
       "      <th>intent</th>\n",
       "    </tr>\n",
       "  </thead></table>\n",
       "<script type=\"text/javascript\">\n",
       "require([\"datatables\"], function (datatables) {\n",
       "    $(document).ready(function () {        \n",
       "        var dt_args = {\"columnDefs\": [{\"width\": \"70px\", \"targets\": \"_all\"}], \"data\": [[\"where are the best deals on pups\", \"PURCHASE_DOG\"], [\"what is the right price for a pedigree lab\", \"PURCHASE_DOG\"], [\"What dog can I purchase?\", \"PURCHASE_DOG\"], [\"No I wanted a puppy.\", \"PURCHASE_DOG\"], [\"I would like to buy a chinook\", \"PURCHASE_DOG\"], [\"i want to get a puppy\", \"PURCHASE_DOG\"], [\"I want to buy a minature schnauzer\", \"PURCHASE_DOG\"], [\"I want to buy a chinook\", \"PURCHASE_DOG\"], [\"Can I buy my dog on finance\", \"PURCHASE_DOG\"], [\"i want to add a dog to the family. How much would it cost\", \"PURCHASE_DOG\"], [\"I want a dog\", \"PURCHASE_DOG\"], [\"I've looked at the pictures and I'm ready to buy a puppy.\", \"PURCHASE_DOG\"], [\"is it always bad to buy a dog from a farm\", \"PURCHASE_DOG\"], [\"is \\u00a32000 too much for a FTCH collie\", \"PURCHASE_DOG\"], [\"I need a pup\", \"PURCHASE_DOG\"], [\"I'm looking to buy a dog\", \"PURCHASE_DOG\"], [\"I'd like to buy a wolfhound\", \"PURCHASE_DOG\"], [\"How can I buy puppies on the internet\", \"PURCHASE_DOG\"], [\"Hi I'd like to buy a dog\", \"PURCHASE_DOG\"], [\"hello, what should I do to buy a puppy?\", \"PURCHASE_DOG\"], [\"where should I look to find a breeder for a dog\", \"PURCHASE_DOG\"], [\"Can I buy a kaiken\", \"PURCHASE_DOG\"], [\"Do you sell doggies\", \"PURCHASE_DOG\"], [\"can I order a doggo online\", \"PURCHASE_DOG\"], [\"Can I get a puppy?\", \"PURCHASE_DOG\"], [\"where is the puppy pricing\", \"PURCHASE_DOG\"], [\"Where can I buy a dog\", \"PURCHASE_DOG\"], [\"Will different pups cost different prices\", \"PURCHASE_DOG\"], [\"Will you tell me if the puppy has been sick?\", \"DOG_HEALTH\"], [\"my puppy has been shivering all night\", \"DOG_HEALTH\"], [\"Can I return the puppy if it has health issues?\", \"DOG_HEALTH\"], [\"Can the dog see properly\", \"DOG_HEALTH\"], [\"Can you tell me about the pups wellbeing\", \"DOG_HEALTH\"], [\"Can you tell me if the puppy is diseased\", \"DOG_HEALTH\"], [\"do dogs get depression\", \"DOG_HEALTH\"], [\"Does the animal have fleas\", \"DOG_HEALTH\"], [\"does the puppies siblings get sick?\", \"DOG_HEALTH\"], [\"Does the puppy look healthy?\", \"DOG_HEALTH\"], [\"Has the dog been ill before\", \"DOG_HEALTH\"], [\"Has the puppy shown any signs of sickness\", \"DOG_HEALTH\"], [\"how can i prevent my dog getting sick again\", \"DOG_HEALTH\"], [\"I gave my pug coffee and now it looks sick\", \"DOG_HEALTH\"], [\"I'm concerned about the health of the animals\", \"DOG_HEALTH\"], [\"Is the puppy well?\", \"DOG_HEALTH\"], [\"is there any common illnesses in a dog\", \"DOG_HEALTH\"], [\"I think my dog has rabies\", \"DOG_HEALTH\"], [\"I want to get my dog a check up urgently. He don't seem the same\", \"DOG_HEALTH\"], [\"kennel cough advice\", \"DOG_HEALTH\"], [\"my chow chow is not so well well\", \"DOG_HEALTH\"], [\"my dog vomitted last night\", \"DOG_HEALTH\"], [\"my G.S has been diagnosed with cancer and I don't know what to do\", \"DOG_HEALTH\"], [\"my pup don't look so great. What does it need\", \"DOG_HEALTH\"], [\"my puppy is not like the other puppies\", \"DOG_HEALTH\"], [\"my puppy is showing signs of illnes\", \"DOG_HEALTH\"], [\"my pups not very happy\", \"DOG_HEALTH\"], [\"Was the litter sick for the puppy I want to get?\", \"DOG_HEALTH\"], [\"what is the health status of your puppies?\", \"DOG_HEALTH\"], [\"I need to check the validity of my puppies mum's KCC register\", \"DOG_PARENTS_INFORMATION\"], [\"are the labradoodles F1 or F2\", \"DOG_PARENTS_INFORMATION\"], [\"are they bred from a puppy farm or is the mother a family pet\", \"DOG_PARENTS_INFORMATION\"], [\"Can I come in and look at the puppies with the mother?\", \"DOG_PARENTS_INFORMATION\"], [\"Can I interview the parents?\", \"DOG_PARENTS_INFORMATION\"], [\"can I meet the father\", \"DOG_PARENTS_INFORMATION\"], [\"Can look at the parents beforehand?\", \"DOG_PARENTS_INFORMATION\"], [\"Does the mother get on well with children\", \"DOG_PARENTS_INFORMATION\"], [\"Has the bitch been vaccinated\", \"DOG_PARENTS_INFORMATION\"], [\"How do I know if the mum has any EC titles\", \"DOG_PARENTS_INFORMATION\"], [\"how long does the mum wean her pups\", \"DOG_PARENTS_INFORMATION\"], [\"how old is the mother?\", \"DOG_PARENTS_INFORMATION\"], [\"If both parents are pedigree, does my doggo become pedigree\", \"DOG_PARENTS_INFORMATION\"], [\"is it a warning sign if I can't meet the parents\", \"DOG_PARENTS_INFORMATION\"], [\"Is the dad a FTCH\", \"DOG_PARENTS_INFORMATION\"], [\"is the dad a wirecoat or softcoat fox terrier\", \"DOG_PARENTS_INFORMATION\"], [\"Is the father pedigree\", \"DOG_PARENTS_INFORMATION\"], [\"Is the puppy's mum still weaning it\", \"DOG_PARENTS_INFORMATION\"], [\"Is this the mother's first litter\", \"DOG_PARENTS_INFORMATION\"], [\"I want to know more about their parenting\", \"DOG_PARENTS_INFORMATION\"], [\"what are signs the mater is not good\", \"DOG_PARENTS_INFORMATION\"], [\"where can I research my dogs ancestry\", \"DOG_PARENTS_INFORMATION\"], [\"Who's the puppy's father\", \"DOG_PARENTS_INFORMATION\"], [\"whre can I check if my dogs parentals have bred before\", \"DOG_PARENTS_INFORMATION\"], [\"Can dogs eat people food\", \"DOG_FOOD\"], [\"What sort of food do I need to get to keep the puppy happy?\", \"DOG_FOOD\"], [\"What is a good serving to give a dog\", \"DOG_FOOD\"], [\"What food do you sell\", \"DOG_FOOD\"], [\"What food do you have?\", \"DOG_FOOD\"], [\"What do puppies like to eat\", \"DOG_FOOD\"], [\"what dog food do you sell\", \"DOG_FOOD\"], [\"That's good to know. Does the food taste nice?\", \"DOG_FOOD\"], [\"Is tinned dog food okay for puppies\", \"DOG_FOOD\"], [\"Is meat okay for dogs three times a day\", \"DOG_FOOD\"], [\"is it bad to feed my mutt leftovers\", \"DOG_FOOD\"], [\"is dry food bad for dogs\", \"DOG_FOOD\"], [\"is any dog food bad for a dogs teeth?\", \"DOG_FOOD\"], [\"I have just got a litter of puppies and don't know if I can feed them anything but milk\", \"DOG_FOOD\"], [\"I don't know what dogs eat\", \"DOG_FOOD\"], [\"how often should I feed my dog\", \"DOG_FOOD\"], [\"do you sell dog food\", \"DOG_FOOD\"], [\"Do I always need to buy my dog the same food\", \"DOG_FOOD\"], [\"do dogs taste food like humans taste food\", \"DOG_FOOD\"], [\"do dogs eat chicken\", \"DOG_FOOD\"], [\"Can pups eat normal meat\", \"DOG_FOOD\"], [\"can my puppy eat human food\", \"DOG_FOOD\"], [\"can my puppy eat adult food\", \"DOG_FOOD\"], [\"can my dog have wet food\", \"DOG_FOOD\"], [\"can I put gravy on my dogs food\", \"DOG_FOOD\"], [\"can I mix my dogs food\", \"DOG_FOOD\"], [\"Can dogs have canned food for lunch\", \"DOG_FOOD\"], [\"are there any vaccinations I should give my pupper next year\", \"DOG_VACCINATIONS\"], [\"Are puppies already vaccinated?\", \"DOG_VACCINATIONS\"], [\"at what age do I not need to get my pooch jabs\", \"DOG_VACCINATIONS\"], [\"can I book some shots for my dog\", \"DOG_VACCINATIONS\"], [\"can I combine my dogs next check up with some vaccinations\", \"DOG_VACCINATIONS\"], [\"Can you immunise the dog before I get it\", \"DOG_VACCINATIONS\"], [\"Can you vaccinate the dog so it doesn't get sick\", \"DOG_VACCINATIONS\"], [\"does a pedigree need different immunisations to a mutt\", \"DOG_VACCINATIONS\"], [\"Do I have to pay for the vaccinations?\", \"DOG_VACCINATIONS\"], [\"do you give shots to your dogs\", \"DOG_VACCINATIONS\"], [\"do you need to have allthe vaccinations recommended\", \"DOG_VACCINATIONS\"], [\"Do you vaccinate your dogs?\", \"DOG_VACCINATIONS\"], [\"Has my puppy had all its injections\", \"DOG_VACCINATIONS\"], [\"Has the pupperino had its shots\", \"DOG_VACCINATIONS\"], [\"how can I check if my rescue staffy is up to date with it's injections\", \"DOG_VACCINATIONS\"], [\"How many jabs has the puppy had\", \"DOG_VACCINATIONS\"], [\"I need to get some injections for my drakehead lab\", \"DOG_VACCINATIONS\"], [\"is it illegal to not get your dog jabs\", \"DOG_VACCINATIONS\"], [\"Is the dog fully vaccinated\", \"DOG_VACCINATIONS\"], [\"is there such thing as antivax for dogs\", \"DOG_VACCINATIONS\"], [\"I wanna get my terrier an annual set of jabs\", \"DOG_VACCINATIONS\"], [\"I want my puppy to be protected against disease\", \"DOG_VACCINATIONS\"], [\"my hound is not overdue its last AC jab\", \"DOG_VACCINATIONS\"], [\"my little dog is not coping with vaccinations\", \"DOG_VACCINATIONS\"], [\"my poodle had it's first set of vaccs last week and I want to get the next set, when should I do this\", \"DOG_VACCINATIONS\"], [\"What about vaccinations?\", \"DOG_VACCINATIONS\"], [\"what are they vaccinated against\", \"DOG_VACCINATIONS\"], [\"When is the next dose due of the vaccination?\", \"DOG_VACCINATIONS\"]]};\n",
       "        dt_args = eval_functions(dt_args);\n",
       "        table = $('#9292fd0c-bcab-47bf-91f4-156c38712d97').DataTable(dt_args);\n",
       "    });\n",
       "})\n",
       "</script>\n",
       "</div>\n"
      ],
      "text/plain": [
       "<IPython.core.display.HTML object>"
      ]
     },
     "metadata": {},
     "output_type": "display_data"
    }
   ],
   "source": [
    "display(Markdown(\"You can use the table below to search through training utterances.\"))\n",
    "show(train_df[['utterance', 'intent']])"
   ]
  },
  {
   "cell_type": "code",
   "execution_count": null,
   "metadata": {},
   "outputs": [],
   "source": []
  },
  {
   "cell_type": "code",
   "execution_count": null,
   "metadata": {},
   "outputs": [],
   "source": []
  }
 ],
 "metadata": {
  "hide_input": false,
  "kernelspec": {
   "display_name": "Python 3",
   "language": "python",
   "name": "python3"
  },
  "language_info": {
   "codemirror_mode": {
    "name": "ipython",
    "version": 3
   },
   "file_extension": ".py",
   "mimetype": "text/x-python",
   "name": "python",
   "nbconvert_exporter": "python",
   "pygments_lexer": "ipython3",
   "version": "3.7.8"
  },
  "toc": {
   "base_numbering": 1,
   "nav_menu": {},
   "number_sections": true,
   "sideBar": true,
   "skip_h1_title": true,
   "title_cell": "Table of Contents",
   "title_sidebar": "Contents",
   "toc_cell": false,
   "toc_position": {
    "height": "calc(100% - 180px)",
    "left": "10px",
    "top": "150px",
    "width": "318px"
   },
   "toc_section_display": true,
   "toc_window_display": true
  }
 },
 "nbformat": 4,
 "nbformat_minor": 2
}
