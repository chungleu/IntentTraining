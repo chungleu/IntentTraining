{
 "cells": [
  {
   "cell_type": "markdown",
   "metadata": {},
   "source": [
    "# Exploratory Analysis Notebook\n",
    "A set of tools to analyse the intents within your workspace.\n",
    "\n",
    "**Author:** Kalyan Dutia (kalyan.dutia@ibm.com)"
   ]
  },
  {
   "cell_type": "code",
   "execution_count": 11,
   "metadata": {},
   "outputs": [],
   "source": [
    "# external imports\n",
    "import os\n",
    "from IPython.display import display, Markdown, clear_output\n",
    "import ipywidgets as widgets\n",
    "import pandas as pd\n",
    "import numpy as np\n",
    "import seaborn as sns\n",
    "from itables import show\n",
    "\n",
    "# internal imports\n",
    "import config\n",
    "import cli_tools.download_intents\n",
    "from cli_tools.get_intent_intersections import intent_intersections\n",
    "from for_csv.chi2_feat_select import chi2_feat_select\n",
    "\n",
    "# config\n",
    "sns.set_style(\"whitegrid\")\n",
    "sns.set_context(\"notebook\")\n",
    "pd.set_option('display.max_colwidth', -1)"
   ]
  },
  {
   "cell_type": "markdown",
   "metadata": {},
   "source": [
    "## Get Training Data\n",
    "This will be stored in the *data/workspace_training* folder, with the format [workspace-name]_questions.csv"
   ]
  },
  {
   "cell_type": "markdown",
   "metadata": {},
   "source": [
    "### View existing data, import if necessary"
   ]
  },
  {
   "cell_type": "markdown",
   "metadata": {},
   "source": [
    "First, view the files in the training data folder:"
   ]
  },
  {
   "cell_type": "code",
   "execution_count": 12,
   "metadata": {},
   "outputs": [
    {
     "data": {
      "text/markdown": [
       "**Training data files:**"
      ],
      "text/plain": [
       "<IPython.core.display.Markdown object>"
      ]
     },
     "metadata": {},
     "output_type": "display_data"
    },
    {
     "data": {
      "text/markdown": [
       " - puppy_questions.csv\n",
       " - Customer Care Sample Skill_questions.csv\n"
      ],
      "text/plain": [
       "<IPython.core.display.Markdown object>"
      ]
     },
     "metadata": {},
     "output_type": "display_data"
    }
   ],
   "source": [
    "def view_training_files():\n",
    "    training_files = [file for file in os.listdir(config.training_dir) if file.endswith('.csv')]\n",
    "    training_files\n",
    "\n",
    "    display(Markdown(\"**Training data files:**\"))\n",
    "    display(Markdown((''.join([' - {}\\n'.format(i) for i in training_files]))))\n",
    "    \n",
    "    return training_files\n",
    "        \n",
    "training_files = view_training_files()"
   ]
  },
  {
   "cell_type": "markdown",
   "metadata": {},
   "source": [
    "Then update them from Watson if necessary."
   ]
  },
  {
   "cell_type": "raw",
   "metadata": {},
   "source": [
    "download_intents.main(proxy=None)\n",
    "training_files = view_training_files()"
   ]
  },
  {
   "cell_type": "markdown",
   "metadata": {},
   "source": [
    "### Select a skill\n",
    "Use the dropdown box, and use the following cell to confirm your selection."
   ]
  },
  {
   "cell_type": "code",
   "execution_count": 29,
   "metadata": {},
   "outputs": [
    {
     "data": {
      "application/vnd.jupyter.widget-view+json": {
       "model_id": "5a960dbc260b4f7a81c6422efcdc5844",
       "version_major": 2,
       "version_minor": 0
      },
      "text/plain": [
       "Dropdown(index=1, options=('puppy', 'Customer Care Sample Skill'), value='Customer Care Sample Skill')"
      ]
     },
     "metadata": {},
     "output_type": "display_data"
    },
    {
     "data": {
      "text/markdown": [
       "**<span style='color:blue'>Customer Care Sample Skill</span>** skill selected. Training data sample:"
      ],
      "text/plain": [
       "<IPython.core.display.Markdown object>"
      ]
     },
     "metadata": {},
     "output_type": "display_data"
    },
    {
     "data": {
      "text/html": [
       "<div>\n",
       "<style scoped>\n",
       "    .dataframe tbody tr th:only-of-type {\n",
       "        vertical-align: middle;\n",
       "    }\n",
       "\n",
       "    .dataframe tbody tr th {\n",
       "        vertical-align: top;\n",
       "    }\n",
       "\n",
       "    .dataframe thead th {\n",
       "        text-align: right;\n",
       "    }\n",
       "</style>\n",
       "<table border=\"1\" class=\"dataframe\">\n",
       "  <thead>\n",
       "    <tr style=\"text-align: right;\">\n",
       "      <th></th>\n",
       "      <th>utterance</th>\n",
       "      <th>intent</th>\n",
       "    </tr>\n",
       "  </thead>\n",
       "  <tbody>\n",
       "    <tr>\n",
       "      <th>84</th>\n",
       "      <td>I want to speak to a human</td>\n",
       "      <td>General_Connect_to_Agent</td>\n",
       "    </tr>\n",
       "    <tr>\n",
       "      <th>173</th>\n",
       "      <td>Could I speak to someone in the store next tuesday?</td>\n",
       "      <td>Customer_Care_Appointments</td>\n",
       "    </tr>\n",
       "    <tr>\n",
       "      <th>101</th>\n",
       "      <td>I need help with find a store</td>\n",
       "      <td>Customer_Care_Store_Location</td>\n",
       "    </tr>\n",
       "    <tr>\n",
       "      <th>163</th>\n",
       "      <td>can you assist me</td>\n",
       "      <td>Help</td>\n",
       "    </tr>\n",
       "    <tr>\n",
       "      <th>131</th>\n",
       "      <td>Hey twin</td>\n",
       "      <td>General_Greetings</td>\n",
       "    </tr>\n",
       "    <tr>\n",
       "      <th>48</th>\n",
       "      <td>representative</td>\n",
       "      <td>General_Connect_to_Agent</td>\n",
       "    </tr>\n",
       "    <tr>\n",
       "      <th>44</th>\n",
       "      <td>cancel that</td>\n",
       "      <td>Cancel</td>\n",
       "    </tr>\n",
       "    <tr>\n",
       "      <th>17</th>\n",
       "      <td>What time do you close</td>\n",
       "      <td>Customer_Care_Store_Hours</td>\n",
       "    </tr>\n",
       "    <tr>\n",
       "      <th>40</th>\n",
       "      <td>nevermind</td>\n",
       "      <td>Cancel</td>\n",
       "    </tr>\n",
       "    <tr>\n",
       "      <th>110</th>\n",
       "      <td>Find store</td>\n",
       "      <td>Customer_Care_Store_Location</td>\n",
       "    </tr>\n",
       "  </tbody>\n",
       "</table>\n",
       "</div>"
      ],
      "text/plain": [
       "                                               utterance  \\\n",
       "84   I want to speak to a human                            \n",
       "173  Could I speak to someone in the store next tuesday?   \n",
       "101  I need help with find a store                         \n",
       "163  can you assist me                                     \n",
       "131  Hey twin                                              \n",
       "48   representative                                        \n",
       "44   cancel that                                           \n",
       "17   What time do you close                                \n",
       "40   nevermind                                             \n",
       "110  Find store                                            \n",
       "\n",
       "                           intent  \n",
       "84   General_Connect_to_Agent      \n",
       "173  Customer_Care_Appointments    \n",
       "101  Customer_Care_Store_Location  \n",
       "163  Help                          \n",
       "131  General_Greetings             \n",
       "48   General_Connect_to_Agent      \n",
       "44   Cancel                        \n",
       "17   Customer_Care_Store_Hours     \n",
       "40   Cancel                        \n",
       "110  Customer_Care_Store_Location  "
      ]
     },
     "metadata": {},
     "output_type": "display_data"
    }
   ],
   "source": [
    "def onchange(change):\n",
    "    if change['type'] == 'change' and change['name'] == 'value':\n",
    "        clear_output()\n",
    "        display(d)\n",
    "        display_sample(d, 10)\n",
    "\n",
    "def display_sample(d, samplesize):\n",
    "    if samplesize != None:\n",
    "        display(Markdown(\"**<span style='color:blue'>{}</span>** skill selected. Training data sample:\".format(d.value)))\n",
    "    training_file = training_files[d.index]\n",
    "\n",
    "    train_df = pd.read_csv(os.path.join(config.training_dir, training_file), names=['utterance', 'intent'])\n",
    "    if (len(train_df) > 0) & (samplesize != None):\n",
    "        display(train_df.sample(samplesize))\n",
    "    elif samplesize:\n",
    "        display(Markdown(\"<span style='color:red'>No intent training data exists for this workspace</span>\"))\n",
    "    \n",
    "    return train_df\n",
    "\n",
    "d = widgets.Dropdown(options=[item[0:len(item)-14] for item in training_files])\n",
    "d.observe(onchange)\n",
    "\n",
    "display(d)\n",
    "train_df = display_sample(d, 10)\n"
   ]
  },
  {
   "cell_type": "markdown",
   "metadata": {},
   "source": [
    "## Analysis"
   ]
  },
  {
   "cell_type": "markdown",
   "metadata": {},
   "source": [
    "### Intent Sizes\n",
    "As a general rule of thumb, your intents should be sized relative to the amount of scope they cover. If this is not the case, you might want to check for redundancy in your intents later on.\n",
    "\n",
    "If your largest intent is greater than two times your smallest, a warning will appear below."
   ]
  },
  {
   "cell_type": "code",
   "execution_count": 31,
   "metadata": {},
   "outputs": [
    {
     "data": {
      "text/markdown": [
       "**<span style='color:darkorange'>Warning:</span>** Your largest intent is 7.83x larger than your smallest"
      ],
      "text/plain": [
       "<IPython.core.display.Markdown object>"
      ]
     },
     "metadata": {},
     "output_type": "display_data"
    },
    {
     "data": {
      "image/png": "[encoded data removed]",
      "text/plain": [
       "<Figure size 432x288 with 1 Axes>"
      ]
     },
     "metadata": {},
     "output_type": "display_data"
    }
   ],
   "source": [
    "train_df = display_sample(d, None)\n",
    "intent_sizes = train_df.groupby('intent').count()\n",
    "intent_max_min_ratio = intent_sizes.max()[0] / intent_sizes.min()[0]\n",
    "\n",
    "if intent_max_min_ratio > 2:\n",
    "    display(Markdown(\"**<span style='color:darkorange'>Warning:</span>** Your largest intent is {}x larger than your smallest\".format(round(intent_max_min_ratio, 2))))\n",
    "\n",
    "ax = sns.countplot(data=train_df, x='intent')\n",
    "ax.set_xticklabels(ax.get_xticklabels(), rotation=75);\n",
    "sns.despine(left=True)"
   ]
  },
  {
   "cell_type": "markdown",
   "metadata": {},
   "source": [
    "### Representative 1- and 2-grams\n",
    "In this section we use chi-squared feature selection to bring out the terms which most represent each intent in your workspace. \n",
    "\n",
    "Here, you should be thinking about:\n",
    "<ol type=\"a\">\n",
    "    <li>whether these terms are what you'd expect for each intent</li>\n",
    "    <li>if any of these terms would be good candidates for resting entities</li>\n",
    "</ol>"
   ]
  },
  {
   "cell_type": "code",
   "execution_count": 32,
   "metadata": {},
   "outputs": [
    {
     "data": {
      "text/html": [
       "<div>\n",
       "<style scoped>\n",
       "    .dataframe tbody tr th:only-of-type {\n",
       "        vertical-align: middle;\n",
       "    }\n",
       "\n",
       "    .dataframe tbody tr th {\n",
       "        vertical-align: top;\n",
       "    }\n",
       "\n",
       "    .dataframe thead th {\n",
       "        text-align: right;\n",
       "    }\n",
       "</style>\n",
       "<table border=\"1\" class=\"dataframe\">\n",
       "  <thead>\n",
       "    <tr style=\"text-align: right;\">\n",
       "      <th></th>\n",
       "      <th>Cancel</th>\n",
       "      <th>Customer_Care_Appointments</th>\n",
       "      <th>Customer_Care_Store_Hours</th>\n",
       "      <th>Customer_Care_Store_Location</th>\n",
       "      <th>General_Connect_to_Agent</th>\n",
       "      <th>General_Greetings</th>\n",
       "      <th>Goodbye</th>\n",
       "      <th>Help</th>\n",
       "      <th>Thanks</th>\n",
       "    </tr>\n",
       "  </thead>\n",
       "  <tbody>\n",
       "    <tr>\n",
       "      <th>top unigrams</th>\n",
       "      <td>request, nevermind, forget, mind, cancel</td>\n",
       "      <td>face, week, available, make, appointment</td>\n",
       "      <td>time, late, close, hours, open</td>\n",
       "      <td>office, address, located, directions, location</td>\n",
       "      <td>connect, human, speak, talk, agent</td>\n",
       "      <td>going, hi, hello, good, hey</td>\n",
       "      <td>long, ya, ciao, arrivederci, bye</td>\n",
       "      <td>need, assist, assistance, decide, help</td>\n",
       "      <td>appreciated, thx, nice, thank, thanks</td>\n",
       "    </tr>\n",
       "    <tr>\n",
       "      <th>top bigrams</th>\n",
       "      <td>table anymore, anymore anymore, changed mind, cancel request, want cancel</td>\n",
       "      <td>face face, store appointment, like make, available week, make appointment</td>\n",
       "      <td>early open, late open, hours operation, open christmas, time close</td>\n",
       "      <td>help store, cross streets, nearest branch, looking location, like store</td>\n",
       "      <td>agent help, want agent, want speak, want talk, speak human</td>\n",
       "      <td>good evening, hi advisor, hey doing, good day, hello agent</td>\n",
       "      <td>speak human, don want, want talk, make appointment, good bye</td>\n",
       "      <td>don want, want talk, make appointment, need assistance, help decide</td>\n",
       "      <td>time close, speak human, don want, want talk, make appointment</td>\n",
       "    </tr>\n",
       "  </tbody>\n",
       "</table>\n",
       "</div>"
      ],
      "text/plain": [
       "                                                                                 Cancel  \\\n",
       "top unigrams  request, nevermind, forget, mind, cancel                                    \n",
       "top bigrams   table anymore, anymore anymore, changed mind, cancel request, want cancel   \n",
       "\n",
       "                                                             Customer_Care_Appointments  \\\n",
       "top unigrams  face, week, available, make, appointment                                    \n",
       "top bigrams   face face, store appointment, like make, available week, make appointment   \n",
       "\n",
       "                                                       Customer_Care_Store_Hours  \\\n",
       "top unigrams  time, late, close, hours, open                                       \n",
       "top bigrams   early open, late open, hours operation, open christmas, time close   \n",
       "\n",
       "                                                         Customer_Care_Store_Location  \\\n",
       "top unigrams  office, address, located, directions, location                            \n",
       "top bigrams   help store, cross streets, nearest branch, looking location, like store   \n",
       "\n",
       "                                                General_Connect_to_Agent  \\\n",
       "top unigrams  connect, human, speak, talk, agent                           \n",
       "top bigrams   agent help, want agent, want speak, want talk, speak human   \n",
       "\n",
       "                                                       General_Greetings  \\\n",
       "top unigrams  going, hi, hello, good, hey                                  \n",
       "top bigrams   good evening, hi advisor, hey doing, good day, hello agent   \n",
       "\n",
       "                                                                   Goodbye  \\\n",
       "top unigrams  long, ya, ciao, arrivederci, bye                               \n",
       "top bigrams   speak human, don want, want talk, make appointment, good bye   \n",
       "\n",
       "                                                                             Help  \\\n",
       "top unigrams  need, assist, assistance, decide, help                                \n",
       "top bigrams   don want, want talk, make appointment, need assistance, help decide   \n",
       "\n",
       "                                                                      Thanks  \n",
       "top unigrams  appreciated, thx, nice, thank, thanks                           \n",
       "top bigrams   time close, speak human, don want, want talk, make appointment  "
      ]
     },
     "execution_count": 32,
     "metadata": {},
     "output_type": "execute_result"
    }
   ],
   "source": [
    "K=5\n",
    "\n",
    "chi2 = chi2_feat_select(train_df)\n",
    "chi2.getKbest(K)"
   ]
  },
  {
   "cell_type": "markdown",
   "metadata": {},
   "source": [
    "### Clashes between Intents\n",
    "The matrix below shows the number of shared ngrams in utterances between intents. A high number means there is a greater overlap between the intents, which should be investigated."
   ]
  },
  {
   "cell_type": "code",
   "execution_count": 42,
   "metadata": {},
   "outputs": [],
   "source": [
    "ngram_list = [4,5] \n",
    "stopwords = 'none' # stopwords_in can be none, nltk, or config"
   ]
  },
  {
   "cell_type": "code",
   "execution_count": 43,
   "metadata": {},
   "outputs": [],
   "source": [
    "ii = intent_intersections(ngram_list, stopwords_in=stopwords, intent_col='intent')\n",
    "ii.import_training_df(train_df)\n",
    "intersection_df, intersection_size_df = ii.calculate_ngram_intersections()\n",
    "\n",
    "intersection_size_df = intersection_size_df.fillna(0)"
   ]
  },
  {
   "cell_type": "code",
   "execution_count": 44,
   "metadata": {},
   "outputs": [
    {
     "data": {
      "image/png": "[encoded data removed]",
      "text/plain": [
       "<Figure size 432x288 with 1 Axes>"
      ]
     },
     "metadata": {},
     "output_type": "display_data"
    }
   ],
   "source": [
    "heatmap_colors = sns.cubehelix_palette(8, start=2, rot=0, dark=0.2, light=.95, reverse=False)\n",
    "ax = sns.heatmap(intersection_size_df, annot=True, cmap=heatmap_colors, cbar=False, square=True)\n",
    "ax.set_title('Intent Overlap Matrix');"
   ]
  },
  {
   "cell_type": "markdown",
   "metadata": {},
   "source": [
    "You can then investigate specific intent overlaps:"
   ]
  },
  {
   "cell_type": "code",
   "execution_count": 45,
   "metadata": {
    "scrolled": false
   },
   "outputs": [
    {
     "data": {
      "application/vnd.jupyter.widget-view+json": {
       "model_id": "d0a6fbb371cc40cd852e470feb0ac7c6",
       "version_major": 2,
       "version_minor": 0
      },
      "text/plain": [
       "Dropdown(options=('customer_care_store_hours', 'cancel', 'general_connect_to_agent', 'customer_care_store_loca…"
      ]
     },
     "metadata": {},
     "output_type": "display_data"
    },
    {
     "data": {
      "application/vnd.jupyter.widget-view+json": {
       "model_id": "266c2253d8ab443f89c37b4bc0c3e525",
       "version_major": 2,
       "version_minor": 0
      },
      "text/plain": [
       "Dropdown(options=('customer_care_store_hours', 'cancel', 'general_connect_to_agent', 'customer_care_store_loca…"
      ]
     },
     "metadata": {},
     "output_type": "display_data"
    },
    {
     "data": {
      "text/markdown": [
       "Intents chosen can't be the same"
      ],
      "text/plain": [
       "<IPython.core.display.Markdown object>"
      ]
     },
     "metadata": {},
     "output_type": "display_data"
    }
   ],
   "source": [
    "def onchange(change):\n",
    "    if change['type'] == 'change' and change['name'] == 'value':\n",
    "        clear_output()\n",
    "        display(d01)\n",
    "        display(d02)\n",
    "        display_intent_overlap(d01.value, d02.value)\n",
    "\n",
    "def display_intent_overlap(intent1, intent2):\n",
    "    if d01.value != d02.value:\n",
    "        ngrams_per_intent_df, ngram_freq_df = ii.get_ngrams_per_intent()\n",
    "        overlap_df = ii.get_intersection_freqs([intent1, intent2], ngram_freq_df)\n",
    "        overlap_df = overlap_df.sort_values([intent1, intent2], ascending=False)\n",
    "        display(overlap_df)\n",
    "    else:\n",
    "        display(Markdown(\"Intents chosen can't be the same\"))\n",
    "\n",
    "d01 = widgets.Dropdown(options=train_df['intent'].unique())\n",
    "d02 = widgets.Dropdown(options=train_df['intent'].unique())\n",
    "\n",
    "d01.observe(onchange)\n",
    "d02.observe(onchange)\n",
    "\n",
    "display(d01)\n",
    "display(d02)\n",
    "display_intent_overlap(d01.value, d02.value)"
   ]
  },
  {
   "cell_type": "code",
   "execution_count": 46,
   "metadata": {},
   "outputs": [
    {
     "data": {
      "text/markdown": [
       "You can use the table below to search through training utterances."
      ],
      "text/plain": [
       "<IPython.core.display.Markdown object>"
      ]
     },
     "metadata": {},
     "output_type": "display_data"
    },
    {
     "data": {
      "text/html": [
       "<div><table id=\"8508165d-4daa-4041-bcb3-c59bd4c97a07\" class=\"display\"><thead>\n",
       "    <tr style=\"text-align: right;\">\n",
       "      \n",
       "      <th>utterance</th>\n",
       "      <th>intent</th>\n",
       "    </tr>\n",
       "  </thead></table>\n",
       "<script type=\"text/javascript\">\n",
       "require([\"datatables\"], function (datatables) {\n",
       "    $(document).ready(function () {\n",
       "        function eval_functions(map_or_text) {\n",
       "            if (typeof map_or_text === \"string\") {\n",
       "                if (map_or_text.startsWith(\"function\")) {\n",
       "                    try {\n",
       "                        // Note: parenthesis are required around the whole expression for eval to return a value!\n",
       "                        // See https://stackoverflow.com/a/7399078/911298.\n",
       "                        //\n",
       "                        // eval(\"local_fun = \" + map_or_text) would fail because local_fun is not declared\n",
       "                        // (using var, let or const would work, but it would only be declared in the local scope\n",
       "                        // and therefore the value could not be retrieved).\n",
       "                        const func = eval(`(${map_or_text})`);\n",
       "                        if (typeof func !== \"function\") {\n",
       "                            // Note: backquotes are super convenient! \n",
       "                            // https://developer.mozilla.org/en-US/docs/Web/JavaScript/Reference/Template_literals\n",
       "                            console.error(\n",
       "                                `Evaluated expression \"${map_or_text}\" is not a function (type is ${typeof func})`\n",
       "                            );\n",
       "                            return map_or_text;\n",
       "                        }\n",
       "                        // Return the function        \n",
       "                        return func;\n",
       "                    } catch (e) {\n",
       "                        // Make sure to print the error with a second argument to console.error().\n",
       "                        console.error(`itables was not able to parse \"${map_or_text}\"`, e);\n",
       "                    }\n",
       "                }\n",
       "            } else if (typeof map_or_text === \"object\") {\n",
       "                if (map_or_text instanceof Array) {\n",
       "                    // Note: \"var\" is now superseded by \"let\" and \"const\".\n",
       "                    // https://medium.com/javascript-scene/javascript-es6-var-let-or-const-ba58b8dcde75\n",
       "                    const result = [];\n",
       "                    // Note: \"for of\" is the best way to iterate through an iterable.\n",
       "                    // https://developer.mozilla.org/en-US/docs/Web/JavaScript/Reference/Statements/for...of\n",
       "                    for (const item of map_or_text) {\n",
       "                        result.push(eval_functions(item));\n",
       "                    }\n",
       "                    return result;\n",
       "\n",
       "                    // Alternatively, more functional approach in one line:\n",
       "                    // return map_or_text.map(eval_functions);\n",
       "                } else {\n",
       "                    const result = {};\n",
       "                    // Object.keys() is safer than \"for in\" because otherwise you might have keys\n",
       "                    // that aren't defined in the object itself.\n",
       "                    //\n",
       "                    // See https://stackoverflow.com/a/684692/911298.\n",
       "                    for (const item of Object.keys(map_or_text)) {\n",
       "                        result[item] = eval_functions(map_or_text[item]);\n",
       "                    }\n",
       "                    return result;\n",
       "                }\n",
       "            }\n",
       "\n",
       "            return map_or_text;\n",
       "        }\n",
       "        var dt_args = {\"data\": [[\"Are you closed new Year's eve\", \"customer_care_store_hours\"], [\"Are you open on sundays, and if so what are the hours?\", \"customer_care_store_hours\"], [\"Are you open on bank holidays?\", \"customer_care_store_hours\"], [\"Are you open during thanksgiving?\", \"customer_care_store_hours\"], [\"Are the stores open early?\", \"customer_care_store_hours\"], [\"will you open on christmas\", \"customer_care_store_hours\"], [\"how late y'all stay up till\", \"customer_care_store_hours\"], [\"how late are you there\", \"customer_care_store_hours\"], [\"how early do you open on Saturdays\", \"customer_care_store_hours\"], [\"Are you closing early today\", \"customer_care_store_hours\"], [\"how late are you open tonight\", \"customer_care_store_hours\"], [\"how late are you open\", \"customer_care_store_hours\"], [\"Are you open on Sunday\", \"customer_care_store_hours\"], [\"Hours of operation\", \"customer_care_store_hours\"], [\"What time do you close today\", \"customer_care_store_hours\"], [\"what time do you close on Sunday\", \"customer_care_store_hours\"], [\"What time do you open on Saturdays\", \"customer_care_store_hours\"], [\"What time do you close\", \"customer_care_store_hours\"], [\"when do you close\", \"customer_care_store_hours\"], [\"will you be open Memorial day\", \"customer_care_store_hours\"], [\"will you open for christmas\", \"customer_care_store_hours\"], [\"what are your hours\", \"customer_care_store_hours\"], [\"What time is your store open on saturday?\", \"customer_care_store_hours\"], [\"What time do stores close?\", \"customer_care_store_hours\"], [\"What time does the central manchester store shut on a saturday?\", \"customer_care_store_hours\"], [\"What time are you closing today?\", \"customer_care_store_hours\"], [\"What is the opening time for the washington store?\", \"customer_care_store_hours\"], [\"What are your hous?\", \"customer_care_store_hours\"], [\"What are ur opening hours?\", \"customer_care_store_hours\"], [\"What are the saturday opening times for the local store?\", \"customer_care_store_hours\"], [\"What are the hours of operation?\", \"customer_care_store_hours\"], [\"What are the business hours of the store nearest to me?\", \"customer_care_store_hours\"], [\"Is the branch open now?\", \"customer_care_store_hours\"], [\"How long are you open?\", \"customer_care_store_hours\"], [\"How early do you open?\", \"customer_care_store_hours\"], [\"Does the store in the city center opens till 8pm on weekends?\", \"customer_care_store_hours\"], [\"Can you tell me how late the stores are open till?\", \"customer_care_store_hours\"], [\"At what hour can I swing by?\", \"customer_care_store_hours\"], [\"don't want this any more\", \"cancel\"], [\"i want to cancel this\", \"cancel\"], [\"nevermind\", \"cancel\"], [\"i don't want a table anymore anymore\", \"cancel\"], [\"cancel the request\", \"cancel\"], [\"i changed my mind\", \"cancel\"], [\"cancel that\", \"cancel\"], [\"never mind\", \"cancel\"], [\"forget it\", \"cancel\"], [\"Please let me talk to a human being.\", \"general_connect_to_agent\"], [\"representative\", \"general_connect_to_agent\"], [\"talk to a human\", \"general_connect_to_agent\"], [\"Put me through to someone\", \"general_connect_to_agent\"], [\"Pls connect\", \"general_connect_to_agent\"], [\"Please connect me to a live agent\", \"general_connect_to_agent\"], [\"Operator please\", \"general_connect_to_agent\"], [\"Please assist me to get to an agent\", \"general_connect_to_agent\"], [\"Need help from human\", \"general_connect_to_agent\"], [\"I would like to speak to someone\", \"general_connect_to_agent\"], [\"I would like to speak to a human\", \"general_connect_to_agent\"], [\"I want to talk to a person\", \"general_connect_to_agent\"], [\"I want an agent to help me\", \"general_connect_to_agent\"], [\"I want a manager\", \"general_connect_to_agent\"], [\"I want agent\", \"general_connect_to_agent\"], [\"I need to speak to a representative. How would I go about doing so?\", \"general_connect_to_agent\"], [\"Is there anyone there I can actually talk to for real?\", \"general_connect_to_agent\"], [\"I don't want to talk to you\", \"general_connect_to_agent\"], [\"I don't want to talk to a bot.\", \"general_connect_to_agent\"], [\"How can I skip the recorded menu and go straight to a live person?\", \"general_connect_to_agent\"], [\"Hi can you transfer me\", \"general_connect_to_agent\"], [\"Do not want a robot?\", \"general_connect_to_agent\"], [\"Customer service representative please.\", \"general_connect_to_agent\"], [\"Could you please transfer me to your master?\", \"general_connect_to_agent\"], [\"Contact person\", \"general_connect_to_agent\"], [\"Connect me to a live operator please.\", \"general_connect_to_agent\"], [\"Can you connect me with a real person?\", \"general_connect_to_agent\"], [\"Can you assist me to connect to an agent?\", \"general_connect_to_agent\"], [\"Can I talk to someone?\", \"general_connect_to_agent\"], [\"Can I speak with somebody?\", \"general_connect_to_agent\"], [\"Can I speak to an advisor?\", \"general_connect_to_agent\"], [\"Can I speak to a live person?\", \"general_connect_to_agent\"], [\"Can I speak to a human please?\", \"general_connect_to_agent\"], [\"Can I connect to an agent?\", \"general_connect_to_agent\"], [\"Call agent\", \"general_connect_to_agent\"], [\"A real agent, please.\", \"general_connect_to_agent\"], [\"I want to talk to the manager\", \"general_connect_to_agent\"], [\"I want to speak to a human\", \"general_connect_to_agent\"], [\"call the manager\", \"general_connect_to_agent\"], [\"get me a person\", \"general_connect_to_agent\"], [\"I dont want to talk to a computer\", \"general_connect_to_agent\"], [\"I don't want to speak with a robot\", \"general_connect_to_agent\"], [\"Send me to an agent\", \"general_connect_to_agent\"], [\"Where is the closest agent?\", \"general_connect_to_agent\"], [\"Yes, take me to a real person\", \"general_connect_to_agent\"], [\"Agent help\", \"general_connect_to_agent\"], [\"I want to speak to a person\", \"general_connect_to_agent\"], [\"give me directions\", \"customer_care_store_location\"], [\"how do i find you\", \"customer_care_store_location\"], [\"what is the address\", \"customer_care_store_location\"], [\"where are you\", \"customer_care_store_location\"], [\"how do i get to your business\", \"customer_care_store_location\"], [\"Go to your company\", \"customer_care_store_location\"], [\"I'd like to go to a store\", \"customer_care_store_location\"], [\"I need help with find a store\", \"customer_care_store_location\"], [\"I want to know about a store\", \"customer_care_store_location\"], [\"Looking for a location\", \"customer_care_store_location\"], [\"What is the closest store to my address?\", \"customer_care_store_location\"], [\"What is the nearest branch?\", \"customer_care_store_location\"], [\"What is the store near my zip code?\", \"customer_care_store_location\"], [\"which cross streets are you on\", \"customer_care_store_location\"], [\"what's your location\", \"customer_care_store_location\"], [\"how do i get to your place\", \"customer_care_store_location\"], [\"Find store\", \"customer_care_store_location\"], [\"Where is your office?\", \"customer_care_store_location\"], [\"Where is?\", \"customer_care_store_location\"], [\"Where are you located?\", \"customer_care_store_location\"], [\"where are you located\", \"customer_care_store_location\"], [\"can you give me directions\", \"customer_care_store_location\"], [\"location please\", \"customer_care_store_location\"], [\"many thanks\", \"thanks\"], [\"much appreciated\", \"thanks\"], [\"thanks\", \"thanks\"], [\"thank you\", \"thanks\"], [\"thx\", \"thanks\"], [\"thank you very much\", \"thanks\"], [\"that's nice of you\", \"thanks\"], [\"i appreciate it\", \"thanks\"], [\"so long\", \"goodbye\"], [\"good bye\", \"goodbye\"], [\"see ya\", \"goodbye\"], [\"arrivederci\", \"goodbye\"], [\"ciao\", \"goodbye\"], [\"bye\", \"goodbye\"], [\"Hey twin\", \"general_greetings\"], [\"Hey how are you doing\", \"general_greetings\"], [\"Hello I am looking for some help here\", \"general_greetings\"], [\"Hello\", \"general_greetings\"], [\"Hello Agent\", \"general_greetings\"], [\"Have you been well?\", \"general_greetings\"], [\"Greetings\", \"general_greetings\"], [\"Good to see you\", \"general_greetings\"], [\"Good morning\", \"general_greetings\"], [\"Good evening\", \"general_greetings\"], [\"Good day\", \"general_greetings\"], [\"hiya\", \"general_greetings\"], [\"yo\", \"general_greetings\"], [\"hi\", \"general_greetings\"], [\"You there\", \"general_greetings\"], [\"Who is this?\", \"general_greetings\"], [\"What's up?\", \"general_greetings\"], [\"What's new?\", \"general_greetings\"], [\"Ok take me back\", \"general_greetings\"], [\"Looking good eve\", \"general_greetings\"], [\"How r u?\", \"general_greetings\"], [\"How is it going?\", \"general_greetings\"], [\"How have you been?\", \"general_greetings\"], [\"How are you today?\", \"general_greetings\"], [\"How are things going?\", \"general_greetings\"], [\"Hi there\", \"general_greetings\"], [\"Hi advisor\", \"general_greetings\"], [\"Hey you\", \"general_greetings\"], [\"Hey there\", \"general_greetings\"], [\"Hey there all\", \"general_greetings\"], [\"help me decide\", \"help\"], [\"help\", \"help\"], [\"can you assist me\", \"help\"], [\"can you help\", \"help\"], [\"i need assistance\", \"help\"], [\"help me\", \"help\"], [\"do you have availability next week\", \"customer_care_appointments\"], [\"can i make an appointment\", \"customer_care_appointments\"], [\"can you make an appointment for me\", \"customer_care_appointments\"], [\"i'd like to make an appointment\", \"customer_care_appointments\"], [\"are you available next week\", \"customer_care_appointments\"], [\"are you available this week\", \"customer_care_appointments\"], [\"Could I speak to someone in the store next tuesday?\", \"customer_care_appointments\"], [\"I would like to make an appointment to visit the nearest store to my location.\", \"customer_care_appointments\"], [\"I would like to discuss my situation face to face\", \"customer_care_appointments\"], [\"I want to talk in person with someone about my case\", \"customer_care_appointments\"], [\"I prefer a face to face visit\", \"customer_care_appointments\"], [\"i'd like to come in for an appointment\", \"customer_care_appointments\"], [\"Make an appointment\", \"customer_care_appointments\"], [\"Set up an appt\", \"customer_care_appointments\"], [\"Store appointment\", \"customer_care_appointments\"], [\"Want to change my visit\", \"customer_care_appointments\"], [\"What time can I meet the staff?\", \"customer_care_appointments\"], [\"When can I meet with one of your employees at your store?\", \"customer_care_appointments\"], [\"Can I book an in person session\", \"customer_care_appointments\"], [\"are you available on tuesday\", \"customer_care_appointments\"], [\"can i book for tonight\", \"customer_care_appointments\"]]};\n",
       "        dt_args = eval_functions(dt_args);\n",
       "        table = $('#8508165d-4daa-4041-bcb3-c59bd4c97a07').DataTable(dt_args);\n",
       "    });\n",
       "})\n",
       "</script>\n",
       "</div>\n"
      ],
      "text/plain": [
       "<IPython.core.display.HTML object>"
      ]
     },
     "metadata": {},
     "output_type": "display_data"
    }
   ],
   "source": [
    "display(Markdown(\"You can use the table below to search through training utterances.\"))\n",
    "show(train_df[['utterance', 'intent']])"
   ]
  },
  {
   "cell_type": "code",
   "execution_count": null,
   "metadata": {},
   "outputs": [],
   "source": []
  }
 ],
 "metadata": {
  "hide_input": false,
  "kernelspec": {
   "display_name": "Python 3",
   "language": "python",
   "name": "python3"
  },
  "language_info": {
   "codemirror_mode": {
    "name": "ipython",
    "version": 3
   },
   "file_extension": ".py",
   "mimetype": "text/x-python",
   "name": "python",
   "nbconvert_exporter": "python",
   "pygments_lexer": "ipython3",
   "version": "3.6.0"
  },
  "toc": {
   "base_numbering": 1,
   "nav_menu": {},
   "number_sections": true,
   "sideBar": true,
   "skip_h1_title": true,
   "title_cell": "Table of Contents",
   "title_sidebar": "Contents",
   "toc_cell": false,
   "toc_position": {
    "height": "calc(100% - 180px)",
    "left": "10px",
    "top": "150px",
    "width": "318px"
   },
   "toc_section_display": true,
   "toc_window_display": true
  }
 },
 "nbformat": 4,
 "nbformat_minor": 2
}
