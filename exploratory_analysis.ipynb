{
 "cells": [
  {
   "cell_type": "markdown",
   "metadata": {},
   "source": [
    "# Exploratory Analysis Notebook\n",
    "A set of tools to analyse the intents within your workspace.\n",
    "\n",
    "**Author:** Kalyan Dutia (kalyan.dutia@ibm.com)"
   ]
  },
  {
   "cell_type": "code",
   "execution_count": 1,
   "metadata": {
    "scrolled": true
   },
   "outputs": [
    {
     "name": "stdout",
     "output_type": "stream",
     "text": [
      "Collecting seaborn\n",
      "  Using cached https://files.pythonhosted.org/packages/a8/76/220ba4420459d9c4c9c9587c6ce607bf56c25b3d3d2de62056efe482dadc/seaborn-0.9.0-py3-none-any.whl\n",
      "Requirement already satisfied: scipy>=0.14.0 in /Users/kalyan/.pyenv/versions/3.7.0/envs/trainatscale37/lib/python3.7/site-packages (from seaborn) (1.4.1)\n",
      "Requirement already satisfied: pandas>=0.15.2 in /Users/kalyan/.pyenv/versions/3.7.0/envs/trainatscale37/lib/python3.7/site-packages (from seaborn) (0.25.3)\n",
      "Requirement already satisfied: numpy>=1.9.3 in /Users/kalyan/.pyenv/versions/3.7.0/envs/trainatscale37/lib/python3.7/site-packages (from seaborn) (1.18.1)\n",
      "Requirement already satisfied: matplotlib>=1.4.3 in /Users/kalyan/.pyenv/versions/3.7.0/envs/trainatscale37/lib/python3.7/site-packages (from seaborn) (3.1.1)\n",
      "Requirement already satisfied: python-dateutil>=2.6.1 in /Users/kalyan/.pyenv/versions/3.7.0/envs/trainatscale37/lib/python3.7/site-packages (from pandas>=0.15.2->seaborn) (2.8.1)\n",
      "Requirement already satisfied: pytz>=2017.2 in /Users/kalyan/.pyenv/versions/3.7.0/envs/trainatscale37/lib/python3.7/site-packages (from pandas>=0.15.2->seaborn) (2019.3)\n",
      "Requirement already satisfied: pyparsing!=2.0.4,!=2.1.2,!=2.1.6,>=2.0.1 in /Users/kalyan/.pyenv/versions/3.7.0/envs/trainatscale37/lib/python3.7/site-packages (from matplotlib>=1.4.3->seaborn) (2.4.6)\n",
      "Requirement already satisfied: kiwisolver>=1.0.1 in /Users/kalyan/.pyenv/versions/3.7.0/envs/trainatscale37/lib/python3.7/site-packages (from matplotlib>=1.4.3->seaborn) (1.1.0)\n",
      "Requirement already satisfied: cycler>=0.10 in /Users/kalyan/.pyenv/versions/3.7.0/envs/trainatscale37/lib/python3.7/site-packages (from matplotlib>=1.4.3->seaborn) (0.10.0)\n",
      "Requirement already satisfied: six>=1.5 in /Users/kalyan/.pyenv/versions/3.7.0/envs/trainatscale37/lib/python3.7/site-packages (from python-dateutil>=2.6.1->pandas>=0.15.2->seaborn) (1.13.0)\n",
      "Requirement already satisfied: setuptools in /Users/kalyan/.pyenv/versions/3.7.0/envs/trainatscale37/lib/python3.7/site-packages (from kiwisolver>=1.0.1->matplotlib>=1.4.3->seaborn) (39.0.1)\n",
      "Installing collected packages: seaborn\n",
      "Successfully installed seaborn-0.9.0\n",
      "\u001b[33mYou are using pip version 10.0.1, however version 19.3.1 is available.\n",
      "You should consider upgrading via the 'pip install --upgrade pip' command.\u001b[0m\n",
      "Requirement already satisfied: itables in /Users/kalyan/.pyenv/versions/3.7.0/envs/trainatscale37/lib/python3.7/site-packages (0.2.1)\n",
      "Requirement already satisfied: IPython in /Users/kalyan/.pyenv/versions/3.7.0/envs/trainatscale37/lib/python3.7/site-packages (from itables) (7.11.1)\n",
      "Requirement already satisfied: pandas in /Users/kalyan/.pyenv/versions/3.7.0/envs/trainatscale37/lib/python3.7/site-packages (from itables) (0.25.3)\n",
      "Requirement already satisfied: appnope; sys_platform == \"darwin\" in /Users/kalyan/.pyenv/versions/3.7.0/envs/trainatscale37/lib/python3.7/site-packages (from IPython->itables) (0.1.0)\n",
      "Requirement already satisfied: setuptools>=18.5 in /Users/kalyan/.pyenv/versions/3.7.0/envs/trainatscale37/lib/python3.7/site-packages (from IPython->itables) (39.0.1)\n",
      "Requirement already satisfied: pexpect; sys_platform != \"win32\" in /Users/kalyan/.pyenv/versions/3.7.0/envs/trainatscale37/lib/python3.7/site-packages (from IPython->itables) (4.7.0)\n",
      "Requirement already satisfied: jedi>=0.10 in /Users/kalyan/.pyenv/versions/3.7.0/envs/trainatscale37/lib/python3.7/site-packages (from IPython->itables) (0.15.2)\n",
      "Requirement already satisfied: traitlets>=4.2 in /Users/kalyan/.pyenv/versions/3.7.0/envs/trainatscale37/lib/python3.7/site-packages (from IPython->itables) (4.3.3)\n",
      "Requirement already satisfied: prompt-toolkit!=3.0.0,!=3.0.1,<3.1.0,>=2.0.0 in /Users/kalyan/.pyenv/versions/3.7.0/envs/trainatscale37/lib/python3.7/site-packages (from IPython->itables) (2.0.10)\n",
      "Requirement already satisfied: pickleshare in /Users/kalyan/.pyenv/versions/3.7.0/envs/trainatscale37/lib/python3.7/site-packages (from IPython->itables) (0.7.5)\n",
      "Requirement already satisfied: pygments in /Users/kalyan/.pyenv/versions/3.7.0/envs/trainatscale37/lib/python3.7/site-packages (from IPython->itables) (2.5.2)\n",
      "Requirement already satisfied: backcall in /Users/kalyan/.pyenv/versions/3.7.0/envs/trainatscale37/lib/python3.7/site-packages (from IPython->itables) (0.1.0)\n",
      "Requirement already satisfied: decorator in /Users/kalyan/.pyenv/versions/3.7.0/envs/trainatscale37/lib/python3.7/site-packages (from IPython->itables) (4.4.1)\n",
      "Requirement already satisfied: numpy>=1.13.3 in /Users/kalyan/.pyenv/versions/3.7.0/envs/trainatscale37/lib/python3.7/site-packages (from pandas->itables) (1.18.1)\n",
      "Requirement already satisfied: pytz>=2017.2 in /Users/kalyan/.pyenv/versions/3.7.0/envs/trainatscale37/lib/python3.7/site-packages (from pandas->itables) (2019.3)\n",
      "Requirement already satisfied: python-dateutil>=2.6.1 in /Users/kalyan/.pyenv/versions/3.7.0/envs/trainatscale37/lib/python3.7/site-packages (from pandas->itables) (2.8.1)\n",
      "Requirement already satisfied: ptyprocess>=0.5 in /Users/kalyan/.pyenv/versions/3.7.0/envs/trainatscale37/lib/python3.7/site-packages (from pexpect; sys_platform != \"win32\"->IPython->itables) (0.6.0)\n",
      "Requirement already satisfied: parso>=0.5.2 in /Users/kalyan/.pyenv/versions/3.7.0/envs/trainatscale37/lib/python3.7/site-packages (from jedi>=0.10->IPython->itables) (0.5.2)\n",
      "Requirement already satisfied: ipython-genutils in /Users/kalyan/.pyenv/versions/3.7.0/envs/trainatscale37/lib/python3.7/site-packages (from traitlets>=4.2->IPython->itables) (0.2.0)\n",
      "Requirement already satisfied: six in /Users/kalyan/.pyenv/versions/3.7.0/envs/trainatscale37/lib/python3.7/site-packages (from traitlets>=4.2->IPython->itables) (1.13.0)\n",
      "Requirement already satisfied: wcwidth in /Users/kalyan/.pyenv/versions/3.7.0/envs/trainatscale37/lib/python3.7/site-packages (from prompt-toolkit!=3.0.0,!=3.0.1,<3.1.0,>=2.0.0->IPython->itables) (0.1.8)\n",
      "\u001b[33mYou are using pip version 10.0.1, however version 19.3.1 is available.\n",
      "You should consider upgrading via the 'pip install --upgrade pip' command.\u001b[0m\n",
      "Collecting pandas==0.24\n",
      "  Using cached https://files.pythonhosted.org/packages/19/7d/90cb0a6e4b62efb2078e4e377f0fb162237f341df02ff4310b178d576bd8/pandas-0.24.0-cp37-cp37m-macosx_10_6_intel.macosx_10_9_intel.macosx_10_9_x86_64.macosx_10_10_intel.macosx_10_10_x86_64.whl\n",
      "Requirement already satisfied: numpy>=1.12.0 in /Users/kalyan/.pyenv/versions/3.7.0/envs/trainatscale37/lib/python3.7/site-packages (from pandas==0.24) (1.18.1)\n",
      "Requirement already satisfied: python-dateutil>=2.5.0 in /Users/kalyan/.pyenv/versions/3.7.0/envs/trainatscale37/lib/python3.7/site-packages (from pandas==0.24) (2.8.1)\n",
      "Requirement already satisfied: pytz>=2011k in /Users/kalyan/.pyenv/versions/3.7.0/envs/trainatscale37/lib/python3.7/site-packages (from pandas==0.24) (2019.3)\n",
      "Requirement already satisfied: six>=1.5 in /Users/kalyan/.pyenv/versions/3.7.0/envs/trainatscale37/lib/python3.7/site-packages (from python-dateutil>=2.5.0->pandas==0.24) (1.13.0)\n",
      "Installing collected packages: pandas\n",
      "  Found existing installation: pandas 0.25.3\n",
      "    Uninstalling pandas-0.25.3:\n",
      "      Successfully uninstalled pandas-0.25.3\n",
      "Successfully installed pandas-0.24.0\n",
      "\u001b[33mYou are using pip version 10.0.1, however version 19.3.1 is available.\n",
      "You should consider upgrading via the 'pip install --upgrade pip' command.\u001b[0m\n",
      "Collecting matplotlib==3.1.0\n",
      "\u001b[?25l  Downloading https://files.pythonhosted.org/packages/ea/de/8c82ad7acc647357bc76d6a90385cba7df8e57d99e25ca38e5e12178682f/matplotlib-3.1.0-cp37-cp37m-macosx_10_6_intel.macosx_10_9_intel.macosx_10_9_x86_64.macosx_10_10_intel.macosx_10_10_x86_64.whl (14.4MB)\n",
      "\u001b[K    100% |████████████████████████████████| 14.4MB 2.1MB/s ta 0:00:011   53% |█████████████████▏              | 7.7MB 5.7MB/s eta 0:00:02    94% |██████████████████████████████▍ | 13.6MB 8.7MB/s eta 0:00:01\n",
      "\u001b[?25hRequirement already satisfied: pyparsing!=2.0.4,!=2.1.2,!=2.1.6,>=2.0.1 in /Users/kalyan/.pyenv/versions/3.7.0/envs/trainatscale37/lib/python3.7/site-packages (from matplotlib==3.1.0) (2.4.6)\n",
      "Requirement already satisfied: python-dateutil>=2.1 in /Users/kalyan/.pyenv/versions/3.7.0/envs/trainatscale37/lib/python3.7/site-packages (from matplotlib==3.1.0) (2.8.1)\n",
      "Requirement already satisfied: cycler>=0.10 in /Users/kalyan/.pyenv/versions/3.7.0/envs/trainatscale37/lib/python3.7/site-packages (from matplotlib==3.1.0) (0.10.0)\n",
      "Requirement already satisfied: kiwisolver>=1.0.1 in /Users/kalyan/.pyenv/versions/3.7.0/envs/trainatscale37/lib/python3.7/site-packages (from matplotlib==3.1.0) (1.1.0)\n",
      "Requirement already satisfied: numpy>=1.11 in /Users/kalyan/.pyenv/versions/3.7.0/envs/trainatscale37/lib/python3.7/site-packages (from matplotlib==3.1.0) (1.18.1)\n",
      "Requirement already satisfied: six>=1.5 in /Users/kalyan/.pyenv/versions/3.7.0/envs/trainatscale37/lib/python3.7/site-packages (from python-dateutil>=2.1->matplotlib==3.1.0) (1.13.0)\n",
      "Requirement already satisfied: setuptools in /Users/kalyan/.pyenv/versions/3.7.0/envs/trainatscale37/lib/python3.7/site-packages (from kiwisolver>=1.0.1->matplotlib==3.1.0) (39.0.1)\n"
     ]
    },
    {
     "name": "stdout",
     "output_type": "stream",
     "text": [
      "Installing collected packages: matplotlib\n",
      "  Found existing installation: matplotlib 3.1.1\n",
      "    Uninstalling matplotlib-3.1.1:\n",
      "      Successfully uninstalled matplotlib-3.1.1\n",
      "Successfully installed matplotlib-3.1.0\n",
      "\u001b[33mYou are using pip version 10.0.1, however version 19.3.1 is available.\n",
      "You should consider upgrading via the 'pip install --upgrade pip' command.\u001b[0m\n",
      "Requirement already satisfied: ibm_watson in /Users/kalyan/.pyenv/versions/3.7.0/envs/trainatscale37/lib/python3.7/site-packages (3.4.2)\n",
      "Requirement already satisfied: requests<3.0,>=2.0 in /Users/kalyan/.pyenv/versions/3.7.0/envs/trainatscale37/lib/python3.7/site-packages (from ibm_watson) (2.22.0)\n",
      "Requirement already satisfied: python_dateutil>=2.5.3 in /Users/kalyan/.pyenv/versions/3.7.0/envs/trainatscale37/lib/python3.7/site-packages (from ibm_watson) (2.8.1)\n",
      "Requirement already satisfied: websocket-client==0.48.0 in /Users/kalyan/.pyenv/versions/3.7.0/envs/trainatscale37/lib/python3.7/site-packages (from ibm_watson) (0.48.0)\n",
      "Requirement already satisfied: ibm_cloud_sdk_core==0.5.2 in /Users/kalyan/.pyenv/versions/3.7.0/envs/trainatscale37/lib/python3.7/site-packages (from ibm_watson) (0.5.2)\n",
      "Requirement already satisfied: chardet<3.1.0,>=3.0.2 in /Users/kalyan/.pyenv/versions/3.7.0/envs/trainatscale37/lib/python3.7/site-packages (from requests<3.0,>=2.0->ibm_watson) (3.0.4)\n",
      "Requirement already satisfied: urllib3!=1.25.0,!=1.25.1,<1.26,>=1.21.1 in /Users/kalyan/.pyenv/versions/3.7.0/envs/trainatscale37/lib/python3.7/site-packages (from requests<3.0,>=2.0->ibm_watson) (1.25.7)\n",
      "Requirement already satisfied: certifi>=2017.4.17 in /Users/kalyan/.pyenv/versions/3.7.0/envs/trainatscale37/lib/python3.7/site-packages (from requests<3.0,>=2.0->ibm_watson) (2019.11.28)\n",
      "Requirement already satisfied: idna<2.9,>=2.5 in /Users/kalyan/.pyenv/versions/3.7.0/envs/trainatscale37/lib/python3.7/site-packages (from requests<3.0,>=2.0->ibm_watson) (2.8)\n",
      "Requirement already satisfied: six>=1.5 in /Users/kalyan/.pyenv/versions/3.7.0/envs/trainatscale37/lib/python3.7/site-packages (from python_dateutil>=2.5.3->ibm_watson) (1.13.0)\n",
      "Requirement already satisfied: PyJWT>=1.7.1 in /Users/kalyan/.pyenv/versions/3.7.0/envs/trainatscale37/lib/python3.7/site-packages (from ibm_cloud_sdk_core==0.5.2->ibm_watson) (1.7.1)\n",
      "\u001b[33mYou are using pip version 10.0.1, however version 19.3.1 is available.\n",
      "You should consider upgrading via the 'pip install --upgrade pip' command.\u001b[0m\n"
     ]
    }
   ],
   "source": [
    "!pip install seaborn\n",
    "!pip install itables\n",
    "!pip install pandas==0.24\n",
    "!pip install matplotlib==3.1.0\n",
    "!pip install ibm_watson"
   ]
  },
  {
   "cell_type": "code",
   "execution_count": 2,
   "metadata": {},
   "outputs": [
    {
     "data": {
      "application/javascript": [
       "require.config({\n",
       "    paths: {\n",
       "        datatables: 'https://cdn.datatables.net/1.10.19/js/jquery.dataTables.min',\n",
       "    }\n",
       "});\n",
       "\n",
       "$('head').append('<link rel=\"stylesheet\" type=\"text/css\" \\\n",
       "                href = \"https://cdn.datatables.net/1.10.19/css/jquery.dataTables.min.css\" > ');\n",
       "\n",
       "$('head').append('<style> table td { text-overflow: ellipsis; overflow: hidden; } </style>');\n",
       "\n",
       "$('head').append(`<script>\n",
       "function eval_functions(map_or_text) {\n",
       "    if (typeof map_or_text === \"string\") {\n",
       "        if (map_or_text.startsWith(\"function\")) {\n",
       "            try {\n",
       "                // Note: parenthesis are required around the whole expression for eval to return a value!\n",
       "                // See https://stackoverflow.com/a/7399078/911298.\n",
       "                //\n",
       "                // eval(\"local_fun = \" + map_or_text) would fail because local_fun is not declared\n",
       "                // (using var, let or const would work, but it would only be declared in the local scope\n",
       "                // and therefore the value could not be retrieved).\n",
       "                const func = eval(\"(\" + map_or_text + \")\");\n",
       "                if (typeof func !== \"function\") {\n",
       "                    // Note: backquotes are super convenient!\n",
       "                    // https://developer.mozilla.org/en-US/docs/Web/JavaScript/Reference/Template_literals\n",
       "                    console.error(\"Evaluated expression \" + map_or_text + \" is not a function (type is \" + typeof func + \")\");\n",
       "                    return map_or_text;\n",
       "                }\n",
       "                // Return the function\n",
       "                return func;\n",
       "            } catch (e) {\n",
       "                // Make sure to print the error with a second argument to console.error().\n",
       "                console.error(\"itables was not able to parse \" + map_or_text, e);\n",
       "            }\n",
       "        }\n",
       "    } else if (typeof map_or_text === \"object\") {\n",
       "        if (map_or_text instanceof Array) {\n",
       "            // Note: \"var\" is now superseded by \"let\" and \"const\".\n",
       "            // https://medium.com/javascript-scene/javascript-es6-var-let-or-const-ba58b8dcde75\n",
       "            const result = [];\n",
       "            // Note: \"for of\" is the best way to iterate through an iterable.\n",
       "            // https://developer.mozilla.org/en-US/docs/Web/JavaScript/Reference/Statements/for...of\n",
       "            for (const item of map_or_text) {\n",
       "                result.push(eval_functions(item));\n",
       "            }\n",
       "            return result;\n",
       "\n",
       "            // Alternatively, more functional approach in one line:\n",
       "            // return map_or_text.map(eval_functions);\n",
       "        } else {\n",
       "            const result = {};\n",
       "            // Object.keys() is safer than \"for in\" because otherwise you might have keys\n",
       "            // that aren't defined in the object itself.\n",
       "            //\n",
       "            // See https://stackoverflow.com/a/684692/911298.\n",
       "            for (const item of Object.keys(map_or_text)) {\n",
       "                result[item] = eval_functions(map_or_text[item]);\n",
       "            }\n",
       "            return result;\n",
       "        }\n",
       "    }\n",
       "\n",
       "    return map_or_text;\n",
       "}\n",
       "</` + 'script>');"
      ],
      "text/plain": [
       "<IPython.core.display.Javascript object>"
      ]
     },
     "metadata": {},
     "output_type": "display_data"
    },
    {
     "name": "stderr",
     "output_type": "stream",
     "text": [
      "/Users/kalyan/.pyenv/versions/3.7.0/envs/trainatscale37/lib/python3.7/site-packages/fuzzywuzzy/fuzz.py:11: UserWarning: Using slow pure-python SequenceMatcher. Install python-Levenshtein to remove this warning\n",
      "  warnings.warn('Using slow pure-python SequenceMatcher. Install python-Levenshtein to remove this warning')\n"
     ]
    }
   ],
   "source": [
    "# external imports\n",
    "import os\n",
    "from IPython.display import display, Markdown, clear_output\n",
    "import ipywidgets as widgets\n",
    "import pandas as pd\n",
    "import numpy as np\n",
    "import seaborn as sns\n",
    "from itables import show\n",
    "\n",
    "# internal imports\n",
    "import config\n",
    "import cli_tools.download_intents as download_intents\n",
    "from cli_tools.get_intent_intersections import intent_intersections\n",
    "from for_csv.chi2_feat_select import chi2_feat_select\n",
    "\n",
    "# config\n",
    "sns.set_style(\"whitegrid\")\n",
    "sns.set_context(\"notebook\")\n",
    "pd.set_option('display.max_colwidth', -1)"
   ]
  },
  {
   "cell_type": "markdown",
   "metadata": {},
   "source": [
    "## Get Training Data\n",
    "This will be stored in the *data/workspace_training* folder, with the format [workspace-name]_questions.csv"
   ]
  },
  {
   "cell_type": "markdown",
   "metadata": {},
   "source": [
    "### View existing data, import if necessary"
   ]
  },
  {
   "cell_type": "markdown",
   "metadata": {},
   "source": [
    "First, view the files in the training data folder:"
   ]
  },
  {
   "cell_type": "code",
   "execution_count": 3,
   "metadata": {},
   "outputs": [
    {
     "data": {
      "text/markdown": [
       "**Training data files:**"
      ],
      "text/plain": [
       "<IPython.core.display.Markdown object>"
      ]
     },
     "metadata": {},
     "output_type": "display_data"
    },
    {
     "data": {
      "text/markdown": [
       " - puppy_questions.csv\n",
       " - Customer Care Sample Skill_questions.csv\n"
      ],
      "text/plain": [
       "<IPython.core.display.Markdown object>"
      ]
     },
     "metadata": {},
     "output_type": "display_data"
    }
   ],
   "source": [
    "def view_training_files():\n",
    "    training_files = [file for file in os.listdir(config.training_dir) if file.endswith('.csv')]\n",
    "    training_files\n",
    "\n",
    "    display(Markdown(\"**Training data files:**\"))\n",
    "    display(Markdown((''.join([' - {}\\n'.format(i) for i in training_files]))))\n",
    "    \n",
    "    return training_files\n",
    "        \n",
    "training_files = view_training_files()"
   ]
  },
  {
   "cell_type": "markdown",
   "metadata": {},
   "source": [
    "If you need to update the training data files, you can use the button below. "
   ]
  },
  {
   "cell_type": "code",
   "execution_count": 4,
   "metadata": {},
   "outputs": [
    {
     "data": {
      "application/vnd.jupyter.widget-view+json": {
       "model_id": "ecd27f6c313c4b879ce7d708708ccca3",
       "version_major": 2,
       "version_minor": 0
      },
      "text/plain": [
       "Button(description='Update intent training files', style=ButtonStyle())"
      ]
     },
     "metadata": {},
     "output_type": "display_data"
    }
   ],
   "source": [
    "def download_intents_button_onclick(_):\n",
    "    download_intents.main()\n",
    "    training_files = view_training_files()\n",
    "    \n",
    "button = widgets.Button(description='Update intent training files')\n",
    "button.on_click(download_intents_button_onclick)\n",
    "\n",
    "display(button)"
   ]
  },
  {
   "cell_type": "markdown",
   "metadata": {},
   "source": [
    "### Select a skill\n",
    "Use the dropdown box, and use the following cell to confirm your selection."
   ]
  },
  {
   "cell_type": "code",
   "execution_count": 4,
   "metadata": {},
   "outputs": [
    {
     "data": {
      "application/vnd.jupyter.widget-view+json": {
       "model_id": "39ed45f7a36b45d689298bc4a75dbfc9",
       "version_major": 2,
       "version_minor": 0
      },
      "text/plain": [
       "Dropdown(options=('puppy', 'Customer Care Sample Skill'), value='puppy')"
      ]
     },
     "metadata": {},
     "output_type": "display_data"
    },
    {
     "data": {
      "text/markdown": [
       "**<span style='color:blue'>puppy</span>** skill selected. Training data sample:"
      ],
      "text/plain": [
       "<IPython.core.display.Markdown object>"
      ]
     },
     "metadata": {},
     "output_type": "display_data"
    },
    {
     "data": {
      "text/html": [
       "<div>\n",
       "<style scoped>\n",
       "    .dataframe tbody tr th:only-of-type {\n",
       "        vertical-align: middle;\n",
       "    }\n",
       "\n",
       "    .dataframe tbody tr th {\n",
       "        vertical-align: top;\n",
       "    }\n",
       "\n",
       "    .dataframe thead th {\n",
       "        text-align: right;\n",
       "    }\n",
       "</style>\n",
       "<table border=\"1\" class=\"dataframe\">\n",
       "  <thead>\n",
       "    <tr style=\"text-align: right;\">\n",
       "      <th></th>\n",
       "      <th>utterance</th>\n",
       "      <th>intent</th>\n",
       "    </tr>\n",
       "  </thead>\n",
       "  <tbody>\n",
       "    <tr>\n",
       "      <th>104</th>\n",
       "      <td>how long does the mum wean her pups</td>\n",
       "      <td>DOG_PARENTS_INFORMATION</td>\n",
       "    </tr>\n",
       "    <tr>\n",
       "      <th>106</th>\n",
       "      <td>is the dad a wirecoat or softcoat fox terrier</td>\n",
       "      <td>DOG_PARENTS_INFORMATION</td>\n",
       "    </tr>\n",
       "    <tr>\n",
       "      <th>110</th>\n",
       "      <td>can my puppy eat adult food</td>\n",
       "      <td>DOG_FOOD</td>\n",
       "    </tr>\n",
       "    <tr>\n",
       "      <th>87</th>\n",
       "      <td>Can I interview the parents?</td>\n",
       "      <td>DOG_PARENTS_INFORMATION</td>\n",
       "    </tr>\n",
       "    <tr>\n",
       "      <th>48</th>\n",
       "      <td>How many jabs has the puppy had</td>\n",
       "      <td>DOG_VACCINATIONS</td>\n",
       "    </tr>\n",
       "    <tr>\n",
       "      <th>117</th>\n",
       "      <td>can I put gravy on my dogs food</td>\n",
       "      <td>DOG_FOOD</td>\n",
       "    </tr>\n",
       "    <tr>\n",
       "      <th>115</th>\n",
       "      <td>What is a good serving to give a dog</td>\n",
       "      <td>DOG_FOOD</td>\n",
       "    </tr>\n",
       "    <tr>\n",
       "      <th>14</th>\n",
       "      <td>Can I get a puppy?</td>\n",
       "      <td>PURCHASE_DOG</td>\n",
       "    </tr>\n",
       "    <tr>\n",
       "      <th>88</th>\n",
       "      <td>how old is the mother?</td>\n",
       "      <td>DOG_PARENTS_INFORMATION</td>\n",
       "    </tr>\n",
       "    <tr>\n",
       "      <th>38</th>\n",
       "      <td>my little dog is not coping with vaccinations</td>\n",
       "      <td>DOG_VACCINATIONS</td>\n",
       "    </tr>\n",
       "  </tbody>\n",
       "</table>\n",
       "</div>"
      ],
      "text/plain": [
       "                                         utterance                   intent\n",
       "104  how long does the mum wean her pups            DOG_PARENTS_INFORMATION\n",
       "106  is the dad a wirecoat or softcoat fox terrier  DOG_PARENTS_INFORMATION\n",
       "110  can my puppy eat adult food                    DOG_FOOD               \n",
       "87   Can I interview the parents?                   DOG_PARENTS_INFORMATION\n",
       "48   How many jabs has the puppy had                DOG_VACCINATIONS       \n",
       "117  can I put gravy on my dogs food                DOG_FOOD               \n",
       "115  What is a good serving to give a dog           DOG_FOOD               \n",
       "14   Can I get a puppy?                             PURCHASE_DOG           \n",
       "88   how old is the mother?                         DOG_PARENTS_INFORMATION\n",
       "38   my little dog is not coping with vaccinations  DOG_VACCINATIONS       "
      ]
     },
     "metadata": {},
     "output_type": "display_data"
    }
   ],
   "source": [
    "def onchange(change):\n",
    "    if change['type'] == 'change' and change['name'] == 'value':\n",
    "        clear_output()\n",
    "        display(d)\n",
    "        display_sample(d, 10)\n",
    "\n",
    "def display_sample(d, samplesize):\n",
    "    if samplesize != None:\n",
    "        display(Markdown(\"**<span style='color:blue'>{}</span>** skill selected. Training data sample:\".format(d.value)))\n",
    "    training_file = training_files[d.index]\n",
    "\n",
    "    train_df = pd.read_csv(os.path.join(config.training_dir, training_file), names=['utterance', 'intent'])\n",
    "    if (len(train_df) > 0) & (samplesize != None):\n",
    "        display(train_df.sample(samplesize))\n",
    "    elif samplesize:\n",
    "        display(Markdown(\"<span style='color:red'>No intent training data exists for this workspace</span>\"))\n",
    "    \n",
    "    return train_df\n",
    "\n",
    "d = widgets.Dropdown(options=[item[0:len(item)-14] for item in training_files])\n",
    "d.observe(onchange)\n",
    "\n",
    "display(d)\n",
    "train_df = display_sample(d, 10)\n"
   ]
  },
  {
   "cell_type": "markdown",
   "metadata": {},
   "source": [
    "## Analysis"
   ]
  },
  {
   "cell_type": "markdown",
   "metadata": {},
   "source": [
    "### Intent Sizes\n",
    "As a general rule of thumb, your intents should be sized relative to the amount of scope they cover. If this is not the case, you might want to check for redundancy in your intents later on.\n",
    "\n",
    "If your largest intent is greater than two times your smallest, a warning will appear below."
   ]
  },
  {
   "cell_type": "code",
   "execution_count": 5,
   "metadata": {},
   "outputs": [
    {
     "data": {
      "image/png": "[encoded data removed]",
      "text/plain": [
       "<Figure size 432x288 with 1 Axes>"
      ]
     },
     "metadata": {
      "needs_background": "light"
     },
     "output_type": "display_data"
    }
   ],
   "source": [
    "train_df = display_sample(d, None)\n",
    "intent_sizes = train_df.groupby('intent').count()\n",
    "intent_max_min_ratio = intent_sizes.max()[0] / intent_sizes.min()[0]\n",
    "\n",
    "if intent_max_min_ratio > 2:\n",
    "    display(Markdown(\"**<span style='color:darkorange'>Warning:</span>** Your largest intent is {}x larger than your smallest\".format(round(intent_max_min_ratio, 2))))\n",
    "\n",
    "ax = sns.countplot(data=train_df, x='intent', order=train_df['intent'].value_counts().index)\n",
    "ax.set_xticklabels(ax.get_xticklabels(), rotation=75);\n",
    "sns.despine(left=True)"
   ]
  },
  {
   "cell_type": "markdown",
   "metadata": {},
   "source": [
    "### Representative 1- and 2-grams\n",
    "In this section we use chi-squared feature selection to bring out the terms which most represent each intent in your workspace. \n",
    "\n",
    "Here, you should be thinking about:\n",
    "<ol type=\"a\">\n",
    "    <li>whether these terms are what you'd expect for each intent</li>\n",
    "    <li>if any of these terms would be good candidates for resting entities</li>\n",
    "</ol>"
   ]
  },
  {
   "cell_type": "code",
   "execution_count": 6,
   "metadata": {},
   "outputs": [
    {
     "data": {
      "text/html": [
       "<div>\n",
       "<style scoped>\n",
       "    .dataframe tbody tr th:only-of-type {\n",
       "        vertical-align: middle;\n",
       "    }\n",
       "\n",
       "    .dataframe tbody tr th {\n",
       "        vertical-align: top;\n",
       "    }\n",
       "\n",
       "    .dataframe thead th {\n",
       "        text-align: right;\n",
       "    }\n",
       "</style>\n",
       "<table border=\"1\" class=\"dataframe\">\n",
       "  <thead>\n",
       "    <tr style=\"text-align: right;\">\n",
       "      <th></th>\n",
       "      <th>DOG_FOOD</th>\n",
       "      <th>DOG_HEALTH</th>\n",
       "      <th>DOG_PARENTS_INFORMATION</th>\n",
       "      <th>DOG_VACCINATIONS</th>\n",
       "      <th>PURCHASE_DOG</th>\n",
       "    </tr>\n",
       "  </thead>\n",
       "  <tbody>\n",
       "    <tr>\n",
       "      <th>top unigrams</th>\n",
       "      <td>dogs, sell, feed, eat, food</td>\n",
       "      <td>chow, night, health, sick, tell</td>\n",
       "      <td>meet, mum, parents, father, mother</td>\n",
       "      <td>injections, vaccinated, shots, jabs, vaccinations</td>\n",
       "      <td>pricing, purchase, want, chinook, buy</td>\n",
       "    </tr>\n",
       "    <tr>\n",
       "      <th>top bigrams</th>\n",
       "      <td>puppy eat, dogs food, food sell, dogs eat, dog food</td>\n",
       "      <td>pups happy, dogs depression, dog properly, dog ill, tell puppy</td>\n",
       "      <td>meet father, father pedigree, mother litter, look parents, puppy father</td>\n",
       "      <td>vaccinate dogs, puppies vaccinated, shots dogs, puppy injections, jabs puppy</td>\n",
       "      <td>buy puppy, want buy, buy chinook, like buy, buy dog</td>\n",
       "    </tr>\n",
       "  </tbody>\n",
       "</table>\n",
       "</div>"
      ],
      "text/plain": [
       "                                                         DOG_FOOD  \\\n",
       "top unigrams  dogs, sell, feed, eat, food                           \n",
       "top bigrams   puppy eat, dogs food, food sell, dogs eat, dog food   \n",
       "\n",
       "                                                                  DOG_HEALTH  \\\n",
       "top unigrams  chow, night, health, sick, tell                                  \n",
       "top bigrams   pups happy, dogs depression, dog properly, dog ill, tell puppy   \n",
       "\n",
       "                                                              DOG_PARENTS_INFORMATION  \\\n",
       "top unigrams  meet, mum, parents, father, mother                                        \n",
       "top bigrams   meet father, father pedigree, mother litter, look parents, puppy father   \n",
       "\n",
       "                                                                          DOG_VACCINATIONS  \\\n",
       "top unigrams  injections, vaccinated, shots, jabs, vaccinations                              \n",
       "top bigrams   vaccinate dogs, puppies vaccinated, shots dogs, puppy injections, jabs puppy   \n",
       "\n",
       "                                                     PURCHASE_DOG  \n",
       "top unigrams  pricing, purchase, want, chinook, buy                \n",
       "top bigrams   buy puppy, want buy, buy chinook, like buy, buy dog  "
      ]
     },
     "execution_count": 6,
     "metadata": {},
     "output_type": "execute_result"
    }
   ],
   "source": [
    "K=5\n",
    "\n",
    "chi2 = chi2_feat_select(train_df)\n",
    "chi2.getKbest(K)"
   ]
  },
  {
   "cell_type": "markdown",
   "metadata": {},
   "source": [
    "### Clashes between Intents\n",
    "The matrix below shows the number of shared ngrams in utterances between intents. A high number means there is a greater overlap between the intents, which should be investigated."
   ]
  },
  {
   "cell_type": "code",
   "execution_count": 7,
   "metadata": {},
   "outputs": [],
   "source": [
    "ngram_list = [4,5] \n",
    "stopwords = 'none' # stopwords_in can be none, nltk, or config"
   ]
  },
  {
   "cell_type": "code",
   "execution_count": 8,
   "metadata": {},
   "outputs": [],
   "source": [
    "ii = intent_intersections(ngram_list, stopwords_in=stopwords, intent_col='intent')\n",
    "ii.import_training_df(train_df)\n",
    "intersection_df, intersection_size_df = ii.calculate_ngram_intersections()\n",
    "\n",
    "intersection_size_df = intersection_size_df.fillna(0)"
   ]
  },
  {
   "cell_type": "code",
   "execution_count": 9,
   "metadata": {},
   "outputs": [
    {
     "data": {
      "image/png": "[encoded data removed]",
      "text/plain": [
       "<Figure size 432x288 with 1 Axes>"
      ]
     },
     "metadata": {
      "needs_background": "light"
     },
     "output_type": "display_data"
    }
   ],
   "source": [
    "heatmap_colors = sns.cubehelix_palette(8, start=2, rot=0, dark=0.2, light=.95, reverse=False)\n",
    "ax = sns.heatmap(intersection_size_df, annot=True, cmap=heatmap_colors, cbar=False, square=True)\n",
    "ax.set_title('Intent Overlap Matrix');"
   ]
  },
  {
   "cell_type": "markdown",
   "metadata": {},
   "source": [
    "You can then investigate specific intent overlaps:"
   ]
  },
  {
   "cell_type": "code",
   "execution_count": 10,
   "metadata": {
    "scrolled": false
   },
   "outputs": [
    {
     "data": {
      "application/vnd.jupyter.widget-view+json": {
       "model_id": "c7d6215339894f74b2c27974b8d4c666",
       "version_major": 2,
       "version_minor": 0
      },
      "text/plain": [
       "Dropdown(options=('purchase_dog', 'dog_vaccinations', 'dog_health', 'dog_parents_information', 'dog_food'), va…"
      ]
     },
     "metadata": {},
     "output_type": "display_data"
    },
    {
     "data": {
      "application/vnd.jupyter.widget-view+json": {
       "model_id": "a6ee3b3146e34533a5bdd7465215c1fa",
       "version_major": 2,
       "version_minor": 0
      },
      "text/plain": [
       "Dropdown(options=('purchase_dog', 'dog_vaccinations', 'dog_health', 'dog_parents_information', 'dog_food'), va…"
      ]
     },
     "metadata": {},
     "output_type": "display_data"
    },
    {
     "data": {
      "text/markdown": [
       "Intents chosen can't be the same"
      ],
      "text/plain": [
       "<IPython.core.display.Markdown object>"
      ]
     },
     "metadata": {},
     "output_type": "display_data"
    }
   ],
   "source": [
    "def onchange(change):\n",
    "    if change['type'] == 'change' and change['name'] == 'value':\n",
    "        clear_output()\n",
    "        display(d01)\n",
    "        display(d02)\n",
    "        display_intent_overlap(d01.value, d02.value)\n",
    "\n",
    "def display_intent_overlap(intent1, intent2):\n",
    "    if d01.value != d02.value:\n",
    "        ngrams_per_intent_df, ngram_freq_df = ii.get_ngrams_per_intent()\n",
    "        overlap_df = ii.get_intersection_freqs([intent1, intent2], ngram_freq_df)\n",
    "        overlap_df = overlap_df.sort_values([intent1, intent2], ascending=False)\n",
    "        display(overlap_df)\n",
    "    else:\n",
    "        display(Markdown(\"Intents chosen can't be the same\"))\n",
    "\n",
    "d01 = widgets.Dropdown(options=train_df['intent'].unique())\n",
    "d02 = widgets.Dropdown(options=train_df['intent'].unique())\n",
    "\n",
    "d01.observe(onchange)\n",
    "d02.observe(onchange)\n",
    "\n",
    "display(d01)\n",
    "display(d02)\n",
    "display_intent_overlap(d01.value, d02.value)"
   ]
  },
  {
   "cell_type": "code",
   "execution_count": 11,
   "metadata": {},
   "outputs": [
    {
     "data": {
      "text/markdown": [
       "You can use the table below to search through training utterances."
      ],
      "text/plain": [
       "<IPython.core.display.Markdown object>"
      ]
     },
     "metadata": {},
     "output_type": "display_data"
    },
    {
     "data": {
      "text/html": [
       "<div><table id=\"37eb1392-0e57-498f-9e55-7ba70f7e8a4a\" class=\"display\"><thead>\n",
       "    <tr style=\"text-align: right;\">\n",
       "      \n",
       "      <th>utterance</th>\n",
       "      <th>intent</th>\n",
       "    </tr>\n",
       "  </thead></table>\n",
       "<script type=\"text/javascript\">\n",
       "require([\"datatables\"], function (datatables) {\n",
       "    $(document).ready(function () {\n",
       "        function eval_functions(map_or_text) {\n",
       "            if (typeof map_or_text === \"string\") {\n",
       "                if (map_or_text.startsWith(\"function\")) {\n",
       "                    try {\n",
       "                        // Note: parenthesis are required around the whole expression for eval to return a value!\n",
       "                        // See https://stackoverflow.com/a/7399078/911298.\n",
       "                        //\n",
       "                        // eval(\"local_fun = \" + map_or_text) would fail because local_fun is not declared\n",
       "                        // (using var, let or const would work, but it would only be declared in the local scope\n",
       "                        // and therefore the value could not be retrieved).\n",
       "                        const func = eval(`(${map_or_text})`);\n",
       "                        if (typeof func !== \"function\") {\n",
       "                            // Note: backquotes are super convenient! \n",
       "                            // https://developer.mozilla.org/en-US/docs/Web/JavaScript/Reference/Template_literals\n",
       "                            console.error(\n",
       "                                `Evaluated expression \"${map_or_text}\" is not a function (type is ${typeof func})`\n",
       "                            );\n",
       "                            return map_or_text;\n",
       "                        }\n",
       "                        // Return the function        \n",
       "                        return func;\n",
       "                    } catch (e) {\n",
       "                        // Make sure to print the error with a second argument to console.error().\n",
       "                        console.error(`itables was not able to parse \"${map_or_text}\"`, e);\n",
       "                    }\n",
       "                }\n",
       "            } else if (typeof map_or_text === \"object\") {\n",
       "                if (map_or_text instanceof Array) {\n",
       "                    // Note: \"var\" is now superseded by \"let\" and \"const\".\n",
       "                    // https://medium.com/javascript-scene/javascript-es6-var-let-or-const-ba58b8dcde75\n",
       "                    const result = [];\n",
       "                    // Note: \"for of\" is the best way to iterate through an iterable.\n",
       "                    // https://developer.mozilla.org/en-US/docs/Web/JavaScript/Reference/Statements/for...of\n",
       "                    for (const item of map_or_text) {\n",
       "                        result.push(eval_functions(item));\n",
       "                    }\n",
       "                    return result;\n",
       "\n",
       "                    // Alternatively, more functional approach in one line:\n",
       "                    // return map_or_text.map(eval_functions);\n",
       "                } else {\n",
       "                    const result = {};\n",
       "                    // Object.keys() is safer than \"for in\" because otherwise you might have keys\n",
       "                    // that aren't defined in the object itself.\n",
       "                    //\n",
       "                    // See https://stackoverflow.com/a/684692/911298.\n",
       "                    for (const item of Object.keys(map_or_text)) {\n",
       "                        result[item] = eval_functions(map_or_text[item]);\n",
       "                    }\n",
       "                    return result;\n",
       "                }\n",
       "            }\n",
       "\n",
       "            return map_or_text;\n",
       "        }\n",
       "        var dt_args = {\"data\": [[\"I want to buy a minature schnauzer\", \"purchase_dog\"], [\"I've looked at the pictures and I'm ready to buy a puppy.\", \"purchase_dog\"], [\"I would like to buy a chinook\", \"purchase_dog\"], [\"hello, what should I do to buy a puppy?\", \"purchase_dog\"], [\"Can I buy a kaiken\", \"purchase_dog\"], [\"I want a dog\", \"purchase_dog\"], [\"I'm looking to buy a dog\", \"purchase_dog\"], [\"I'd like to buy a wolfhound\", \"purchase_dog\"], [\"i want to get a puppy\", \"purchase_dog\"], [\"Hi I'd like to buy a dog\", \"purchase_dog\"], [\"No I wanted a puppy.\", \"purchase_dog\"], [\"I want to buy a chinook\", \"purchase_dog\"], [\"What dog can I purchase?\", \"purchase_dog\"], [\"Where can I buy a dog\", \"purchase_dog\"], [\"Can I get a puppy?\", \"purchase_dog\"], [\"I need a pup\", \"purchase_dog\"], [\"How can I buy puppies on the internet\", \"purchase_dog\"], [\"Do you sell doggies\", \"purchase_dog\"], [\"where are the best deals on pups\", \"purchase_dog\"], [\"can I order a doggo online\", \"purchase_dog\"], [\"is it always bad to buy a dog from a farm\", \"purchase_dog\"], [\"Can I buy my dog on finance\", \"purchase_dog\"], [\"what is the right price for a pedigree lab\", \"purchase_dog\"], [\"is \\u00a32000 too much for a FTCH collie\", \"purchase_dog\"], [\"where is the puppy pricing\", \"purchase_dog\"], [\"Will different pups cost different prices\", \"purchase_dog\"], [\"i want to add a dog to the family. How much would it cost\", \"purchase_dog\"], [\"where should I look to find a breeder for a dog\", \"purchase_dog\"], [\"how can I check if my rescue staffy is up to date with it's injections\", \"dog_vaccinations\"], [\"I wanna get my terrier an annual set of jabs\", \"dog_vaccinations\"], [\"my hound is not overdue its last AC jab\", \"dog_vaccinations\"], [\"at what age do I not need to get my pooch jabs\", \"dog_vaccinations\"], [\"does a pedigree need different immunisations to a mutt\", \"dog_vaccinations\"], [\"I need to get some injections for my drakehead lab\", \"dog_vaccinations\"], [\"do you need to have allthe vaccinations recommended\", \"dog_vaccinations\"], [\"can I combine my dogs next check up with some vaccinations\", \"dog_vaccinations\"], [\"is it illegal to not get your dog jabs\", \"dog_vaccinations\"], [\"is there such thing as antivax for dogs\", \"dog_vaccinations\"], [\"my little dog is not coping with vaccinations\", \"dog_vaccinations\"], [\"can I book some shots for my dog\", \"dog_vaccinations\"], [\"are there any vaccinations I should give my pupper next year\", \"dog_vaccinations\"], [\"my poodle had it's first set of vaccs last week and I want to get the next set, when should I do this\", \"dog_vaccinations\"], [\"Can you vaccinate the dog so it doesn't get sick\", \"dog_vaccinations\"], [\"I want my puppy to be protected against disease\", \"dog_vaccinations\"], [\"Can you immunise the dog before I get it\", \"dog_vaccinations\"], [\"Has the pupperino had its shots\", \"dog_vaccinations\"], [\"Has my puppy had all its injections\", \"dog_vaccinations\"], [\"Is the dog fully vaccinated\", \"dog_vaccinations\"], [\"How many jabs has the puppy had\", \"dog_vaccinations\"], [\"When is the next dose due of the vaccination?\", \"dog_vaccinations\"], [\"What about vaccinations?\", \"dog_vaccinations\"], [\"Do I have to pay for the vaccinations?\", \"dog_vaccinations\"], [\"what are they vaccinated against\", \"dog_vaccinations\"], [\"do you give shots to your dogs\", \"dog_vaccinations\"], [\"Are puppies already vaccinated?\", \"dog_vaccinations\"], [\"Do you vaccinate your dogs?\", \"dog_vaccinations\"], [\"my pups not very happy\", \"dog_health\"], [\"kennel cough advice\", \"dog_health\"], [\"I want to get my dog a check up urgently. He don't seem the same\", \"dog_health\"], [\"I think my dog has rabies\", \"dog_health\"], [\"my puppy has been shivering all night\", \"dog_health\"], [\"do dogs get depression\", \"dog_health\"], [\"my puppy is not like the other puppies\", \"dog_health\"], [\"I gave my pug coffee and now it looks sick\", \"dog_health\"], [\"my G.S has been diagnosed with cancer and I don't know what to do\", \"dog_health\"], [\"my pup don't look so great. What does it need\", \"dog_health\"], [\"my chow chow is not so well well\", \"dog_health\"], [\"how can i prevent my dog getting sick again\", \"dog_health\"], [\"is there any common illnesses in a dog\", \"dog_health\"], [\"my puppy is showing signs of illnes\", \"dog_health\"], [\"my dog vomitted last night\", \"dog_health\"], [\"Can the dog see properly\", \"dog_health\"], [\"Has the puppy shown any signs of sickness\", \"dog_health\"], [\"Can you tell me about the pups wellbeing\", \"dog_health\"], [\"I'm concerned about the health of the animals\", \"dog_health\"], [\"what is the health status of your puppies?\", \"dog_health\"], [\"Does the animal have fleas\", \"dog_health\"], [\"Can you tell me if the puppy is diseased\", \"dog_health\"], [\"Has the dog been ill before\", \"dog_health\"], [\"Is the puppy well?\", \"dog_health\"], [\"Does the puppy look healthy?\", \"dog_health\"], [\"Can I return the puppy if it has health issues?\", \"dog_health\"], [\"Will you tell me if the puppy has been sick?\", \"dog_health\"], [\"Was the litter sick for the puppy I want to get?\", \"dog_health\"], [\"does the puppies siblings get sick?\", \"dog_health\"], [\"I need to check the validity of my puppies mum's KCC register\", \"dog_parents_information\"], [\"Can I come in and look at the puppies with the mother?\", \"dog_parents_information\"], [\"Can I interview the parents?\", \"dog_parents_information\"], [\"how old is the mother?\", \"dog_parents_information\"], [\"Can look at the parents beforehand?\", \"dog_parents_information\"], [\"Does the mother get on well with children\", \"dog_parents_information\"], [\"Is the puppy's mum still weaning it\", \"dog_parents_information\"], [\"Has the bitch been vaccinated\", \"dog_parents_information\"], [\"Is this the mother's first litter\", \"dog_parents_information\"], [\"Who's the puppy's father\", \"dog_parents_information\"], [\"Is the father pedigree\", \"dog_parents_information\"], [\"are the labradoodles F1 or F2\", \"dog_parents_information\"], [\"I want to know more about their parenting\", \"dog_parents_information\"], [\"are they bred from a puppy farm or is the mother a family pet\", \"dog_parents_information\"], [\"where can I research my dogs ancestry\", \"dog_parents_information\"], [\"If both parents are pedigree, does my doggo become pedigree\", \"dog_parents_information\"], [\"is it a warning sign if I can't meet the parents\", \"dog_parents_information\"], [\"Is the dad a FTCH\", \"dog_parents_information\"], [\"How do I know if the mum has any EC titles\", \"dog_parents_information\"], [\"how long does the mum wean her pups\", \"dog_parents_information\"], [\"can I meet the father\", \"dog_parents_information\"], [\"is the dad a wirecoat or softcoat fox terrier\", \"dog_parents_information\"], [\"whre can I check if my dogs parentals have bred before\", \"dog_parents_information\"], [\"what are signs the mater is not good\", \"dog_parents_information\"], [\"can my puppy eat human food\", \"dog_food\"], [\"can my puppy eat adult food\", \"dog_food\"], [\"do you sell dog food\", \"dog_food\"], [\"I have just got a litter of puppies and don't know if I can feed them anything but milk\", \"dog_food\"], [\"do dogs eat chicken\", \"dog_food\"], [\"Do I always need to buy my dog the same food\", \"dog_food\"], [\"What is a good serving to give a dog\", \"dog_food\"], [\"is any dog food bad for a dogs teeth?\", \"dog_food\"], [\"can I put gravy on my dogs food\", \"dog_food\"], [\"is dry food bad for dogs\", \"dog_food\"], [\"can my dog have wet food\", \"dog_food\"], [\"can I mix my dogs food\", \"dog_food\"], [\"how often should I feed my dog\", \"dog_food\"], [\"what dog food do you sell\", \"dog_food\"], [\"do dogs taste food like humans taste food\", \"dog_food\"], [\"Can dogs eat people food\", \"dog_food\"], [\"Is meat okay for dogs three times a day\", \"dog_food\"], [\"Can dogs have canned food for lunch\", \"dog_food\"], [\"Can pups eat normal meat\", \"dog_food\"], [\"Is tinned dog food okay for puppies\", \"dog_food\"], [\"What do puppies like to eat\", \"dog_food\"], [\"I don't know what dogs eat\", \"dog_food\"], [\"That's good to know. Does the food taste nice?\", \"dog_food\"], [\"What food do you sell\", \"dog_food\"], [\"What food do you have?\", \"dog_food\"], [\"What sort of food do I need to get to keep the puppy happy?\", \"dog_food\"], [\"is it bad to feed my mutt leftovers\", \"dog_food\"]]};\n",
       "        dt_args = eval_functions(dt_args);\n",
       "        table = $('#37eb1392-0e57-498f-9e55-7ba70f7e8a4a').DataTable(dt_args);\n",
       "    });\n",
       "})\n",
       "</script>\n",
       "</div>\n"
      ],
      "text/plain": [
       "<IPython.core.display.HTML object>"
      ]
     },
     "metadata": {},
     "output_type": "display_data"
    }
   ],
   "source": [
    "display(Markdown(\"You can use the table below to search through training utterances.\"))\n",
    "show(train_df[['utterance', 'intent']])"
   ]
  },
  {
   "cell_type": "code",
   "execution_count": null,
   "metadata": {},
   "outputs": [],
   "source": []
  }
 ],
 "metadata": {
  "hide_input": false,
  "kernelspec": {
   "display_name": "Python 3",
   "language": "python",
   "name": "python3"
  },
  "language_info": {
   "codemirror_mode": {
    "name": "ipython",
    "version": 3
   },
   "file_extension": ".py",
   "mimetype": "text/x-python",
   "name": "python",
   "nbconvert_exporter": "python",
   "pygments_lexer": "ipython3",
   "version": "3.7.0"
  },
  "toc": {
   "base_numbering": 1,
   "nav_menu": {},
   "number_sections": true,
   "sideBar": true,
   "skip_h1_title": true,
   "title_cell": "Table of Contents",
   "title_sidebar": "Contents",
   "toc_cell": false,
   "toc_position": {
    "height": "calc(100% - 180px)",
    "left": "10px",
    "top": "150px",
    "width": "318px"
   },
   "toc_section_display": true,
   "toc_window_display": true
  }
 },
 "nbformat": 4,
 "nbformat_minor": 2
}
